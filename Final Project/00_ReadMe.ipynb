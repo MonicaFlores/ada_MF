{
 "cells": [
  {
   "cell_type": "markdown",
   "metadata": {},
   "source": [
    "## Predicting Gentrification\n",
    "\n",
    " Data Analysis for Public Policy - Team 1\n",
    " \n",
    " NYU Wagner - Spring 2018\n",
    " \n",
    " Professors: Julia Lane and Daniela Hochfellner\n",
    " \n",
    "Team Members: Matthew Barry, Monica Flores, Zarni Htet, Yinlingyan Wang"
   ]
  },
  {
   "cell_type": "markdown",
   "metadata": {},
   "source": [
    "### About\n",
    "This project was developed in the course Applied Data Analytics for Public Policy. \n",
    "\n",
    "**OUR RESEARCH FOCUS IS**: Using Neighborhood Amenities and Demographics to Predict Gentrification\n",
    "\n",
    "**GENTRIFICATION DEFINITION**: Increases in household income, education, and/or housing costs in previously low-income, central city neighborhoods. Some also consider increases in percentage of white households\n",
    "\n",
    "**BID DEFINITION**: A geographical area where local stakeholders oversee and fund the maintenance, improvement, and promotion of their commercial district.\n",
    "\n"
   ]
  },
  {
   "cell_type": "markdown",
   "metadata": {},
   "source": [
    "### The Notebooks\n",
    "\n",
    "* **01_Block_Data_Clean.ipynb** In this notebook we cleaned the data obtained from the Center for Urban Research, The Graduate Center, City University of New York (CUNY) \n",
    "* **02_BID_Block_match.ipynb** In this notebook we joined the Business Improvement District (BID) information to the Block Level data using BIDs unique identifier number as a key. \n",
    "* **03_CT_Data_Clean.ipynb** In this notebook we cleaned census tract data.\n",
    "* **04_BID_CT_matched_final.ipynb** Here we matched BIDs data from NYC Open Data and Census Tracts Data by the BIDs ID.\n",
    "* **05_LogisticRegression_Blocks.ipynb** We ran several logistic regression fitted on the percentage change in white household ratios of a census block as an outcome variable."
   ]
  },
  {
   "cell_type": "markdown",
   "metadata": {},
   "source": [
    "### Packages You'll Need \n",
    "* **what packages did we use** \n"
   ]
  },
  {
   "cell_type": "markdown",
   "metadata": {},
   "source": [
    "### The Input Data\n",
    "\n",
    "\n",
    "* **BBL_BLOCKS.csv.gz**\n",
    "* **block_dummies.csv**\n",
    "* **block_dummies_BIDS.csv**\n",
    "* **blocks_clean.csv**\n",
    "* **CT_clean.csv**\n",
    "* **CT_HHinfo_Full_2.csv**\n",
    "* **dist_subway_parks_.csv**\n",
    "* **DOB_Certificate_Of_Occupancy.csv.gz**\n",
    "* **ny_rac_S000_JT00_2002.csv.gz**\n",
    "* **ny_rac_S000_JT05_2010.csv.gz**"
   ]
  },
  {
   "cell_type": "markdown",
   "metadata": {},
   "source": [
    "### The Clean Data"
   ]
  },
  {
   "cell_type": "markdown",
   "metadata": {},
   "source": [
    "We clean and reorganized the data to obtain two files:\n",
    "* **Census Block Level Data with BID reference (Blocks_Full.csv).** We calculated and kept only the relevant variables: \n",
    "           Census Block ID\n",
    "           Populations from 2000 and 2010\n",
    "           White, Latino, Black, Asian and Other Populations in 2000 and 2010\n",
    "           Percentage Change in those Populations from 2000 to 2010\n",
    "           Borough Names\n",
    "           Neighborhood Tabulation Area Codes and Names\n",
    "           Bid ID, Name, Area, and Dummy Variable\n",
    "* **Distance Between Census Block and Amenities (dist_subway_parks_.csv).** We calculated and kept only the relevant variables: \n",
    "           Census Block ID\n",
    "           Distance from subway entrance\n",
    "           Distance from small park\n",
    "           Distance from large park\n",
    "           \n",
    "* **Proposed Dwelling Units by Census Block (DOB_new_units_Clean.csv).** We calculated and kept only the relevant variables: \n",
    "           Census Block ID\n",
    "           Number of new proposed units\n",
    "\n",
    "* **Workforce Demographic Information (workers_02_10_Clean.csv).** We calculated and kept only the relevant variables: \n",
    "           Census Block ID\n",
    "           Income in 2002 and 2010\n",
    "           Number of jobs with earnings 1250USD/month or less in 2002 & 2010\n",
    "           Number of jobs with earnings between 1251 and 3333 USD/month in 2002 & 2010\n",
    "           Number of jobs with earnings greater than 3333 USD/month in 2002 & 2010\n",
    "           Number of jobs for workers with Educational Attainment: Less than high school in 2002 & 2010\n",
    "           Number of jobs for workers with Educational Attainment: High School or Equivalent in 2002 & 2010\n",
    "           Number of jobs for workers with Educational Attainment: Some college or Associate Degree in 2002 & 2010\n",
    "           Number of jobs for workers with Educational Attainment: At Least Bachelor's degree in 2002 & 2010\n",
    "           Percentage change in income and educational attainment from 2002 to 2010"
   ]
  },
  {
   "cell_type": "markdown",
   "metadata": {},
   "source": [
    "### The Logistic Regression Model\n",
    "\n",
    "WE MODELED....................GRAB DESCRIPTION FROM ZARNO\n",
    "\n",
    "RUNNED FOR THE TWO DATASETS........ TO COMPARE PRECISION AND ACCURACY BETWEEN A LARGER NUMBER OF OBSERVATIONS AND A SMALLER\n",
    "\n",
    "FOR THE CENSUS TRACT WE RUNNED TWO MODELS>>> ONE ONLY RACIAL ONE WITH INCOME, RENT AND EDUCATION\n"
   ]
  },
  {
   "cell_type": "markdown",
   "metadata": {},
   "source": [
    "### The Results\n",
    "\n",
    "WE REALIZED THAT.................. TO BE COMPLETED AFTER HAVING RESULTS"
   ]
  },
  {
   "cell_type": "markdown",
   "metadata": {},
   "source": [
    "### Data Dictionary"
   ]
  },
  {
   "cell_type": "markdown",
   "metadata": {},
   "source": [
    "#### *Data Dictionary: Input Data*\n",
    "\n",
    "#### Block and Total Population\n",
    "* **BLOCKID :**       Unique Census Block Indentifyier\n",
    "* **Pop10 :**         Total Census Block population in 2010\n",
    "* **Pop00 :**         Total Census Block population in 2000\n",
    "* **blckArea_ft :**   Total area of the Census Block in sqft.\n",
    "\n",
    "#### Population by Race in 2010\n",
    "* **WHITE10 :**       Total White non-hispanic population per Block in 2010\n",
    "* **LATINO10 :**      Total Hispanic population per Block in 2010\n",
    "* **BLACK10 :**       Total Black non-hispanic population per Block in 2010\n",
    "* **ASIAN10 :**       Total Asian non-hispanic population per Block in 2010\n",
    "* **OTHERS10 :**      Total Other Race non-hispanic population per Block in 2010.\n",
    "\n",
    "#### Population by Race in 2000\n",
    "* **WHITE00 :**       Total White non-hispanic population per Block in 2000\n",
    "* **LATINO00 :**      Total Hispanic population per Block in 2000\n",
    "* **BLACK00 :**       Total Black non-hispanic population per Block in 2000\n",
    "* **ASIAN00 :**       Total Asian non-hispanic population per Block in 2000\n",
    "* **OTHERS00 :**      Total Other Race non-hispanic population per Block in 2000.\n",
    "\n",
    "#### Change in Population by Race in 2000-2010\n",
    "* **CHGTot0010 :**    Numeric change in Total Population per Block between 2000-2010\n",
    "* **CHGWhite0010 :**  Numeric change in White Population per Block between 2000-2010\n",
    "* **CHGBlack0010 :**  Numeric change in Black non-hispanic Population per Block between 2000-2010\n",
    "* **CHGAsian0010 :**  Numeric change in Asian non-hispanic Population per Block between 2000-2010\n",
    "* **CHGHisp0010 :**   Numeric change in Hispanic Population per Block between 2000-2010\n",
    "* **CHGOther0010 :**  Numeric change in Other Race non-hispanic Population per Block between 2000-2010.\n",
    "\n",
    "#### Geographic references\n",
    "* **BoroName :**      Borough \n",
    "* **NTACode :**       Neighborhood Tabulation Area Code\n",
    "* **NTAName :**       Neighborhood Tabulation Area Name.\n",
    "\n",
    "#### Business Improvement Districts Information\n",
    "* **A_poly :**        Area of the Census Block that is within a BID in sqft (if the Block is not within a BID A_poly is equal to total area of the Census Block)\n",
    "* **bid_id :**        Busiiness Improvement District (BID) unique identifyier (if the Block is within a BID)\n",
    "* **bid_name :**      Name of the BID\n",
    "* **areaBID_ft :**    Area of the BID in sqft\n",
    "* **a_weight :**      Share of the Block Area that is within a BID (if the Block is not within a BID a_weight id equal to 1)\n",
    "* **BID_dummy :**     Binary variable that indicates weather the Census Block is within a BID or not.\n",
    "\n",
    "#### BIDs Data\n",
    "* **org_id :**       The ID of the BIDs\n",
    "* **assessment :**         The economic scale of the BIDs\n",
    "* **org_name :**         BIDs names\n",
    "* **org_address :**         The address of the BIDs\n",
    "* **org_address2 :**        The floor information of the BIDs\n",
    "* **org_city :**         The borough name of the BIDs\n",
    "* **org_state :**         The state name of the BIDs\n",
    "* **org_zip :**        The zip code of the BIDs\n",
    "* **boro_id :**         The borough ID of the BIDs\n",
    "* **org_phone    :**         The phone number of the BIDs\n",
    "* **org_year :**         The year of BIDs established\n",
    "* **org_blocks :**         The number of blocks covered by BIDs\n",
    "* **org_businesses :**         The number of businesses in each BID\n",
    "\n",
    "#### Census Tract Data\n",
    "* **CT_id_full:**       The census tract ID of the BIDs\n",
    "* **areaCT_ft :**         The area of BIDs covered\n",
    "* **CT_a_weight :**         The weight of census tract that BIDs covered\n",
    "* **BID_dummy :**         If it is BIDs or not\n",
    "\n",
    "#### Workers data\n",
    "* **h_geocode:**       Residence Census Block Code\n",
    "* **CE01 :**         Number of jobs with earnings 1250 dollars/month or less\n",
    "* **CE02 :**         Number of jobs with earnings 1251 dollars/month to 3333 dollars/month\n",
    "* **CE03 :**         Number of jobs with earnings greater than 3333 dollars/month\n",
    "* **CD01 :**         Number of jobs for workers with Educational Attainment: Less than high school\n",
    "* **CD02 :**         Number of jobs for workers with Educational Attainment: High school or equivalent,no college\n",
    "* **CD03 :**         Number of jobs for workers with Educational Attainment: Some college or Associate degree\n",
    "* **CD04 :**         Number of jobs for workers with Educational Attainment: Bachelor's degree or advanced degree\n",
    "\n",
    "#### Certificate of Occupancy\n",
    "* **JOB_NUMBER:**       Number assigned by the Department of Buildings to the job application that the Certificate of Occupancy was issued for\n",
    "* **JOB_TYPE :**         2-digit code to indicate the overall job type for the application.\n",
    "* **C_O_ISSUE_DATE :**         Date the Certificate of Occupancy was issued.\n",
    "* **BIN_NUMBER:**         Building Identification Number (BIN) assigned by Department of City Planning.\n",
    "* **BOROUGH:**         The name of the NYC borough where the building is located.\n",
    "* **NUMBER :**         The house number for the building address.\n",
    "* **STREET :**        The street name for the building address.\n",
    "* **BLOCK :**         Tax Block assigned to the location of the building by the Department of Finance.\n",
    "* **LOT:**       Tax Lot assigned to the location of the building by the Department of Finance.\n",
    "* **POSTCODE :**        The Zip Code for the building address.\n",
    "* **PR_DWELLING_UNIT :**         This is the proposed number of dwelling units in the building after the proposed work has been completed, as reported by the applicant.\n",
    "* **EX_DWELLING_UNIT:**         This is the existing number of dwelling units in the building, as reported by the applicant.\n",
    "* **APPLICATION_STATUS_RAW:**        The status of the application for a Certificate of Occupancy.\n",
    "* **FILING_STATUS_RAW :**         The filing status of the application for a Certificate of Occupancy.\n",
    "* **ITEM_NUMBER :**       aka Issue Number. Number of Partitioned Units of Work for a Job.\n",
    "* **ISSUE_TYPE :**         The type of Certificate of Occupancy that was issued. \n",
    "* **LATITUDE :**        Geographical latitude of the building.\n",
    "* **LONGITUDE :**         Geographical longitude of the building.\n",
    "* **COMMUNITY_BOARD:**         Community Board Number for the building’s address.\n",
    "* **COUNCIL_DISTRICT:**        Council district for the building's address.\n",
    "* **BIN:**        Building Identification Number (BIN) assigned by Department of City Planning.\n",
    "* **BBL:**       A number that is created by concatenating a number for the borough\n",
    "* **NTA :**         Neighborhood Tabulation Area\n",
    "* **LOCATION:**         Latitude and Longitude. Used for mapping purpose\n",
    "\n"
   ]
  },
  {
   "cell_type": "markdown",
   "metadata": {},
   "source": []
  }
 ],
 "metadata": {
  "kernelspec": {
   "display_name": "Wagner",
   "language": "python",
   "name": "wagner"
  },
  "language_info": {
   "codemirror_mode": {
    "name": "ipython",
    "version": 2
   },
   "file_extension": ".py",
   "mimetype": "text/x-python",
   "name": "python",
   "nbconvert_exporter": "python",
   "pygments_lexer": "ipython2",
   "version": "2.7.12"
  }
 },
 "nbformat": 4,
 "nbformat_minor": 2
}
