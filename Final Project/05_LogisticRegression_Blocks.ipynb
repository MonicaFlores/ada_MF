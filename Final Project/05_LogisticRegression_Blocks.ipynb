{
 "cells": [
  {
   "cell_type": "markdown",
   "metadata": {},
   "source": [
    "### Predicting Gentrification at the Census Block Group Level\n",
    "\n",
    "**Authors**: *Matthew Berry, Monica Flores, Zarni Htet and Yinglingyan Wang*\n",
    "\n",
    "### Introduction\n",
    "\n",
    "In this document, several logistic regression are fitted on the percentage change in white household ratios of a census block as an outcome variable.\n",
    "By our literature review, any positive change in white household ratios of a neighborhood (in this notebook, we are looking at the census block group level) can be considered gentification. From our exploratory data analysis, we see a distribution of percent changes centered slightly on the negative side of zero. We have an initial consideration of 75th percentile as the cut-off point for distingushing those below it as non-gentrified and those above as gentrified.  \n",
    "\n",
    "Some of the predictor variables for gentrification we have in consideration are as below:\n",
    "\n",
    "* whether a Business Improve District (BIDs) is in the census block or not\n",
    "* area of the Census Block Group the BIDs are under\n",
    "* the duration of the BIDs year\n",
    "* percentage of different racial composition of households in our base year of 2000\n",
    "* borough_fixed effects\n",
    "* neighborhood_fixed effects\n",
    "* Number of workers of three different income levels in each census block group\n",
    "* Number of workers of four different educational attainment in each census block group\n",
    "* Distance of subway entraces of the center of each census block group\n",
    "* Distance of small parks from the center of each census block group\n",
    "* Distance of large parks from the center of each census block group\n",
    "\n",
    "We are running several different models to determine which sets of predictors would most accurately predict gentrification. The models are as below:\n",
    "\n",
    "* **Model I :** Gentrification = BID_Dummy + borough_fixed_effects + racial_composition_2000 \n",
    "* **Model II:** Gentrification = borough_fixed_effects + racial_composition_2000 + workers of three different income levels + four different educational attainment + pct_ch_hinc00-10 + pct_ch_hedu00-10\n",
    "* **Model III:** Gentrification = borough_fixed_effects + racial_composition_2000 + workers of three different income levels + four different educational attainment + distances of subways + distances of small parks + distances of large parks + total_number_of_new_housing_units\n",
    "* **Model IV :** Gentrification =borough_fixed_effects + racial_composition_2000 + workers of three different income levels + four different educational attainment + distances of subways + distances of small parks + distances of large parks\n",
    "\n",
    "\n",
    "The document is laid out in three main sections for each of the models:\n",
    "\n",
    "* **Data Transformation** : This section primarily deals with joining the two datasets (specified later) that we are using to build this initial model as well as exploring certain key variables. Some variables are created and transformed to be fitted into the logistic model.\n",
    "\n",
    "* **Data Modeling** : This section goes through cross validation scheme with different penalty terms for the logistic regression to come to the best AUC curve of the Precision-Recall trade-off.\n",
    "\n",
    "* **Results** : This section goes through a comparison of different confusion matrixs, precision and recall to assess the quality of our different models.\n",
    "\n",
    "After going through each model, we have a section on **All Results** discussion where we compare and contrast the models how they fare against each other with the **primary** metric being the AUC of the Precision-Recall trade-off chart.\n"
   ]
  },
  {
   "cell_type": "markdown",
   "metadata": {},
   "source": [
    "#### Python Libraries"
   ]
  },
  {
   "cell_type": "code",
   "execution_count": 190,
   "metadata": {},
   "outputs": [
    {
     "name": "stdout",
     "output_type": "stream",
     "text": [
      "Populating the interactive namespace from numpy and matplotlib\n"
     ]
    }
   ],
   "source": [
    "%pylab inline\n",
    "from __future__ import division\n",
    "import gzip\n",
    "import csv\n",
    "import pandas as pd\n",
    "import numpy as np\n",
    "import sklearn\n",
    "import seaborn as sns\n",
    "import matplotlib.pyplot as plt\n",
    "from sklearn.metrics import precision_recall_curve,roc_curve, auc\n",
    "from sklearn.metrics import accuracy_score, precision_score, recall_score\n",
    "from sklearn.ensemble import (RandomForestClassifier, ExtraTreesClassifier,\n",
    "                              GradientBoostingClassifier,\n",
    "                              AdaBoostClassifier)\n",
    "from sklearn.linear_model import LogisticRegression, SGDClassifier\n",
    "from sklearn.naive_bayes import GaussianNB\n",
    "from sklearn.tree import DecisionTreeClassifier\n",
    "from sklearn import svm\n",
    "from sklearn.model_selection import train_test_split\n",
    "from sklearn import tree\n",
    "\n",
    "from sqlalchemy import create_engine\n",
    "\n",
    "import warnings\n",
    "warnings.filterwarnings('ignore')"
   ]
  },
  {
   "cell_type": "markdown",
   "metadata": {},
   "source": [
    "## Model I\n",
    "\n",
    "### Data Transformation"
   ]
  },
  {
   "cell_type": "markdown",
   "metadata": {},
   "source": [
    "#### Loading the data"
   ]
  },
  {
   "cell_type": "markdown",
   "metadata": {},
   "source": [
    "In this section, the two datasets are\n",
    "\n",
    "* **block_dummies** : The data is from the Center for Urban Research, The Graduate Center, City University of New York (CUNY) http://www.urbanresearchmaps.org/plurality/blockmaps.htm. The data cleaning is done in **01_Block_Data_Clean.ipynb** for more details.\n",
    "\n",
    "* **bids_ct** :The data is the BIDs data from NYC Open data with the BIDs being broken down into census block groups. The data processing is done in **04_BID_CT_matched_final.ipynb** for more details.\n"
   ]
  },
  {
   "cell_type": "code",
   "execution_count": 191,
   "metadata": {},
   "outputs": [],
   "source": [
    "block_dummies = pd.read_csv(\"Data/block_dummies.csv\", usecols=range(1,219), dtype= {'BLOCKID': str})"
   ]
  },
  {
   "cell_type": "markdown",
   "metadata": {},
   "source": [
    "#### Initial Exploration of the datasets"
   ]
  },
  {
   "cell_type": "markdown",
   "metadata": {},
   "source": [
    "In the next few blocks of code, we are going through checking the shape data as well as its summary statistics in order to verify that the data we are loading ins consistent with the data we have cleaned and processed in other parts of this code repository."
   ]
  },
  {
   "cell_type": "code",
   "execution_count": 31,
   "metadata": {},
   "outputs": [
    {
     "data": {
      "text/plain": [
       "(28376, 218)"
      ]
     },
     "execution_count": 31,
     "metadata": {},
     "output_type": "execute_result"
    }
   ],
   "source": [
    "block_dummies.shape"
   ]
  },
  {
   "cell_type": "code",
   "execution_count": 32,
   "metadata": {},
   "outputs": [
    {
     "data": {
      "text/html": [
       "<div>\n",
       "<table border=\"1\" class=\"dataframe\">\n",
       "  <thead>\n",
       "    <tr style=\"text-align: right;\">\n",
       "      <th></th>\n",
       "      <th>BLOCKID</th>\n",
       "      <th>Pop10</th>\n",
       "      <th>Pop00</th>\n",
       "      <th>shWhite00</th>\n",
       "      <th>shLatino00</th>\n",
       "      <th>shBlack00</th>\n",
       "      <th>shAsian00</th>\n",
       "      <th>shOther00</th>\n",
       "      <th>pct_ch_white</th>\n",
       "      <th>pct_ch_hisp</th>\n",
       "      <th>...</th>\n",
       "      <th>NTACode_SI25</th>\n",
       "      <th>NTACode_SI28</th>\n",
       "      <th>NTACode_SI32</th>\n",
       "      <th>NTACode_SI35</th>\n",
       "      <th>NTACode_SI36</th>\n",
       "      <th>NTACode_SI37</th>\n",
       "      <th>NTACode_SI45</th>\n",
       "      <th>NTACode_SI48</th>\n",
       "      <th>NTACode_SI54</th>\n",
       "      <th>NTACode_SI99</th>\n",
       "    </tr>\n",
       "  </thead>\n",
       "  <tbody>\n",
       "    <tr>\n",
       "      <th>0</th>\n",
       "      <td>360050300004003</td>\n",
       "      <td>249</td>\n",
       "      <td>272.0</td>\n",
       "      <td>58.088235</td>\n",
       "      <td>37.132353</td>\n",
       "      <td>1.102941</td>\n",
       "      <td>2.941176</td>\n",
       "      <td>0.735294</td>\n",
       "      <td>-17.525986</td>\n",
       "      <td>9.453992</td>\n",
       "      <td>...</td>\n",
       "      <td>0.0</td>\n",
       "      <td>0.0</td>\n",
       "      <td>0.0</td>\n",
       "      <td>0.0</td>\n",
       "      <td>0.0</td>\n",
       "      <td>0.0</td>\n",
       "      <td>0.0</td>\n",
       "      <td>0.0</td>\n",
       "      <td>0.0</td>\n",
       "      <td>0.0</td>\n",
       "    </tr>\n",
       "    <tr>\n",
       "      <th>1</th>\n",
       "      <td>360050409001001</td>\n",
       "      <td>11</td>\n",
       "      <td>1119.0</td>\n",
       "      <td>1.340483</td>\n",
       "      <td>9.562109</td>\n",
       "      <td>86.058981</td>\n",
       "      <td>0.983021</td>\n",
       "      <td>2.055407</td>\n",
       "      <td>-1.340483</td>\n",
       "      <td>-9.562109</td>\n",
       "      <td>...</td>\n",
       "      <td>0.0</td>\n",
       "      <td>0.0</td>\n",
       "      <td>0.0</td>\n",
       "      <td>0.0</td>\n",
       "      <td>0.0</td>\n",
       "      <td>0.0</td>\n",
       "      <td>0.0</td>\n",
       "      <td>0.0</td>\n",
       "      <td>0.0</td>\n",
       "      <td>0.0</td>\n",
       "    </tr>\n",
       "    <tr>\n",
       "      <th>2</th>\n",
       "      <td>360050409002000</td>\n",
       "      <td>3223</td>\n",
       "      <td>1886.0</td>\n",
       "      <td>26.988335</td>\n",
       "      <td>9.809120</td>\n",
       "      <td>59.172853</td>\n",
       "      <td>1.855779</td>\n",
       "      <td>2.173913</td>\n",
       "      <td>-12.498729</td>\n",
       "      <td>1.422652</td>\n",
       "      <td>...</td>\n",
       "      <td>0.0</td>\n",
       "      <td>0.0</td>\n",
       "      <td>0.0</td>\n",
       "      <td>0.0</td>\n",
       "      <td>0.0</td>\n",
       "      <td>0.0</td>\n",
       "      <td>0.0</td>\n",
       "      <td>0.0</td>\n",
       "      <td>0.0</td>\n",
       "      <td>0.0</td>\n",
       "    </tr>\n",
       "  </tbody>\n",
       "</table>\n",
       "<p>3 rows × 218 columns</p>\n",
       "</div>"
      ],
      "text/plain": [
       "           BLOCKID  Pop10   Pop00  shWhite00  shLatino00  shBlack00  \\\n",
       "0  360050300004003    249   272.0  58.088235   37.132353   1.102941   \n",
       "1  360050409001001     11  1119.0   1.340483    9.562109  86.058981   \n",
       "2  360050409002000   3223  1886.0  26.988335    9.809120  59.172853   \n",
       "\n",
       "   shAsian00  shOther00  pct_ch_white  pct_ch_hisp      ...       \\\n",
       "0   2.941176   0.735294    -17.525986     9.453992      ...        \n",
       "1   0.983021   2.055407     -1.340483    -9.562109      ...        \n",
       "2   1.855779   2.173913    -12.498729     1.422652      ...        \n",
       "\n",
       "   NTACode_SI25  NTACode_SI28  NTACode_SI32  NTACode_SI35 NTACode_SI36  \\\n",
       "0           0.0           0.0           0.0           0.0          0.0   \n",
       "1           0.0           0.0           0.0           0.0          0.0   \n",
       "2           0.0           0.0           0.0           0.0          0.0   \n",
       "\n",
       "   NTACode_SI37  NTACode_SI45 NTACode_SI48  NTACode_SI54  NTACode_SI99  \n",
       "0           0.0           0.0          0.0           0.0           0.0  \n",
       "1           0.0           0.0          0.0           0.0           0.0  \n",
       "2           0.0           0.0          0.0           0.0           0.0  \n",
       "\n",
       "[3 rows x 218 columns]"
      ]
     },
     "execution_count": 32,
     "metadata": {},
     "output_type": "execute_result"
    }
   ],
   "source": [
    "block_dummies.head(3)"
   ]
  },
  {
   "cell_type": "code",
   "execution_count": 33,
   "metadata": {
    "scrolled": false
   },
   "outputs": [
    {
     "data": {
      "text/html": [
       "<div>\n",
       "<table border=\"1\" class=\"dataframe\">\n",
       "  <thead>\n",
       "    <tr style=\"text-align: right;\">\n",
       "      <th></th>\n",
       "      <th>Pop10</th>\n",
       "      <th>Pop00</th>\n",
       "      <th>shWhite00</th>\n",
       "      <th>shLatino00</th>\n",
       "      <th>shBlack00</th>\n",
       "      <th>shAsian00</th>\n",
       "      <th>shOther00</th>\n",
       "      <th>pct_ch_white</th>\n",
       "      <th>pct_ch_hisp</th>\n",
       "      <th>pct_ch_black</th>\n",
       "      <th>...</th>\n",
       "      <th>NTACode_SI25</th>\n",
       "      <th>NTACode_SI28</th>\n",
       "      <th>NTACode_SI32</th>\n",
       "      <th>NTACode_SI35</th>\n",
       "      <th>NTACode_SI36</th>\n",
       "      <th>NTACode_SI37</th>\n",
       "      <th>NTACode_SI45</th>\n",
       "      <th>NTACode_SI48</th>\n",
       "      <th>NTACode_SI54</th>\n",
       "      <th>NTACode_SI99</th>\n",
       "    </tr>\n",
       "  </thead>\n",
       "  <tbody>\n",
       "    <tr>\n",
       "      <th>count</th>\n",
       "      <td>28376.000000</td>\n",
       "      <td>28376.000000</td>\n",
       "      <td>28376.000000</td>\n",
       "      <td>28376.000000</td>\n",
       "      <td>28376.000000</td>\n",
       "      <td>28376.000000</td>\n",
       "      <td>28376.000000</td>\n",
       "      <td>28376.000000</td>\n",
       "      <td>28376.000000</td>\n",
       "      <td>28376.000000</td>\n",
       "      <td>...</td>\n",
       "      <td>28376.000000</td>\n",
       "      <td>28376.000000</td>\n",
       "      <td>28376.000000</td>\n",
       "      <td>28376.000000</td>\n",
       "      <td>28376.000000</td>\n",
       "      <td>28376.000000</td>\n",
       "      <td>28376.000000</td>\n",
       "      <td>28376.000000</td>\n",
       "      <td>28376.000000</td>\n",
       "      <td>28376.000000</td>\n",
       "    </tr>\n",
       "    <tr>\n",
       "      <th>mean</th>\n",
       "      <td>284.097759</td>\n",
       "      <td>277.798168</td>\n",
       "      <td>43.164015</td>\n",
       "      <td>20.564422</td>\n",
       "      <td>22.505705</td>\n",
       "      <td>10.001455</td>\n",
       "      <td>3.762477</td>\n",
       "      <td>-3.670099</td>\n",
       "      <td>2.133174</td>\n",
       "      <td>-0.755535</td>\n",
       "      <td>...</td>\n",
       "      <td>0.009621</td>\n",
       "      <td>0.006661</td>\n",
       "      <td>0.005075</td>\n",
       "      <td>0.004440</td>\n",
       "      <td>0.009727</td>\n",
       "      <td>0.005744</td>\n",
       "      <td>0.007964</td>\n",
       "      <td>0.006379</td>\n",
       "      <td>0.011524</td>\n",
       "      <td>0.000352</td>\n",
       "    </tr>\n",
       "    <tr>\n",
       "      <th>std</th>\n",
       "      <td>320.043241</td>\n",
       "      <td>315.775978</td>\n",
       "      <td>36.016818</td>\n",
       "      <td>22.771818</td>\n",
       "      <td>32.195377</td>\n",
       "      <td>14.992596</td>\n",
       "      <td>5.476979</td>\n",
       "      <td>12.613969</td>\n",
       "      <td>10.943116</td>\n",
       "      <td>9.026602</td>\n",
       "      <td>...</td>\n",
       "      <td>0.097614</td>\n",
       "      <td>0.081341</td>\n",
       "      <td>0.071057</td>\n",
       "      <td>0.066489</td>\n",
       "      <td>0.098144</td>\n",
       "      <td>0.075574</td>\n",
       "      <td>0.088889</td>\n",
       "      <td>0.079613</td>\n",
       "      <td>0.106731</td>\n",
       "      <td>0.018770</td>\n",
       "    </tr>\n",
       "    <tr>\n",
       "      <th>min</th>\n",
       "      <td>11.000000</td>\n",
       "      <td>10.010000</td>\n",
       "      <td>0.000000</td>\n",
       "      <td>0.000000</td>\n",
       "      <td>0.000000</td>\n",
       "      <td>0.000000</td>\n",
       "      <td>0.000000</td>\n",
       "      <td>-98.405823</td>\n",
       "      <td>-100.000000</td>\n",
       "      <td>-85.714286</td>\n",
       "      <td>...</td>\n",
       "      <td>0.000000</td>\n",
       "      <td>0.000000</td>\n",
       "      <td>0.000000</td>\n",
       "      <td>0.000000</td>\n",
       "      <td>0.000000</td>\n",
       "      <td>0.000000</td>\n",
       "      <td>0.000000</td>\n",
       "      <td>0.000000</td>\n",
       "      <td>0.000000</td>\n",
       "      <td>0.000000</td>\n",
       "    </tr>\n",
       "    <tr>\n",
       "      <th>25%</th>\n",
       "      <td>89.000000</td>\n",
       "      <td>85.000000</td>\n",
       "      <td>4.444444</td>\n",
       "      <td>4.320988</td>\n",
       "      <td>0.000000</td>\n",
       "      <td>0.000000</td>\n",
       "      <td>0.000000</td>\n",
       "      <td>-9.166667</td>\n",
       "      <td>-2.407625</td>\n",
       "      <td>-2.325581</td>\n",
       "      <td>...</td>\n",
       "      <td>0.000000</td>\n",
       "      <td>0.000000</td>\n",
       "      <td>0.000000</td>\n",
       "      <td>0.000000</td>\n",
       "      <td>0.000000</td>\n",
       "      <td>0.000000</td>\n",
       "      <td>0.000000</td>\n",
       "      <td>0.000000</td>\n",
       "      <td>0.000000</td>\n",
       "      <td>0.000000</td>\n",
       "    </tr>\n",
       "    <tr>\n",
       "      <th>50%</th>\n",
       "      <td>175.000000</td>\n",
       "      <td>169.000000</td>\n",
       "      <td>41.009215</td>\n",
       "      <td>11.111111</td>\n",
       "      <td>3.116905</td>\n",
       "      <td>3.529412</td>\n",
       "      <td>2.083333</td>\n",
       "      <td>-1.711457</td>\n",
       "      <td>1.537363</td>\n",
       "      <td>0.000000</td>\n",
       "      <td>...</td>\n",
       "      <td>0.000000</td>\n",
       "      <td>0.000000</td>\n",
       "      <td>0.000000</td>\n",
       "      <td>0.000000</td>\n",
       "      <td>0.000000</td>\n",
       "      <td>0.000000</td>\n",
       "      <td>0.000000</td>\n",
       "      <td>0.000000</td>\n",
       "      <td>0.000000</td>\n",
       "      <td>0.000000</td>\n",
       "    </tr>\n",
       "    <tr>\n",
       "      <th>75%</th>\n",
       "      <td>364.000000</td>\n",
       "      <td>353.000000</td>\n",
       "      <td>78.938616</td>\n",
       "      <td>29.166667</td>\n",
       "      <td>37.771818</td>\n",
       "      <td>13.461538</td>\n",
       "      <td>4.753400</td>\n",
       "      <td>1.360371</td>\n",
       "      <td>6.845016</td>\n",
       "      <td>1.501261</td>\n",
       "      <td>...</td>\n",
       "      <td>0.000000</td>\n",
       "      <td>0.000000</td>\n",
       "      <td>0.000000</td>\n",
       "      <td>0.000000</td>\n",
       "      <td>0.000000</td>\n",
       "      <td>0.000000</td>\n",
       "      <td>0.000000</td>\n",
       "      <td>0.000000</td>\n",
       "      <td>0.000000</td>\n",
       "      <td>0.000000</td>\n",
       "    </tr>\n",
       "    <tr>\n",
       "      <th>max</th>\n",
       "      <td>8634.000000</td>\n",
       "      <td>5460.649902</td>\n",
       "      <td>103.716511</td>\n",
       "      <td>102.639294</td>\n",
       "      <td>101.801092</td>\n",
       "      <td>100.000000</td>\n",
       "      <td>66.666667</td>\n",
       "      <td>98.420221</td>\n",
       "      <td>91.666667</td>\n",
       "      <td>100.000000</td>\n",
       "      <td>...</td>\n",
       "      <td>1.000000</td>\n",
       "      <td>1.000000</td>\n",
       "      <td>1.000000</td>\n",
       "      <td>1.000000</td>\n",
       "      <td>1.000000</td>\n",
       "      <td>1.000000</td>\n",
       "      <td>1.000000</td>\n",
       "      <td>1.000000</td>\n",
       "      <td>1.000000</td>\n",
       "      <td>1.000000</td>\n",
       "    </tr>\n",
       "  </tbody>\n",
       "</table>\n",
       "<p>8 rows × 215 columns</p>\n",
       "</div>"
      ],
      "text/plain": [
       "              Pop10         Pop00     shWhite00    shLatino00     shBlack00  \\\n",
       "count  28376.000000  28376.000000  28376.000000  28376.000000  28376.000000   \n",
       "mean     284.097759    277.798168     43.164015     20.564422     22.505705   \n",
       "std      320.043241    315.775978     36.016818     22.771818     32.195377   \n",
       "min       11.000000     10.010000      0.000000      0.000000      0.000000   \n",
       "25%       89.000000     85.000000      4.444444      4.320988      0.000000   \n",
       "50%      175.000000    169.000000     41.009215     11.111111      3.116905   \n",
       "75%      364.000000    353.000000     78.938616     29.166667     37.771818   \n",
       "max     8634.000000   5460.649902    103.716511    102.639294    101.801092   \n",
       "\n",
       "          shAsian00     shOther00  pct_ch_white   pct_ch_hisp  pct_ch_black  \\\n",
       "count  28376.000000  28376.000000  28376.000000  28376.000000  28376.000000   \n",
       "mean      10.001455      3.762477     -3.670099      2.133174     -0.755535   \n",
       "std       14.992596      5.476979     12.613969     10.943116      9.026602   \n",
       "min        0.000000      0.000000    -98.405823   -100.000000    -85.714286   \n",
       "25%        0.000000      0.000000     -9.166667     -2.407625     -2.325581   \n",
       "50%        3.529412      2.083333     -1.711457      1.537363      0.000000   \n",
       "75%       13.461538      4.753400      1.360371      6.845016      1.501261   \n",
       "max      100.000000     66.666667     98.420221     91.666667    100.000000   \n",
       "\n",
       "           ...       NTACode_SI25  NTACode_SI28  NTACode_SI32  NTACode_SI35  \\\n",
       "count      ...       28376.000000  28376.000000  28376.000000  28376.000000   \n",
       "mean       ...           0.009621      0.006661      0.005075      0.004440   \n",
       "std        ...           0.097614      0.081341      0.071057      0.066489   \n",
       "min        ...           0.000000      0.000000      0.000000      0.000000   \n",
       "25%        ...           0.000000      0.000000      0.000000      0.000000   \n",
       "50%        ...           0.000000      0.000000      0.000000      0.000000   \n",
       "75%        ...           0.000000      0.000000      0.000000      0.000000   \n",
       "max        ...           1.000000      1.000000      1.000000      1.000000   \n",
       "\n",
       "       NTACode_SI36  NTACode_SI37  NTACode_SI45  NTACode_SI48  NTACode_SI54  \\\n",
       "count  28376.000000  28376.000000  28376.000000  28376.000000  28376.000000   \n",
       "mean       0.009727      0.005744      0.007964      0.006379      0.011524   \n",
       "std        0.098144      0.075574      0.088889      0.079613      0.106731   \n",
       "min        0.000000      0.000000      0.000000      0.000000      0.000000   \n",
       "25%        0.000000      0.000000      0.000000      0.000000      0.000000   \n",
       "50%        0.000000      0.000000      0.000000      0.000000      0.000000   \n",
       "75%        0.000000      0.000000      0.000000      0.000000      0.000000   \n",
       "max        1.000000      1.000000      1.000000      1.000000      1.000000   \n",
       "\n",
       "       NTACode_SI99  \n",
       "count  28376.000000  \n",
       "mean       0.000352  \n",
       "std        0.018770  \n",
       "min        0.000000  \n",
       "25%        0.000000  \n",
       "50%        0.000000  \n",
       "75%        0.000000  \n",
       "max        1.000000  \n",
       "\n",
       "[8 rows x 215 columns]"
      ]
     },
     "execution_count": 33,
     "metadata": {},
     "output_type": "execute_result"
    }
   ],
   "source": [
    "block_dummies.describe()"
   ]
  },
  {
   "cell_type": "markdown",
   "metadata": {},
   "source": [
    "##### BIDs distribution across Census Blockgroups\n",
    "\n",
    "We examine the BIDs distribution across the census block groups. From the output of the mean, it can be seen that we have approximately only **2.26 percent** of the Census Blockgroups having BIDs. From both a machine learning paradigm of prediction as well as a traditional statistical paradigm, the low number of BIDs in the Census Blockgroups may mean that it is not necessarily predicitive nor statistically signifcant for the predictor to be of use in exploring gentrification. Nevertheless, we are going to run through some of the models mentioned above to see if our other variables contribute much to predicting gentrification. We want to highlight the BIDs as it is an initial interest of variable for the team."
   ]
  },
  {
   "cell_type": "code",
   "execution_count": 34,
   "metadata": {
    "scrolled": true
   },
   "outputs": [
    {
     "data": {
      "text/html": [
       "<div>\n",
       "<table border=\"1\" class=\"dataframe\">\n",
       "  <thead>\n",
       "    <tr style=\"text-align: right;\">\n",
       "      <th></th>\n",
       "      <th>BID_dummy</th>\n",
       "    </tr>\n",
       "  </thead>\n",
       "  <tbody>\n",
       "    <tr>\n",
       "      <th>count</th>\n",
       "      <td>28376.00000</td>\n",
       "    </tr>\n",
       "    <tr>\n",
       "      <th>mean</th>\n",
       "      <td>0.02266</td>\n",
       "    </tr>\n",
       "    <tr>\n",
       "      <th>std</th>\n",
       "      <td>0.14882</td>\n",
       "    </tr>\n",
       "    <tr>\n",
       "      <th>min</th>\n",
       "      <td>0.00000</td>\n",
       "    </tr>\n",
       "    <tr>\n",
       "      <th>25%</th>\n",
       "      <td>0.00000</td>\n",
       "    </tr>\n",
       "    <tr>\n",
       "      <th>50%</th>\n",
       "      <td>0.00000</td>\n",
       "    </tr>\n",
       "    <tr>\n",
       "      <th>75%</th>\n",
       "      <td>0.00000</td>\n",
       "    </tr>\n",
       "    <tr>\n",
       "      <th>max</th>\n",
       "      <td>1.00000</td>\n",
       "    </tr>\n",
       "  </tbody>\n",
       "</table>\n",
       "</div>"
      ],
      "text/plain": [
       "         BID_dummy\n",
       "count  28376.00000\n",
       "mean       0.02266\n",
       "std        0.14882\n",
       "min        0.00000\n",
       "25%        0.00000\n",
       "50%        0.00000\n",
       "75%        0.00000\n",
       "max        1.00000"
      ]
     },
     "execution_count": 34,
     "metadata": {},
     "output_type": "execute_result"
    }
   ],
   "source": [
    "#Looking in particular the BID dummies\n",
    "block_dummies[['BID_dummy']].describe()"
   ]
  },
  {
   "cell_type": "code",
   "execution_count": 35,
   "metadata": {},
   "outputs": [
    {
     "data": {
      "image/png": "[encoded data removed]",
      "text/plain": [
       "<matplotlib.figure.Figure at 0x7f2f22f72810>"
      ]
     },
     "metadata": {},
     "output_type": "display_data"
    }
   ],
   "source": [
    "#on the BID series\n",
    "fig, ax = plt.subplots()\n",
    "ax = block_dummies['BID_dummy'].plot.hist()"
   ]
  },
  {
   "cell_type": "markdown",
   "metadata": {},
   "source": [
    "#### Extracting columns for an initial dataset\n",
    "\n",
    "In this section, several of our the columns from the main dataset are extracted to create a working dataset to run an initial logistic regression of **Model I. **\n",
    "\n",
    "* **BLOCKID :**       The ID of the blocks\n",
    "* **pct_ch_white :**         The percentage change of White people\n",
    "* **bid_id :**         The ID of the BIDs\n",
    "* **BID_dummy :**         If the block has BIDs or not\n",
    "* **BoroName_Bronx :**         Borough name in Bronx\n",
    "* **BoroName_Brooklyn:**         Borough name in Brooklyn\n",
    "* **BoroName_Manhattan :**         Borough name in Manhattan\n",
    "* **BoroName_Queens :**         Borough name in Queens\n",
    "* **shWhite2000:**         The share of White people in 2000\n",
    "* **shBlack2000:**         The share of Black people in 2000\n",
    "* **shLatino2000:**         The share of Latino people in 2000\n",
    "* **shAsian2000:**         The share of Asian people in 2000\n",
    "* **shWhite2000:**         The share of White people in 2000\n",
    "\n"
   ]
  },
  {
   "cell_type": "code",
   "execution_count": 220,
   "metadata": {},
   "outputs": [],
   "source": [
    "block_dummies_w= block_dummies[['BLOCKID','pct_ch_white','a_weight','bid_id','BID_dummy','BoroName_Bronx','BoroName_Brooklyn','BoroName_Manhattan','BoroName_Queens', 'shWhite00','shBlack00','shBlack00', 'shAsian00']]"
   ]
  },
  {
   "cell_type": "markdown",
   "metadata": {},
   "source": [
    "##### Distribution of Percent Change in White Population"
   ]
  },
  {
   "cell_type": "markdown",
   "metadata": {},
   "source": [
    "Below we explore the distribution of the percent change in White population by census block groups. The distribution is centered off to the negative side of 0 meaning there are more census block groups where White folks are leaving the census blocks"
   ]
  },
  {
   "cell_type": "code",
   "execution_count": 37,
   "metadata": {},
   "outputs": [
    {
     "data": {
      "image/png": "[encoded data removed]",
      "text/plain": [
       "<matplotlib.figure.Figure at 0x7f2f22f63fd0>"
      ]
     },
     "metadata": {},
     "output_type": "display_data"
    }
   ],
   "source": [
    "den, ax = plt.subplots()\n",
    "ax = sns.distplot(block_dummies_w['pct_ch_white'], hist = False)\n",
    "ax.set_title('Population Percent Change')\n",
    "ax.set_xlabel('Percent Changes')\n",
    "ax.set_ylabel('Probability')\n",
    "plt.show()\n"
   ]
  },
  {
   "cell_type": "markdown",
   "metadata": {},
   "source": [
    "##### Transforming percent change for logistic regression"
   ]
  },
  {
   "cell_type": "markdown",
   "metadata": {},
   "source": [
    "As stated before, we are considering 75th percentile to be a cut-off point for the percentage change in White population as turning point for gentrification. \n",
    "At the 75th percentile, the percent change of White Population stands at **1.36** percent which is not much. "
   ]
  },
  {
   "cell_type": "code",
   "execution_count": 211,
   "metadata": {},
   "outputs": [],
   "source": [
    "#save the 75th percentile quantile for now\n",
    "seventyfiveq = np.percentile(block_dummies_w['pct_ch_white'],75)"
   ]
  },
  {
   "cell_type": "code",
   "execution_count": 212,
   "metadata": {},
   "outputs": [
    {
     "name": "stdout",
     "output_type": "stream",
     "text": [
      "1.36037091004\n"
     ]
    }
   ],
   "source": [
    "print(seventyfiveq)"
   ]
  },
  {
   "cell_type": "code",
   "execution_count": 221,
   "metadata": {},
   "outputs": [],
   "source": [
    "#changes dummy column\n",
    "block_dummies_w[\"changesdummy\"] = (block_dummies_w[\"pct_ch_white\"] > seventyfiveq)"
   ]
  },
  {
   "cell_type": "code",
   "execution_count": 222,
   "metadata": {},
   "outputs": [],
   "source": [
    "#converting them to 0 and 1\n",
    "block_dummies_w.changesdummy = block_dummies_w.changesdummy.astype(int)"
   ]
  },
  {
   "cell_type": "markdown",
   "metadata": {},
   "source": [
    "#### Class Balance Checking"
   ]
  },
  {
   "cell_type": "code",
   "execution_count": 223,
   "metadata": {},
   "outputs": [
    {
     "data": {
      "text/plain": [
       "0    0.74759\n",
       "1    0.25241\n",
       "Name: changesdummy, dtype: float64"
      ]
     },
     "execution_count": 223,
     "metadata": {},
     "output_type": "execute_result"
    }
   ],
   "source": [
    "#Reflecting the percentile breakdown we have established previously\n",
    "block_dummies_w[\"changesdummy\"].value_counts(normalize=True)"
   ]
  },
  {
   "cell_type": "markdown",
   "metadata": {},
   "source": [
    "#### Training vs Testing data splitng"
   ]
  },
  {
   "cell_type": "code",
   "execution_count": 43,
   "metadata": {},
   "outputs": [],
   "source": [
    "#Later on we will be using K-folds but this is a start\n",
    "# Changed to 80% training\n",
    "df_train, df_test = train_test_split(block_dummies_w, test_size=0.8)"
   ]
  },
  {
   "cell_type": "markdown",
   "metadata": {},
   "source": [
    "#### Checking the distribution of both testing and training datasets"
   ]
  },
  {
   "cell_type": "code",
   "execution_count": 44,
   "metadata": {},
   "outputs": [
    {
     "data": {
      "text/html": [
       "<div>\n",
       "<table border=\"1\" class=\"dataframe\">\n",
       "  <thead>\n",
       "    <tr style=\"text-align: right;\">\n",
       "      <th></th>\n",
       "      <th>pct_ch_white</th>\n",
       "      <th>a_weight</th>\n",
       "      <th>bid_id</th>\n",
       "      <th>BID_dummy</th>\n",
       "      <th>BoroName_Bronx</th>\n",
       "      <th>BoroName_Brooklyn</th>\n",
       "      <th>BoroName_Manhattan</th>\n",
       "      <th>BoroName_Queens</th>\n",
       "      <th>shWhite00</th>\n",
       "      <th>shBlack00</th>\n",
       "      <th>shBlack00</th>\n",
       "      <th>shAsian00</th>\n",
       "      <th>changesdummy</th>\n",
       "    </tr>\n",
       "  </thead>\n",
       "  <tbody>\n",
       "    <tr>\n",
       "      <th>count</th>\n",
       "      <td>5675.000000</td>\n",
       "      <td>5675.000000</td>\n",
       "      <td>111.000000</td>\n",
       "      <td>5675.000000</td>\n",
       "      <td>5675.000000</td>\n",
       "      <td>5675.000000</td>\n",
       "      <td>5675.000000</td>\n",
       "      <td>5675.000000</td>\n",
       "      <td>5675.000000</td>\n",
       "      <td>5675.000000</td>\n",
       "      <td>5675.000000</td>\n",
       "      <td>5675.000000</td>\n",
       "      <td>5675.000000</td>\n",
       "    </tr>\n",
       "    <tr>\n",
       "      <th>mean</th>\n",
       "      <td>-3.680779</td>\n",
       "      <td>0.990140</td>\n",
       "      <td>990.873874</td>\n",
       "      <td>0.019559</td>\n",
       "      <td>0.125815</td>\n",
       "      <td>0.256388</td>\n",
       "      <td>0.087577</td>\n",
       "      <td>0.391189</td>\n",
       "      <td>43.571788</td>\n",
       "      <td>21.817016</td>\n",
       "      <td>21.817016</td>\n",
       "      <td>10.063884</td>\n",
       "      <td>0.252159</td>\n",
       "    </tr>\n",
       "    <tr>\n",
       "      <th>std</th>\n",
       "      <td>12.785284</td>\n",
       "      <td>0.056037</td>\n",
       "      <td>1314.455636</td>\n",
       "      <td>0.138493</td>\n",
       "      <td>0.331670</td>\n",
       "      <td>0.436677</td>\n",
       "      <td>0.282704</td>\n",
       "      <td>0.488060</td>\n",
       "      <td>36.072400</td>\n",
       "      <td>31.568981</td>\n",
       "      <td>31.568981</td>\n",
       "      <td>15.024307</td>\n",
       "      <td>0.434290</td>\n",
       "    </tr>\n",
       "    <tr>\n",
       "      <th>min</th>\n",
       "      <td>-76.923077</td>\n",
       "      <td>0.356635</td>\n",
       "      <td>51.000000</td>\n",
       "      <td>0.000000</td>\n",
       "      <td>0.000000</td>\n",
       "      <td>0.000000</td>\n",
       "      <td>0.000000</td>\n",
       "      <td>0.000000</td>\n",
       "      <td>0.000000</td>\n",
       "      <td>0.000000</td>\n",
       "      <td>0.000000</td>\n",
       "      <td>0.000000</td>\n",
       "      <td>0.000000</td>\n",
       "    </tr>\n",
       "    <tr>\n",
       "      <th>25%</th>\n",
       "      <td>-9.429579</td>\n",
       "      <td>1.000000</td>\n",
       "      <td>NaN</td>\n",
       "      <td>0.000000</td>\n",
       "      <td>0.000000</td>\n",
       "      <td>0.000000</td>\n",
       "      <td>0.000000</td>\n",
       "      <td>0.000000</td>\n",
       "      <td>4.679306</td>\n",
       "      <td>0.000000</td>\n",
       "      <td>0.000000</td>\n",
       "      <td>0.000000</td>\n",
       "      <td>0.000000</td>\n",
       "    </tr>\n",
       "    <tr>\n",
       "      <th>50%</th>\n",
       "      <td>-1.913638</td>\n",
       "      <td>1.000000</td>\n",
       "      <td>NaN</td>\n",
       "      <td>0.000000</td>\n",
       "      <td>0.000000</td>\n",
       "      <td>0.000000</td>\n",
       "      <td>0.000000</td>\n",
       "      <td>0.000000</td>\n",
       "      <td>42.105263</td>\n",
       "      <td>3.076923</td>\n",
       "      <td>3.076923</td>\n",
       "      <td>3.592814</td>\n",
       "      <td>0.000000</td>\n",
       "    </tr>\n",
       "    <tr>\n",
       "      <th>75%</th>\n",
       "      <td>1.399335</td>\n",
       "      <td>1.000000</td>\n",
       "      <td>NaN</td>\n",
       "      <td>0.000000</td>\n",
       "      <td>0.000000</td>\n",
       "      <td>1.000000</td>\n",
       "      <td>0.000000</td>\n",
       "      <td>1.000000</td>\n",
       "      <td>79.516317</td>\n",
       "      <td>35.580689</td>\n",
       "      <td>35.580689</td>\n",
       "      <td>13.383055</td>\n",
       "      <td>1.000000</td>\n",
       "    </tr>\n",
       "    <tr>\n",
       "      <th>max</th>\n",
       "      <td>94.285714</td>\n",
       "      <td>1.000016</td>\n",
       "      <td>3957.000000</td>\n",
       "      <td>1.000000</td>\n",
       "      <td>1.000000</td>\n",
       "      <td>1.000000</td>\n",
       "      <td>1.000000</td>\n",
       "      <td>1.000000</td>\n",
       "      <td>103.626944</td>\n",
       "      <td>100.000000</td>\n",
       "      <td>100.000000</td>\n",
       "      <td>100.000000</td>\n",
       "      <td>1.000000</td>\n",
       "    </tr>\n",
       "  </tbody>\n",
       "</table>\n",
       "</div>"
      ],
      "text/plain": [
       "       pct_ch_white     a_weight       bid_id    BID_dummy  BoroName_Bronx  \\\n",
       "count   5675.000000  5675.000000   111.000000  5675.000000     5675.000000   \n",
       "mean      -3.680779     0.990140   990.873874     0.019559        0.125815   \n",
       "std       12.785284     0.056037  1314.455636     0.138493        0.331670   \n",
       "min      -76.923077     0.356635    51.000000     0.000000        0.000000   \n",
       "25%       -9.429579     1.000000          NaN     0.000000        0.000000   \n",
       "50%       -1.913638     1.000000          NaN     0.000000        0.000000   \n",
       "75%        1.399335     1.000000          NaN     0.000000        0.000000   \n",
       "max       94.285714     1.000016  3957.000000     1.000000        1.000000   \n",
       "\n",
       "       BoroName_Brooklyn  BoroName_Manhattan  BoroName_Queens    shWhite00  \\\n",
       "count        5675.000000         5675.000000      5675.000000  5675.000000   \n",
       "mean            0.256388            0.087577         0.391189    43.571788   \n",
       "std             0.436677            0.282704         0.488060    36.072400   \n",
       "min             0.000000            0.000000         0.000000     0.000000   \n",
       "25%             0.000000            0.000000         0.000000     4.679306   \n",
       "50%             0.000000            0.000000         0.000000    42.105263   \n",
       "75%             1.000000            0.000000         1.000000    79.516317   \n",
       "max             1.000000            1.000000         1.000000   103.626944   \n",
       "\n",
       "         shBlack00    shBlack00    shAsian00  changesdummy  \n",
       "count  5675.000000  5675.000000  5675.000000   5675.000000  \n",
       "mean     21.817016    21.817016    10.063884      0.252159  \n",
       "std      31.568981    31.568981    15.024307      0.434290  \n",
       "min       0.000000     0.000000     0.000000      0.000000  \n",
       "25%       0.000000     0.000000     0.000000      0.000000  \n",
       "50%       3.076923     3.076923     3.592814      0.000000  \n",
       "75%      35.580689    35.580689    13.383055      1.000000  \n",
       "max     100.000000   100.000000   100.000000      1.000000  "
      ]
     },
     "execution_count": 44,
     "metadata": {},
     "output_type": "execute_result"
    }
   ],
   "source": [
    "df_train.describe()"
   ]
  },
  {
   "cell_type": "code",
   "execution_count": 45,
   "metadata": {},
   "outputs": [
    {
     "data": {
      "text/html": [
       "<div>\n",
       "<table border=\"1\" class=\"dataframe\">\n",
       "  <thead>\n",
       "    <tr style=\"text-align: right;\">\n",
       "      <th></th>\n",
       "      <th>pct_ch_white</th>\n",
       "      <th>a_weight</th>\n",
       "      <th>bid_id</th>\n",
       "      <th>BID_dummy</th>\n",
       "      <th>BoroName_Bronx</th>\n",
       "      <th>BoroName_Brooklyn</th>\n",
       "      <th>BoroName_Manhattan</th>\n",
       "      <th>BoroName_Queens</th>\n",
       "      <th>shWhite00</th>\n",
       "      <th>shBlack00</th>\n",
       "      <th>shBlack00</th>\n",
       "      <th>shAsian00</th>\n",
       "      <th>changesdummy</th>\n",
       "    </tr>\n",
       "  </thead>\n",
       "  <tbody>\n",
       "    <tr>\n",
       "      <th>count</th>\n",
       "      <td>22701.000000</td>\n",
       "      <td>22701.000000</td>\n",
       "      <td>532.000000</td>\n",
       "      <td>22701.000000</td>\n",
       "      <td>22701.000000</td>\n",
       "      <td>22701.000000</td>\n",
       "      <td>22701.000000</td>\n",
       "      <td>22701.000000</td>\n",
       "      <td>22701.000000</td>\n",
       "      <td>22701.000000</td>\n",
       "      <td>22701.000000</td>\n",
       "      <td>22701.000000</td>\n",
       "      <td>22701.00000</td>\n",
       "    </tr>\n",
       "    <tr>\n",
       "      <th>mean</th>\n",
       "      <td>-3.667429</td>\n",
       "      <td>0.988576</td>\n",
       "      <td>924.109023</td>\n",
       "      <td>0.023435</td>\n",
       "      <td>0.125105</td>\n",
       "      <td>0.261222</td>\n",
       "      <td>0.086824</td>\n",
       "      <td>0.387824</td>\n",
       "      <td>43.062076</td>\n",
       "      <td>22.677870</td>\n",
       "      <td>22.677870</td>\n",
       "      <td>9.985848</td>\n",
       "      <td>0.24946</td>\n",
       "    </tr>\n",
       "    <tr>\n",
       "      <th>std</th>\n",
       "      <td>12.571061</td>\n",
       "      <td>0.060534</td>\n",
       "      <td>1162.730269</td>\n",
       "      <td>0.151284</td>\n",
       "      <td>0.330845</td>\n",
       "      <td>0.439310</td>\n",
       "      <td>0.281584</td>\n",
       "      <td>0.487265</td>\n",
       "      <td>36.002984</td>\n",
       "      <td>32.348468</td>\n",
       "      <td>32.348468</td>\n",
       "      <td>14.984949</td>\n",
       "      <td>0.43271</td>\n",
       "    </tr>\n",
       "    <tr>\n",
       "      <th>min</th>\n",
       "      <td>-98.405823</td>\n",
       "      <td>0.373523</td>\n",
       "      <td>51.000000</td>\n",
       "      <td>0.000000</td>\n",
       "      <td>0.000000</td>\n",
       "      <td>0.000000</td>\n",
       "      <td>0.000000</td>\n",
       "      <td>0.000000</td>\n",
       "      <td>0.000000</td>\n",
       "      <td>0.000000</td>\n",
       "      <td>0.000000</td>\n",
       "      <td>0.000000</td>\n",
       "      <td>0.00000</td>\n",
       "    </tr>\n",
       "    <tr>\n",
       "      <th>25%</th>\n",
       "      <td>-9.101058</td>\n",
       "      <td>1.000000</td>\n",
       "      <td>NaN</td>\n",
       "      <td>0.000000</td>\n",
       "      <td>0.000000</td>\n",
       "      <td>0.000000</td>\n",
       "      <td>0.000000</td>\n",
       "      <td>0.000000</td>\n",
       "      <td>4.382470</td>\n",
       "      <td>0.000000</td>\n",
       "      <td>0.000000</td>\n",
       "      <td>0.000000</td>\n",
       "      <td>0.00000</td>\n",
       "    </tr>\n",
       "    <tr>\n",
       "      <th>50%</th>\n",
       "      <td>-1.678322</td>\n",
       "      <td>1.000000</td>\n",
       "      <td>NaN</td>\n",
       "      <td>0.000000</td>\n",
       "      <td>0.000000</td>\n",
       "      <td>0.000000</td>\n",
       "      <td>0.000000</td>\n",
       "      <td>0.000000</td>\n",
       "      <td>40.845070</td>\n",
       "      <td>3.125000</td>\n",
       "      <td>3.125000</td>\n",
       "      <td>3.504043</td>\n",
       "      <td>0.00000</td>\n",
       "    </tr>\n",
       "    <tr>\n",
       "      <th>75%</th>\n",
       "      <td>1.348364</td>\n",
       "      <td>1.000000</td>\n",
       "      <td>NaN</td>\n",
       "      <td>0.000000</td>\n",
       "      <td>0.000000</td>\n",
       "      <td>1.000000</td>\n",
       "      <td>0.000000</td>\n",
       "      <td>1.000000</td>\n",
       "      <td>78.761062</td>\n",
       "      <td>38.365238</td>\n",
       "      <td>38.365238</td>\n",
       "      <td>13.479263</td>\n",
       "      <td>0.00000</td>\n",
       "    </tr>\n",
       "    <tr>\n",
       "      <th>max</th>\n",
       "      <td>98.420221</td>\n",
       "      <td>1.000016</td>\n",
       "      <td>3957.000000</td>\n",
       "      <td>1.000000</td>\n",
       "      <td>1.000000</td>\n",
       "      <td>1.000000</td>\n",
       "      <td>1.000000</td>\n",
       "      <td>1.000000</td>\n",
       "      <td>103.716511</td>\n",
       "      <td>101.801092</td>\n",
       "      <td>101.801092</td>\n",
       "      <td>100.000000</td>\n",
       "      <td>1.00000</td>\n",
       "    </tr>\n",
       "  </tbody>\n",
       "</table>\n",
       "</div>"
      ],
      "text/plain": [
       "       pct_ch_white      a_weight       bid_id     BID_dummy  BoroName_Bronx  \\\n",
       "count  22701.000000  22701.000000   532.000000  22701.000000    22701.000000   \n",
       "mean      -3.667429      0.988576   924.109023      0.023435        0.125105   \n",
       "std       12.571061      0.060534  1162.730269      0.151284        0.330845   \n",
       "min      -98.405823      0.373523    51.000000      0.000000        0.000000   \n",
       "25%       -9.101058      1.000000          NaN      0.000000        0.000000   \n",
       "50%       -1.678322      1.000000          NaN      0.000000        0.000000   \n",
       "75%        1.348364      1.000000          NaN      0.000000        0.000000   \n",
       "max       98.420221      1.000016  3957.000000      1.000000        1.000000   \n",
       "\n",
       "       BoroName_Brooklyn  BoroName_Manhattan  BoroName_Queens     shWhite00  \\\n",
       "count       22701.000000        22701.000000     22701.000000  22701.000000   \n",
       "mean            0.261222            0.086824         0.387824     43.062076   \n",
       "std             0.439310            0.281584         0.487265     36.002984   \n",
       "min             0.000000            0.000000         0.000000      0.000000   \n",
       "25%             0.000000            0.000000         0.000000      4.382470   \n",
       "50%             0.000000            0.000000         0.000000     40.845070   \n",
       "75%             1.000000            0.000000         1.000000     78.761062   \n",
       "max             1.000000            1.000000         1.000000    103.716511   \n",
       "\n",
       "          shBlack00     shBlack00     shAsian00  changesdummy  \n",
       "count  22701.000000  22701.000000  22701.000000   22701.00000  \n",
       "mean      22.677870     22.677870      9.985848       0.24946  \n",
       "std       32.348468     32.348468     14.984949       0.43271  \n",
       "min        0.000000      0.000000      0.000000       0.00000  \n",
       "25%        0.000000      0.000000      0.000000       0.00000  \n",
       "50%        3.125000      3.125000      3.504043       0.00000  \n",
       "75%       38.365238     38.365238     13.479263       0.00000  \n",
       "max      101.801092    101.801092    100.000000       1.00000  "
      ]
     },
     "execution_count": 45,
     "metadata": {},
     "output_type": "execute_result"
    }
   ],
   "source": [
    "df_test.describe()"
   ]
  },
  {
   "cell_type": "markdown",
   "metadata": {},
   "source": [
    "#### Splitting into features and labels"
   ]
  },
  {
   "cell_type": "code",
   "execution_count": 46,
   "metadata": {},
   "outputs": [],
   "source": [
    "#This is reflecting the Model I equation\n",
    "sel_features = ['a_weight', 'BID_dummy', 'BoroName_Bronx', 'BoroName_Brooklyn', 'BoroName_Manhattan', 'BoroName_Queens','shWhite00', 'shBlack00', 'shAsian00']\n",
    "sel_label = [ 'changesdummy']"
   ]
  },
  {
   "cell_type": "code",
   "execution_count": 47,
   "metadata": {},
   "outputs": [],
   "source": [
    "#We are assigning predictors and the outcome in training and testing datasets\n",
    "X_train = df_train[sel_features].values\n",
    "y_train = df_train[sel_label].values\n",
    "X_test = df_test[sel_features].values\n",
    "y_test = df_test[sel_label].values"
   ]
  },
  {
   "cell_type": "markdown",
   "metadata": {},
   "source": [
    "#### Fitting the model"
   ]
  },
  {
   "cell_type": "code",
   "execution_count": 48,
   "metadata": {},
   "outputs": [
    {
     "name": "stdout",
     "output_type": "stream",
     "text": [
      "LogisticRegression(C=100000.0, class_weight=None, dual=False,\n",
      "          fit_intercept=True, intercept_scaling=1, max_iter=100,\n",
      "          multi_class='ovr', n_jobs=1, penalty='l1', random_state=None,\n",
      "          solver='liblinear', tol=0.0001, verbose=0, warm_start=False)\n"
     ]
    }
   ],
   "source": [
    "#Inputting this into the traditional logistic regression model\n",
    "from sklearn import linear_model\n",
    "model = linear_model.LogisticRegression(penalty='l1', C=1e5)\n",
    "model.fit( X_train, y_train )\n",
    "print(model)"
   ]
  },
  {
   "cell_type": "markdown",
   "metadata": {},
   "source": [
    "#### Model Understanding"
   ]
  },
  {
   "cell_type": "code",
   "execution_count": 49,
   "metadata": {},
   "outputs": [
    {
     "name": "stdout",
     "output_type": "stream",
     "text": [
      "The coefficients for each of the features are \n"
     ]
    },
    {
     "data": {
      "text/plain": [
       "[('a_weight', -1.4910853941249371),\n",
       " ('BID_dummy', 0.29555565828840918),\n",
       " ('BoroName_Bronx', -1.4592340222249283),\n",
       " ('BoroName_Brooklyn', 0.52788595883019063),\n",
       " ('BoroName_Manhattan', 0.71630305021587271),\n",
       " ('BoroName_Queens', -0.42829166243871014),\n",
       " ('shWhite00', -0.016084887666549651),\n",
       " ('shBlack00', -0.0083951227964144583),\n",
       " ('shAsian00', -0.0046060357652632881)]"
      ]
     },
     "execution_count": 49,
     "metadata": {},
     "output_type": "execute_result"
    }
   ],
   "source": [
    "print \"The coefficients for each of the features are \" \n",
    "zip(sel_features, model.coef_[0])"
   ]
  },
  {
   "cell_type": "code",
   "execution_count": 50,
   "metadata": {},
   "outputs": [
    {
     "name": "stdout",
     "output_type": "stream",
     "text": [
      "The standardized coefficients of each of the features are\n"
     ]
    },
    {
     "data": {
      "text/plain": [
       "[('a_weight', -0.090258869052972618),\n",
       " ('BID_dummy', 0.044711903295631614),\n",
       " ('BoroName_Bronx', -0.48276934322587567),\n",
       " ('BoroName_Brooklyn', 0.23190064035823796),\n",
       " ('BoroName_Manhattan', 0.20169483410026984),\n",
       " ('BoroName_Queens', -0.20868689486832767),\n",
       " ('shWhite00', -0.57909119261221309),\n",
       " ('shBlack00', -0.27156338078624404),\n",
       " ('shAsian00', -0.14899491940385684)]"
      ]
     },
     "execution_count": 50,
     "metadata": {},
     "output_type": "execute_result"
    }
   ],
   "source": [
    "print \"The standardized coefficients of each of the features are\"\n",
    "std_coef = np.std(X_test,0)*model.coef_\n",
    "zip(sel_features, std_coef[0])"
   ]
  },
  {
   "cell_type": "markdown",
   "metadata": {},
   "source": [
    "#### Model Evaluation"
   ]
  },
  {
   "cell_type": "markdown",
   "metadata": {},
   "source": [
    "The logistic model outputs predictive probabilities as shown in plot below. We determine the cut-off point by estimating the point which we think have high enough probability to be considered gentrified. The initial estimates are picking the point by sizing the density of the graph above a particular cut-off point to reflect what we know of the composition of the outcome binary variable. A more scientific approach would be to use certain metrics such as **AUC-ROC** of sensitivty and 1-specificity or precision and recall to see how the model performs across all cut-off points. "
   ]
  },
  {
   "cell_type": "code",
   "execution_count": 51,
   "metadata": {},
   "outputs": [],
   "source": [
    "#  from our \"predictors\" using the model.\n",
    "y_scores = model.predict_proba(X_test)[:,1]"
   ]
  },
  {
   "cell_type": "markdown",
   "metadata": {},
   "source": [
    "#from our \"predictors\" using the model.\n",
    "y_scores = model.predict_proba(X_test)[:,1]"
   ]
  },
  {
   "cell_type": "code",
   "execution_count": 52,
   "metadata": {},
   "outputs": [
    {
     "data": {
      "text/plain": [
       "array([ 0.17911218,  0.51417124,  0.26290964, ...,  0.15689244,\n",
       "        0.19444984,  0.45655227])"
      ]
     },
     "execution_count": 52,
     "metadata": {},
     "output_type": "execute_result"
    }
   ],
   "source": [
    "y_scores"
   ]
  },
  {
   "cell_type": "code",
   "execution_count": 53,
   "metadata": {},
   "outputs": [
    {
     "data": {
      "text/plain": [
       "<matplotlib.axes._subplots.AxesSubplot at 0x7f2f244a6810>"
      ]
     },
     "execution_count": 53,
     "metadata": {},
     "output_type": "execute_result"
    },
    {
     "data": {
      "image/png": "[encoded data removed]",
      "text/plain": [
       "<matplotlib.figure.Figure at 0x7f2f23e72950>"
      ]
     },
     "metadata": {},
     "output_type": "display_data"
    }
   ],
   "source": [
    "sns.distplot(y_scores, kde=False, rug=False)"
   ]
  },
  {
   "cell_type": "code",
   "execution_count": 54,
   "metadata": {},
   "outputs": [],
   "source": [
    "df_test['y_score'] = y_scores"
   ]
  },
  {
   "cell_type": "code",
   "execution_count": 55,
   "metadata": {},
   "outputs": [
    {
     "data": {
      "text/html": [
       "<div>\n",
       "<table border=\"1\" class=\"dataframe\">\n",
       "  <thead>\n",
       "    <tr style=\"text-align: right;\">\n",
       "      <th></th>\n",
       "      <th>y_score</th>\n",
       "    </tr>\n",
       "  </thead>\n",
       "  <tbody>\n",
       "    <tr>\n",
       "      <th>25923</th>\n",
       "      <td>0.179112</td>\n",
       "    </tr>\n",
       "    <tr>\n",
       "      <th>10946</th>\n",
       "      <td>0.514171</td>\n",
       "    </tr>\n",
       "    <tr>\n",
       "      <th>17427</th>\n",
       "      <td>0.262910</td>\n",
       "    </tr>\n",
       "    <tr>\n",
       "      <th>22759</th>\n",
       "      <td>0.173804</td>\n",
       "    </tr>\n",
       "    <tr>\n",
       "      <th>24044</th>\n",
       "      <td>0.178651</td>\n",
       "    </tr>\n",
       "  </tbody>\n",
       "</table>\n",
       "</div>"
      ],
      "text/plain": [
       "        y_score\n",
       "25923  0.179112\n",
       "10946  0.514171\n",
       "17427  0.262910\n",
       "22759  0.173804\n",
       "24044  0.178651"
      ]
     },
     "execution_count": 55,
     "metadata": {},
     "output_type": "execute_result"
    }
   ],
   "source": [
    "df_test[['y_score']].head()"
   ]
  },
  {
   "cell_type": "code",
   "execution_count": 56,
   "metadata": {},
   "outputs": [],
   "source": [
    "calc_threshold = lambda x,y: 0 if x < y else 1 \n",
    "predicted = np.array( [calc_threshold(score,0.58) for score in y_scores] )\n",
    "expected = y_test"
   ]
  },
  {
   "cell_type": "markdown",
   "metadata": {},
   "source": [
    "#### Confusion Matrix"
   ]
  },
  {
   "cell_type": "markdown",
   "metadata": {},
   "source": [
    "A confusion matrix is a quick way to access the quality of our model. It has the criteria as below:\n",
    "* true positives : this is the case where we predict gentrification and there is actual gentrification\n",
    "* true negatives : this is the case where we predict no gentrification and there is no gentrification\n",
    "* false positivies : this is the case where we predict gentrification but there is actually no gentrification\n",
    "* false negatives : this is the case where we predict no gentrification but there is actually gentrification\n",
    "\n",
    "From our graph below which is colored to represent the volume of predictions, we are doing fairly well in predicting the true negatives but doing not so well, in predictive the true positives. In fact, as we will see later, our Model I is terrible at predicting true positives with very low precision scores."
   ]
  },
  {
   "cell_type": "code",
   "execution_count": 57,
   "metadata": {},
   "outputs": [
    {
     "name": "stdout",
     "output_type": "stream",
     "text": [
      "[[16839   199]\n",
      " [ 5222   441]]\n"
     ]
    }
   ],
   "source": [
    "from sklearn.metrics import confusion_matrix\n",
    "conf_matrix = confusion_matrix(expected,predicted)\n",
    "print conf_matrix"
   ]
  },
  {
   "cell_type": "code",
   "execution_count": 58,
   "metadata": {},
   "outputs": [
    {
     "data": {
      "image/png": "[encoded data removed]",
      "text/plain": [
       "<matplotlib.figure.Figure at 0x7f2f244a6b50>"
      ]
     },
     "metadata": {},
     "output_type": "display_data"
    }
   ],
   "source": [
    "plt.matshow(conf_matrix)\n",
    "plt.title('Confusion Matrix')\n",
    "plt.colorbar()\n",
    "plt.ylabel('True Class')\n",
    "plt.xlabel('Predicted Class')\n",
    "plt.show()"
   ]
  },
  {
   "cell_type": "markdown",
   "metadata": {},
   "source": [
    "#### Null accuracy"
   ]
  },
  {
   "cell_type": "markdown",
   "metadata": {},
   "source": [
    "The null accuracy is a measurement of how our model is performing if we have only predicted the majority class. In our case, the majority case is 0 which we have code to be **75 percent** by the quantile that we have picked. Therefore, our model must outperform a model accuracy of **75 percent**. Otherwise, our model is barely outperforming the baseline."
   ]
  },
  {
   "cell_type": "markdown",
   "metadata": {},
   "source": [
    "#### Model Evaluation Assessment"
   ]
  },
  {
   "cell_type": "markdown",
   "metadata": {},
   "source": [
    "As can be seen below, our model is currently **barely** outperforming the null model with **75.5 percent** accuracy. The results are further reflected in our calculation of precision and recall further down. With recall/sensitivity score at **3.9 percent** we are doing fairly **terrible** for detecting **gentrification**. However, our **precision** rate stand at **74 percent**. At a first glance, it may look promising but as we plot the precision-recall trade-off graph later on the AUC stands at approximately 0.4 percent. Our first model is **bad** at predicting gentrification."
   ]
  },
  {
   "cell_type": "code",
   "execution_count": 59,
   "metadata": {},
   "outputs": [
    {
     "name": "stdout",
     "output_type": "stream",
     "text": [
      "Accuracy = 0.761199947139\n"
     ]
    }
   ],
   "source": [
    "#generating accuracy\n",
    "# generate an accuracy score by comparing expected to predicted.\n",
    "from sklearn.metrics import accuracy_score\n",
    "accuracy = accuracy_score(expected, predicted)\n",
    "print( \"Accuracy = \" + str( accuracy ) )"
   ]
  },
  {
   "cell_type": "code",
   "execution_count": 60,
   "metadata": {},
   "outputs": [
    {
     "name": "stdout",
     "output_type": "stream",
     "text": [
      "Precision = 0.6890625\n",
      "Recall= 0.0778739184178\n"
     ]
    }
   ],
   "source": [
    "from sklearn.metrics import precision_score, recall_score\n",
    "precision = precision_score(expected, predicted)\n",
    "recall = recall_score(expected, predicted)\n",
    "print( \"Precision = \" + str( precision ) )\n",
    "print( \"Recall= \" + str(recall))"
   ]
  },
  {
   "cell_type": "markdown",
   "metadata": {},
   "source": [
    "#### Plot Precision and Recall"
   ]
  },
  {
   "cell_type": "code",
   "execution_count": 61,
   "metadata": {},
   "outputs": [],
   "source": [
    "def plot_precision_recall(y_true,y_score):\n",
    "    \"\"\"\n",
    "    Plot a precision recall curve\n",
    "    \n",
    "    Parameters\n",
    "    ----------\n",
    "    y_true: ls\n",
    "        ground truth labels\n",
    "    y_score: ls\n",
    "        score output from model\n",
    "    \"\"\"\n",
    "    precision_curve, recall_curve, pr_thresholds = precision_recall_curve(y_true,y_score)\n",
    "    plt.plot(recall_curve, precision_curve)\n",
    "    plt.xlabel('Recall')\n",
    "    plt.ylabel('Precision')\n",
    "    plt.title('Model I')\n",
    "    auc_val = auc(recall_curve,precision_curve)\n",
    "    print('AUC-PR: {0:1f}'.format(auc_val))\n",
    "    plt.show()\n",
    "    plt.clf()"
   ]
  },
  {
   "cell_type": "code",
   "execution_count": 62,
   "metadata": {},
   "outputs": [
    {
     "name": "stdout",
     "output_type": "stream",
     "text": [
      "AUC-PR: 0.437774\n"
     ]
    },
    {
     "data": {
      "image/png": "[encoded data removed]",
      "text/plain": [
       "<matplotlib.figure.Figure at 0x7f2f22e62750>"
      ]
     },
     "metadata": {},
     "output_type": "display_data"
    },
    {
     "data": {
      "text/plain": [
       "<matplotlib.figure.Figure at 0x7f2f22e56e10>"
      ]
     },
     "metadata": {},
     "output_type": "display_data"
    }
   ],
   "source": [
    "plot_precision_recall(expected, y_scores)"
   ]
  },
  {
   "cell_type": "markdown",
   "metadata": {},
   "source": [
    "## Model II\n",
    "Gentrification = borough_fixed_effects + racial_composition_2000 + workers of three different income levels + four different educational attainment + pct_ch_hinc00-10 + pct_ch_hedu00-10"
   ]
  },
  {
   "cell_type": "markdown",
   "metadata": {},
   "source": [
    "In Model II, we will be adding two additional features in terms of workers' income levels and educational attainment by Census Block Group. The dataset is from OnTheMap (U.S.Census Bureau, Center for Economic Studies). https://onthemap.ces.census.gov/. The data cleaning process for this dataset is at **04_Workers_Residence_Data_Clean**\n"
   ]
  },
  {
   "cell_type": "markdown",
   "metadata": {},
   "source": [
    "#### Variables of Interest in Workers Data\n",
    "\n",
    "\n",
    "1. CE01 : Number of jobs with earnings 1250USD/month or less\n",
    "2. CE02 : Number of jobs with earnings 1251USD/month to 3333USD/month\n",
    "3. CE03 : Number of jobs with earnings greater than 3333USD/month\n",
    "4. CD01 : Number of jobs for workers with Educational Attainment: Less than high school\n",
    "5. CD02 : Number of jobs for workers with Educational Attainment: High School or Equivalent\n",
    "6. CD03 : Number of jobs for workers with Educational Attainment: Some college or Associate Degree\n",
    "7. CD04 : Number of jobs for workers with Educational Attainment: Bachelor's degree or Advanced Degree"
   ]
  },
  {
   "cell_type": "code",
   "execution_count": 217,
   "metadata": {},
   "outputs": [
    {
     "data": {
      "text/plain": [
       "(29192, 17)"
      ]
     },
     "execution_count": 217,
     "metadata": {},
     "output_type": "execute_result"
    }
   ],
   "source": [
    "workers_02_10 = pd.read_csv(\"Data/workers_02_10_Clean.csv\", usecols=range(1,18), dtype= {'BLOCKID': str})\n",
    "\n",
    "workers_02_10.shape"
   ]
  },
  {
   "cell_type": "code",
   "execution_count": 94,
   "metadata": {},
   "outputs": [
    {
     "data": {
      "text/html": [
       "<div>\n",
       "<table border=\"1\" class=\"dataframe\">\n",
       "  <thead>\n",
       "    <tr style=\"text-align: right;\">\n",
       "      <th></th>\n",
       "      <th>BLOCKID</th>\n",
       "      <th>Inc01_2002</th>\n",
       "      <th>Inc02_2002</th>\n",
       "      <th>Inc03_2002</th>\n",
       "      <th>Ed01_2002</th>\n",
       "      <th>Ed02_2002</th>\n",
       "      <th>Ed03_2002</th>\n",
       "      <th>Ed04_2002</th>\n",
       "      <th>Inc01_2010</th>\n",
       "      <th>Inc02_2010</th>\n",
       "      <th>Inc03_2010</th>\n",
       "      <th>Ed01_2010</th>\n",
       "      <th>Ed02_2010</th>\n",
       "      <th>Ed03_2010</th>\n",
       "      <th>Ed04_2010</th>\n",
       "      <th>pct_ch_hInc</th>\n",
       "      <th>pct_ch_hEduc</th>\n",
       "    </tr>\n",
       "  </thead>\n",
       "  <tbody>\n",
       "    <tr>\n",
       "      <th>0</th>\n",
       "      <td>360050001001000</td>\n",
       "      <td>32</td>\n",
       "      <td>30</td>\n",
       "      <td>15</td>\n",
       "      <td>0</td>\n",
       "      <td>0</td>\n",
       "      <td>0</td>\n",
       "      <td>0</td>\n",
       "      <td>35</td>\n",
       "      <td>48</td>\n",
       "      <td>32</td>\n",
       "      <td>13</td>\n",
       "      <td>21</td>\n",
       "      <td>27</td>\n",
       "      <td>19</td>\n",
       "      <td>1.125828</td>\n",
       "      <td>190.0</td>\n",
       "    </tr>\n",
       "    <tr>\n",
       "      <th>1</th>\n",
       "      <td>360050001001013</td>\n",
       "      <td>31</td>\n",
       "      <td>20</td>\n",
       "      <td>6</td>\n",
       "      <td>0</td>\n",
       "      <td>0</td>\n",
       "      <td>0</td>\n",
       "      <td>0</td>\n",
       "      <td>14</td>\n",
       "      <td>22</td>\n",
       "      <td>23</td>\n",
       "      <td>9</td>\n",
       "      <td>10</td>\n",
       "      <td>15</td>\n",
       "      <td>8</td>\n",
       "      <td>2.786885</td>\n",
       "      <td>80.0</td>\n",
       "    </tr>\n",
       "    <tr>\n",
       "      <th>2</th>\n",
       "      <td>360050002001000</td>\n",
       "      <td>15</td>\n",
       "      <td>48</td>\n",
       "      <td>15</td>\n",
       "      <td>0</td>\n",
       "      <td>0</td>\n",
       "      <td>0</td>\n",
       "      <td>0</td>\n",
       "      <td>24</td>\n",
       "      <td>55</td>\n",
       "      <td>63</td>\n",
       "      <td>24</td>\n",
       "      <td>36</td>\n",
       "      <td>26</td>\n",
       "      <td>26</td>\n",
       "      <td>3.178808</td>\n",
       "      <td>260.0</td>\n",
       "    </tr>\n",
       "    <tr>\n",
       "      <th>3</th>\n",
       "      <td>360050002001001</td>\n",
       "      <td>19</td>\n",
       "      <td>31</td>\n",
       "      <td>19</td>\n",
       "      <td>0</td>\n",
       "      <td>0</td>\n",
       "      <td>0</td>\n",
       "      <td>0</td>\n",
       "      <td>11</td>\n",
       "      <td>28</td>\n",
       "      <td>32</td>\n",
       "      <td>9</td>\n",
       "      <td>11</td>\n",
       "      <td>21</td>\n",
       "      <td>12</td>\n",
       "      <td>0.680628</td>\n",
       "      <td>120.0</td>\n",
       "    </tr>\n",
       "    <tr>\n",
       "      <th>4</th>\n",
       "      <td>360050002001002</td>\n",
       "      <td>26</td>\n",
       "      <td>43</td>\n",
       "      <td>16</td>\n",
       "      <td>0</td>\n",
       "      <td>0</td>\n",
       "      <td>0</td>\n",
       "      <td>0</td>\n",
       "      <td>14</td>\n",
       "      <td>50</td>\n",
       "      <td>40</td>\n",
       "      <td>20</td>\n",
       "      <td>22</td>\n",
       "      <td>20</td>\n",
       "      <td>19</td>\n",
       "      <td>1.490683</td>\n",
       "      <td>190.0</td>\n",
       "    </tr>\n",
       "  </tbody>\n",
       "</table>\n",
       "</div>"
      ],
      "text/plain": [
       "           BLOCKID  Inc01_2002  Inc02_2002  Inc03_2002  Ed01_2002  Ed02_2002  \\\n",
       "0  360050001001000          32          30          15          0          0   \n",
       "1  360050001001013          31          20           6          0          0   \n",
       "2  360050002001000          15          48          15          0          0   \n",
       "3  360050002001001          19          31          19          0          0   \n",
       "4  360050002001002          26          43          16          0          0   \n",
       "\n",
       "   Ed03_2002  Ed04_2002  Inc01_2010  Inc02_2010  Inc03_2010  Ed01_2010  \\\n",
       "0          0          0          35          48          32         13   \n",
       "1          0          0          14          22          23          9   \n",
       "2          0          0          24          55          63         24   \n",
       "3          0          0          11          28          32          9   \n",
       "4          0          0          14          50          40         20   \n",
       "\n",
       "   Ed02_2010  Ed03_2010  Ed04_2010  pct_ch_hInc  pct_ch_hEduc  \n",
       "0         21         27         19     1.125828         190.0  \n",
       "1         10         15          8     2.786885          80.0  \n",
       "2         36         26         26     3.178808         260.0  \n",
       "3         11         21         12     0.680628         120.0  \n",
       "4         22         20         19     1.490683         190.0  "
      ]
     },
     "execution_count": 94,
     "metadata": {},
     "output_type": "execute_result"
    }
   ],
   "source": [
    "workers_02_10.head()"
   ]
  },
  {
   "cell_type": "code",
   "execution_count": 226,
   "metadata": {},
   "outputs": [
    {
     "data": {
      "text/html": [
       "<div>\n",
       "<table border=\"1\" class=\"dataframe\">\n",
       "  <thead>\n",
       "    <tr style=\"text-align: right;\">\n",
       "      <th></th>\n",
       "      <th>BLOCKID</th>\n",
       "      <th>pct_ch_white</th>\n",
       "      <th>a_weight</th>\n",
       "      <th>bid_id</th>\n",
       "      <th>BID_dummy</th>\n",
       "      <th>BoroName_Bronx</th>\n",
       "      <th>BoroName_Brooklyn</th>\n",
       "      <th>BoroName_Manhattan</th>\n",
       "      <th>BoroName_Queens</th>\n",
       "      <th>shWhite00</th>\n",
       "      <th>shBlack00</th>\n",
       "      <th>shBlack00</th>\n",
       "      <th>shAsian00</th>\n",
       "      <th>changesdummy</th>\n",
       "    </tr>\n",
       "  </thead>\n",
       "  <tbody>\n",
       "    <tr>\n",
       "      <th>0</th>\n",
       "      <td>360050300004003</td>\n",
       "      <td>-17.525986</td>\n",
       "      <td>1.0</td>\n",
       "      <td>NaN</td>\n",
       "      <td>0</td>\n",
       "      <td>1.0</td>\n",
       "      <td>0.0</td>\n",
       "      <td>0.0</td>\n",
       "      <td>0.0</td>\n",
       "      <td>58.088235</td>\n",
       "      <td>1.102941</td>\n",
       "      <td>1.102941</td>\n",
       "      <td>2.941176</td>\n",
       "      <td>0</td>\n",
       "    </tr>\n",
       "    <tr>\n",
       "      <th>1</th>\n",
       "      <td>360050409001001</td>\n",
       "      <td>-1.340483</td>\n",
       "      <td>1.0</td>\n",
       "      <td>NaN</td>\n",
       "      <td>0</td>\n",
       "      <td>1.0</td>\n",
       "      <td>0.0</td>\n",
       "      <td>0.0</td>\n",
       "      <td>0.0</td>\n",
       "      <td>1.340483</td>\n",
       "      <td>86.058981</td>\n",
       "      <td>86.058981</td>\n",
       "      <td>0.983021</td>\n",
       "      <td>0</td>\n",
       "    </tr>\n",
       "    <tr>\n",
       "      <th>2</th>\n",
       "      <td>360050409002000</td>\n",
       "      <td>-12.498729</td>\n",
       "      <td>1.0</td>\n",
       "      <td>NaN</td>\n",
       "      <td>0</td>\n",
       "      <td>1.0</td>\n",
       "      <td>0.0</td>\n",
       "      <td>0.0</td>\n",
       "      <td>0.0</td>\n",
       "      <td>26.988335</td>\n",
       "      <td>59.172853</td>\n",
       "      <td>59.172853</td>\n",
       "      <td>1.855779</td>\n",
       "      <td>0</td>\n",
       "    </tr>\n",
       "    <tr>\n",
       "      <th>3</th>\n",
       "      <td>360050419001004</td>\n",
       "      <td>-5.535527</td>\n",
       "      <td>1.0</td>\n",
       "      <td>NaN</td>\n",
       "      <td>0</td>\n",
       "      <td>1.0</td>\n",
       "      <td>0.0</td>\n",
       "      <td>0.0</td>\n",
       "      <td>0.0</td>\n",
       "      <td>19.313305</td>\n",
       "      <td>6.437768</td>\n",
       "      <td>6.437768</td>\n",
       "      <td>11.587983</td>\n",
       "      <td>0</td>\n",
       "    </tr>\n",
       "    <tr>\n",
       "      <th>4</th>\n",
       "      <td>360050449011006</td>\n",
       "      <td>-3.571429</td>\n",
       "      <td>1.0</td>\n",
       "      <td>NaN</td>\n",
       "      <td>0</td>\n",
       "      <td>1.0</td>\n",
       "      <td>0.0</td>\n",
       "      <td>0.0</td>\n",
       "      <td>0.0</td>\n",
       "      <td>71.428571</td>\n",
       "      <td>0.000000</td>\n",
       "      <td>0.000000</td>\n",
       "      <td>0.000000</td>\n",
       "      <td>0</td>\n",
       "    </tr>\n",
       "  </tbody>\n",
       "</table>\n",
       "</div>"
      ],
      "text/plain": [
       "           BLOCKID  pct_ch_white  a_weight  bid_id  BID_dummy  BoroName_Bronx  \\\n",
       "0  360050300004003    -17.525986       1.0     NaN          0             1.0   \n",
       "1  360050409001001     -1.340483       1.0     NaN          0             1.0   \n",
       "2  360050409002000    -12.498729       1.0     NaN          0             1.0   \n",
       "3  360050419001004     -5.535527       1.0     NaN          0             1.0   \n",
       "4  360050449011006     -3.571429       1.0     NaN          0             1.0   \n",
       "\n",
       "   BoroName_Brooklyn  BoroName_Manhattan  BoroName_Queens  shWhite00  \\\n",
       "0                0.0                 0.0              0.0  58.088235   \n",
       "1                0.0                 0.0              0.0   1.340483   \n",
       "2                0.0                 0.0              0.0  26.988335   \n",
       "3                0.0                 0.0              0.0  19.313305   \n",
       "4                0.0                 0.0              0.0  71.428571   \n",
       "\n",
       "   shBlack00  shBlack00  shAsian00  changesdummy  \n",
       "0   1.102941   1.102941   2.941176             0  \n",
       "1  86.058981  86.058981   0.983021             0  \n",
       "2  59.172853  59.172853   1.855779             0  \n",
       "3   6.437768   6.437768  11.587983             0  \n",
       "4   0.000000   0.000000   0.000000             0  "
      ]
     },
     "execution_count": 226,
     "metadata": {},
     "output_type": "execute_result"
    }
   ],
   "source": [
    "#The working race composition data from before\n",
    "block_dummies_w.head()"
   ]
  },
  {
   "cell_type": "code",
   "execution_count": 227,
   "metadata": {},
   "outputs": [
    {
     "data": {
      "text/plain": [
       "(29196, 30)"
      ]
     },
     "execution_count": 227,
     "metadata": {},
     "output_type": "execute_result"
    }
   ],
   "source": [
    "#Joining the two datasets to create another dataset for model running\n",
    "workers_02_10_block_working = workers_02_10.merge(block_dummies_w, left_on = 'BLOCKID', right_on = 'BLOCKID', how = \"inner\")\n",
    "workers_02_10_block_working.shape"
   ]
  },
  {
   "cell_type": "markdown",
   "metadata": {},
   "source": [
    "### Training and Testing data splits"
   ]
  },
  {
   "cell_type": "code",
   "execution_count": 97,
   "metadata": {},
   "outputs": [],
   "source": [
    "#Later on we will be using K-folds but this is a start\n",
    "# Changed to 80% training\n",
    "df_train, df_test = train_test_split(workers_02_10_block_working, test_size=0.8)"
   ]
  },
  {
   "cell_type": "code",
   "execution_count": 98,
   "metadata": {},
   "outputs": [
    {
     "data": {
      "text/html": [
       "<div>\n",
       "<table border=\"1\" class=\"dataframe\">\n",
       "  <thead>\n",
       "    <tr style=\"text-align: right;\">\n",
       "      <th></th>\n",
       "      <th>Inc01_2002</th>\n",
       "      <th>Inc02_2002</th>\n",
       "      <th>Inc03_2002</th>\n",
       "      <th>Ed01_2002</th>\n",
       "      <th>Ed02_2002</th>\n",
       "      <th>Ed03_2002</th>\n",
       "      <th>Ed04_2002</th>\n",
       "      <th>Inc01_2010</th>\n",
       "      <th>Inc02_2010</th>\n",
       "      <th>Inc03_2010</th>\n",
       "      <th>...</th>\n",
       "      <th>BID_dummy</th>\n",
       "      <th>BoroName_Bronx</th>\n",
       "      <th>BoroName_Brooklyn</th>\n",
       "      <th>BoroName_Manhattan</th>\n",
       "      <th>BoroName_Queens</th>\n",
       "      <th>shWhite00</th>\n",
       "      <th>shBlack00</th>\n",
       "      <th>shBlack00</th>\n",
       "      <th>shAsian00</th>\n",
       "      <th>changesdummy</th>\n",
       "    </tr>\n",
       "  </thead>\n",
       "  <tbody>\n",
       "    <tr>\n",
       "      <th>count</th>\n",
       "      <td>5675.000000</td>\n",
       "      <td>5675.000000</td>\n",
       "      <td>5675.000000</td>\n",
       "      <td>5675.0</td>\n",
       "      <td>5675.0</td>\n",
       "      <td>5675.0</td>\n",
       "      <td>5675.0</td>\n",
       "      <td>5675.000000</td>\n",
       "      <td>5675.000000</td>\n",
       "      <td>5675.000000</td>\n",
       "      <td>...</td>\n",
       "      <td>5675.000000</td>\n",
       "      <td>5675.000000</td>\n",
       "      <td>5675.000000</td>\n",
       "      <td>5675.000000</td>\n",
       "      <td>5675.000000</td>\n",
       "      <td>5675.000000</td>\n",
       "      <td>5675.000000</td>\n",
       "      <td>5675.000000</td>\n",
       "      <td>5675.000000</td>\n",
       "      <td>5675.000000</td>\n",
       "    </tr>\n",
       "    <tr>\n",
       "      <th>mean</th>\n",
       "      <td>28.649868</td>\n",
       "      <td>39.755595</td>\n",
       "      <td>30.830308</td>\n",
       "      <td>0.0</td>\n",
       "      <td>0.0</td>\n",
       "      <td>0.0</td>\n",
       "      <td>0.0</td>\n",
       "      <td>18.925286</td>\n",
       "      <td>33.692863</td>\n",
       "      <td>49.948722</td>\n",
       "      <td>...</td>\n",
       "      <td>0.023965</td>\n",
       "      <td>0.130749</td>\n",
       "      <td>0.258678</td>\n",
       "      <td>0.090749</td>\n",
       "      <td>0.383612</td>\n",
       "      <td>43.453449</td>\n",
       "      <td>22.668783</td>\n",
       "      <td>22.668783</td>\n",
       "      <td>9.817980</td>\n",
       "      <td>0.249692</td>\n",
       "    </tr>\n",
       "    <tr>\n",
       "      <th>std</th>\n",
       "      <td>33.604260</td>\n",
       "      <td>45.345449</td>\n",
       "      <td>49.862072</td>\n",
       "      <td>0.0</td>\n",
       "      <td>0.0</td>\n",
       "      <td>0.0</td>\n",
       "      <td>0.0</td>\n",
       "      <td>21.878580</td>\n",
       "      <td>38.564431</td>\n",
       "      <td>68.170808</td>\n",
       "      <td>...</td>\n",
       "      <td>0.152953</td>\n",
       "      <td>0.337155</td>\n",
       "      <td>0.437947</td>\n",
       "      <td>0.287277</td>\n",
       "      <td>0.486308</td>\n",
       "      <td>36.148083</td>\n",
       "      <td>32.245172</td>\n",
       "      <td>32.245172</td>\n",
       "      <td>14.823257</td>\n",
       "      <td>0.432873</td>\n",
       "    </tr>\n",
       "    <tr>\n",
       "      <th>min</th>\n",
       "      <td>0.000000</td>\n",
       "      <td>0.000000</td>\n",
       "      <td>0.000000</td>\n",
       "      <td>0.0</td>\n",
       "      <td>0.0</td>\n",
       "      <td>0.0</td>\n",
       "      <td>0.0</td>\n",
       "      <td>0.000000</td>\n",
       "      <td>0.000000</td>\n",
       "      <td>0.000000</td>\n",
       "      <td>...</td>\n",
       "      <td>0.000000</td>\n",
       "      <td>0.000000</td>\n",
       "      <td>0.000000</td>\n",
       "      <td>0.000000</td>\n",
       "      <td>0.000000</td>\n",
       "      <td>0.000000</td>\n",
       "      <td>0.000000</td>\n",
       "      <td>0.000000</td>\n",
       "      <td>0.000000</td>\n",
       "      <td>0.000000</td>\n",
       "    </tr>\n",
       "    <tr>\n",
       "      <th>25%</th>\n",
       "      <td>8.000000</td>\n",
       "      <td>12.000000</td>\n",
       "      <td>9.000000</td>\n",
       "      <td>0.0</td>\n",
       "      <td>0.0</td>\n",
       "      <td>0.0</td>\n",
       "      <td>0.0</td>\n",
       "      <td>5.000000</td>\n",
       "      <td>10.000000</td>\n",
       "      <td>16.000000</td>\n",
       "      <td>...</td>\n",
       "      <td>0.000000</td>\n",
       "      <td>0.000000</td>\n",
       "      <td>0.000000</td>\n",
       "      <td>0.000000</td>\n",
       "      <td>0.000000</td>\n",
       "      <td>4.414718</td>\n",
       "      <td>0.000000</td>\n",
       "      <td>0.000000</td>\n",
       "      <td>0.000000</td>\n",
       "      <td>0.000000</td>\n",
       "    </tr>\n",
       "    <tr>\n",
       "      <th>50%</th>\n",
       "      <td>17.000000</td>\n",
       "      <td>25.000000</td>\n",
       "      <td>17.000000</td>\n",
       "      <td>0.0</td>\n",
       "      <td>0.0</td>\n",
       "      <td>0.0</td>\n",
       "      <td>0.0</td>\n",
       "      <td>12.000000</td>\n",
       "      <td>21.000000</td>\n",
       "      <td>30.000000</td>\n",
       "      <td>...</td>\n",
       "      <td>0.000000</td>\n",
       "      <td>0.000000</td>\n",
       "      <td>0.000000</td>\n",
       "      <td>0.000000</td>\n",
       "      <td>0.000000</td>\n",
       "      <td>42.307692</td>\n",
       "      <td>3.414634</td>\n",
       "      <td>3.414634</td>\n",
       "      <td>3.468208</td>\n",
       "      <td>0.000000</td>\n",
       "    </tr>\n",
       "    <tr>\n",
       "      <th>75%</th>\n",
       "      <td>36.000000</td>\n",
       "      <td>52.000000</td>\n",
       "      <td>32.000000</td>\n",
       "      <td>0.0</td>\n",
       "      <td>0.0</td>\n",
       "      <td>0.0</td>\n",
       "      <td>0.0</td>\n",
       "      <td>25.000000</td>\n",
       "      <td>45.000000</td>\n",
       "      <td>57.500000</td>\n",
       "      <td>...</td>\n",
       "      <td>0.000000</td>\n",
       "      <td>0.000000</td>\n",
       "      <td>1.000000</td>\n",
       "      <td>0.000000</td>\n",
       "      <td>1.000000</td>\n",
       "      <td>79.091845</td>\n",
       "      <td>38.229715</td>\n",
       "      <td>38.229715</td>\n",
       "      <td>13.290919</td>\n",
       "      <td>0.000000</td>\n",
       "    </tr>\n",
       "    <tr>\n",
       "      <th>max</th>\n",
       "      <td>410.000000</td>\n",
       "      <td>735.000000</td>\n",
       "      <td>852.000000</td>\n",
       "      <td>0.0</td>\n",
       "      <td>0.0</td>\n",
       "      <td>0.0</td>\n",
       "      <td>0.0</td>\n",
       "      <td>287.000000</td>\n",
       "      <td>569.000000</td>\n",
       "      <td>1069.000000</td>\n",
       "      <td>...</td>\n",
       "      <td>1.000000</td>\n",
       "      <td>1.000000</td>\n",
       "      <td>1.000000</td>\n",
       "      <td>1.000000</td>\n",
       "      <td>1.000000</td>\n",
       "      <td>102.951272</td>\n",
       "      <td>100.000000</td>\n",
       "      <td>100.000000</td>\n",
       "      <td>100.000000</td>\n",
       "      <td>1.000000</td>\n",
       "    </tr>\n",
       "  </tbody>\n",
       "</table>\n",
       "<p>8 rows × 29 columns</p>\n",
       "</div>"
      ],
      "text/plain": [
       "        Inc01_2002   Inc02_2002   Inc03_2002  Ed01_2002  Ed02_2002  Ed03_2002  \\\n",
       "count  5675.000000  5675.000000  5675.000000     5675.0     5675.0     5675.0   \n",
       "mean     28.649868    39.755595    30.830308        0.0        0.0        0.0   \n",
       "std      33.604260    45.345449    49.862072        0.0        0.0        0.0   \n",
       "min       0.000000     0.000000     0.000000        0.0        0.0        0.0   \n",
       "25%       8.000000    12.000000     9.000000        0.0        0.0        0.0   \n",
       "50%      17.000000    25.000000    17.000000        0.0        0.0        0.0   \n",
       "75%      36.000000    52.000000    32.000000        0.0        0.0        0.0   \n",
       "max     410.000000   735.000000   852.000000        0.0        0.0        0.0   \n",
       "\n",
       "       Ed04_2002   Inc01_2010   Inc02_2010   Inc03_2010      ...       \\\n",
       "count     5675.0  5675.000000  5675.000000  5675.000000      ...        \n",
       "mean         0.0    18.925286    33.692863    49.948722      ...        \n",
       "std          0.0    21.878580    38.564431    68.170808      ...        \n",
       "min          0.0     0.000000     0.000000     0.000000      ...        \n",
       "25%          0.0     5.000000    10.000000    16.000000      ...        \n",
       "50%          0.0    12.000000    21.000000    30.000000      ...        \n",
       "75%          0.0    25.000000    45.000000    57.500000      ...        \n",
       "max          0.0   287.000000   569.000000  1069.000000      ...        \n",
       "\n",
       "         BID_dummy  BoroName_Bronx  BoroName_Brooklyn  BoroName_Manhattan  \\\n",
       "count  5675.000000     5675.000000        5675.000000         5675.000000   \n",
       "mean      0.023965        0.130749           0.258678            0.090749   \n",
       "std       0.152953        0.337155           0.437947            0.287277   \n",
       "min       0.000000        0.000000           0.000000            0.000000   \n",
       "25%       0.000000        0.000000           0.000000            0.000000   \n",
       "50%       0.000000        0.000000           0.000000            0.000000   \n",
       "75%       0.000000        0.000000           1.000000            0.000000   \n",
       "max       1.000000        1.000000           1.000000            1.000000   \n",
       "\n",
       "       BoroName_Queens    shWhite00    shBlack00    shBlack00    shAsian00  \\\n",
       "count      5675.000000  5675.000000  5675.000000  5675.000000  5675.000000   \n",
       "mean          0.383612    43.453449    22.668783    22.668783     9.817980   \n",
       "std           0.486308    36.148083    32.245172    32.245172    14.823257   \n",
       "min           0.000000     0.000000     0.000000     0.000000     0.000000   \n",
       "25%           0.000000     4.414718     0.000000     0.000000     0.000000   \n",
       "50%           0.000000    42.307692     3.414634     3.414634     3.468208   \n",
       "75%           1.000000    79.091845    38.229715    38.229715    13.290919   \n",
       "max           1.000000   102.951272   100.000000   100.000000   100.000000   \n",
       "\n",
       "       changesdummy  \n",
       "count   5675.000000  \n",
       "mean       0.249692  \n",
       "std        0.432873  \n",
       "min        0.000000  \n",
       "25%        0.000000  \n",
       "50%        0.000000  \n",
       "75%        0.000000  \n",
       "max        1.000000  \n",
       "\n",
       "[8 rows x 29 columns]"
      ]
     },
     "execution_count": 98,
     "metadata": {},
     "output_type": "execute_result"
    }
   ],
   "source": [
    "df_train.describe()"
   ]
  },
  {
   "cell_type": "code",
   "execution_count": 99,
   "metadata": {},
   "outputs": [
    {
     "data": {
      "text/html": [
       "<div>\n",
       "<table border=\"1\" class=\"dataframe\">\n",
       "  <thead>\n",
       "    <tr style=\"text-align: right;\">\n",
       "      <th></th>\n",
       "      <th>Inc01_2002</th>\n",
       "      <th>Inc02_2002</th>\n",
       "      <th>Inc03_2002</th>\n",
       "      <th>Ed01_2002</th>\n",
       "      <th>Ed02_2002</th>\n",
       "      <th>Ed03_2002</th>\n",
       "      <th>Ed04_2002</th>\n",
       "      <th>Inc01_2010</th>\n",
       "      <th>Inc02_2010</th>\n",
       "      <th>Inc03_2010</th>\n",
       "      <th>...</th>\n",
       "      <th>BID_dummy</th>\n",
       "      <th>BoroName_Bronx</th>\n",
       "      <th>BoroName_Brooklyn</th>\n",
       "      <th>BoroName_Manhattan</th>\n",
       "      <th>BoroName_Queens</th>\n",
       "      <th>shWhite00</th>\n",
       "      <th>shBlack00</th>\n",
       "      <th>shBlack00</th>\n",
       "      <th>shAsian00</th>\n",
       "      <th>changesdummy</th>\n",
       "    </tr>\n",
       "  </thead>\n",
       "  <tbody>\n",
       "    <tr>\n",
       "      <th>count</th>\n",
       "      <td>22700.000000</td>\n",
       "      <td>22700.000000</td>\n",
       "      <td>22700.000000</td>\n",
       "      <td>22700.0</td>\n",
       "      <td>22700.0</td>\n",
       "      <td>22700.0</td>\n",
       "      <td>22700.0</td>\n",
       "      <td>22700.000000</td>\n",
       "      <td>22700.000000</td>\n",
       "      <td>22700.000000</td>\n",
       "      <td>...</td>\n",
       "      <td>22700.000000</td>\n",
       "      <td>22700.000000</td>\n",
       "      <td>22700.000000</td>\n",
       "      <td>22700.000000</td>\n",
       "      <td>22700.000000</td>\n",
       "      <td>22700.000000</td>\n",
       "      <td>22700.000000</td>\n",
       "      <td>22700.000000</td>\n",
       "      <td>22700.000000</td>\n",
       "      <td>22700.000000</td>\n",
       "    </tr>\n",
       "    <tr>\n",
       "      <th>mean</th>\n",
       "      <td>28.143040</td>\n",
       "      <td>39.247225</td>\n",
       "      <td>30.461278</td>\n",
       "      <td>0.0</td>\n",
       "      <td>0.0</td>\n",
       "      <td>0.0</td>\n",
       "      <td>0.0</td>\n",
       "      <td>18.681938</td>\n",
       "      <td>33.344097</td>\n",
       "      <td>49.339692</td>\n",
       "      <td>...</td>\n",
       "      <td>0.022599</td>\n",
       "      <td>0.123833</td>\n",
       "      <td>0.260749</td>\n",
       "      <td>0.086035</td>\n",
       "      <td>0.389692</td>\n",
       "      <td>43.083400</td>\n",
       "      <td>22.472812</td>\n",
       "      <td>22.472812</td>\n",
       "      <td>10.046295</td>\n",
       "      <td>0.250220</td>\n",
       "    </tr>\n",
       "    <tr>\n",
       "      <th>std</th>\n",
       "      <td>33.474762</td>\n",
       "      <td>45.181133</td>\n",
       "      <td>50.229925</td>\n",
       "      <td>0.0</td>\n",
       "      <td>0.0</td>\n",
       "      <td>0.0</td>\n",
       "      <td>0.0</td>\n",
       "      <td>21.472417</td>\n",
       "      <td>37.755936</td>\n",
       "      <td>67.848270</td>\n",
       "      <td>...</td>\n",
       "      <td>0.148625</td>\n",
       "      <td>0.329398</td>\n",
       "      <td>0.439053</td>\n",
       "      <td>0.280422</td>\n",
       "      <td>0.487691</td>\n",
       "      <td>35.976186</td>\n",
       "      <td>32.182392</td>\n",
       "      <td>32.182392</td>\n",
       "      <td>15.034142</td>\n",
       "      <td>0.433149</td>\n",
       "    </tr>\n",
       "    <tr>\n",
       "      <th>min</th>\n",
       "      <td>0.000000</td>\n",
       "      <td>0.000000</td>\n",
       "      <td>0.000000</td>\n",
       "      <td>0.0</td>\n",
       "      <td>0.0</td>\n",
       "      <td>0.0</td>\n",
       "      <td>0.0</td>\n",
       "      <td>0.000000</td>\n",
       "      <td>0.000000</td>\n",
       "      <td>0.000000</td>\n",
       "      <td>...</td>\n",
       "      <td>0.000000</td>\n",
       "      <td>0.000000</td>\n",
       "      <td>0.000000</td>\n",
       "      <td>0.000000</td>\n",
       "      <td>0.000000</td>\n",
       "      <td>0.000000</td>\n",
       "      <td>0.000000</td>\n",
       "      <td>0.000000</td>\n",
       "      <td>0.000000</td>\n",
       "      <td>0.000000</td>\n",
       "    </tr>\n",
       "    <tr>\n",
       "      <th>25%</th>\n",
       "      <td>8.000000</td>\n",
       "      <td>12.000000</td>\n",
       "      <td>9.000000</td>\n",
       "      <td>0.0</td>\n",
       "      <td>0.0</td>\n",
       "      <td>0.0</td>\n",
       "      <td>0.0</td>\n",
       "      <td>5.000000</td>\n",
       "      <td>10.000000</td>\n",
       "      <td>16.000000</td>\n",
       "      <td>...</td>\n",
       "      <td>0.000000</td>\n",
       "      <td>0.000000</td>\n",
       "      <td>0.000000</td>\n",
       "      <td>0.000000</td>\n",
       "      <td>0.000000</td>\n",
       "      <td>4.458528</td>\n",
       "      <td>0.000000</td>\n",
       "      <td>0.000000</td>\n",
       "      <td>0.000000</td>\n",
       "      <td>0.000000</td>\n",
       "    </tr>\n",
       "    <tr>\n",
       "      <th>50%</th>\n",
       "      <td>17.000000</td>\n",
       "      <td>25.000000</td>\n",
       "      <td>17.000000</td>\n",
       "      <td>0.0</td>\n",
       "      <td>0.0</td>\n",
       "      <td>0.0</td>\n",
       "      <td>0.0</td>\n",
       "      <td>12.000000</td>\n",
       "      <td>21.000000</td>\n",
       "      <td>29.500000</td>\n",
       "      <td>...</td>\n",
       "      <td>0.000000</td>\n",
       "      <td>0.000000</td>\n",
       "      <td>0.000000</td>\n",
       "      <td>0.000000</td>\n",
       "      <td>0.000000</td>\n",
       "      <td>40.740741</td>\n",
       "      <td>3.053435</td>\n",
       "      <td>3.053435</td>\n",
       "      <td>3.539823</td>\n",
       "      <td>0.000000</td>\n",
       "    </tr>\n",
       "    <tr>\n",
       "      <th>75%</th>\n",
       "      <td>35.000000</td>\n",
       "      <td>50.000000</td>\n",
       "      <td>31.000000</td>\n",
       "      <td>0.0</td>\n",
       "      <td>0.0</td>\n",
       "      <td>0.0</td>\n",
       "      <td>0.0</td>\n",
       "      <td>24.000000</td>\n",
       "      <td>44.000000</td>\n",
       "      <td>56.000000</td>\n",
       "      <td>...</td>\n",
       "      <td>0.000000</td>\n",
       "      <td>0.000000</td>\n",
       "      <td>1.000000</td>\n",
       "      <td>0.000000</td>\n",
       "      <td>1.000000</td>\n",
       "      <td>78.846154</td>\n",
       "      <td>37.591489</td>\n",
       "      <td>37.591489</td>\n",
       "      <td>13.517957</td>\n",
       "      <td>1.000000</td>\n",
       "    </tr>\n",
       "    <tr>\n",
       "      <th>max</th>\n",
       "      <td>609.000000</td>\n",
       "      <td>868.000000</td>\n",
       "      <td>1044.000000</td>\n",
       "      <td>0.0</td>\n",
       "      <td>0.0</td>\n",
       "      <td>0.0</td>\n",
       "      <td>0.0</td>\n",
       "      <td>310.000000</td>\n",
       "      <td>629.000000</td>\n",
       "      <td>2218.000000</td>\n",
       "      <td>...</td>\n",
       "      <td>1.000000</td>\n",
       "      <td>1.000000</td>\n",
       "      <td>1.000000</td>\n",
       "      <td>1.000000</td>\n",
       "      <td>1.000000</td>\n",
       "      <td>103.716511</td>\n",
       "      <td>101.801092</td>\n",
       "      <td>101.801092</td>\n",
       "      <td>100.000000</td>\n",
       "      <td>1.000000</td>\n",
       "    </tr>\n",
       "  </tbody>\n",
       "</table>\n",
       "<p>8 rows × 29 columns</p>\n",
       "</div>"
      ],
      "text/plain": [
       "         Inc01_2002    Inc02_2002    Inc03_2002  Ed01_2002  Ed02_2002  \\\n",
       "count  22700.000000  22700.000000  22700.000000    22700.0    22700.0   \n",
       "mean      28.143040     39.247225     30.461278        0.0        0.0   \n",
       "std       33.474762     45.181133     50.229925        0.0        0.0   \n",
       "min        0.000000      0.000000      0.000000        0.0        0.0   \n",
       "25%        8.000000     12.000000      9.000000        0.0        0.0   \n",
       "50%       17.000000     25.000000     17.000000        0.0        0.0   \n",
       "75%       35.000000     50.000000     31.000000        0.0        0.0   \n",
       "max      609.000000    868.000000   1044.000000        0.0        0.0   \n",
       "\n",
       "       Ed03_2002  Ed04_2002    Inc01_2010    Inc02_2010    Inc03_2010  \\\n",
       "count    22700.0    22700.0  22700.000000  22700.000000  22700.000000   \n",
       "mean         0.0        0.0     18.681938     33.344097     49.339692   \n",
       "std          0.0        0.0     21.472417     37.755936     67.848270   \n",
       "min          0.0        0.0      0.000000      0.000000      0.000000   \n",
       "25%          0.0        0.0      5.000000     10.000000     16.000000   \n",
       "50%          0.0        0.0     12.000000     21.000000     29.500000   \n",
       "75%          0.0        0.0     24.000000     44.000000     56.000000   \n",
       "max          0.0        0.0    310.000000    629.000000   2218.000000   \n",
       "\n",
       "           ...          BID_dummy  BoroName_Bronx  BoroName_Brooklyn  \\\n",
       "count      ...       22700.000000    22700.000000       22700.000000   \n",
       "mean       ...           0.022599        0.123833           0.260749   \n",
       "std        ...           0.148625        0.329398           0.439053   \n",
       "min        ...           0.000000        0.000000           0.000000   \n",
       "25%        ...           0.000000        0.000000           0.000000   \n",
       "50%        ...           0.000000        0.000000           0.000000   \n",
       "75%        ...           0.000000        0.000000           1.000000   \n",
       "max        ...           1.000000        1.000000           1.000000   \n",
       "\n",
       "       BoroName_Manhattan  BoroName_Queens     shWhite00     shBlack00  \\\n",
       "count        22700.000000     22700.000000  22700.000000  22700.000000   \n",
       "mean             0.086035         0.389692     43.083400     22.472812   \n",
       "std              0.280422         0.487691     35.976186     32.182392   \n",
       "min              0.000000         0.000000      0.000000      0.000000   \n",
       "25%              0.000000         0.000000      4.458528      0.000000   \n",
       "50%              0.000000         0.000000     40.740741      3.053435   \n",
       "75%              0.000000         1.000000     78.846154     37.591489   \n",
       "max              1.000000         1.000000    103.716511    101.801092   \n",
       "\n",
       "          shBlack00     shAsian00  changesdummy  \n",
       "count  22700.000000  22700.000000  22700.000000  \n",
       "mean      22.472812     10.046295      0.250220  \n",
       "std       32.182392     15.034142      0.433149  \n",
       "min        0.000000      0.000000      0.000000  \n",
       "25%        0.000000      0.000000      0.000000  \n",
       "50%        3.053435      3.539823      0.000000  \n",
       "75%       37.591489     13.517957      1.000000  \n",
       "max      101.801092    100.000000      1.000000  \n",
       "\n",
       "[8 rows x 29 columns]"
      ]
     },
     "execution_count": 99,
     "metadata": {},
     "output_type": "execute_result"
    }
   ],
   "source": [
    "df_test.describe()"
   ]
  },
  {
   "cell_type": "code",
   "execution_count": 100,
   "metadata": {},
   "outputs": [],
   "source": [
    "#This is reflecting the Model I equation\n",
    "sel_features = ['a_weight', 'BID_dummy', 'BoroName_Bronx', 'BoroName_Brooklyn', 'BoroName_Manhattan', 'BoroName_Queens','shWhite00', 'shBlack00', 'shAsian00', 'Inc01_2002', 'Inc02_2002', 'Inc03_2002','Ed01_2002', 'Ed02_2002','Ed03_2002','Ed04_2002','pct_ch_hInc', 'pct_ch_hEduc']\n",
    "sel_label = [ 'changesdummy']"
   ]
  },
  {
   "cell_type": "code",
   "execution_count": 101,
   "metadata": {},
   "outputs": [],
   "source": [
    "#We are assigning predictors and the outcome in training and testing datasets\n",
    "X_train = df_train[sel_features].values\n",
    "y_train = df_train[sel_label].values\n",
    "X_test = df_test[sel_features].values\n",
    "y_test = df_test[sel_label].values"
   ]
  },
  {
   "cell_type": "code",
   "execution_count": 102,
   "metadata": {},
   "outputs": [
    {
     "name": "stdout",
     "output_type": "stream",
     "text": [
      "LogisticRegression(C=100000.0, class_weight=None, dual=False,\n",
      "          fit_intercept=True, intercept_scaling=1, max_iter=100,\n",
      "          multi_class='ovr', n_jobs=1, penalty='l1', random_state=None,\n",
      "          solver='liblinear', tol=0.0001, verbose=0, warm_start=False)\n"
     ]
    }
   ],
   "source": [
    "#Inputting this into the traditional logistic regression model\n",
    "from sklearn import linear_model\n",
    "model = linear_model.LogisticRegression(penalty='l1', C=1e5)\n",
    "model.fit( X_train, y_train )\n",
    "print(model)"
   ]
  },
  {
   "cell_type": "code",
   "execution_count": 103,
   "metadata": {},
   "outputs": [],
   "source": [
    "y_scores = model.predict_proba(X_test)[:,1]"
   ]
  },
  {
   "cell_type": "code",
   "execution_count": 104,
   "metadata": {},
   "outputs": [
    {
     "data": {
      "text/plain": [
       "array([ 0.44848868,  0.17119847,  0.21916426, ...,  0.1949655 ,\n",
       "        0.27630015,  0.42220394])"
      ]
     },
     "execution_count": 104,
     "metadata": {},
     "output_type": "execute_result"
    }
   ],
   "source": [
    "y_scores"
   ]
  },
  {
   "cell_type": "code",
   "execution_count": 105,
   "metadata": {},
   "outputs": [
    {
     "data": {
      "text/plain": [
       "<matplotlib.axes._subplots.AxesSubplot at 0x7f2f220b76d0>"
      ]
     },
     "execution_count": 105,
     "metadata": {},
     "output_type": "execute_result"
    },
    {
     "data": {
      "image/png": "[encoded data removed]",
      "text/plain": [
       "<matplotlib.figure.Figure at 0x7f2f220b7ed0>"
      ]
     },
     "metadata": {},
     "output_type": "display_data"
    }
   ],
   "source": [
    "sns.distplot(y_scores, kde=False, rug=False)"
   ]
  },
  {
   "cell_type": "code",
   "execution_count": 106,
   "metadata": {},
   "outputs": [],
   "source": [
    "df_test['y_score'] = y_scores"
   ]
  },
  {
   "cell_type": "code",
   "execution_count": 107,
   "metadata": {},
   "outputs": [
    {
     "data": {
      "text/html": [
       "<div>\n",
       "<table border=\"1\" class=\"dataframe\">\n",
       "  <thead>\n",
       "    <tr style=\"text-align: right;\">\n",
       "      <th></th>\n",
       "      <th>y_score</th>\n",
       "    </tr>\n",
       "  </thead>\n",
       "  <tbody>\n",
       "    <tr>\n",
       "      <th>8015</th>\n",
       "      <td>0.448489</td>\n",
       "    </tr>\n",
       "    <tr>\n",
       "      <th>15303</th>\n",
       "      <td>0.171198</td>\n",
       "    </tr>\n",
       "    <tr>\n",
       "      <th>15854</th>\n",
       "      <td>0.219164</td>\n",
       "    </tr>\n",
       "    <tr>\n",
       "      <th>21550</th>\n",
       "      <td>0.128355</td>\n",
       "    </tr>\n",
       "    <tr>\n",
       "      <th>18381</th>\n",
       "      <td>0.161615</td>\n",
       "    </tr>\n",
       "  </tbody>\n",
       "</table>\n",
       "</div>"
      ],
      "text/plain": [
       "        y_score\n",
       "8015   0.448489\n",
       "15303  0.171198\n",
       "15854  0.219164\n",
       "21550  0.128355\n",
       "18381  0.161615"
      ]
     },
     "execution_count": 107,
     "metadata": {},
     "output_type": "execute_result"
    }
   ],
   "source": [
    "df_test[['y_score']].head()"
   ]
  },
  {
   "cell_type": "code",
   "execution_count": 108,
   "metadata": {},
   "outputs": [],
   "source": [
    "calc_threshold = lambda x,y: 0 if x < y else 1 \n",
    "predicted = np.array( [calc_threshold(score,0.58) for score in y_scores] )\n",
    "expected = y_test"
   ]
  },
  {
   "cell_type": "code",
   "execution_count": 109,
   "metadata": {},
   "outputs": [
    {
     "name": "stdout",
     "output_type": "stream",
     "text": [
      "[[16766   254]\n",
      " [ 5208   472]]\n"
     ]
    }
   ],
   "source": [
    "from sklearn.metrics import confusion_matrix\n",
    "conf_matrix = confusion_matrix(expected,predicted)\n",
    "print conf_matrix"
   ]
  },
  {
   "cell_type": "code",
   "execution_count": 110,
   "metadata": {},
   "outputs": [
    {
     "data": {
      "image/png": "[encoded data removed]",
      "text/plain": [
       "<matplotlib.figure.Figure at 0x7f2f22d87710>"
      ]
     },
     "metadata": {},
     "output_type": "display_data"
    }
   ],
   "source": [
    "plt.matshow(conf_matrix)\n",
    "plt.title('Confusion Matrix')\n",
    "plt.colorbar()\n",
    "plt.ylabel('True Class')\n",
    "plt.xlabel('Predicted Class')\n",
    "plt.show()"
   ]
  },
  {
   "cell_type": "code",
   "execution_count": 111,
   "metadata": {},
   "outputs": [
    {
     "name": "stdout",
     "output_type": "stream",
     "text": [
      "Accuracy = 0.759383259912\n"
     ]
    }
   ],
   "source": [
    "#generating accuracy\n",
    "# generate an accuracy score by comparing expected to predicted.\n",
    "from sklearn.metrics import accuracy_score\n",
    "accuracy = accuracy_score(expected, predicted)\n",
    "print( \"Accuracy = \" + str( accuracy ) )"
   ]
  },
  {
   "cell_type": "code",
   "execution_count": 112,
   "metadata": {},
   "outputs": [
    {
     "name": "stdout",
     "output_type": "stream",
     "text": [
      "Precision = 0.650137741047\n",
      "Recall= 0.0830985915493\n"
     ]
    }
   ],
   "source": [
    "from sklearn.metrics import precision_score, recall_score\n",
    "precision = precision_score(expected, predicted)\n",
    "recall = recall_score(expected, predicted)\n",
    "print( \"Precision = \" + str( precision ) )\n",
    "print( \"Recall= \" + str(recall))"
   ]
  },
  {
   "cell_type": "code",
   "execution_count": 113,
   "metadata": {},
   "outputs": [],
   "source": [
    "def plot_precision_recall(y_true,y_score):\n",
    "    \"\"\"\n",
    "    Plot a precision recall curve\n",
    "    \n",
    "    Parameters\n",
    "    ----------\n",
    "    y_true: ls\n",
    "        ground truth labels\n",
    "    y_score: ls\n",
    "        score output from model\n",
    "    \"\"\"\n",
    "    precision_curve, recall_curve, pr_thresholds = precision_recall_curve(y_true,y_score)\n",
    "    plt.plot(recall_curve, precision_curve)\n",
    "    plt.xlabel('Recall')\n",
    "    plt.ylabel('Precision')\n",
    "    plt.title('Model II')\n",
    "    auc_val = auc(recall_curve,precision_curve)\n",
    "    print('AUC-PR: {0:1f}'.format(auc_val))\n",
    "    plt.show()\n",
    "    plt.clf()"
   ]
  },
  {
   "cell_type": "code",
   "execution_count": 114,
   "metadata": {},
   "outputs": [
    {
     "name": "stdout",
     "output_type": "stream",
     "text": [
      "AUC-PR: 0.439852\n"
     ]
    },
    {
     "data": {
      "image/png": "[encoded data removed]",
      "text/plain": [
       "<matplotlib.figure.Figure at 0x7f2f239d88d0>"
      ]
     },
     "metadata": {},
     "output_type": "display_data"
    },
    {
     "data": {
      "text/plain": [
       "<matplotlib.figure.Figure at 0x7f2f22563090>"
      ]
     },
     "metadata": {},
     "output_type": "display_data"
    }
   ],
   "source": [
    "plot_precision_recall(expected, y_scores)"
   ]
  },
  {
   "cell_type": "markdown",
   "metadata": {},
   "source": [
    "## Model III\n",
    "Gentrification = borough_fixed_effects + racial_composition_2000 + workers of three different income levels + four different educational attainment + + pct_ch_hinc + pct_ch_hedu + distances of subways + distances of small parks + distances of large parks + New Units permits after 2010"
   ]
  },
  {
   "cell_type": "markdown",
   "metadata": {},
   "source": [
    "In Model III, we will be adding in three additonal features of subway, small park and large park distances from the center of each census block group. We are aware that these features represent physical infrastructure that does not change much over time. We are hoping to capture that an existing presence could affect residents' decision to move-in or move-out of census block groups and neighborhoods. A more pertinent dataset would be where new investments in subways and parks happen over time which we hope to obtain next. The data is obtained from NYC Open data (https://nycopendata.socrata.com/Transportation/Subway-Entrances/drex-xx56) and the cleaning is done in GIS."
   ]
  },
  {
   "cell_type": "code",
   "execution_count": 228,
   "metadata": {},
   "outputs": [
    {
     "data": {
      "text/plain": [
       "(39009, 4)"
      ]
     },
     "execution_count": 228,
     "metadata": {},
     "output_type": "execute_result"
    }
   ],
   "source": [
    "#Import data on distance to the nearest subway entrance, \n",
    "#nearest big park (larger than 3 acres) and nearest small park (less than 3 acres but more than 0.1 acres to exlude microparks)\n",
    "subwaysparks = pd.read_csv(\"Data/dist_subway_parks_final.csv\",dtype= {'BLOCKID': str} )\n",
    "subwaysparks.shape"
   ]
  },
  {
   "cell_type": "code",
   "execution_count": 195,
   "metadata": {},
   "outputs": [
    {
     "data": {
      "text/html": [
       "<div>\n",
       "<table border=\"1\" class=\"dataframe\">\n",
       "  <thead>\n",
       "    <tr style=\"text-align: right;\">\n",
       "      <th></th>\n",
       "      <th>BLOCKID</th>\n",
       "      <th>dist_sub_m</th>\n",
       "      <th>dist_sPark</th>\n",
       "      <th>dist_lPark</th>\n",
       "    </tr>\n",
       "  </thead>\n",
       "  <tbody>\n",
       "    <tr>\n",
       "      <th>0</th>\n",
       "      <td>360050516005011</td>\n",
       "      <td>4741.830078</td>\n",
       "      <td>5270.879883</td>\n",
       "      <td>911.674011</td>\n",
       "    </tr>\n",
       "    <tr>\n",
       "      <th>1</th>\n",
       "      <td>360050300004003</td>\n",
       "      <td>103.175003</td>\n",
       "      <td>1220.680054</td>\n",
       "      <td>78.367500</td>\n",
       "    </tr>\n",
       "    <tr>\n",
       "      <th>2</th>\n",
       "      <td>360050409001001</td>\n",
       "      <td>323.865997</td>\n",
       "      <td>308.806000</td>\n",
       "      <td>111.860001</td>\n",
       "    </tr>\n",
       "    <tr>\n",
       "      <th>3</th>\n",
       "      <td>360050409002000</td>\n",
       "      <td>240.684998</td>\n",
       "      <td>179.690002</td>\n",
       "      <td>209.363007</td>\n",
       "    </tr>\n",
       "    <tr>\n",
       "      <th>4</th>\n",
       "      <td>360050411001000</td>\n",
       "      <td>96.200104</td>\n",
       "      <td>17.205500</td>\n",
       "      <td>37.777100</td>\n",
       "    </tr>\n",
       "  </tbody>\n",
       "</table>\n",
       "</div>"
      ],
      "text/plain": [
       "           BLOCKID   dist_sub_m   dist_sPark  dist_lPark\n",
       "0  360050516005011  4741.830078  5270.879883  911.674011\n",
       "1  360050300004003   103.175003  1220.680054   78.367500\n",
       "2  360050409001001   323.865997   308.806000  111.860001\n",
       "3  360050409002000   240.684998   179.690002  209.363007\n",
       "4  360050411001000    96.200104    17.205500   37.777100"
      ]
     },
     "execution_count": 195,
     "metadata": {},
     "output_type": "execute_result"
    }
   ],
   "source": [
    "subwaysparks.head()"
   ]
  },
  {
   "cell_type": "code",
   "execution_count": 229,
   "metadata": {},
   "outputs": [
    {
     "data": {
      "text/plain": [
       "(29353, 2)"
      ]
     },
     "execution_count": 229,
     "metadata": {},
     "output_type": "execute_result"
    }
   ],
   "source": [
    "#Import data on DOB occupancy permits for number of new units permited per block after 2010\n",
    "newunits = pd.read_csv(\"Data/DOB_new_units_Clean.csv\", usecols=range(1,3), dtype= {'BLOCKID': str, 'PR_DWELLING_UNIT': int} )\n",
    "newunits.shape"
   ]
  },
  {
   "cell_type": "code",
   "execution_count": 197,
   "metadata": {},
   "outputs": [
    {
     "data": {
      "text/html": [
       "<div>\n",
       "<table border=\"1\" class=\"dataframe\">\n",
       "  <thead>\n",
       "    <tr style=\"text-align: right;\">\n",
       "      <th></th>\n",
       "      <th>BLOCKID</th>\n",
       "      <th>PR_DWELLING_UNIT</th>\n",
       "    </tr>\n",
       "  </thead>\n",
       "  <tbody>\n",
       "    <tr>\n",
       "      <th>0</th>\n",
       "      <td>360050002001000</td>\n",
       "      <td>0</td>\n",
       "    </tr>\n",
       "    <tr>\n",
       "      <th>1</th>\n",
       "      <td>360050002001004</td>\n",
       "      <td>48</td>\n",
       "    </tr>\n",
       "    <tr>\n",
       "      <th>2</th>\n",
       "      <td>360050002002002</td>\n",
       "      <td>2</td>\n",
       "    </tr>\n",
       "    <tr>\n",
       "      <th>3</th>\n",
       "      <td>360050002002003</td>\n",
       "      <td>0</td>\n",
       "    </tr>\n",
       "    <tr>\n",
       "      <th>4</th>\n",
       "      <td>360050004002003</td>\n",
       "      <td>4</td>\n",
       "    </tr>\n",
       "  </tbody>\n",
       "</table>\n",
       "</div>"
      ],
      "text/plain": [
       "           BLOCKID  PR_DWELLING_UNIT\n",
       "0  360050002001000                 0\n",
       "1  360050002001004                48\n",
       "2  360050002002002                 2\n",
       "3  360050002002003                 0\n",
       "4  360050004002003                 4"
      ]
     },
     "execution_count": 197,
     "metadata": {},
     "output_type": "execute_result"
    }
   ],
   "source": [
    "newunits.head()"
   ]
  },
  {
   "cell_type": "code",
   "execution_count": 198,
   "metadata": {},
   "outputs": [
    {
     "data": {
      "text/plain": [
       "(39009, 4)"
      ]
     },
     "execution_count": 198,
     "metadata": {},
     "output_type": "execute_result"
    }
   ],
   "source": [
    "# Remove NaNs in BLOCKID if there are\n",
    "subwayParksClean = [x for x in subwaysparks['BLOCKID'] if x != 'nan']\n",
    "subwaysparks.shape"
   ]
  },
  {
   "cell_type": "code",
   "execution_count": 206,
   "metadata": {},
   "outputs": [
    {
     "data": {
      "text/plain": [
       "(28375, 30)"
      ]
     },
     "execution_count": 206,
     "metadata": {},
     "output_type": "execute_result"
    }
   ],
   "source": [
    "workers_02_10_block_working.shape"
   ]
  },
  {
   "cell_type": "code",
   "execution_count": 230,
   "metadata": {},
   "outputs": [
    {
     "data": {
      "text/html": [
       "<div>\n",
       "<table border=\"1\" class=\"dataframe\">\n",
       "  <thead>\n",
       "    <tr style=\"text-align: right;\">\n",
       "      <th></th>\n",
       "      <th>BLOCKID</th>\n",
       "      <th>Inc01_2002</th>\n",
       "      <th>Inc02_2002</th>\n",
       "      <th>Inc03_2002</th>\n",
       "      <th>Ed01_2002</th>\n",
       "      <th>Ed02_2002</th>\n",
       "      <th>Ed03_2002</th>\n",
       "      <th>Ed04_2002</th>\n",
       "      <th>Inc01_2010</th>\n",
       "      <th>Inc02_2010</th>\n",
       "      <th>...</th>\n",
       "      <th>BoroName_Manhattan</th>\n",
       "      <th>BoroName_Queens</th>\n",
       "      <th>shWhite00</th>\n",
       "      <th>shBlack00</th>\n",
       "      <th>shBlack00</th>\n",
       "      <th>shAsian00</th>\n",
       "      <th>changesdummy</th>\n",
       "      <th>dist_sub_m</th>\n",
       "      <th>dist_sPark</th>\n",
       "      <th>dist_lPark</th>\n",
       "    </tr>\n",
       "  </thead>\n",
       "  <tbody>\n",
       "    <tr>\n",
       "      <th>0</th>\n",
       "      <td>360050001001000</td>\n",
       "      <td>32</td>\n",
       "      <td>30</td>\n",
       "      <td>15</td>\n",
       "      <td>0</td>\n",
       "      <td>0</td>\n",
       "      <td>0</td>\n",
       "      <td>0</td>\n",
       "      <td>35</td>\n",
       "      <td>48</td>\n",
       "      <td>...</td>\n",
       "      <td>0.0</td>\n",
       "      <td>0.0</td>\n",
       "      <td>8.521221</td>\n",
       "      <td>60.605009</td>\n",
       "      <td>60.605009</td>\n",
       "      <td>0.260854</td>\n",
       "      <td>0</td>\n",
       "      <td>2990.620117</td>\n",
       "      <td>2112.219971</td>\n",
       "      <td>1333.260010</td>\n",
       "    </tr>\n",
       "    <tr>\n",
       "      <th>1</th>\n",
       "      <td>360050001001013</td>\n",
       "      <td>31</td>\n",
       "      <td>20</td>\n",
       "      <td>6</td>\n",
       "      <td>0</td>\n",
       "      <td>0</td>\n",
       "      <td>0</td>\n",
       "      <td>0</td>\n",
       "      <td>14</td>\n",
       "      <td>22</td>\n",
       "      <td>...</td>\n",
       "      <td>0.0</td>\n",
       "      <td>0.0</td>\n",
       "      <td>8.487242</td>\n",
       "      <td>60.517723</td>\n",
       "      <td>60.517723</td>\n",
       "      <td>0.184505</td>\n",
       "      <td>0</td>\n",
       "      <td>2802.429932</td>\n",
       "      <td>1970.089966</td>\n",
       "      <td>1057.729981</td>\n",
       "    </tr>\n",
       "    <tr>\n",
       "      <th>2</th>\n",
       "      <td>360050002001000</td>\n",
       "      <td>15</td>\n",
       "      <td>48</td>\n",
       "      <td>15</td>\n",
       "      <td>0</td>\n",
       "      <td>0</td>\n",
       "      <td>0</td>\n",
       "      <td>0</td>\n",
       "      <td>24</td>\n",
       "      <td>55</td>\n",
       "      <td>...</td>\n",
       "      <td>0.0</td>\n",
       "      <td>0.0</td>\n",
       "      <td>9.885932</td>\n",
       "      <td>26.235741</td>\n",
       "      <td>26.235741</td>\n",
       "      <td>3.041825</td>\n",
       "      <td>0</td>\n",
       "      <td>2024.540039</td>\n",
       "      <td>443.230011</td>\n",
       "      <td>297.609009</td>\n",
       "    </tr>\n",
       "    <tr>\n",
       "      <th>3</th>\n",
       "      <td>360050002001001</td>\n",
       "      <td>19</td>\n",
       "      <td>31</td>\n",
       "      <td>19</td>\n",
       "      <td>0</td>\n",
       "      <td>0</td>\n",
       "      <td>0</td>\n",
       "      <td>0</td>\n",
       "      <td>11</td>\n",
       "      <td>28</td>\n",
       "      <td>...</td>\n",
       "      <td>0.0</td>\n",
       "      <td>0.0</td>\n",
       "      <td>7.853403</td>\n",
       "      <td>27.225131</td>\n",
       "      <td>27.225131</td>\n",
       "      <td>0.000000</td>\n",
       "      <td>0</td>\n",
       "      <td>2014.689941</td>\n",
       "      <td>477.950989</td>\n",
       "      <td>278.540008</td>\n",
       "    </tr>\n",
       "    <tr>\n",
       "      <th>4</th>\n",
       "      <td>360050002001002</td>\n",
       "      <td>26</td>\n",
       "      <td>43</td>\n",
       "      <td>16</td>\n",
       "      <td>0</td>\n",
       "      <td>0</td>\n",
       "      <td>0</td>\n",
       "      <td>0</td>\n",
       "      <td>14</td>\n",
       "      <td>50</td>\n",
       "      <td>...</td>\n",
       "      <td>0.0</td>\n",
       "      <td>0.0</td>\n",
       "      <td>3.859649</td>\n",
       "      <td>24.561404</td>\n",
       "      <td>24.561404</td>\n",
       "      <td>0.000000</td>\n",
       "      <td>0</td>\n",
       "      <td>2007.910034</td>\n",
       "      <td>522.379028</td>\n",
       "      <td>240.309998</td>\n",
       "    </tr>\n",
       "  </tbody>\n",
       "</table>\n",
       "<p>5 rows × 33 columns</p>\n",
       "</div>"
      ],
      "text/plain": [
       "           BLOCKID  Inc01_2002  Inc02_2002  Inc03_2002  Ed01_2002  Ed02_2002  \\\n",
       "0  360050001001000          32          30          15          0          0   \n",
       "1  360050001001013          31          20           6          0          0   \n",
       "2  360050002001000          15          48          15          0          0   \n",
       "3  360050002001001          19          31          19          0          0   \n",
       "4  360050002001002          26          43          16          0          0   \n",
       "\n",
       "   Ed03_2002  Ed04_2002  Inc01_2010  Inc02_2010     ...       \\\n",
       "0          0          0          35          48     ...        \n",
       "1          0          0          14          22     ...        \n",
       "2          0          0          24          55     ...        \n",
       "3          0          0          11          28     ...        \n",
       "4          0          0          14          50     ...        \n",
       "\n",
       "   BoroName_Manhattan  BoroName_Queens  shWhite00  shBlack00  shBlack00  \\\n",
       "0                 0.0              0.0   8.521221  60.605009  60.605009   \n",
       "1                 0.0              0.0   8.487242  60.517723  60.517723   \n",
       "2                 0.0              0.0   9.885932  26.235741  26.235741   \n",
       "3                 0.0              0.0   7.853403  27.225131  27.225131   \n",
       "4                 0.0              0.0   3.859649  24.561404  24.561404   \n",
       "\n",
       "   shAsian00  changesdummy   dist_sub_m   dist_sPark   dist_lPark  \n",
       "0   0.260854             0  2990.620117  2112.219971  1333.260010  \n",
       "1   0.184505             0  2802.429932  1970.089966  1057.729981  \n",
       "2   3.041825             0  2024.540039   443.230011   297.609009  \n",
       "3   0.000000             0  2014.689941   477.950989   278.540008  \n",
       "4   0.000000             0  2007.910034   522.379028   240.309998  \n",
       "\n",
       "[5 rows x 33 columns]"
      ]
     },
     "execution_count": 230,
     "metadata": {},
     "output_type": "execute_result"
    }
   ],
   "source": [
    "#Joining subway data to workers data from before\n",
    "workers_subway = workers_02_10_block_working.merge(subwaysparks, left_on = 'BLOCKID', right_on = 'BLOCKID', how = \"inner\")\n",
    "workers_subway.head()"
   ]
  },
  {
   "cell_type": "code",
   "execution_count": 232,
   "metadata": {},
   "outputs": [
    {
     "data": {
      "text/html": [
       "<div>\n",
       "<table border=\"1\" class=\"dataframe\">\n",
       "  <thead>\n",
       "    <tr style=\"text-align: right;\">\n",
       "      <th></th>\n",
       "      <th>BLOCKID</th>\n",
       "      <th>Inc01_2002</th>\n",
       "      <th>Inc02_2002</th>\n",
       "      <th>Inc03_2002</th>\n",
       "      <th>Ed01_2002</th>\n",
       "      <th>Ed02_2002</th>\n",
       "      <th>Ed03_2002</th>\n",
       "      <th>Ed04_2002</th>\n",
       "      <th>Inc01_2010</th>\n",
       "      <th>Inc02_2010</th>\n",
       "      <th>...</th>\n",
       "      <th>BoroName_Queens</th>\n",
       "      <th>shWhite00</th>\n",
       "      <th>shBlack00</th>\n",
       "      <th>shBlack00</th>\n",
       "      <th>shAsian00</th>\n",
       "      <th>changesdummy</th>\n",
       "      <th>dist_sub_m</th>\n",
       "      <th>dist_sPark</th>\n",
       "      <th>dist_lPark</th>\n",
       "      <th>PR_DWELLING_UNIT</th>\n",
       "    </tr>\n",
       "  </thead>\n",
       "  <tbody>\n",
       "    <tr>\n",
       "      <th>0</th>\n",
       "      <td>360050001001000</td>\n",
       "      <td>32</td>\n",
       "      <td>30</td>\n",
       "      <td>15</td>\n",
       "      <td>0</td>\n",
       "      <td>0</td>\n",
       "      <td>0</td>\n",
       "      <td>0</td>\n",
       "      <td>35</td>\n",
       "      <td>48</td>\n",
       "      <td>...</td>\n",
       "      <td>0.0</td>\n",
       "      <td>8.521221</td>\n",
       "      <td>60.605009</td>\n",
       "      <td>60.605009</td>\n",
       "      <td>0.260854</td>\n",
       "      <td>0</td>\n",
       "      <td>2990.620117</td>\n",
       "      <td>2112.219971</td>\n",
       "      <td>1333.260010</td>\n",
       "      <td>0</td>\n",
       "    </tr>\n",
       "    <tr>\n",
       "      <th>1</th>\n",
       "      <td>360050001001013</td>\n",
       "      <td>31</td>\n",
       "      <td>20</td>\n",
       "      <td>6</td>\n",
       "      <td>0</td>\n",
       "      <td>0</td>\n",
       "      <td>0</td>\n",
       "      <td>0</td>\n",
       "      <td>14</td>\n",
       "      <td>22</td>\n",
       "      <td>...</td>\n",
       "      <td>0.0</td>\n",
       "      <td>8.487242</td>\n",
       "      <td>60.517723</td>\n",
       "      <td>60.517723</td>\n",
       "      <td>0.184505</td>\n",
       "      <td>0</td>\n",
       "      <td>2802.429932</td>\n",
       "      <td>1970.089966</td>\n",
       "      <td>1057.729981</td>\n",
       "      <td>0</td>\n",
       "    </tr>\n",
       "    <tr>\n",
       "      <th>2</th>\n",
       "      <td>360050002001000</td>\n",
       "      <td>15</td>\n",
       "      <td>48</td>\n",
       "      <td>15</td>\n",
       "      <td>0</td>\n",
       "      <td>0</td>\n",
       "      <td>0</td>\n",
       "      <td>0</td>\n",
       "      <td>24</td>\n",
       "      <td>55</td>\n",
       "      <td>...</td>\n",
       "      <td>0.0</td>\n",
       "      <td>9.885932</td>\n",
       "      <td>26.235741</td>\n",
       "      <td>26.235741</td>\n",
       "      <td>3.041825</td>\n",
       "      <td>0</td>\n",
       "      <td>2024.540039</td>\n",
       "      <td>443.230011</td>\n",
       "      <td>297.609009</td>\n",
       "      <td>0</td>\n",
       "    </tr>\n",
       "    <tr>\n",
       "      <th>3</th>\n",
       "      <td>360050002001001</td>\n",
       "      <td>19</td>\n",
       "      <td>31</td>\n",
       "      <td>19</td>\n",
       "      <td>0</td>\n",
       "      <td>0</td>\n",
       "      <td>0</td>\n",
       "      <td>0</td>\n",
       "      <td>11</td>\n",
       "      <td>28</td>\n",
       "      <td>...</td>\n",
       "      <td>0.0</td>\n",
       "      <td>7.853403</td>\n",
       "      <td>27.225131</td>\n",
       "      <td>27.225131</td>\n",
       "      <td>0.000000</td>\n",
       "      <td>0</td>\n",
       "      <td>2014.689941</td>\n",
       "      <td>477.950989</td>\n",
       "      <td>278.540008</td>\n",
       "      <td>0</td>\n",
       "    </tr>\n",
       "    <tr>\n",
       "      <th>4</th>\n",
       "      <td>360050002001002</td>\n",
       "      <td>26</td>\n",
       "      <td>43</td>\n",
       "      <td>16</td>\n",
       "      <td>0</td>\n",
       "      <td>0</td>\n",
       "      <td>0</td>\n",
       "      <td>0</td>\n",
       "      <td>14</td>\n",
       "      <td>50</td>\n",
       "      <td>...</td>\n",
       "      <td>0.0</td>\n",
       "      <td>3.859649</td>\n",
       "      <td>24.561404</td>\n",
       "      <td>24.561404</td>\n",
       "      <td>0.000000</td>\n",
       "      <td>0</td>\n",
       "      <td>2007.910034</td>\n",
       "      <td>522.379028</td>\n",
       "      <td>240.309998</td>\n",
       "      <td>0</td>\n",
       "    </tr>\n",
       "  </tbody>\n",
       "</table>\n",
       "<p>5 rows × 34 columns</p>\n",
       "</div>"
      ],
      "text/plain": [
       "           BLOCKID  Inc01_2002  Inc02_2002  Inc03_2002  Ed01_2002  Ed02_2002  \\\n",
       "0  360050001001000          32          30          15          0          0   \n",
       "1  360050001001013          31          20           6          0          0   \n",
       "2  360050002001000          15          48          15          0          0   \n",
       "3  360050002001001          19          31          19          0          0   \n",
       "4  360050002001002          26          43          16          0          0   \n",
       "\n",
       "   Ed03_2002  Ed04_2002  Inc01_2010  Inc02_2010        ...         \\\n",
       "0          0          0          35          48        ...          \n",
       "1          0          0          14          22        ...          \n",
       "2          0          0          24          55        ...          \n",
       "3          0          0          11          28        ...          \n",
       "4          0          0          14          50        ...          \n",
       "\n",
       "   BoroName_Queens  shWhite00  shBlack00  shBlack00  shAsian00  changesdummy  \\\n",
       "0              0.0   8.521221  60.605009  60.605009   0.260854             0   \n",
       "1              0.0   8.487242  60.517723  60.517723   0.184505             0   \n",
       "2              0.0   9.885932  26.235741  26.235741   3.041825             0   \n",
       "3              0.0   7.853403  27.225131  27.225131   0.000000             0   \n",
       "4              0.0   3.859649  24.561404  24.561404   0.000000             0   \n",
       "\n",
       "    dist_sub_m   dist_sPark   dist_lPark  PR_DWELLING_UNIT  \n",
       "0  2990.620117  2112.219971  1333.260010                 0  \n",
       "1  2802.429932  1970.089966  1057.729981                 0  \n",
       "2  2024.540039   443.230011   297.609009                 0  \n",
       "3  2014.689941   477.950989   278.540008                 0  \n",
       "4  2007.910034   522.379028   240.309998                 0  \n",
       "\n",
       "[5 rows x 34 columns]"
      ]
     },
     "execution_count": 232,
     "metadata": {},
     "output_type": "execute_result"
    }
   ],
   "source": [
    "# Join DOB data on new units approved\n",
    "workers_subway_units = workers_subway.merge(newunits, left_on = 'BLOCKID', right_on = 'BLOCKID', how = \"inner\")\n",
    "workers_subway_units.head()"
   ]
  },
  {
   "cell_type": "code",
   "execution_count": 233,
   "metadata": {},
   "outputs": [],
   "source": [
    "#Save in the Data folder for further exploration and visualization\n",
    "workers_subway_units.to_csv(\"Data/Blocks_full_dataset.csv\", encoding='utf8')"
   ]
  },
  {
   "cell_type": "markdown",
   "metadata": {},
   "source": [
    "### Training and Testing data splits\n"
   ]
  },
  {
   "cell_type": "code",
   "execution_count": 164,
   "metadata": {},
   "outputs": [],
   "source": [
    "#Later on we will be using K-folds but this is a start\n",
    "# Changed to 80% training\n",
    "df_train, df_test = train_test_split(workers_subway_units, test_size=0.8)"
   ]
  },
  {
   "cell_type": "code",
   "execution_count": 165,
   "metadata": {},
   "outputs": [
    {
     "data": {
      "text/html": [
       "<div>\n",
       "<table border=\"1\" class=\"dataframe\">\n",
       "  <thead>\n",
       "    <tr style=\"text-align: right;\">\n",
       "      <th></th>\n",
       "      <th>BLOCKID</th>\n",
       "      <th>Inc01_2002</th>\n",
       "      <th>Inc02_2002</th>\n",
       "      <th>Inc03_2002</th>\n",
       "      <th>Ed01_2002</th>\n",
       "      <th>Ed02_2002</th>\n",
       "      <th>Ed03_2002</th>\n",
       "      <th>Ed04_2002</th>\n",
       "      <th>Inc01_2010</th>\n",
       "      <th>Inc02_2010</th>\n",
       "      <th>...</th>\n",
       "      <th>BoroName_Queens</th>\n",
       "      <th>shWhite00</th>\n",
       "      <th>shBlack00</th>\n",
       "      <th>shBlack00</th>\n",
       "      <th>shAsian00</th>\n",
       "      <th>changesdummy</th>\n",
       "      <th>dist_sub_m</th>\n",
       "      <th>dist_sPark</th>\n",
       "      <th>dist_lPark</th>\n",
       "      <th>PR_DWELLING_UNIT</th>\n",
       "    </tr>\n",
       "  </thead>\n",
       "  <tbody>\n",
       "    <tr>\n",
       "      <th>2668</th>\n",
       "      <td>360050373002000</td>\n",
       "      <td>28</td>\n",
       "      <td>36</td>\n",
       "      <td>12</td>\n",
       "      <td>0</td>\n",
       "      <td>0</td>\n",
       "      <td>0</td>\n",
       "      <td>0</td>\n",
       "      <td>22</td>\n",
       "      <td>40</td>\n",
       "      <td>...</td>\n",
       "      <td>0.0</td>\n",
       "      <td>1.186944</td>\n",
       "      <td>47.774481</td>\n",
       "      <td>47.774481</td>\n",
       "      <td>0.000000</td>\n",
       "      <td>0</td>\n",
       "      <td>1160.819946</td>\n",
       "      <td>168.147995</td>\n",
       "      <td>86.203102</td>\n",
       "      <td>0</td>\n",
       "    </tr>\n",
       "    <tr>\n",
       "      <th>18701</th>\n",
       "      <td>360810594001003</td>\n",
       "      <td>10</td>\n",
       "      <td>23</td>\n",
       "      <td>22</td>\n",
       "      <td>0</td>\n",
       "      <td>0</td>\n",
       "      <td>0</td>\n",
       "      <td>0</td>\n",
       "      <td>10</td>\n",
       "      <td>21</td>\n",
       "      <td>...</td>\n",
       "      <td>1.0</td>\n",
       "      <td>2.142857</td>\n",
       "      <td>95.000000</td>\n",
       "      <td>95.000000</td>\n",
       "      <td>0.000000</td>\n",
       "      <td>0</td>\n",
       "      <td>4636.779785</td>\n",
       "      <td>762.026001</td>\n",
       "      <td>1459.050049</td>\n",
       "      <td>0</td>\n",
       "    </tr>\n",
       "    <tr>\n",
       "      <th>27414</th>\n",
       "      <td>360850207001023</td>\n",
       "      <td>7</td>\n",
       "      <td>13</td>\n",
       "      <td>5</td>\n",
       "      <td>0</td>\n",
       "      <td>0</td>\n",
       "      <td>0</td>\n",
       "      <td>0</td>\n",
       "      <td>2</td>\n",
       "      <td>9</td>\n",
       "      <td>...</td>\n",
       "      <td>0.0</td>\n",
       "      <td>11.250000</td>\n",
       "      <td>52.500000</td>\n",
       "      <td>52.500000</td>\n",
       "      <td>1.250000</td>\n",
       "      <td>0</td>\n",
       "      <td>5164.709961</td>\n",
       "      <td>370.348999</td>\n",
       "      <td>151.509995</td>\n",
       "      <td>0</td>\n",
       "    </tr>\n",
       "    <tr>\n",
       "      <th>9045</th>\n",
       "      <td>360470746001004</td>\n",
       "      <td>29</td>\n",
       "      <td>52</td>\n",
       "      <td>30</td>\n",
       "      <td>0</td>\n",
       "      <td>0</td>\n",
       "      <td>0</td>\n",
       "      <td>0</td>\n",
       "      <td>20</td>\n",
       "      <td>37</td>\n",
       "      <td>...</td>\n",
       "      <td>0.0</td>\n",
       "      <td>62.323944</td>\n",
       "      <td>20.070423</td>\n",
       "      <td>20.070423</td>\n",
       "      <td>3.873239</td>\n",
       "      <td>1</td>\n",
       "      <td>1539.589966</td>\n",
       "      <td>104.720001</td>\n",
       "      <td>930.645996</td>\n",
       "      <td>0</td>\n",
       "    </tr>\n",
       "    <tr>\n",
       "      <th>17269</th>\n",
       "      <td>360810466002001</td>\n",
       "      <td>58</td>\n",
       "      <td>91</td>\n",
       "      <td>102</td>\n",
       "      <td>0</td>\n",
       "      <td>0</td>\n",
       "      <td>0</td>\n",
       "      <td>0</td>\n",
       "      <td>47</td>\n",
       "      <td>83</td>\n",
       "      <td>...</td>\n",
       "      <td>1.0</td>\n",
       "      <td>21.580547</td>\n",
       "      <td>27.355623</td>\n",
       "      <td>27.355623</td>\n",
       "      <td>31.914894</td>\n",
       "      <td>0</td>\n",
       "      <td>61.622799</td>\n",
       "      <td>124.445999</td>\n",
       "      <td>725.507019</td>\n",
       "      <td>6</td>\n",
       "    </tr>\n",
       "  </tbody>\n",
       "</table>\n",
       "<p>5 rows × 34 columns</p>\n",
       "</div>"
      ],
      "text/plain": [
       "               BLOCKID  Inc01_2002  Inc02_2002  Inc03_2002  Ed01_2002  \\\n",
       "2668   360050373002000          28          36          12          0   \n",
       "18701  360810594001003          10          23          22          0   \n",
       "27414  360850207001023           7          13           5          0   \n",
       "9045   360470746001004          29          52          30          0   \n",
       "17269  360810466002001          58          91         102          0   \n",
       "\n",
       "       Ed02_2002  Ed03_2002  Ed04_2002  Inc01_2010  Inc02_2010  \\\n",
       "2668           0          0          0          22          40   \n",
       "18701          0          0          0          10          21   \n",
       "27414          0          0          0           2           9   \n",
       "9045           0          0          0          20          37   \n",
       "17269          0          0          0          47          83   \n",
       "\n",
       "             ...         BoroName_Queens  shWhite00  shBlack00  shBlack00  \\\n",
       "2668         ...                     0.0   1.186944  47.774481  47.774481   \n",
       "18701        ...                     1.0   2.142857  95.000000  95.000000   \n",
       "27414        ...                     0.0  11.250000  52.500000  52.500000   \n",
       "9045         ...                     0.0  62.323944  20.070423  20.070423   \n",
       "17269        ...                     1.0  21.580547  27.355623  27.355623   \n",
       "\n",
       "       shAsian00  changesdummy   dist_sub_m  dist_sPark   dist_lPark  \\\n",
       "2668    0.000000             0  1160.819946  168.147995    86.203102   \n",
       "18701   0.000000             0  4636.779785  762.026001  1459.050049   \n",
       "27414   1.250000             0  5164.709961  370.348999   151.509995   \n",
       "9045    3.873239             1  1539.589966  104.720001   930.645996   \n",
       "17269  31.914894             0    61.622799  124.445999   725.507019   \n",
       "\n",
       "       PR_DWELLING_UNIT  \n",
       "2668                  0  \n",
       "18701                 0  \n",
       "27414                 0  \n",
       "9045                  0  \n",
       "17269                 6  \n",
       "\n",
       "[5 rows x 34 columns]"
      ]
     },
     "execution_count": 165,
     "metadata": {},
     "output_type": "execute_result"
    }
   ],
   "source": [
    "df_train.head()"
   ]
  },
  {
   "cell_type": "code",
   "execution_count": 166,
   "metadata": {},
   "outputs": [
    {
     "data": {
      "text/plain": [
       "Index([u'BLOCKID', u'Inc01_2002', u'Inc02_2002', u'Inc03_2002', u'Ed01_2002',\n",
       "       u'Ed02_2002', u'Ed03_2002', u'Ed04_2002', u'Inc01_2010', u'Inc02_2010',\n",
       "       u'Inc03_2010', u'Ed01_2010', u'Ed02_2010', u'Ed03_2010', u'Ed04_2010',\n",
       "       u'pct_ch_hInc', u'pct_ch_hEduc', u'pct_ch_white', u'a_weight',\n",
       "       u'bid_id', u'BID_dummy', u'BoroName_Bronx', u'BoroName_Brooklyn',\n",
       "       u'BoroName_Manhattan', u'BoroName_Queens', u'shWhite00', u'shBlack00',\n",
       "       u'shBlack00', u'shAsian00', u'changesdummy', u'dist_sub_m',\n",
       "       u'dist_sPark', u'dist_lPark', u'PR_DWELLING_UNIT'],\n",
       "      dtype='object')"
      ]
     },
     "execution_count": 166,
     "metadata": {},
     "output_type": "execute_result"
    }
   ],
   "source": [
    "df_train.columns"
   ]
  },
  {
   "cell_type": "code",
   "execution_count": 171,
   "metadata": {},
   "outputs": [],
   "source": [
    "#This is reflecting the Model I equation\n",
    "sel_features = ['a_weight', 'BID_dummy', 'BoroName_Bronx', 'BoroName_Brooklyn', 'BoroName_Manhattan', 'BoroName_Queens','shWhite00', 'shBlack00', 'shAsian00', 'Inc01_2002', 'Inc02_2002', 'Inc03_2002','Ed01_2002', 'Ed02_2002','Ed03_2002','Ed04_2002','pct_ch_hInc', 'pct_ch_hEduc','dist_sub_m','dist_sPark','dist_lPark','PR_DWELLING_UNIT' ]\n",
    "sel_label = [ 'changesdummy']"
   ]
  },
  {
   "cell_type": "code",
   "execution_count": 173,
   "metadata": {},
   "outputs": [],
   "source": [
    "#We are assigning predictors and the outcome in training and testing datasets\n",
    "X_train = df_train[sel_features].values\n",
    "y_train = df_train[sel_label].values\n",
    "X_test = df_test[sel_features].values\n",
    "y_test = df_test[sel_label].values"
   ]
  },
  {
   "cell_type": "code",
   "execution_count": 174,
   "metadata": {},
   "outputs": [
    {
     "name": "stdout",
     "output_type": "stream",
     "text": [
      "LogisticRegression(C=100000.0, class_weight=None, dual=False,\n",
      "          fit_intercept=True, intercept_scaling=1, max_iter=100,\n",
      "          multi_class='ovr', n_jobs=1, penalty='l1', random_state=None,\n",
      "          solver='liblinear', tol=0.0001, verbose=0, warm_start=False)\n"
     ]
    }
   ],
   "source": [
    "#Inputting this into the traditional logistic regression model\n",
    "from sklearn import linear_model\n",
    "model = linear_model.LogisticRegression(penalty='l1', C=1e5)\n",
    "model.fit( X_train, y_train )\n",
    "print(model)"
   ]
  },
  {
   "cell_type": "code",
   "execution_count": 175,
   "metadata": {},
   "outputs": [],
   "source": [
    "y_scores = model.predict_proba(X_test)[:,1]"
   ]
  },
  {
   "cell_type": "code",
   "execution_count": 176,
   "metadata": {},
   "outputs": [
    {
     "data": {
      "text/plain": [
       "array([ 0.29904747,  0.44879932,  0.18995231, ...,  0.14993074,\n",
       "        0.1152726 ,  0.07575466])"
      ]
     },
     "execution_count": 176,
     "metadata": {},
     "output_type": "execute_result"
    }
   ],
   "source": [
    "y_scores"
   ]
  },
  {
   "cell_type": "code",
   "execution_count": 177,
   "metadata": {},
   "outputs": [
    {
     "data": {
      "text/plain": [
       "<matplotlib.axes._subplots.AxesSubplot at 0x7f2f215caa50>"
      ]
     },
     "execution_count": 177,
     "metadata": {},
     "output_type": "execute_result"
    },
    {
     "data": {
      "image/png": "[encoded data removed]",
      "text/plain": [
       "<matplotlib.figure.Figure at 0x7f2f215ca690>"
      ]
     },
     "metadata": {},
     "output_type": "display_data"
    }
   ],
   "source": [
    "sns.distplot(y_scores, kde=False, rug=False)"
   ]
  },
  {
   "cell_type": "code",
   "execution_count": 178,
   "metadata": {},
   "outputs": [],
   "source": [
    "df_test['y_score'] = y_scores"
   ]
  },
  {
   "cell_type": "code",
   "execution_count": 179,
   "metadata": {},
   "outputs": [
    {
     "data": {
      "text/html": [
       "<div>\n",
       "<table border=\"1\" class=\"dataframe\">\n",
       "  <thead>\n",
       "    <tr style=\"text-align: right;\">\n",
       "      <th></th>\n",
       "      <th>y_score</th>\n",
       "    </tr>\n",
       "  </thead>\n",
       "  <tbody>\n",
       "    <tr>\n",
       "      <th>14701</th>\n",
       "      <td>0.299047</td>\n",
       "    </tr>\n",
       "    <tr>\n",
       "      <th>5802</th>\n",
       "      <td>0.448799</td>\n",
       "    </tr>\n",
       "    <tr>\n",
       "      <th>20356</th>\n",
       "      <td>0.189952</td>\n",
       "    </tr>\n",
       "    <tr>\n",
       "      <th>3841</th>\n",
       "      <td>0.366919</td>\n",
       "    </tr>\n",
       "    <tr>\n",
       "      <th>3617</th>\n",
       "      <td>0.524816</td>\n",
       "    </tr>\n",
       "  </tbody>\n",
       "</table>\n",
       "</div>"
      ],
      "text/plain": [
       "        y_score\n",
       "14701  0.299047\n",
       "5802   0.448799\n",
       "20356  0.189952\n",
       "3841   0.366919\n",
       "3617   0.524816"
      ]
     },
     "execution_count": 179,
     "metadata": {},
     "output_type": "execute_result"
    }
   ],
   "source": [
    "df_test[['y_score']].head()"
   ]
  },
  {
   "cell_type": "code",
   "execution_count": 180,
   "metadata": {},
   "outputs": [],
   "source": [
    "calc_threshold = lambda x,y: 0 if x < y else 1 \n",
    "predicted = np.array( [calc_threshold(score,0.58) for score in y_scores] )\n",
    "expected = y_test"
   ]
  },
  {
   "cell_type": "code",
   "execution_count": 181,
   "metadata": {},
   "outputs": [
    {
     "name": "stdout",
     "output_type": "stream",
     "text": [
      "[[16857   172]\n",
      " [ 5319   359]]\n"
     ]
    }
   ],
   "source": [
    "from sklearn.metrics import confusion_matrix\n",
    "conf_matrix = confusion_matrix(expected,predicted)\n",
    "print conf_matrix"
   ]
  },
  {
   "cell_type": "code",
   "execution_count": 182,
   "metadata": {},
   "outputs": [
    {
     "data": {
      "image/png": "[encoded data removed]",
      "text/plain": [
       "<matplotlib.figure.Figure at 0x7f2f2139fad0>"
      ]
     },
     "metadata": {},
     "output_type": "display_data"
    }
   ],
   "source": [
    "plt.matshow(conf_matrix)\n",
    "plt.title('Confusion Matrix')\n",
    "plt.colorbar()\n",
    "plt.ylabel('True Class')\n",
    "plt.xlabel('Predicted Class')\n",
    "plt.show()"
   ]
  },
  {
   "cell_type": "code",
   "execution_count": 183,
   "metadata": {},
   "outputs": [
    {
     "name": "stdout",
     "output_type": "stream",
     "text": [
      "Accuracy = 0.758180296825\n"
     ]
    }
   ],
   "source": [
    "#generating accuracy\n",
    "# generate an accuracy score by comparing expected to predicted.\n",
    "from sklearn.metrics import accuracy_score\n",
    "accuracy = accuracy_score(expected, predicted)\n",
    "print( \"Accuracy = \" + str( accuracy ) )"
   ]
  },
  {
   "cell_type": "code",
   "execution_count": 184,
   "metadata": {},
   "outputs": [
    {
     "name": "stdout",
     "output_type": "stream",
     "text": [
      "Precision = 0.676082862524\n",
      "Recall= 0.0632264882001\n"
     ]
    }
   ],
   "source": [
    "from sklearn.metrics import precision_score, recall_score\n",
    "precision = precision_score(expected, predicted)\n",
    "recall = recall_score(expected, predicted)\n",
    "print( \"Precision = \" + str( precision ) )\n",
    "print( \"Recall= \" + str(recall))"
   ]
  },
  {
   "cell_type": "code",
   "execution_count": 187,
   "metadata": {},
   "outputs": [],
   "source": [
    "def plot_precision_recall(y_true,y_score):\n",
    "    \"\"\"\n",
    "    Plot a precision recall curve\n",
    "    \n",
    "    Parameters\n",
    "    ----------\n",
    "    y_true: ls\n",
    "        ground truth labels\n",
    "    y_score: ls\n",
    "        score output from model\n",
    "    \"\"\"\n",
    "    precision_curve, recall_curve, pr_thresholds = precision_recall_curve(y_true,y_score)\n",
    "    plt.plot(recall_curve, precision_curve)\n",
    "    plt.xlabel('Recall')\n",
    "    plt.ylabel('Precision')\n",
    "    plt.title('Model III')\n",
    "    auc_val = auc(recall_curve,precision_curve)\n",
    "    print('AUC-PR: {0:1f}'.format(auc_val))\n",
    "    plt.show()\n",
    "    plt.clf()"
   ]
  },
  {
   "cell_type": "code",
   "execution_count": 188,
   "metadata": {},
   "outputs": [
    {
     "name": "stdout",
     "output_type": "stream",
     "text": [
      "AUC-PR: 0.444286\n"
     ]
    },
    {
     "data": {
      "image/png": "[encoded data removed]",
      "text/plain": [
       "<matplotlib.figure.Figure at 0x7f2f21176cd0>"
      ]
     },
     "metadata": {},
     "output_type": "display_data"
    },
    {
     "data": {
      "text/plain": [
       "<matplotlib.figure.Figure at 0x7f2f210bddd0>"
      ]
     },
     "metadata": {},
     "output_type": "display_data"
    }
   ],
   "source": [
    "plot_precision_recall(expected, y_scores)"
   ]
  }
 ],
 "metadata": {
  "kernelspec": {
   "display_name": "Wagner",
   "language": "python",
   "name": "wagner"
  },
  "language_info": {
   "codemirror_mode": {
    "name": "ipython",
    "version": 2
   },
   "file_extension": ".py",
   "mimetype": "text/x-python",
   "name": "python",
   "nbconvert_exporter": "python",
   "pygments_lexer": "ipython2",
   "version": "2.7.12"
  }
 },
 "nbformat": 4,
 "nbformat_minor": 2
}
