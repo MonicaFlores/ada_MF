{
 "cells": [
  {
   "cell_type": "markdown",
   "metadata": {},
   "source": [
    "### Data Cleaning: Workers Residence Area Charactheristics"
   ]
  },
  {
   "cell_type": "markdown",
   "metadata": {},
   "source": [
    "By ADA Group 1\n",
    "\n",
    "In this Jupyter Notebook, we will clean the data obtained from OnTheMap (U.S.Census Bureau, Center for Economic Studies). https://onthemap.ces.census.gov/\n",
    "\n",
    "The specific dataset we retrieved from OnTheMap is the workers Residence Area Charactheristics from Longitudinal Employer-Household Dynamics (LEHD) Origin-Destination Employment Statistics. https://lehd.ces.census.gov/data/\n",
    "\n",
    "We decided to use this dataset since it is aggregated to Census Blocks. This is the smallest geaograohic aggregation available.\n",
    "\n",
    "The raw file contains workers age, income, race, and educational attainment divided in categories and aggregated at the census block level for 2002 and 2010. Indicating number of workers per each category in a given Block. Moreover, this notebook will get the relevant variables: income and educational attainment categories. Then, we will calculate the percentage change between 2002-2010. \n",
    "\n",
    "The raw file contains information for all New York State Blocks, that we will filter to obtain New York City only data, by performing an inner join with pur previously cleaned NYC Census Blocks dataset.\n"
   ]
  },
  {
   "cell_type": "markdown",
   "metadata": {},
   "source": [
    "### Import Packages"
   ]
  },
  {
   "cell_type": "code",
   "execution_count": 1,
   "metadata": {},
   "outputs": [
    {
     "name": "stdout",
     "output_type": "stream",
     "text": [
      "Populating the interactive namespace from numpy and matplotlib\n"
     ]
    },
    {
     "name": "stderr",
     "output_type": "stream",
     "text": [
      "/usr/local/Anaconda3-5.0.0-Linux-x86_64/envs/Wagner/lib/python2.7/site-packages/IPython/html.py:14: ShimWarning: The `IPython.html` package has been deprecated. You should import from `notebook` instead. `IPython.html.widgets` has moved to `ipywidgets`.\n",
      "  \"`IPython.html.widgets` has moved to `ipywidgets`.\", ShimWarning)\n"
     ]
    }
   ],
   "source": [
    "# visualization\n",
    "%pylab inline\n",
    "# import the packages\n",
    "# numpy for array and matrix computation\n",
    "import numpy as np\n",
    "\n",
    "# pandas for data analysis\n",
    "import pandas as pd\n",
    "\n",
    "# matplotlib and seaborn are the data visualization packages\n",
    "import matplotlib.pyplot as plt\n",
    "import seaborn as sns\n",
    "\n",
    "# sqlalchemy an psycopg2 are sql connection packages\n",
    "from sqlalchemy import create_engine\n",
    "\n",
    "# configure pandas display: set the maximum number of columns displayed to 25\n",
    "pd.options.display.max_columns = 25\n",
    "\n",
    "# use the __future__ version of division and print\n",
    "from __future__ import division, print_function\n",
    "\n",
    "# gzip and csv for unzip compressed files\n",
    "import gzip\n",
    "import csv\n",
    "\n",
    "import warnings\n",
    "warnings.filterwarnings('ignore')"
   ]
  },
  {
   "cell_type": "markdown",
   "metadata": {},
   "source": [
    "### Workers Data Extract and Import"
   ]
  },
  {
   "cell_type": "code",
   "execution_count": 2,
   "metadata": {},
   "outputs": [],
   "source": [
    "#Unzip data and save in shared folder\n",
    "##Data for Workers Residence 2002 at the Block level (the earliest available)\n",
    "with gzip.open(\"Data/ny_rac_S000_JT00_2002.csv.gz\", 'rt') as f:\n",
    "    data = f.read()\n",
    "    with open(\"Data/ny_rac_S000_JT00_2002.csv\", 'wt') as f:\n",
    "        f.write(data)"
   ]
  },
  {
   "cell_type": "code",
   "execution_count": 3,
   "metadata": {},
   "outputs": [],
   "source": [
    "#Data for Workers Residence in 2010 at the Block level\n",
    "with gzip.open(\"Data/ny_rac_S000_JT01_2010.csv.gz\", 'rt') as f:\n",
    "    data = f.read()\n",
    "    with open(\"Data/ny_rac_S000_JT01_2010.csv\", 'wt') as f:\n",
    "        f.write(data)"
   ]
  },
  {
   "cell_type": "code",
   "execution_count": 4,
   "metadata": {},
   "outputs": [
    {
     "data": {
      "text/plain": [
       "(238021, 43)"
      ]
     },
     "execution_count": 4,
     "metadata": {},
     "output_type": "execute_result"
    }
   ],
   "source": [
    "#Import the data for 2002\n",
    "ny_worker_2002 = pd.read_csv(\"Data/ny_rac_S000_JT00_2002.csv\", dtype= {'h_geocode': str})\n",
    "ny_worker_2002.shape\n",
    "#238,021 observations, 43 variables\n",
    "#Data contains all NY State Blocks"
   ]
  },
  {
   "cell_type": "code",
   "execution_count": 5,
   "metadata": {},
   "outputs": [
    {
     "data": {
      "text/plain": [
       "(238684, 43)"
      ]
     },
     "execution_count": 5,
     "metadata": {},
     "output_type": "execute_result"
    }
   ],
   "source": [
    "ny_worker_2010 = pd.read_csv(\"Data/ny_rac_S000_JT01_2010.csv\", dtype= {'h_geocode': str})\n",
    "ny_worker_2010.shape\n",
    "#238,684 observations, 43 variables"
   ]
  },
  {
   "cell_type": "markdown",
   "metadata": {},
   "source": [
    "### Subset variables\n",
    "Select the relevant variables first, and then subset the NYC only obeservation."
   ]
  },
  {
   "cell_type": "markdown",
   "metadata": {},
   "source": [
    "#### Variables of Interest in Workers Data\n",
    "\n",
    "\n",
    "1. CE01 : Number of jobs with earnings 1250USD/month or less\n",
    "2. CE02 : Number of jobs with earnings 1251USD/month to 3333USD/month\n",
    "3. CE03 : Number of jobs with earnings greater than 3333USD/month\n",
    "4. CD01 : Number of jobs for workers with Educational Attainment: Less than high school\n",
    "5. CD02 : Number of jobs for workers with Educational Attainment: High School or Equivalent\n",
    "6. CD03 : Number of jobs for workers with Educational Attainment: Some college or Associate Degree\n",
    "7. CD04 : Number of jobs for workers with Educational Attainment: Bachelor's degree or Advanced Degree"
   ]
  },
  {
   "cell_type": "code",
   "execution_count": 6,
   "metadata": {},
   "outputs": [],
   "source": [
    "# Create a subset vector to be referenced afterwards.\n",
    "subset = ['h_geocode', 'CE01', 'CE02', 'CE03', 'CD01', 'CD02', 'CD03', 'CD04']"
   ]
  },
  {
   "cell_type": "code",
   "execution_count": 7,
   "metadata": {},
   "outputs": [
    {
     "data": {
      "text/html": [
       "<div>\n",
       "<table border=\"1\" class=\"dataframe\">\n",
       "  <thead>\n",
       "    <tr style=\"text-align: right;\">\n",
       "      <th></th>\n",
       "      <th>h_geocode</th>\n",
       "      <th>CE01</th>\n",
       "      <th>CE02</th>\n",
       "      <th>CE03</th>\n",
       "      <th>CD01</th>\n",
       "      <th>CD02</th>\n",
       "      <th>CD03</th>\n",
       "      <th>CD04</th>\n",
       "    </tr>\n",
       "  </thead>\n",
       "  <tbody>\n",
       "    <tr>\n",
       "      <th>238016</th>\n",
       "      <td>361231505004017</td>\n",
       "      <td>2</td>\n",
       "      <td>9</td>\n",
       "      <td>2</td>\n",
       "      <td>0</td>\n",
       "      <td>0</td>\n",
       "      <td>0</td>\n",
       "      <td>0</td>\n",
       "    </tr>\n",
       "    <tr>\n",
       "      <th>238017</th>\n",
       "      <td>361231505004019</td>\n",
       "      <td>3</td>\n",
       "      <td>6</td>\n",
       "      <td>4</td>\n",
       "      <td>0</td>\n",
       "      <td>0</td>\n",
       "      <td>0</td>\n",
       "      <td>0</td>\n",
       "    </tr>\n",
       "    <tr>\n",
       "      <th>238018</th>\n",
       "      <td>361231505004020</td>\n",
       "      <td>0</td>\n",
       "      <td>0</td>\n",
       "      <td>1</td>\n",
       "      <td>0</td>\n",
       "      <td>0</td>\n",
       "      <td>0</td>\n",
       "      <td>0</td>\n",
       "    </tr>\n",
       "    <tr>\n",
       "      <th>238019</th>\n",
       "      <td>361231505004021</td>\n",
       "      <td>1</td>\n",
       "      <td>1</td>\n",
       "      <td>0</td>\n",
       "      <td>0</td>\n",
       "      <td>0</td>\n",
       "      <td>0</td>\n",
       "      <td>0</td>\n",
       "    </tr>\n",
       "    <tr>\n",
       "      <th>238020</th>\n",
       "      <td>361231505004022</td>\n",
       "      <td>0</td>\n",
       "      <td>1</td>\n",
       "      <td>2</td>\n",
       "      <td>0</td>\n",
       "      <td>0</td>\n",
       "      <td>0</td>\n",
       "      <td>0</td>\n",
       "    </tr>\n",
       "  </tbody>\n",
       "</table>\n",
       "</div>"
      ],
      "text/plain": [
       "              h_geocode  CE01  CE02  CE03  CD01  CD02  CD03  CD04\n",
       "238016  361231505004017     2     9     2     0     0     0     0\n",
       "238017  361231505004019     3     6     4     0     0     0     0\n",
       "238018  361231505004020     0     0     1     0     0     0     0\n",
       "238019  361231505004021     1     1     0     0     0     0     0\n",
       "238020  361231505004022     0     1     2     0     0     0     0"
      ]
     },
     "execution_count": 7,
     "metadata": {},
     "output_type": "execute_result"
    }
   ],
   "source": [
    "# Use the vector [subset] created above\n",
    "ny_worker_2002_working = ny_worker_2002[subset]\n",
    "ny_worker_2002_working.tail()"
   ]
  },
  {
   "cell_type": "code",
   "execution_count": 8,
   "metadata": {},
   "outputs": [
    {
     "data": {
      "text/html": [
       "<div>\n",
       "<table border=\"1\" class=\"dataframe\">\n",
       "  <thead>\n",
       "    <tr style=\"text-align: right;\">\n",
       "      <th></th>\n",
       "      <th>h_geocode</th>\n",
       "      <th>CE01</th>\n",
       "      <th>CE02</th>\n",
       "      <th>CE03</th>\n",
       "      <th>CD01</th>\n",
       "      <th>CD02</th>\n",
       "      <th>CD03</th>\n",
       "      <th>CD04</th>\n",
       "    </tr>\n",
       "  </thead>\n",
       "  <tbody>\n",
       "    <tr>\n",
       "      <th>238679</th>\n",
       "      <td>361231505004016</td>\n",
       "      <td>0</td>\n",
       "      <td>2</td>\n",
       "      <td>1</td>\n",
       "      <td>0</td>\n",
       "      <td>2</td>\n",
       "      <td>0</td>\n",
       "      <td>1</td>\n",
       "    </tr>\n",
       "    <tr>\n",
       "      <th>238680</th>\n",
       "      <td>361231505004017</td>\n",
       "      <td>1</td>\n",
       "      <td>4</td>\n",
       "      <td>1</td>\n",
       "      <td>0</td>\n",
       "      <td>3</td>\n",
       "      <td>2</td>\n",
       "      <td>0</td>\n",
       "    </tr>\n",
       "    <tr>\n",
       "      <th>238681</th>\n",
       "      <td>361231505004019</td>\n",
       "      <td>2</td>\n",
       "      <td>2</td>\n",
       "      <td>2</td>\n",
       "      <td>1</td>\n",
       "      <td>3</td>\n",
       "      <td>0</td>\n",
       "      <td>0</td>\n",
       "    </tr>\n",
       "    <tr>\n",
       "      <th>238682</th>\n",
       "      <td>361231505004020</td>\n",
       "      <td>1</td>\n",
       "      <td>1</td>\n",
       "      <td>3</td>\n",
       "      <td>0</td>\n",
       "      <td>2</td>\n",
       "      <td>2</td>\n",
       "      <td>0</td>\n",
       "    </tr>\n",
       "    <tr>\n",
       "      <th>238683</th>\n",
       "      <td>361231505004022</td>\n",
       "      <td>2</td>\n",
       "      <td>1</td>\n",
       "      <td>1</td>\n",
       "      <td>0</td>\n",
       "      <td>2</td>\n",
       "      <td>1</td>\n",
       "      <td>0</td>\n",
       "    </tr>\n",
       "  </tbody>\n",
       "</table>\n",
       "</div>"
      ],
      "text/plain": [
       "              h_geocode  CE01  CE02  CE03  CD01  CD02  CD03  CD04\n",
       "238679  361231505004016     0     2     1     0     2     0     1\n",
       "238680  361231505004017     1     4     1     0     3     2     0\n",
       "238681  361231505004019     2     2     2     1     3     0     0\n",
       "238682  361231505004020     1     1     3     0     2     2     0\n",
       "238683  361231505004022     2     1     1     0     2     1     0"
      ]
     },
     "execution_count": 8,
     "metadata": {},
     "output_type": "execute_result"
    }
   ],
   "source": [
    "ny_worker_2010_working = ny_worker_2010[subset]\n",
    "ny_worker_2010_working.tail()"
   ]
  },
  {
   "cell_type": "markdown",
   "metadata": {},
   "source": [
    "### Subset Observations\n",
    "Perform an inner Join Worker's Data to our previously cleaned New York Census Block Group data. "
   ]
  },
  {
   "cell_type": "code",
   "execution_count": 9,
   "metadata": {},
   "outputs": [
    {
     "data": {
      "text/html": [
       "<div>\n",
       "<table border=\"1\" class=\"dataframe\">\n",
       "  <thead>\n",
       "    <tr style=\"text-align: right;\">\n",
       "      <th></th>\n",
       "      <th>BLOCKID</th>\n",
       "    </tr>\n",
       "  </thead>\n",
       "  <tbody>\n",
       "    <tr>\n",
       "      <th>29348</th>\n",
       "      <td>360850134001015</td>\n",
       "    </tr>\n",
       "    <tr>\n",
       "      <th>29349</th>\n",
       "      <td>360850146042016</td>\n",
       "    </tr>\n",
       "    <tr>\n",
       "      <th>29350</th>\n",
       "      <td>360850121002001</td>\n",
       "    </tr>\n",
       "    <tr>\n",
       "      <th>29351</th>\n",
       "      <td>360470015003000</td>\n",
       "    </tr>\n",
       "    <tr>\n",
       "      <th>29352</th>\n",
       "      <td>360470015003000</td>\n",
       "    </tr>\n",
       "  </tbody>\n",
       "</table>\n",
       "</div>"
      ],
      "text/plain": [
       "               BLOCKID\n",
       "29348  360850134001015\n",
       "29349  360850146042016\n",
       "29350  360850121002001\n",
       "29351  360470015003000\n",
       "29352  360470015003000"
      ]
     },
     "execution_count": 9,
     "metadata": {},
     "output_type": "execute_result"
    }
   ],
   "source": [
    "#Import only Block unique identifier from clean NYC Blocks data\n",
    "blocks_nyc = pd.read_csv(\"Data/blocks_clean.csv\", usecols=range(1,2), dtype= {'BLOCKID': str})\n",
    "blocks_nyc.tail()"
   ]
  },
  {
   "cell_type": "code",
   "execution_count": 10,
   "metadata": {},
   "outputs": [
    {
     "data": {
      "text/plain": [
       "(29249, 9)"
      ]
     },
     "execution_count": 10,
     "metadata": {},
     "output_type": "execute_result"
    }
   ],
   "source": [
    "#Inner join so that only observations that are in both datasets will be in the output\n",
    "#Run for 2002\n",
    "nyc_blocks_workers02 = ny_worker_2002_working.merge(blocks_nyc, left_on = 'h_geocode', \n",
    "                                                    right_on = 'BLOCKID', how = 'inner' )\n",
    "nyc_blocks_workers02.shape\n",
    "# 29,249 observations, 10 variables."
   ]
  },
  {
   "cell_type": "code",
   "execution_count": 11,
   "metadata": {},
   "outputs": [
    {
     "data": {
      "text/plain": [
       "(29266, 9)"
      ]
     },
     "execution_count": 11,
     "metadata": {},
     "output_type": "execute_result"
    }
   ],
   "source": [
    "#Repeat inner join for 2010\n",
    "nyc_blocks_workers10 = ny_worker_2010_working.merge(blocks_nyc, left_on = 'h_geocode', \n",
    "                                                    right_on = 'BLOCKID', how = 'inner' )\n",
    "nyc_blocks_workers10.shape\n",
    "# 29,266 observations, 10 variables. "
   ]
  },
  {
   "cell_type": "code",
   "execution_count": 13,
   "metadata": {},
   "outputs": [
    {
     "data": {
      "text/html": [
       "<div>\n",
       "<table border=\"1\" class=\"dataframe\">\n",
       "  <thead>\n",
       "    <tr style=\"text-align: right;\">\n",
       "      <th></th>\n",
       "      <th>BLOCKID</th>\n",
       "      <th>CE01</th>\n",
       "      <th>CE02</th>\n",
       "      <th>CE03</th>\n",
       "      <th>CD01</th>\n",
       "      <th>CD02</th>\n",
       "      <th>CD03</th>\n",
       "      <th>CD04</th>\n",
       "    </tr>\n",
       "  </thead>\n",
       "  <tbody>\n",
       "    <tr>\n",
       "      <th>29244</th>\n",
       "      <td>360850323001012</td>\n",
       "      <td>30</td>\n",
       "      <td>52</td>\n",
       "      <td>27</td>\n",
       "      <td>0</td>\n",
       "      <td>0</td>\n",
       "      <td>0</td>\n",
       "      <td>0</td>\n",
       "    </tr>\n",
       "    <tr>\n",
       "      <th>29245</th>\n",
       "      <td>360850323001013</td>\n",
       "      <td>1</td>\n",
       "      <td>2</td>\n",
       "      <td>0</td>\n",
       "      <td>0</td>\n",
       "      <td>0</td>\n",
       "      <td>0</td>\n",
       "      <td>0</td>\n",
       "    </tr>\n",
       "    <tr>\n",
       "      <th>29246</th>\n",
       "      <td>360850323001014</td>\n",
       "      <td>0</td>\n",
       "      <td>2</td>\n",
       "      <td>5</td>\n",
       "      <td>0</td>\n",
       "      <td>0</td>\n",
       "      <td>0</td>\n",
       "      <td>0</td>\n",
       "    </tr>\n",
       "    <tr>\n",
       "      <th>29247</th>\n",
       "      <td>360850323001015</td>\n",
       "      <td>2</td>\n",
       "      <td>4</td>\n",
       "      <td>2</td>\n",
       "      <td>0</td>\n",
       "      <td>0</td>\n",
       "      <td>0</td>\n",
       "      <td>0</td>\n",
       "    </tr>\n",
       "    <tr>\n",
       "      <th>29248</th>\n",
       "      <td>360850323001019</td>\n",
       "      <td>4</td>\n",
       "      <td>4</td>\n",
       "      <td>0</td>\n",
       "      <td>0</td>\n",
       "      <td>0</td>\n",
       "      <td>0</td>\n",
       "      <td>0</td>\n",
       "    </tr>\n",
       "  </tbody>\n",
       "</table>\n",
       "</div>"
      ],
      "text/plain": [
       "               BLOCKID  CE01  CE02  CE03  CD01  CD02  CD03  CD04\n",
       "29244  360850323001012    30    52    27     0     0     0     0\n",
       "29245  360850323001013     1     2     0     0     0     0     0\n",
       "29246  360850323001014     0     2     5     0     0     0     0\n",
       "29247  360850323001015     2     4     2     0     0     0     0\n",
       "29248  360850323001019     4     4     0     0     0     0     0"
      ]
     },
     "execution_count": 13,
     "metadata": {},
     "output_type": "execute_result"
    }
   ],
   "source": [
    "# Create a subset vector to only keep one Block ID.\n",
    "# Run for 2002.\n",
    "subset2 = ['BLOCKID', 'CE01', 'CE02', 'CE03', 'CD01', 'CD02', 'CD03', 'CD04']\n",
    "nyc_workers02_clean = nyc_blocks_workers02[subset2]\n",
    "nyc_workers02_clean.tail()"
   ]
  },
  {
   "cell_type": "code",
   "execution_count": 14,
   "metadata": {},
   "outputs": [
    {
     "data": {
      "text/html": [
       "<div>\n",
       "<table border=\"1\" class=\"dataframe\">\n",
       "  <thead>\n",
       "    <tr style=\"text-align: right;\">\n",
       "      <th></th>\n",
       "      <th>BLOCKID</th>\n",
       "      <th>CE01</th>\n",
       "      <th>CE02</th>\n",
       "      <th>CE03</th>\n",
       "      <th>CD01</th>\n",
       "      <th>CD02</th>\n",
       "      <th>CD03</th>\n",
       "      <th>CD04</th>\n",
       "    </tr>\n",
       "  </thead>\n",
       "  <tbody>\n",
       "    <tr>\n",
       "      <th>29261</th>\n",
       "      <td>360850323001012</td>\n",
       "      <td>38</td>\n",
       "      <td>53</td>\n",
       "      <td>69</td>\n",
       "      <td>15</td>\n",
       "      <td>25</td>\n",
       "      <td>41</td>\n",
       "      <td>45</td>\n",
       "    </tr>\n",
       "    <tr>\n",
       "      <th>29262</th>\n",
       "      <td>360850323001013</td>\n",
       "      <td>2</td>\n",
       "      <td>1</td>\n",
       "      <td>2</td>\n",
       "      <td>1</td>\n",
       "      <td>1</td>\n",
       "      <td>0</td>\n",
       "      <td>2</td>\n",
       "    </tr>\n",
       "    <tr>\n",
       "      <th>29263</th>\n",
       "      <td>360850323001014</td>\n",
       "      <td>1</td>\n",
       "      <td>1</td>\n",
       "      <td>6</td>\n",
       "      <td>1</td>\n",
       "      <td>1</td>\n",
       "      <td>3</td>\n",
       "      <td>2</td>\n",
       "    </tr>\n",
       "    <tr>\n",
       "      <th>29264</th>\n",
       "      <td>360850323001015</td>\n",
       "      <td>1</td>\n",
       "      <td>3</td>\n",
       "      <td>7</td>\n",
       "      <td>1</td>\n",
       "      <td>0</td>\n",
       "      <td>2</td>\n",
       "      <td>4</td>\n",
       "    </tr>\n",
       "    <tr>\n",
       "      <th>29265</th>\n",
       "      <td>360850323001019</td>\n",
       "      <td>0</td>\n",
       "      <td>5</td>\n",
       "      <td>7</td>\n",
       "      <td>0</td>\n",
       "      <td>6</td>\n",
       "      <td>3</td>\n",
       "      <td>2</td>\n",
       "    </tr>\n",
       "  </tbody>\n",
       "</table>\n",
       "</div>"
      ],
      "text/plain": [
       "               BLOCKID  CE01  CE02  CE03  CD01  CD02  CD03  CD04\n",
       "29261  360850323001012    38    53    69    15    25    41    45\n",
       "29262  360850323001013     2     1     2     1     1     0     2\n",
       "29263  360850323001014     1     1     6     1     1     3     2\n",
       "29264  360850323001015     1     3     7     1     0     2     4\n",
       "29265  360850323001019     0     5     7     0     6     3     2"
      ]
     },
     "execution_count": 14,
     "metadata": {},
     "output_type": "execute_result"
    }
   ],
   "source": [
    "# Run for 2010.\n",
    "nyc_workers10_clean = nyc_blocks_workers10[subset2]\n",
    "nyc_workers10_clean.tail()"
   ]
  },
  {
   "cell_type": "markdown",
   "metadata": {},
   "source": [
    "### Join the Two Datasets\n",
    "So far we have two datasets with workers information: 2002 and 2010.\n",
    "Here we are going to join them, but first we'll rename the variables to better indicate what they have and add the year after all of them in the format: variableName_YYYY. \n"
   ]
  },
  {
   "cell_type": "markdown",
   "metadata": {},
   "source": [
    "#### Rename Variables"
   ]
  },
  {
   "cell_type": "code",
   "execution_count": 15,
   "metadata": {},
   "outputs": [
    {
     "data": {
      "text/html": [
       "<div>\n",
       "<table border=\"1\" class=\"dataframe\">\n",
       "  <thead>\n",
       "    <tr style=\"text-align: right;\">\n",
       "      <th></th>\n",
       "      <th>BLOCKID</th>\n",
       "      <th>Inc01_2002</th>\n",
       "      <th>Inc02_2002</th>\n",
       "      <th>Inc03_2002</th>\n",
       "      <th>Ed01_2002</th>\n",
       "      <th>Ed02_2002</th>\n",
       "      <th>Ed03_2002</th>\n",
       "      <th>Ed04_2002</th>\n",
       "    </tr>\n",
       "  </thead>\n",
       "  <tbody>\n",
       "    <tr>\n",
       "      <th>29244</th>\n",
       "      <td>360850323001012</td>\n",
       "      <td>30</td>\n",
       "      <td>52</td>\n",
       "      <td>27</td>\n",
       "      <td>0</td>\n",
       "      <td>0</td>\n",
       "      <td>0</td>\n",
       "      <td>0</td>\n",
       "    </tr>\n",
       "    <tr>\n",
       "      <th>29245</th>\n",
       "      <td>360850323001013</td>\n",
       "      <td>1</td>\n",
       "      <td>2</td>\n",
       "      <td>0</td>\n",
       "      <td>0</td>\n",
       "      <td>0</td>\n",
       "      <td>0</td>\n",
       "      <td>0</td>\n",
       "    </tr>\n",
       "    <tr>\n",
       "      <th>29246</th>\n",
       "      <td>360850323001014</td>\n",
       "      <td>0</td>\n",
       "      <td>2</td>\n",
       "      <td>5</td>\n",
       "      <td>0</td>\n",
       "      <td>0</td>\n",
       "      <td>0</td>\n",
       "      <td>0</td>\n",
       "    </tr>\n",
       "    <tr>\n",
       "      <th>29247</th>\n",
       "      <td>360850323001015</td>\n",
       "      <td>2</td>\n",
       "      <td>4</td>\n",
       "      <td>2</td>\n",
       "      <td>0</td>\n",
       "      <td>0</td>\n",
       "      <td>0</td>\n",
       "      <td>0</td>\n",
       "    </tr>\n",
       "    <tr>\n",
       "      <th>29248</th>\n",
       "      <td>360850323001019</td>\n",
       "      <td>4</td>\n",
       "      <td>4</td>\n",
       "      <td>0</td>\n",
       "      <td>0</td>\n",
       "      <td>0</td>\n",
       "      <td>0</td>\n",
       "      <td>0</td>\n",
       "    </tr>\n",
       "  </tbody>\n",
       "</table>\n",
       "</div>"
      ],
      "text/plain": [
       "               BLOCKID  Inc01_2002  Inc02_2002  Inc03_2002  Ed01_2002  \\\n",
       "29244  360850323001012          30          52          27          0   \n",
       "29245  360850323001013           1           2           0          0   \n",
       "29246  360850323001014           0           2           5          0   \n",
       "29247  360850323001015           2           4           2          0   \n",
       "29248  360850323001019           4           4           0          0   \n",
       "\n",
       "       Ed02_2002  Ed03_2002  Ed04_2002  \n",
       "29244          0          0          0  \n",
       "29245          0          0          0  \n",
       "29246          0          0          0  \n",
       "29247          0          0          0  \n",
       "29248          0          0          0  "
      ]
     },
     "execution_count": 15,
     "metadata": {},
     "output_type": "execute_result"
    }
   ],
   "source": [
    "# Rename all columns except BLOCKID _YYYY (last four digits of the observation year)\n",
    "# Run for 2002\n",
    "nyc_workers02_clean.columns = ['BLOCKID', 'Inc01_2002', 'Inc02_2002', 'Inc03_2002', 'Ed01_2002', 'Ed02_2002', 'Ed03_2002', 'Ed04_2002']\n",
    "nyc_workers02_clean.tail()"
   ]
  },
  {
   "cell_type": "code",
   "execution_count": 16,
   "metadata": {},
   "outputs": [
    {
     "data": {
      "text/html": [
       "<div>\n",
       "<table border=\"1\" class=\"dataframe\">\n",
       "  <thead>\n",
       "    <tr style=\"text-align: right;\">\n",
       "      <th></th>\n",
       "      <th>BLOCKID</th>\n",
       "      <th>Inc01_2002</th>\n",
       "      <th>Inc02_2002</th>\n",
       "      <th>Inc03_2002</th>\n",
       "      <th>Ed01_2002</th>\n",
       "      <th>Ed02_2002</th>\n",
       "      <th>Ed03_2002</th>\n",
       "      <th>Ed04_2002</th>\n",
       "    </tr>\n",
       "  </thead>\n",
       "  <tbody>\n",
       "    <tr>\n",
       "      <th>29244</th>\n",
       "      <td>360850323001012</td>\n",
       "      <td>30</td>\n",
       "      <td>52</td>\n",
       "      <td>27</td>\n",
       "      <td>0</td>\n",
       "      <td>0</td>\n",
       "      <td>0</td>\n",
       "      <td>0</td>\n",
       "    </tr>\n",
       "    <tr>\n",
       "      <th>29245</th>\n",
       "      <td>360850323001013</td>\n",
       "      <td>1</td>\n",
       "      <td>2</td>\n",
       "      <td>0</td>\n",
       "      <td>0</td>\n",
       "      <td>0</td>\n",
       "      <td>0</td>\n",
       "      <td>0</td>\n",
       "    </tr>\n",
       "    <tr>\n",
       "      <th>29246</th>\n",
       "      <td>360850323001014</td>\n",
       "      <td>0</td>\n",
       "      <td>2</td>\n",
       "      <td>5</td>\n",
       "      <td>0</td>\n",
       "      <td>0</td>\n",
       "      <td>0</td>\n",
       "      <td>0</td>\n",
       "    </tr>\n",
       "    <tr>\n",
       "      <th>29247</th>\n",
       "      <td>360850323001015</td>\n",
       "      <td>2</td>\n",
       "      <td>4</td>\n",
       "      <td>2</td>\n",
       "      <td>0</td>\n",
       "      <td>0</td>\n",
       "      <td>0</td>\n",
       "      <td>0</td>\n",
       "    </tr>\n",
       "    <tr>\n",
       "      <th>29248</th>\n",
       "      <td>360850323001019</td>\n",
       "      <td>4</td>\n",
       "      <td>4</td>\n",
       "      <td>0</td>\n",
       "      <td>0</td>\n",
       "      <td>0</td>\n",
       "      <td>0</td>\n",
       "      <td>0</td>\n",
       "    </tr>\n",
       "  </tbody>\n",
       "</table>\n",
       "</div>"
      ],
      "text/plain": [
       "               BLOCKID  Inc01_2002  Inc02_2002  Inc03_2002  Ed01_2002  \\\n",
       "29244  360850323001012          30          52          27          0   \n",
       "29245  360850323001013           1           2           0          0   \n",
       "29246  360850323001014           0           2           5          0   \n",
       "29247  360850323001015           2           4           2          0   \n",
       "29248  360850323001019           4           4           0          0   \n",
       "\n",
       "       Ed02_2002  Ed03_2002  Ed04_2002  \n",
       "29244          0          0          0  \n",
       "29245          0          0          0  \n",
       "29246          0          0          0  \n",
       "29247          0          0          0  \n",
       "29248          0          0          0  "
      ]
     },
     "execution_count": 16,
     "metadata": {},
     "output_type": "execute_result"
    }
   ],
   "source": [
    "# Run for 2010\n",
    "nyc_workers10_clean.columns = ['BLOCKID', 'Inc01_2010', 'Inc02_2010', 'Inc03_2010', 'Ed01_2010', 'Ed02_2010', 'Ed03_2010', 'Ed04_2010']\n",
    "nyc_workers02_clean.tail()"
   ]
  },
  {
   "cell_type": "markdown",
   "metadata": {},
   "source": [
    "#### Join Datasets"
   ]
  },
  {
   "cell_type": "code",
   "execution_count": 17,
   "metadata": {},
   "outputs": [
    {
     "data": {
      "text/plain": [
       "(29192, 15)"
      ]
     },
     "execution_count": 17,
     "metadata": {},
     "output_type": "execute_result"
    }
   ],
   "source": [
    "#Inner join the two datasets\n",
    "workers_02_10 = nyc_workers02_clean.merge(nyc_workers10_clean, left_on = 'BLOCKID', \n",
    "                                                    right_on = 'BLOCKID', how = 'inner' )\n",
    "workers_02_10.shape\n",
    "# 28371 observations, 15 variables"
   ]
  },
  {
   "cell_type": "code",
   "execution_count": 18,
   "metadata": {},
   "outputs": [
    {
     "data": {
      "text/html": [
       "<div>\n",
       "<table border=\"1\" class=\"dataframe\">\n",
       "  <thead>\n",
       "    <tr style=\"text-align: right;\">\n",
       "      <th></th>\n",
       "      <th>BLOCKID</th>\n",
       "      <th>Inc01_2002</th>\n",
       "      <th>Inc02_2002</th>\n",
       "      <th>Inc03_2002</th>\n",
       "      <th>Ed01_2002</th>\n",
       "      <th>Ed02_2002</th>\n",
       "      <th>Ed03_2002</th>\n",
       "      <th>Ed04_2002</th>\n",
       "      <th>Inc01_2010</th>\n",
       "      <th>Inc02_2010</th>\n",
       "      <th>Inc03_2010</th>\n",
       "      <th>Ed01_2010</th>\n",
       "      <th>Ed02_2010</th>\n",
       "      <th>Ed03_2010</th>\n",
       "      <th>Ed04_2010</th>\n",
       "    </tr>\n",
       "  </thead>\n",
       "  <tbody>\n",
       "    <tr>\n",
       "      <th>29187</th>\n",
       "      <td>360850323001012</td>\n",
       "      <td>30</td>\n",
       "      <td>52</td>\n",
       "      <td>27</td>\n",
       "      <td>0</td>\n",
       "      <td>0</td>\n",
       "      <td>0</td>\n",
       "      <td>0</td>\n",
       "      <td>38</td>\n",
       "      <td>53</td>\n",
       "      <td>69</td>\n",
       "      <td>15</td>\n",
       "      <td>25</td>\n",
       "      <td>41</td>\n",
       "      <td>45</td>\n",
       "    </tr>\n",
       "    <tr>\n",
       "      <th>29188</th>\n",
       "      <td>360850323001013</td>\n",
       "      <td>1</td>\n",
       "      <td>2</td>\n",
       "      <td>0</td>\n",
       "      <td>0</td>\n",
       "      <td>0</td>\n",
       "      <td>0</td>\n",
       "      <td>0</td>\n",
       "      <td>2</td>\n",
       "      <td>1</td>\n",
       "      <td>2</td>\n",
       "      <td>1</td>\n",
       "      <td>1</td>\n",
       "      <td>0</td>\n",
       "      <td>2</td>\n",
       "    </tr>\n",
       "    <tr>\n",
       "      <th>29189</th>\n",
       "      <td>360850323001014</td>\n",
       "      <td>0</td>\n",
       "      <td>2</td>\n",
       "      <td>5</td>\n",
       "      <td>0</td>\n",
       "      <td>0</td>\n",
       "      <td>0</td>\n",
       "      <td>0</td>\n",
       "      <td>1</td>\n",
       "      <td>1</td>\n",
       "      <td>6</td>\n",
       "      <td>1</td>\n",
       "      <td>1</td>\n",
       "      <td>3</td>\n",
       "      <td>2</td>\n",
       "    </tr>\n",
       "    <tr>\n",
       "      <th>29190</th>\n",
       "      <td>360850323001015</td>\n",
       "      <td>2</td>\n",
       "      <td>4</td>\n",
       "      <td>2</td>\n",
       "      <td>0</td>\n",
       "      <td>0</td>\n",
       "      <td>0</td>\n",
       "      <td>0</td>\n",
       "      <td>1</td>\n",
       "      <td>3</td>\n",
       "      <td>7</td>\n",
       "      <td>1</td>\n",
       "      <td>0</td>\n",
       "      <td>2</td>\n",
       "      <td>4</td>\n",
       "    </tr>\n",
       "    <tr>\n",
       "      <th>29191</th>\n",
       "      <td>360850323001019</td>\n",
       "      <td>4</td>\n",
       "      <td>4</td>\n",
       "      <td>0</td>\n",
       "      <td>0</td>\n",
       "      <td>0</td>\n",
       "      <td>0</td>\n",
       "      <td>0</td>\n",
       "      <td>0</td>\n",
       "      <td>5</td>\n",
       "      <td>7</td>\n",
       "      <td>0</td>\n",
       "      <td>6</td>\n",
       "      <td>3</td>\n",
       "      <td>2</td>\n",
       "    </tr>\n",
       "  </tbody>\n",
       "</table>\n",
       "</div>"
      ],
      "text/plain": [
       "               BLOCKID  Inc01_2002  Inc02_2002  Inc03_2002  Ed01_2002  \\\n",
       "29187  360850323001012          30          52          27          0   \n",
       "29188  360850323001013           1           2           0          0   \n",
       "29189  360850323001014           0           2           5          0   \n",
       "29190  360850323001015           2           4           2          0   \n",
       "29191  360850323001019           4           4           0          0   \n",
       "\n",
       "       Ed02_2002  Ed03_2002  Ed04_2002  Inc01_2010  Inc02_2010  Inc03_2010  \\\n",
       "29187          0          0          0          38          53          69   \n",
       "29188          0          0          0           2           1           2   \n",
       "29189          0          0          0           1           1           6   \n",
       "29190          0          0          0           1           3           7   \n",
       "29191          0          0          0           0           5           7   \n",
       "\n",
       "       Ed01_2010  Ed02_2010  Ed03_2010  Ed04_2010  \n",
       "29187         15         25         41         45  \n",
       "29188          1          1          0          2  \n",
       "29189          1          1          3          2  \n",
       "29190          1          0          2          4  \n",
       "29191          0          6          3          2  "
      ]
     },
     "execution_count": 18,
     "metadata": {},
     "output_type": "execute_result"
    }
   ],
   "source": [
    "workers_02_10.tail()"
   ]
  },
  {
   "cell_type": "markdown",
   "metadata": {},
   "source": [
    "### Create new variables\n",
    "For measuring gentrification, it is relevant to add change in educational attainment and income of the population.\n",
    "We will focus on calculating the change for the higher income and the higher educated workers. Therefore we will be measuring changes in the \"gentrifying group\". This variables will be used as outcome variables for our modelling."
   ]
  },
  {
   "cell_type": "code",
   "execution_count": 19,
   "metadata": {},
   "outputs": [
    {
     "data": {
      "text/html": [
       "<div>\n",
       "<table border=\"1\" class=\"dataframe\">\n",
       "  <thead>\n",
       "    <tr style=\"text-align: right;\">\n",
       "      <th></th>\n",
       "      <th>BLOCKID</th>\n",
       "      <th>Inc01_2002</th>\n",
       "      <th>Inc02_2002</th>\n",
       "      <th>Inc03_2002</th>\n",
       "      <th>Ed01_2002</th>\n",
       "      <th>Ed02_2002</th>\n",
       "      <th>Ed03_2002</th>\n",
       "      <th>Ed04_2002</th>\n",
       "      <th>Inc01_2010</th>\n",
       "      <th>Inc02_2010</th>\n",
       "      <th>Inc03_2010</th>\n",
       "      <th>Ed01_2010</th>\n",
       "      <th>Ed02_2010</th>\n",
       "      <th>Ed03_2010</th>\n",
       "      <th>Ed04_2010</th>\n",
       "      <th>pct_ch_hInc</th>\n",
       "      <th>pct_ch_hEduc</th>\n",
       "    </tr>\n",
       "  </thead>\n",
       "  <tbody>\n",
       "    <tr>\n",
       "      <th>29187</th>\n",
       "      <td>360850323001012</td>\n",
       "      <td>30</td>\n",
       "      <td>52</td>\n",
       "      <td>27</td>\n",
       "      <td>0</td>\n",
       "      <td>0</td>\n",
       "      <td>0</td>\n",
       "      <td>0</td>\n",
       "      <td>38</td>\n",
       "      <td>53</td>\n",
       "      <td>69</td>\n",
       "      <td>15</td>\n",
       "      <td>25</td>\n",
       "      <td>41</td>\n",
       "      <td>45</td>\n",
       "      <td>1.549815</td>\n",
       "      <td>450.0</td>\n",
       "    </tr>\n",
       "    <tr>\n",
       "      <th>29188</th>\n",
       "      <td>360850323001013</td>\n",
       "      <td>1</td>\n",
       "      <td>2</td>\n",
       "      <td>0</td>\n",
       "      <td>0</td>\n",
       "      <td>0</td>\n",
       "      <td>0</td>\n",
       "      <td>0</td>\n",
       "      <td>2</td>\n",
       "      <td>1</td>\n",
       "      <td>2</td>\n",
       "      <td>1</td>\n",
       "      <td>1</td>\n",
       "      <td>0</td>\n",
       "      <td>2</td>\n",
       "      <td>20.000000</td>\n",
       "      <td>20.0</td>\n",
       "    </tr>\n",
       "    <tr>\n",
       "      <th>29189</th>\n",
       "      <td>360850323001014</td>\n",
       "      <td>0</td>\n",
       "      <td>2</td>\n",
       "      <td>5</td>\n",
       "      <td>0</td>\n",
       "      <td>0</td>\n",
       "      <td>0</td>\n",
       "      <td>0</td>\n",
       "      <td>1</td>\n",
       "      <td>1</td>\n",
       "      <td>6</td>\n",
       "      <td>1</td>\n",
       "      <td>1</td>\n",
       "      <td>3</td>\n",
       "      <td>2</td>\n",
       "      <td>0.196078</td>\n",
       "      <td>20.0</td>\n",
       "    </tr>\n",
       "    <tr>\n",
       "      <th>29190</th>\n",
       "      <td>360850323001015</td>\n",
       "      <td>2</td>\n",
       "      <td>4</td>\n",
       "      <td>2</td>\n",
       "      <td>0</td>\n",
       "      <td>0</td>\n",
       "      <td>0</td>\n",
       "      <td>0</td>\n",
       "      <td>1</td>\n",
       "      <td>3</td>\n",
       "      <td>7</td>\n",
       "      <td>1</td>\n",
       "      <td>0</td>\n",
       "      <td>2</td>\n",
       "      <td>4</td>\n",
       "      <td>2.380952</td>\n",
       "      <td>40.0</td>\n",
       "    </tr>\n",
       "    <tr>\n",
       "      <th>29191</th>\n",
       "      <td>360850323001019</td>\n",
       "      <td>4</td>\n",
       "      <td>4</td>\n",
       "      <td>0</td>\n",
       "      <td>0</td>\n",
       "      <td>0</td>\n",
       "      <td>0</td>\n",
       "      <td>0</td>\n",
       "      <td>0</td>\n",
       "      <td>5</td>\n",
       "      <td>7</td>\n",
       "      <td>0</td>\n",
       "      <td>6</td>\n",
       "      <td>3</td>\n",
       "      <td>2</td>\n",
       "      <td>70.000000</td>\n",
       "      <td>20.0</td>\n",
       "    </tr>\n",
       "  </tbody>\n",
       "</table>\n",
       "</div>"
      ],
      "text/plain": [
       "               BLOCKID  Inc01_2002  Inc02_2002  Inc03_2002  Ed01_2002  \\\n",
       "29187  360850323001012          30          52          27          0   \n",
       "29188  360850323001013           1           2           0          0   \n",
       "29189  360850323001014           0           2           5          0   \n",
       "29190  360850323001015           2           4           2          0   \n",
       "29191  360850323001019           4           4           0          0   \n",
       "\n",
       "       Ed02_2002  Ed03_2002  Ed04_2002  Inc01_2010  Inc02_2010  Inc03_2010  \\\n",
       "29187          0          0          0          38          53          69   \n",
       "29188          0          0          0           2           1           2   \n",
       "29189          0          0          0           1           1           6   \n",
       "29190          0          0          0           1           3           7   \n",
       "29191          0          0          0           0           5           7   \n",
       "\n",
       "       Ed01_2010  Ed02_2010  Ed03_2010  Ed04_2010  pct_ch_hInc  pct_ch_hEduc  \n",
       "29187         15         25         41         45     1.549815         450.0  \n",
       "29188          1          1          0          2    20.000000          20.0  \n",
       "29189          1          1          3          2     0.196078          20.0  \n",
       "29190          1          0          2          4     2.380952          40.0  \n",
       "29191          0          6          3          2    70.000000          20.0  "
      ]
     },
     "execution_count": 19,
     "metadata": {},
     "output_type": "execute_result"
    }
   ],
   "source": [
    "# Create new variables with change in highly educated workers population and high income bracket workers population.\n",
    "workers_02_10['pct_ch_hInc']  = (workers_02_10['Inc03_2010'] - workers_02_10['Inc03_2002'])/ (workers_02_10['Inc03_2002']+0.1)\n",
    "\n",
    "workers_02_10['pct_ch_hEduc']  = (workers_02_10['Ed04_2010']-workers_02_10['Ed04_2002'])/(workers_02_10['Ed04_2002']+0.1)\n",
    "\n",
    "workers_02_10.tail()"
   ]
  },
  {
   "cell_type": "code",
   "execution_count": 20,
   "metadata": {},
   "outputs": [],
   "source": [
    "workers_02_10.to_csv(\"Data/workers_02_10_Clean.csv\", encoding='utf8')"
   ]
  },
  {
   "cell_type": "code",
   "execution_count": null,
   "metadata": {},
   "outputs": [],
   "source": []
  }
 ],
 "metadata": {
  "kernelspec": {
   "display_name": "Wagner",
   "language": "python",
   "name": "wagner"
  },
  "language_info": {
   "codemirror_mode": {
    "name": "ipython",
    "version": 2
   },
   "file_extension": ".py",
   "mimetype": "text/x-python",
   "name": "python",
   "nbconvert_exporter": "python",
   "pygments_lexer": "ipython2",
   "version": "2.7.12"
  }
 },
 "nbformat": 4,
 "nbformat_minor": 2
}
