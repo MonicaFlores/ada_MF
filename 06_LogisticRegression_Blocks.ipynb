{
 "cells": [
  {
   "cell_type": "markdown",
   "metadata": {},
   "source": [
    "### Predicting Gentrification at the Census Block Group Level\n",
    "\n",
    "**Authors**: *Matthew Berry, Monica Flores, Zarni Htet and Yinglingyan Wang*\n",
    "\n",
    "### Introduction\n",
    "\n",
    "In this document, several logistic regression are fitted on the percentage change in white household ratios of a census block as an outcome variable.\n",
    "By our literature review, any positive change in white household ratios of a neighborhood (in this notebook, we are looking at the census block group level) can be considered gentification. From our exploratory data analysis, we see a distribution of percent changes centered slightly on the negative side of zero. We have an initial consideration of 75th percentile as the cut-off point for distingushing those below it as non-gentrified and those above as gentrified.  \n",
    "\n",
    "Some of the predictor variables for gentrification we have in consideration are as below:\n",
    "\n",
    "* whether a Business Improve District (BIDs) is in the census block or not\n",
    "* area of the Census Block Group the BIDs are under\n",
    "* the duration of the BIDs year\n",
    "* percentage of different racial composition of households in our base year of 2000\n",
    "* borough_fixed effects\n",
    "* neighborhood_fixed effects\n",
    "* Number of workers of three different income levels in each census block group\n",
    "* Number of workers of four different educational attainment in each census block group\n",
    "* Distance of subway entraces of the center of each census block group\n",
    "* Distance of small parks from the center of each census block group\n",
    "* Distance of large parks from the center of each census block group\n",
    "\n",
    "We are running several different models to determine which sets of predictors would most accurately predict gentrification. The models are as below:\n",
    "\n",
    "* **Model I :** Gentrification = BID_Dummy + borough_fixed_effects + racial_composition_2000 \n",
    "* **Model II:** Gentrification = BID_Dummy + borough_fixed_effects + racial_composition_2000 + workers of three different income levels + four different educational attainment + pct_ch_hinc00-10 + pct_ch_hedu00-10\n",
    "* **Model III:** Gentrification = BID_Dummy + borough_fixed_effects + racial_composition_2000 + workers of three different income levels + four different educational attainment + distances of subways + distances of small parks + distances of large parks + total_number_of_new_housing_units\n",
    "\n",
    "The document is laid out in three main sections for each of the models:\n",
    "\n",
    "* **Data Transformation** : This section primarily deals with joining the two datasets (specified later) that we are using to build this initial model as well as exploring certain key variables. Some variables are created and transformed to be fitted into the logistic model.\n",
    "\n",
    "* **Data Modeling** : This section goes through cross validation scheme with different penalty terms for the logistic regression to come to the best AUC curve of the Precision-Recall trade-off.\n",
    "\n",
    "* **Results** : This section goes through a comparison of different confusion matrixs, precision and recall to assess the quality of our different models.\n",
    "\n",
    "After going through each model, we have a section called **Summary and Next Steps** where we compare and contrast the models how they fare against each other across four metrics of accuracy, precision, recall and auc of the precision-recall curve. We discuss at length our next steps to achieve the social objective of the project as well.\n"
   ]
  },
  {
   "cell_type": "markdown",
   "metadata": {},
   "source": [
    "#### Python Libraries"
   ]
  },
  {
   "cell_type": "code",
   "execution_count": 211,
   "metadata": {},
   "outputs": [
    {
     "name": "stdout",
     "output_type": "stream",
     "text": [
      "Populating the interactive namespace from numpy and matplotlib\n"
     ]
    }
   ],
   "source": [
    "%pylab inline\n",
    "from __future__ import division\n",
    "import gzip\n",
    "import csv\n",
    "import pandas as pd\n",
    "import numpy as np\n",
    "import sklearn\n",
    "import seaborn as sns\n",
    "import matplotlib.pyplot as plt\n",
    "from sklearn.metrics import precision_recall_curve,roc_curve, auc\n",
    "from sklearn.metrics import accuracy_score, precision_score, recall_score\n",
    "from sklearn.ensemble import (RandomForestClassifier, ExtraTreesClassifier,\n",
    "                              GradientBoostingClassifier,\n",
    "                              AdaBoostClassifier)\n",
    "from sklearn.linear_model import LogisticRegression, SGDClassifier\n",
    "from sklearn.naive_bayes import GaussianNB\n",
    "from sklearn.tree import DecisionTreeClassifier\n",
    "from sklearn import svm\n",
    "from sklearn.model_selection import train_test_split\n",
    "from sklearn import tree\n",
    "\n",
    "from sqlalchemy import create_engine\n",
    "\n",
    "import array\n",
    "import warnings\n",
    "warnings.filterwarnings('ignore')"
   ]
  },
  {
   "cell_type": "markdown",
   "metadata": {},
   "source": [
    "## Model I\n",
    "\n",
    "### Data Transformation"
   ]
  },
  {
   "cell_type": "markdown",
   "metadata": {},
   "source": [
    "#### Loading the data"
   ]
  },
  {
   "cell_type": "markdown",
   "metadata": {},
   "source": [
    "In this section, the two datasets are\n",
    "\n",
    "* **block_dummies** : The data is from the Center for Urban Research, The Graduate Center, City University of New York (CUNY) http://www.urbanresearchmaps.org/plurality/blockmaps.htm. The data cleaning is done in **01_Block_Data_Clean.ipynb** for more details.\n",
    "\n",
    "* **bids_ct** :The data is the BIDs data from NYC Open data with the BIDs being broken down into census block groups. The data processing is done in **04_BID_CT_matched_final.ipynb** for more details.\n"
   ]
  },
  {
   "cell_type": "code",
   "execution_count": 212,
   "metadata": {},
   "outputs": [],
   "source": [
    "block_dummies = pd.read_csv(\"../Data/block_dummies.csv\", usecols=range(1,219), dtype= {'BLOCKID': str})"
   ]
  },
  {
   "cell_type": "markdown",
   "metadata": {},
   "source": [
    "#### Initial Exploration of the datasets"
   ]
  },
  {
   "cell_type": "markdown",
   "metadata": {},
   "source": [
    "In the next few blocks of code, we are going through checking the shape data as well as its summary statistics in order to verify that the data we are loading ins consistent with the data we have cleaned and processed in other parts of this code repository."
   ]
  },
  {
   "cell_type": "code",
   "execution_count": 213,
   "metadata": {},
   "outputs": [
    {
     "data": {
      "text/plain": [
       "(29353, 218)"
      ]
     },
     "execution_count": 213,
     "metadata": {},
     "output_type": "execute_result"
    }
   ],
   "source": [
    "block_dummies.shape"
   ]
  },
  {
   "cell_type": "code",
   "execution_count": 214,
   "metadata": {},
   "outputs": [
    {
     "data": {
      "text/html": [
       "<div>\n",
       "<table border=\"1\" class=\"dataframe\">\n",
       "  <thead>\n",
       "    <tr style=\"text-align: right;\">\n",
       "      <th></th>\n",
       "      <th>BLOCKID</th>\n",
       "      <th>Pop10</th>\n",
       "      <th>Pop00</th>\n",
       "      <th>shWhite00</th>\n",
       "      <th>shLatino00</th>\n",
       "      <th>shBlack00</th>\n",
       "      <th>shAsian00</th>\n",
       "      <th>shOther00</th>\n",
       "      <th>pct_ch_white</th>\n",
       "      <th>pct_ch_hisp</th>\n",
       "      <th>...</th>\n",
       "      <th>NTACode_SI24</th>\n",
       "      <th>NTACode_SI25</th>\n",
       "      <th>NTACode_SI28</th>\n",
       "      <th>NTACode_SI32</th>\n",
       "      <th>NTACode_SI35</th>\n",
       "      <th>NTACode_SI36</th>\n",
       "      <th>NTACode_SI37</th>\n",
       "      <th>NTACode_SI45</th>\n",
       "      <th>NTACode_SI48</th>\n",
       "      <th>NTACode_SI54</th>\n",
       "    </tr>\n",
       "  </thead>\n",
       "  <tbody>\n",
       "    <tr>\n",
       "      <th>0</th>\n",
       "      <td>360050300004003</td>\n",
       "      <td>249</td>\n",
       "      <td>272.0</td>\n",
       "      <td>58.088235</td>\n",
       "      <td>37.132353</td>\n",
       "      <td>1.102941</td>\n",
       "      <td>2.941176</td>\n",
       "      <td>0.735294</td>\n",
       "      <td>-17.525986</td>\n",
       "      <td>9.453992</td>\n",
       "      <td>...</td>\n",
       "      <td>0.0</td>\n",
       "      <td>0.0</td>\n",
       "      <td>0.0</td>\n",
       "      <td>0.0</td>\n",
       "      <td>0.0</td>\n",
       "      <td>0.0</td>\n",
       "      <td>0.0</td>\n",
       "      <td>0.0</td>\n",
       "      <td>0.0</td>\n",
       "      <td>0.0</td>\n",
       "    </tr>\n",
       "    <tr>\n",
       "      <th>1</th>\n",
       "      <td>360050409001001</td>\n",
       "      <td>11</td>\n",
       "      <td>1119.0</td>\n",
       "      <td>1.340483</td>\n",
       "      <td>9.562109</td>\n",
       "      <td>86.058981</td>\n",
       "      <td>0.983021</td>\n",
       "      <td>2.055407</td>\n",
       "      <td>-1.340483</td>\n",
       "      <td>-9.562109</td>\n",
       "      <td>...</td>\n",
       "      <td>0.0</td>\n",
       "      <td>0.0</td>\n",
       "      <td>0.0</td>\n",
       "      <td>0.0</td>\n",
       "      <td>0.0</td>\n",
       "      <td>0.0</td>\n",
       "      <td>0.0</td>\n",
       "      <td>0.0</td>\n",
       "      <td>0.0</td>\n",
       "      <td>0.0</td>\n",
       "    </tr>\n",
       "    <tr>\n",
       "      <th>2</th>\n",
       "      <td>360050409002000</td>\n",
       "      <td>3223</td>\n",
       "      <td>1886.0</td>\n",
       "      <td>26.988335</td>\n",
       "      <td>9.809120</td>\n",
       "      <td>59.172853</td>\n",
       "      <td>1.855779</td>\n",
       "      <td>2.173913</td>\n",
       "      <td>-12.498729</td>\n",
       "      <td>1.422652</td>\n",
       "      <td>...</td>\n",
       "      <td>0.0</td>\n",
       "      <td>0.0</td>\n",
       "      <td>0.0</td>\n",
       "      <td>0.0</td>\n",
       "      <td>0.0</td>\n",
       "      <td>0.0</td>\n",
       "      <td>0.0</td>\n",
       "      <td>0.0</td>\n",
       "      <td>0.0</td>\n",
       "      <td>0.0</td>\n",
       "    </tr>\n",
       "  </tbody>\n",
       "</table>\n",
       "<p>3 rows × 218 columns</p>\n",
       "</div>"
      ],
      "text/plain": [
       "           BLOCKID  Pop10   Pop00  shWhite00  shLatino00  shBlack00  \\\n",
       "0  360050300004003    249   272.0  58.088235   37.132353   1.102941   \n",
       "1  360050409001001     11  1119.0   1.340483    9.562109  86.058981   \n",
       "2  360050409002000   3223  1886.0  26.988335    9.809120  59.172853   \n",
       "\n",
       "   shAsian00  shOther00  pct_ch_white  pct_ch_hisp      ...       \\\n",
       "0   2.941176   0.735294    -17.525986     9.453992      ...        \n",
       "1   0.983021   2.055407     -1.340483    -9.562109      ...        \n",
       "2   1.855779   2.173913    -12.498729     1.422652      ...        \n",
       "\n",
       "   NTACode_SI24  NTACode_SI25  NTACode_SI28  NTACode_SI32 NTACode_SI35  \\\n",
       "0           0.0           0.0           0.0           0.0          0.0   \n",
       "1           0.0           0.0           0.0           0.0          0.0   \n",
       "2           0.0           0.0           0.0           0.0          0.0   \n",
       "\n",
       "   NTACode_SI36  NTACode_SI37 NTACode_SI45  NTACode_SI48  NTACode_SI54  \n",
       "0           0.0           0.0          0.0           0.0           0.0  \n",
       "1           0.0           0.0          0.0           0.0           0.0  \n",
       "2           0.0           0.0          0.0           0.0           0.0  \n",
       "\n",
       "[3 rows x 218 columns]"
      ]
     },
     "execution_count": 214,
     "metadata": {},
     "output_type": "execute_result"
    }
   ],
   "source": [
    "block_dummies.head(3)"
   ]
  },
  {
   "cell_type": "code",
   "execution_count": 215,
   "metadata": {
    "scrolled": false
   },
   "outputs": [
    {
     "data": {
      "text/html": [
       "<div>\n",
       "<table border=\"1\" class=\"dataframe\">\n",
       "  <thead>\n",
       "    <tr style=\"text-align: right;\">\n",
       "      <th></th>\n",
       "      <th>Pop10</th>\n",
       "      <th>Pop00</th>\n",
       "      <th>shWhite00</th>\n",
       "      <th>shLatino00</th>\n",
       "      <th>shBlack00</th>\n",
       "      <th>shAsian00</th>\n",
       "      <th>shOther00</th>\n",
       "      <th>pct_ch_white</th>\n",
       "      <th>pct_ch_hisp</th>\n",
       "      <th>pct_ch_black</th>\n",
       "      <th>...</th>\n",
       "      <th>NTACode_SI24</th>\n",
       "      <th>NTACode_SI25</th>\n",
       "      <th>NTACode_SI28</th>\n",
       "      <th>NTACode_SI32</th>\n",
       "      <th>NTACode_SI35</th>\n",
       "      <th>NTACode_SI36</th>\n",
       "      <th>NTACode_SI37</th>\n",
       "      <th>NTACode_SI45</th>\n",
       "      <th>NTACode_SI48</th>\n",
       "      <th>NTACode_SI54</th>\n",
       "    </tr>\n",
       "  </thead>\n",
       "  <tbody>\n",
       "    <tr>\n",
       "      <th>count</th>\n",
       "      <td>29353.000000</td>\n",
       "      <td>29353.000000</td>\n",
       "      <td>29353.000000</td>\n",
       "      <td>29353.000000</td>\n",
       "      <td>29353.000000</td>\n",
       "      <td>29353.000000</td>\n",
       "      <td>29353.000000</td>\n",
       "      <td>29353.000000</td>\n",
       "      <td>29353.000000</td>\n",
       "      <td>29353.000000</td>\n",
       "      <td>...</td>\n",
       "      <td>29353.000000</td>\n",
       "      <td>29353.000000</td>\n",
       "      <td>29353.000000</td>\n",
       "      <td>29353.000000</td>\n",
       "      <td>29353.000000</td>\n",
       "      <td>29353.000000</td>\n",
       "      <td>29353.000000</td>\n",
       "      <td>29353.000000</td>\n",
       "      <td>29353.000000</td>\n",
       "      <td>29353.000000</td>\n",
       "    </tr>\n",
       "    <tr>\n",
       "      <th>mean</th>\n",
       "      <td>275.792798</td>\n",
       "      <td>269.351276</td>\n",
       "      <td>43.432147</td>\n",
       "      <td>20.517954</td>\n",
       "      <td>22.292331</td>\n",
       "      <td>9.956962</td>\n",
       "      <td>3.762554</td>\n",
       "      <td>-3.640671</td>\n",
       "      <td>2.119605</td>\n",
       "      <td>-0.666738</td>\n",
       "      <td>...</td>\n",
       "      <td>0.007563</td>\n",
       "      <td>0.009778</td>\n",
       "      <td>0.006609</td>\n",
       "      <td>0.005144</td>\n",
       "      <td>0.004429</td>\n",
       "      <td>0.009846</td>\n",
       "      <td>0.005894</td>\n",
       "      <td>0.007802</td>\n",
       "      <td>0.006303</td>\n",
       "      <td>0.011617</td>\n",
       "    </tr>\n",
       "    <tr>\n",
       "      <th>std</th>\n",
       "      <td>318.454871</td>\n",
       "      <td>314.289971</td>\n",
       "      <td>36.181304</td>\n",
       "      <td>23.030360</td>\n",
       "      <td>32.143063</td>\n",
       "      <td>15.232933</td>\n",
       "      <td>5.847107</td>\n",
       "      <td>14.070816</td>\n",
       "      <td>12.405100</td>\n",
       "      <td>10.323085</td>\n",
       "      <td>...</td>\n",
       "      <td>0.086638</td>\n",
       "      <td>0.098399</td>\n",
       "      <td>0.081029</td>\n",
       "      <td>0.071540</td>\n",
       "      <td>0.066403</td>\n",
       "      <td>0.098737</td>\n",
       "      <td>0.076546</td>\n",
       "      <td>0.087983</td>\n",
       "      <td>0.079140</td>\n",
       "      <td>0.107157</td>\n",
       "    </tr>\n",
       "    <tr>\n",
       "      <th>min</th>\n",
       "      <td>2.000000</td>\n",
       "      <td>1.030000</td>\n",
       "      <td>0.000000</td>\n",
       "      <td>0.000000</td>\n",
       "      <td>0.000000</td>\n",
       "      <td>0.000000</td>\n",
       "      <td>0.000000</td>\n",
       "      <td>-109.890110</td>\n",
       "      <td>-101.137803</td>\n",
       "      <td>-111.524159</td>\n",
       "      <td>...</td>\n",
       "      <td>0.000000</td>\n",
       "      <td>0.000000</td>\n",
       "      <td>0.000000</td>\n",
       "      <td>0.000000</td>\n",
       "      <td>0.000000</td>\n",
       "      <td>0.000000</td>\n",
       "      <td>0.000000</td>\n",
       "      <td>0.000000</td>\n",
       "      <td>0.000000</td>\n",
       "      <td>0.000000</td>\n",
       "    </tr>\n",
       "    <tr>\n",
       "      <th>25%</th>\n",
       "      <td>83.000000</td>\n",
       "      <td>79.000000</td>\n",
       "      <td>4.444444</td>\n",
       "      <td>4.098361</td>\n",
       "      <td>0.000000</td>\n",
       "      <td>0.000000</td>\n",
       "      <td>0.000000</td>\n",
       "      <td>-9.285407</td>\n",
       "      <td>-2.447552</td>\n",
       "      <td>-2.286894</td>\n",
       "      <td>...</td>\n",
       "      <td>0.000000</td>\n",
       "      <td>0.000000</td>\n",
       "      <td>0.000000</td>\n",
       "      <td>0.000000</td>\n",
       "      <td>0.000000</td>\n",
       "      <td>0.000000</td>\n",
       "      <td>0.000000</td>\n",
       "      <td>0.000000</td>\n",
       "      <td>0.000000</td>\n",
       "      <td>0.000000</td>\n",
       "    </tr>\n",
       "    <tr>\n",
       "      <th>50%</th>\n",
       "      <td>167.000000</td>\n",
       "      <td>162.000000</td>\n",
       "      <td>41.393443</td>\n",
       "      <td>10.958904</td>\n",
       "      <td>2.941176</td>\n",
       "      <td>3.333333</td>\n",
       "      <td>2.007831</td>\n",
       "      <td>-1.668042</td>\n",
       "      <td>1.476015</td>\n",
       "      <td>0.000000</td>\n",
       "      <td>...</td>\n",
       "      <td>0.000000</td>\n",
       "      <td>0.000000</td>\n",
       "      <td>0.000000</td>\n",
       "      <td>0.000000</td>\n",
       "      <td>0.000000</td>\n",
       "      <td>0.000000</td>\n",
       "      <td>0.000000</td>\n",
       "      <td>0.000000</td>\n",
       "      <td>0.000000</td>\n",
       "      <td>0.000000</td>\n",
       "    </tr>\n",
       "    <tr>\n",
       "      <th>75%</th>\n",
       "      <td>355.000000</td>\n",
       "      <td>344.000000</td>\n",
       "      <td>79.361702</td>\n",
       "      <td>29.166667</td>\n",
       "      <td>37.050360</td>\n",
       "      <td>13.319239</td>\n",
       "      <td>4.687500</td>\n",
       "      <td>1.412524</td>\n",
       "      <td>6.916102</td>\n",
       "      <td>1.515152</td>\n",
       "      <td>...</td>\n",
       "      <td>0.000000</td>\n",
       "      <td>0.000000</td>\n",
       "      <td>0.000000</td>\n",
       "      <td>0.000000</td>\n",
       "      <td>0.000000</td>\n",
       "      <td>0.000000</td>\n",
       "      <td>0.000000</td>\n",
       "      <td>0.000000</td>\n",
       "      <td>0.000000</td>\n",
       "      <td>0.000000</td>\n",
       "    </tr>\n",
       "    <tr>\n",
       "      <th>max</th>\n",
       "      <td>8634.000000</td>\n",
       "      <td>5460.649902</td>\n",
       "      <td>116.959064</td>\n",
       "      <td>109.489051</td>\n",
       "      <td>111.524159</td>\n",
       "      <td>105.263158</td>\n",
       "      <td>100.000000</td>\n",
       "      <td>100.000000</td>\n",
       "      <td>100.000000</td>\n",
       "      <td>100.000000</td>\n",
       "      <td>...</td>\n",
       "      <td>1.000000</td>\n",
       "      <td>1.000000</td>\n",
       "      <td>1.000000</td>\n",
       "      <td>1.000000</td>\n",
       "      <td>1.000000</td>\n",
       "      <td>1.000000</td>\n",
       "      <td>1.000000</td>\n",
       "      <td>1.000000</td>\n",
       "      <td>1.000000</td>\n",
       "      <td>1.000000</td>\n",
       "    </tr>\n",
       "  </tbody>\n",
       "</table>\n",
       "<p>8 rows × 215 columns</p>\n",
       "</div>"
      ],
      "text/plain": [
       "              Pop10         Pop00     shWhite00    shLatino00     shBlack00  \\\n",
       "count  29353.000000  29353.000000  29353.000000  29353.000000  29353.000000   \n",
       "mean     275.792798    269.351276     43.432147     20.517954     22.292331   \n",
       "std      318.454871    314.289971     36.181304     23.030360     32.143063   \n",
       "min        2.000000      1.030000      0.000000      0.000000      0.000000   \n",
       "25%       83.000000     79.000000      4.444444      4.098361      0.000000   \n",
       "50%      167.000000    162.000000     41.393443     10.958904      2.941176   \n",
       "75%      355.000000    344.000000     79.361702     29.166667     37.050360   \n",
       "max     8634.000000   5460.649902    116.959064    109.489051    111.524159   \n",
       "\n",
       "          shAsian00     shOther00  pct_ch_white   pct_ch_hisp  pct_ch_black  \\\n",
       "count  29353.000000  29353.000000  29353.000000  29353.000000  29353.000000   \n",
       "mean       9.956962      3.762554     -3.640671      2.119605     -0.666738   \n",
       "std       15.232933      5.847107     14.070816     12.405100     10.323085   \n",
       "min        0.000000      0.000000   -109.890110   -101.137803   -111.524159   \n",
       "25%        0.000000      0.000000     -9.285407     -2.447552     -2.286894   \n",
       "50%        3.333333      2.007831     -1.668042      1.476015      0.000000   \n",
       "75%       13.319239      4.687500      1.412524      6.916102      1.515152   \n",
       "max      105.263158    100.000000    100.000000    100.000000    100.000000   \n",
       "\n",
       "           ...       NTACode_SI24  NTACode_SI25  NTACode_SI28  NTACode_SI32  \\\n",
       "count      ...       29353.000000  29353.000000  29353.000000  29353.000000   \n",
       "mean       ...           0.007563      0.009778      0.006609      0.005144   \n",
       "std        ...           0.086638      0.098399      0.081029      0.071540   \n",
       "min        ...           0.000000      0.000000      0.000000      0.000000   \n",
       "25%        ...           0.000000      0.000000      0.000000      0.000000   \n",
       "50%        ...           0.000000      0.000000      0.000000      0.000000   \n",
       "75%        ...           0.000000      0.000000      0.000000      0.000000   \n",
       "max        ...           1.000000      1.000000      1.000000      1.000000   \n",
       "\n",
       "       NTACode_SI35  NTACode_SI36  NTACode_SI37  NTACode_SI45  NTACode_SI48  \\\n",
       "count  29353.000000  29353.000000  29353.000000  29353.000000  29353.000000   \n",
       "mean       0.004429      0.009846      0.005894      0.007802      0.006303   \n",
       "std        0.066403      0.098737      0.076546      0.087983      0.079140   \n",
       "min        0.000000      0.000000      0.000000      0.000000      0.000000   \n",
       "25%        0.000000      0.000000      0.000000      0.000000      0.000000   \n",
       "50%        0.000000      0.000000      0.000000      0.000000      0.000000   \n",
       "75%        0.000000      0.000000      0.000000      0.000000      0.000000   \n",
       "max        1.000000      1.000000      1.000000      1.000000      1.000000   \n",
       "\n",
       "       NTACode_SI54  \n",
       "count  29353.000000  \n",
       "mean       0.011617  \n",
       "std        0.107157  \n",
       "min        0.000000  \n",
       "25%        0.000000  \n",
       "50%        0.000000  \n",
       "75%        0.000000  \n",
       "max        1.000000  \n",
       "\n",
       "[8 rows x 215 columns]"
      ]
     },
     "execution_count": 215,
     "metadata": {},
     "output_type": "execute_result"
    }
   ],
   "source": [
    "block_dummies.describe()"
   ]
  },
  {
   "cell_type": "markdown",
   "metadata": {},
   "source": [
    "##### BIDs distribution across Census Blockgroups\n",
    "\n",
    "We examine the BIDs distribution across the census block groups. From the output of the mean, it can be seen that we have approximately only **2.26 percent** of the Census Blockgroups having BIDs. From both a machine learning paradigm of prediction as well as a traditional statistical paradigm, the low number of BIDs in the Census Blockgroups may mean that it is not necessarily predicitive nor statistically signifcant for the predictor to be of use in exploring gentrification. Nevertheless, we are going to run through some of the models mentioned above to see if our other variables contribute much to predicting gentrification. We want to highlight the BIDs as it is an initial interest of variable for the team."
   ]
  },
  {
   "cell_type": "code",
   "execution_count": 216,
   "metadata": {
    "scrolled": true
   },
   "outputs": [
    {
     "data": {
      "text/html": [
       "<div>\n",
       "<table border=\"1\" class=\"dataframe\">\n",
       "  <thead>\n",
       "    <tr style=\"text-align: right;\">\n",
       "      <th></th>\n",
       "      <th>BID_dummy</th>\n",
       "    </tr>\n",
       "  </thead>\n",
       "  <tbody>\n",
       "    <tr>\n",
       "      <th>count</th>\n",
       "      <td>29353.000000</td>\n",
       "    </tr>\n",
       "    <tr>\n",
       "      <th>mean</th>\n",
       "      <td>0.024495</td>\n",
       "    </tr>\n",
       "    <tr>\n",
       "      <th>std</th>\n",
       "      <td>0.154583</td>\n",
       "    </tr>\n",
       "    <tr>\n",
       "      <th>min</th>\n",
       "      <td>0.000000</td>\n",
       "    </tr>\n",
       "    <tr>\n",
       "      <th>25%</th>\n",
       "      <td>0.000000</td>\n",
       "    </tr>\n",
       "    <tr>\n",
       "      <th>50%</th>\n",
       "      <td>0.000000</td>\n",
       "    </tr>\n",
       "    <tr>\n",
       "      <th>75%</th>\n",
       "      <td>0.000000</td>\n",
       "    </tr>\n",
       "    <tr>\n",
       "      <th>max</th>\n",
       "      <td>1.000000</td>\n",
       "    </tr>\n",
       "  </tbody>\n",
       "</table>\n",
       "</div>"
      ],
      "text/plain": [
       "          BID_dummy\n",
       "count  29353.000000\n",
       "mean       0.024495\n",
       "std        0.154583\n",
       "min        0.000000\n",
       "25%        0.000000\n",
       "50%        0.000000\n",
       "75%        0.000000\n",
       "max        1.000000"
      ]
     },
     "execution_count": 216,
     "metadata": {},
     "output_type": "execute_result"
    }
   ],
   "source": [
    "#Looking in particular the BID dummies\n",
    "block_dummies[['BID_dummy']].describe()"
   ]
  },
  {
   "cell_type": "code",
   "execution_count": 217,
   "metadata": {},
   "outputs": [
    {
     "data": {
      "image/png": "[encoded data removed]",
      "text/plain": [
       "<matplotlib.figure.Figure at 0x7f1432d5f090>"
      ]
     },
     "metadata": {},
     "output_type": "display_data"
    }
   ],
   "source": [
    "#on the BID series\n",
    "fig, ax = plt.subplots()\n",
    "ax = block_dummies['BID_dummy'].plot.hist()"
   ]
  },
  {
   "cell_type": "markdown",
   "metadata": {},
   "source": [
    "#### Extracting columns for an initial dataset\n",
    "\n",
    "In this section, several of our the columns from the main dataset are extracted to create a working dataset to run an initial logistic regression of **Model I. **\n",
    "\n",
    "* **BLOCKID :**       The ID of the blocks\n",
    "* **pct_ch_white :**         The percentage change of White people\n",
    "* **bid_id :**         The ID of the BIDs\n",
    "* **BID_dummy :**         If the block has BIDs or not\n",
    "* **BoroName_Bronx :**         Borough name in Bronx\n",
    "* **BoroName_Brooklyn:**         Borough name in Brooklyn\n",
    "* **BoroName_Manhattan :**         Borough name in Manhattan\n",
    "* **BoroName_Queens :**         Borough name in Queens\n",
    "* **shWhite2000:**         The share of White people in 2000\n",
    "* **shBlack2000:**         The share of Black people in 2000\n",
    "* **shLatino2000:**         The share of Latino people in 2000\n",
    "* **shAsian2000:**         The share of Asian people in 2000\n",
    "* **shWhite2000:**         The share of White people in 2000\n",
    "\n"
   ]
  },
  {
   "cell_type": "code",
   "execution_count": 218,
   "metadata": {},
   "outputs": [],
   "source": [
    "block_dummies_w= block_dummies[['BLOCKID','pct_ch_white','a_weight','bid_id','BID_dummy','BoroName_Bronx','BoroName_Brooklyn','BoroName_Manhattan','BoroName_Queens', 'shWhite00','shLatino00','shBlack00', 'shAsian00']]"
   ]
  },
  {
   "cell_type": "markdown",
   "metadata": {},
   "source": [
    "##### Distribution of Percent Change in White Population"
   ]
  },
  {
   "cell_type": "markdown",
   "metadata": {},
   "source": [
    "Below we explore the distribution of the percent change in White population by census block groups. The distribution is centered off to the negative side of 0 meaning there are more census block groups where White folks are leaving the census blocks"
   ]
  },
  {
   "cell_type": "code",
   "execution_count": 219,
   "metadata": {},
   "outputs": [
    {
     "data": {
      "image/png": "[encoded data removed]",
      "text/plain": [
       "<matplotlib.figure.Figure at 0x7f1432d6cb90>"
      ]
     },
     "metadata": {},
     "output_type": "display_data"
    }
   ],
   "source": [
    "den, ax = plt.subplots()\n",
    "ax = sns.distplot(block_dummies_w['pct_ch_white'], hist = False)\n",
    "ax.set_title('Population Percent Change')\n",
    "ax.set_xlabel('Percent Changes')\n",
    "ax.set_ylabel('Probability')\n",
    "plt.show()"
   ]
  },
  {
   "cell_type": "markdown",
   "metadata": {},
   "source": [
    "##### Transforming percent change for logistic regression"
   ]
  },
  {
   "cell_type": "markdown",
   "metadata": {},
   "source": [
    "As stated before, we are considering 75th percentile to be a cut-off point for the percentage change in White population as turning point for gentrification. \n",
    "At the 75th percentile, the percent change of White Population stands at **1.41** percent which is not much. "
   ]
  },
  {
   "cell_type": "code",
   "execution_count": 220,
   "metadata": {},
   "outputs": [],
   "source": [
    "#save the 75th percentile quantile for now\n",
    "seventyfiveq = np.percentile(block_dummies_w['pct_ch_white'],75)"
   ]
  },
  {
   "cell_type": "code",
   "execution_count": 221,
   "metadata": {},
   "outputs": [
    {
     "name": "stdout",
     "output_type": "stream",
     "text": [
      "1.41252410093\n"
     ]
    }
   ],
   "source": [
    "print(seventyfiveq)"
   ]
  },
  {
   "cell_type": "code",
   "execution_count": 222,
   "metadata": {},
   "outputs": [],
   "source": [
    "#changes dummy column\n",
    "block_dummies_w[\"changesdummy\"] = (block_dummies_w[\"pct_ch_white\"] > seventyfiveq)"
   ]
  },
  {
   "cell_type": "code",
   "execution_count": 223,
   "metadata": {},
   "outputs": [],
   "source": [
    "#converting them to 0 and 1\n",
    "block_dummies_w.changesdummy = block_dummies_w.changesdummy.astype(int)"
   ]
  },
  {
   "cell_type": "markdown",
   "metadata": {},
   "source": [
    "#### Class Balance Checking"
   ]
  },
  {
   "cell_type": "code",
   "execution_count": 224,
   "metadata": {},
   "outputs": [
    {
     "data": {
      "text/plain": [
       "0    0.750009\n",
       "1    0.249991\n",
       "Name: changesdummy, dtype: float64"
      ]
     },
     "execution_count": 224,
     "metadata": {},
     "output_type": "execute_result"
    }
   ],
   "source": [
    "#Reflecting the percentile breakdown we have established previously\n",
    "block_dummies_w[\"changesdummy\"].value_counts(normalize=True)"
   ]
  },
  {
   "cell_type": "markdown",
   "metadata": {},
   "source": [
    "#### Correlation Matrix Plot"
   ]
  },
  {
   "cell_type": "markdown",
   "metadata": {},
   "source": [
    "The correlation matrix below explores what might be strong predictors for the  changesdummy variable which indicates whether a census block is gentrified or not. There is high correlation with pct_ch_white because that changesdummy variable is created from that variable. Other than that, the other predictors apppear to have weak correlation with the outcome variable. Nevertheless, we will run the model to see how it is faring in prediction."
   ]
  },
  {
   "cell_type": "code",
   "execution_count": 225,
   "metadata": {},
   "outputs": [
    {
     "data": {
      "text/plain": [
       "<matplotlib.axes._subplots.AxesSubplot at 0x7f1432df8e50>"
      ]
     },
     "execution_count": 225,
     "metadata": {},
     "output_type": "execute_result"
    },
    {
     "data": {
      "image/png": "[encoded data removed]",
      "text/plain": [
       "<matplotlib.figure.Figure at 0x7f14390aa650>"
      ]
     },
     "metadata": {},
     "output_type": "display_data"
    }
   ],
   "source": [
    "#Code is borrowed from seaborn documentation available online for many_pairwise_correlation plot\n",
    "\n",
    "# Computing the correlation matrix\n",
    "corr = block_dummies_w.corr()\n",
    "\n",
    "# Generate a mask for the upper triangle\n",
    "mask = np.zeros_like(corr, dtype = np.bool)\n",
    "mask[np.triu_indices_from(mask)] = True\n",
    "\n",
    "# Set up the matplotlib figure\n",
    "f, ax = plt.subplots(figsize = (11,9))\n",
    "\n",
    "# Generate a custom diverging colormap\n",
    "cmap = sns.diverging_palette(220,10,as_cmap=True)\n",
    "\n",
    "# Draw the heatmap with the mask and correct aspect ratio\n",
    "sns.heatmap(corr, cmap=cmap)"
   ]
  },
  {
   "cell_type": "markdown",
   "metadata": {},
   "source": [
    "### Modeling\n",
    "#### Training vs Testing data splitng"
   ]
  },
  {
   "cell_type": "code",
   "execution_count": 226,
   "metadata": {},
   "outputs": [],
   "source": [
    "#Later on we will be using K-folds but this is a start\n",
    "# Changed to 80% training\n",
    "df_train, df_test = train_test_split(block_dummies_w, test_size=0.8)"
   ]
  },
  {
   "cell_type": "markdown",
   "metadata": {},
   "source": [
    "#### Checking the distribution of both testing and training datasets"
   ]
  },
  {
   "cell_type": "code",
   "execution_count": 227,
   "metadata": {},
   "outputs": [
    {
     "data": {
      "text/html": [
       "<div>\n",
       "<table border=\"1\" class=\"dataframe\">\n",
       "  <thead>\n",
       "    <tr style=\"text-align: right;\">\n",
       "      <th></th>\n",
       "      <th>pct_ch_white</th>\n",
       "      <th>a_weight</th>\n",
       "      <th>bid_id</th>\n",
       "      <th>BID_dummy</th>\n",
       "      <th>BoroName_Bronx</th>\n",
       "      <th>BoroName_Brooklyn</th>\n",
       "      <th>BoroName_Manhattan</th>\n",
       "      <th>BoroName_Queens</th>\n",
       "      <th>shWhite00</th>\n",
       "      <th>shLatino00</th>\n",
       "      <th>shBlack00</th>\n",
       "      <th>shAsian00</th>\n",
       "      <th>changesdummy</th>\n",
       "    </tr>\n",
       "  </thead>\n",
       "  <tbody>\n",
       "    <tr>\n",
       "      <th>count</th>\n",
       "      <td>5870.000000</td>\n",
       "      <td>5870.000000</td>\n",
       "      <td>152.000000</td>\n",
       "      <td>5870.000000</td>\n",
       "      <td>5870.000000</td>\n",
       "      <td>5870.000000</td>\n",
       "      <td>5870.000000</td>\n",
       "      <td>5870.000000</td>\n",
       "      <td>5870.000000</td>\n",
       "      <td>5870.000000</td>\n",
       "      <td>5870.000000</td>\n",
       "      <td>5870.000000</td>\n",
       "      <td>5870.000000</td>\n",
       "    </tr>\n",
       "    <tr>\n",
       "      <th>mean</th>\n",
       "      <td>-3.526762</td>\n",
       "      <td>0.988947</td>\n",
       "      <td>1092.552632</td>\n",
       "      <td>0.025894</td>\n",
       "      <td>0.120784</td>\n",
       "      <td>0.256729</td>\n",
       "      <td>0.083135</td>\n",
       "      <td>0.394889</td>\n",
       "      <td>43.267746</td>\n",
       "      <td>20.283800</td>\n",
       "      <td>22.509372</td>\n",
       "      <td>10.115816</td>\n",
       "      <td>0.246848</td>\n",
       "    </tr>\n",
       "    <tr>\n",
       "      <th>std</th>\n",
       "      <td>14.280164</td>\n",
       "      <td>0.058898</td>\n",
       "      <td>1229.689768</td>\n",
       "      <td>0.158834</td>\n",
       "      <td>0.325903</td>\n",
       "      <td>0.436866</td>\n",
       "      <td>0.276109</td>\n",
       "      <td>0.488869</td>\n",
       "      <td>36.053865</td>\n",
       "      <td>22.848681</td>\n",
       "      <td>32.409545</td>\n",
       "      <td>15.420010</td>\n",
       "      <td>0.431214</td>\n",
       "    </tr>\n",
       "    <tr>\n",
       "      <th>min</th>\n",
       "      <td>-100.000000</td>\n",
       "      <td>0.395431</td>\n",
       "      <td>51.000000</td>\n",
       "      <td>0.000000</td>\n",
       "      <td>0.000000</td>\n",
       "      <td>0.000000</td>\n",
       "      <td>0.000000</td>\n",
       "      <td>0.000000</td>\n",
       "      <td>0.000000</td>\n",
       "      <td>0.000000</td>\n",
       "      <td>0.000000</td>\n",
       "      <td>0.000000</td>\n",
       "      <td>0.000000</td>\n",
       "    </tr>\n",
       "    <tr>\n",
       "      <th>25%</th>\n",
       "      <td>-9.242688</td>\n",
       "      <td>1.000000</td>\n",
       "      <td>NaN</td>\n",
       "      <td>0.000000</td>\n",
       "      <td>0.000000</td>\n",
       "      <td>0.000000</td>\n",
       "      <td>0.000000</td>\n",
       "      <td>0.000000</td>\n",
       "      <td>4.374304</td>\n",
       "      <td>4.134876</td>\n",
       "      <td>0.000000</td>\n",
       "      <td>0.000000</td>\n",
       "      <td>0.000000</td>\n",
       "    </tr>\n",
       "    <tr>\n",
       "      <th>50%</th>\n",
       "      <td>-1.729192</td>\n",
       "      <td>1.000000</td>\n",
       "      <td>NaN</td>\n",
       "      <td>0.000000</td>\n",
       "      <td>0.000000</td>\n",
       "      <td>0.000000</td>\n",
       "      <td>0.000000</td>\n",
       "      <td>0.000000</td>\n",
       "      <td>41.123518</td>\n",
       "      <td>10.714286</td>\n",
       "      <td>2.916285</td>\n",
       "      <td>3.346253</td>\n",
       "      <td>0.000000</td>\n",
       "    </tr>\n",
       "    <tr>\n",
       "      <th>75%</th>\n",
       "      <td>1.350550</td>\n",
       "      <td>1.000000</td>\n",
       "      <td>NaN</td>\n",
       "      <td>0.000000</td>\n",
       "      <td>0.000000</td>\n",
       "      <td>1.000000</td>\n",
       "      <td>0.000000</td>\n",
       "      <td>1.000000</td>\n",
       "      <td>79.060390</td>\n",
       "      <td>28.921429</td>\n",
       "      <td>37.357106</td>\n",
       "      <td>13.546707</td>\n",
       "      <td>0.000000</td>\n",
       "    </tr>\n",
       "    <tr>\n",
       "      <th>max</th>\n",
       "      <td>100.000000</td>\n",
       "      <td>1.000010</td>\n",
       "      <td>3957.000000</td>\n",
       "      <td>1.000000</td>\n",
       "      <td>1.000000</td>\n",
       "      <td>1.000000</td>\n",
       "      <td>1.000000</td>\n",
       "      <td>1.000000</td>\n",
       "      <td>102.951272</td>\n",
       "      <td>101.694915</td>\n",
       "      <td>111.524159</td>\n",
       "      <td>100.000000</td>\n",
       "      <td>1.000000</td>\n",
       "    </tr>\n",
       "  </tbody>\n",
       "</table>\n",
       "</div>"
      ],
      "text/plain": [
       "       pct_ch_white     a_weight       bid_id    BID_dummy  BoroName_Bronx  \\\n",
       "count   5870.000000  5870.000000   152.000000  5870.000000     5870.000000   \n",
       "mean      -3.526762     0.988947  1092.552632     0.025894        0.120784   \n",
       "std       14.280164     0.058898  1229.689768     0.158834        0.325903   \n",
       "min     -100.000000     0.395431    51.000000     0.000000        0.000000   \n",
       "25%       -9.242688     1.000000          NaN     0.000000        0.000000   \n",
       "50%       -1.729192     1.000000          NaN     0.000000        0.000000   \n",
       "75%        1.350550     1.000000          NaN     0.000000        0.000000   \n",
       "max      100.000000     1.000010  3957.000000     1.000000        1.000000   \n",
       "\n",
       "       BoroName_Brooklyn  BoroName_Manhattan  BoroName_Queens    shWhite00  \\\n",
       "count        5870.000000         5870.000000      5870.000000  5870.000000   \n",
       "mean            0.256729            0.083135         0.394889    43.267746   \n",
       "std             0.436866            0.276109         0.488869    36.053865   \n",
       "min             0.000000            0.000000         0.000000     0.000000   \n",
       "25%             0.000000            0.000000         0.000000     4.374304   \n",
       "50%             0.000000            0.000000         0.000000    41.123518   \n",
       "75%             1.000000            0.000000         1.000000    79.060390   \n",
       "max             1.000000            1.000000         1.000000   102.951272   \n",
       "\n",
       "        shLatino00    shBlack00    shAsian00  changesdummy  \n",
       "count  5870.000000  5870.000000  5870.000000   5870.000000  \n",
       "mean     20.283800    22.509372    10.115816      0.246848  \n",
       "std      22.848681    32.409545    15.420010      0.431214  \n",
       "min       0.000000     0.000000     0.000000      0.000000  \n",
       "25%       4.134876     0.000000     0.000000      0.000000  \n",
       "50%      10.714286     2.916285     3.346253      0.000000  \n",
       "75%      28.921429    37.357106    13.546707      0.000000  \n",
       "max     101.694915   111.524159   100.000000      1.000000  "
      ]
     },
     "execution_count": 227,
     "metadata": {},
     "output_type": "execute_result"
    }
   ],
   "source": [
    "df_train.describe()"
   ]
  },
  {
   "cell_type": "code",
   "execution_count": 228,
   "metadata": {},
   "outputs": [
    {
     "data": {
      "text/html": [
       "<div>\n",
       "<table border=\"1\" class=\"dataframe\">\n",
       "  <thead>\n",
       "    <tr style=\"text-align: right;\">\n",
       "      <th></th>\n",
       "      <th>pct_ch_white</th>\n",
       "      <th>a_weight</th>\n",
       "      <th>bid_id</th>\n",
       "      <th>BID_dummy</th>\n",
       "      <th>BoroName_Bronx</th>\n",
       "      <th>BoroName_Brooklyn</th>\n",
       "      <th>BoroName_Manhattan</th>\n",
       "      <th>BoroName_Queens</th>\n",
       "      <th>shWhite00</th>\n",
       "      <th>shLatino00</th>\n",
       "      <th>shBlack00</th>\n",
       "      <th>shAsian00</th>\n",
       "      <th>changesdummy</th>\n",
       "    </tr>\n",
       "  </thead>\n",
       "  <tbody>\n",
       "    <tr>\n",
       "      <th>count</th>\n",
       "      <td>23483.000000</td>\n",
       "      <td>23483.000000</td>\n",
       "      <td>567.000000</td>\n",
       "      <td>23483.000000</td>\n",
       "      <td>23483.000000</td>\n",
       "      <td>23483.000000</td>\n",
       "      <td>23483.000000</td>\n",
       "      <td>23483.000000</td>\n",
       "      <td>23483.000000</td>\n",
       "      <td>23483.000000</td>\n",
       "      <td>23483.000000</td>\n",
       "      <td>23483.000000</td>\n",
       "      <td>23483.000000</td>\n",
       "    </tr>\n",
       "    <tr>\n",
       "      <th>mean</th>\n",
       "      <td>-3.669144</td>\n",
       "      <td>0.988934</td>\n",
       "      <td>880.640212</td>\n",
       "      <td>0.024145</td>\n",
       "      <td>0.127113</td>\n",
       "      <td>0.258357</td>\n",
       "      <td>0.087808</td>\n",
       "      <td>0.385981</td>\n",
       "      <td>43.473241</td>\n",
       "      <td>20.576485</td>\n",
       "      <td>22.238077</td>\n",
       "      <td>9.917254</td>\n",
       "      <td>0.250777</td>\n",
       "    </tr>\n",
       "    <tr>\n",
       "      <th>std</th>\n",
       "      <td>14.018160</td>\n",
       "      <td>0.059725</td>\n",
       "      <td>1180.795170</td>\n",
       "      <td>0.153503</td>\n",
       "      <td>0.333107</td>\n",
       "      <td>0.437741</td>\n",
       "      <td>0.283022</td>\n",
       "      <td>0.486837</td>\n",
       "      <td>36.213739</td>\n",
       "      <td>23.075663</td>\n",
       "      <td>32.076570</td>\n",
       "      <td>15.185881</td>\n",
       "      <td>0.433470</td>\n",
       "    </tr>\n",
       "    <tr>\n",
       "      <th>min</th>\n",
       "      <td>-109.890110</td>\n",
       "      <td>0.356635</td>\n",
       "      <td>51.000000</td>\n",
       "      <td>0.000000</td>\n",
       "      <td>0.000000</td>\n",
       "      <td>0.000000</td>\n",
       "      <td>0.000000</td>\n",
       "      <td>0.000000</td>\n",
       "      <td>0.000000</td>\n",
       "      <td>0.000000</td>\n",
       "      <td>0.000000</td>\n",
       "      <td>0.000000</td>\n",
       "      <td>0.000000</td>\n",
       "    </tr>\n",
       "    <tr>\n",
       "      <th>25%</th>\n",
       "      <td>-9.286815</td>\n",
       "      <td>1.000000</td>\n",
       "      <td>NaN</td>\n",
       "      <td>0.000000</td>\n",
       "      <td>0.000000</td>\n",
       "      <td>0.000000</td>\n",
       "      <td>0.000000</td>\n",
       "      <td>0.000000</td>\n",
       "      <td>4.444444</td>\n",
       "      <td>4.090645</td>\n",
       "      <td>0.000000</td>\n",
       "      <td>0.000000</td>\n",
       "      <td>0.000000</td>\n",
       "    </tr>\n",
       "    <tr>\n",
       "      <th>50%</th>\n",
       "      <td>-1.652893</td>\n",
       "      <td>1.000000</td>\n",
       "      <td>NaN</td>\n",
       "      <td>0.000000</td>\n",
       "      <td>0.000000</td>\n",
       "      <td>0.000000</td>\n",
       "      <td>0.000000</td>\n",
       "      <td>0.000000</td>\n",
       "      <td>41.463415</td>\n",
       "      <td>11.023622</td>\n",
       "      <td>2.954899</td>\n",
       "      <td>3.333333</td>\n",
       "      <td>0.000000</td>\n",
       "    </tr>\n",
       "    <tr>\n",
       "      <th>75%</th>\n",
       "      <td>1.428571</td>\n",
       "      <td>1.000000</td>\n",
       "      <td>NaN</td>\n",
       "      <td>0.000000</td>\n",
       "      <td>0.000000</td>\n",
       "      <td>1.000000</td>\n",
       "      <td>0.000000</td>\n",
       "      <td>1.000000</td>\n",
       "      <td>79.446184</td>\n",
       "      <td>29.223132</td>\n",
       "      <td>37.007874</td>\n",
       "      <td>13.260088</td>\n",
       "      <td>1.000000</td>\n",
       "    </tr>\n",
       "    <tr>\n",
       "      <th>max</th>\n",
       "      <td>100.000000</td>\n",
       "      <td>1.000016</td>\n",
       "      <td>3957.000000</td>\n",
       "      <td>1.000000</td>\n",
       "      <td>1.000000</td>\n",
       "      <td>1.000000</td>\n",
       "      <td>1.000000</td>\n",
       "      <td>1.000000</td>\n",
       "      <td>116.959064</td>\n",
       "      <td>109.489051</td>\n",
       "      <td>104.166663</td>\n",
       "      <td>105.263158</td>\n",
       "      <td>1.000000</td>\n",
       "    </tr>\n",
       "  </tbody>\n",
       "</table>\n",
       "</div>"
      ],
      "text/plain": [
       "       pct_ch_white      a_weight       bid_id     BID_dummy  BoroName_Bronx  \\\n",
       "count  23483.000000  23483.000000   567.000000  23483.000000    23483.000000   \n",
       "mean      -3.669144      0.988934   880.640212      0.024145        0.127113   \n",
       "std       14.018160      0.059725  1180.795170      0.153503        0.333107   \n",
       "min     -109.890110      0.356635    51.000000      0.000000        0.000000   \n",
       "25%       -9.286815      1.000000          NaN      0.000000        0.000000   \n",
       "50%       -1.652893      1.000000          NaN      0.000000        0.000000   \n",
       "75%        1.428571      1.000000          NaN      0.000000        0.000000   \n",
       "max      100.000000      1.000016  3957.000000      1.000000        1.000000   \n",
       "\n",
       "       BoroName_Brooklyn  BoroName_Manhattan  BoroName_Queens     shWhite00  \\\n",
       "count       23483.000000        23483.000000     23483.000000  23483.000000   \n",
       "mean            0.258357            0.087808         0.385981     43.473241   \n",
       "std             0.437741            0.283022         0.486837     36.213739   \n",
       "min             0.000000            0.000000         0.000000      0.000000   \n",
       "25%             0.000000            0.000000         0.000000      4.444444   \n",
       "50%             0.000000            0.000000         0.000000     41.463415   \n",
       "75%             1.000000            0.000000         1.000000     79.446184   \n",
       "max             1.000000            1.000000         1.000000    116.959064   \n",
       "\n",
       "         shLatino00     shBlack00     shAsian00  changesdummy  \n",
       "count  23483.000000  23483.000000  23483.000000  23483.000000  \n",
       "mean      20.576485     22.238077      9.917254      0.250777  \n",
       "std       23.075663     32.076570     15.185881      0.433470  \n",
       "min        0.000000      0.000000      0.000000      0.000000  \n",
       "25%        4.090645      0.000000      0.000000      0.000000  \n",
       "50%       11.023622      2.954899      3.333333      0.000000  \n",
       "75%       29.223132     37.007874     13.260088      1.000000  \n",
       "max      109.489051    104.166663    105.263158      1.000000  "
      ]
     },
     "execution_count": 228,
     "metadata": {},
     "output_type": "execute_result"
    }
   ],
   "source": [
    "df_test.describe()"
   ]
  },
  {
   "cell_type": "markdown",
   "metadata": {},
   "source": [
    "#### Splitting into features and labels"
   ]
  },
  {
   "cell_type": "code",
   "execution_count": 229,
   "metadata": {},
   "outputs": [],
   "source": [
    "#This is reflecting the Model I equation\n",
    "sel_features = ['a_weight', 'BID_dummy', 'BoroName_Bronx', 'BoroName_Brooklyn', 'BoroName_Manhattan', 'BoroName_Queens','shWhite00', 'shBlack00', 'shAsian00']\n",
    "sel_label = [ 'changesdummy']"
   ]
  },
  {
   "cell_type": "code",
   "execution_count": 230,
   "metadata": {},
   "outputs": [],
   "source": [
    "#We are assigning predictors and the outcome in training and testing datasets\n",
    "X_train = df_train[sel_features].values\n",
    "y_train = df_train[sel_label].values\n",
    "X_test = df_test[sel_features].values\n",
    "y_test = df_test[sel_label].values"
   ]
  },
  {
   "cell_type": "markdown",
   "metadata": {},
   "source": [
    "#### Fitting the model"
   ]
  },
  {
   "cell_type": "code",
   "execution_count": 231,
   "metadata": {},
   "outputs": [
    {
     "name": "stdout",
     "output_type": "stream",
     "text": [
      "LogisticRegression(C=100000.0, class_weight=None, dual=False,\n",
      "          fit_intercept=True, intercept_scaling=1, max_iter=100,\n",
      "          multi_class='ovr', n_jobs=1, penalty='l1', random_state=None,\n",
      "          solver='liblinear', tol=0.0001, verbose=0, warm_start=False)\n"
     ]
    }
   ],
   "source": [
    "#Inputting this into the traditional logistic regression model\n",
    "from sklearn import linear_model\n",
    "model = linear_model.LogisticRegression(penalty='l1', C=1e5)\n",
    "model.fit( X_train, y_train )\n",
    "print(model)"
   ]
  },
  {
   "cell_type": "markdown",
   "metadata": {},
   "source": [
    "#### Model Understanding"
   ]
  },
  {
   "cell_type": "markdown",
   "metadata": {},
   "source": [
    "Below is the model coefficients and its standardized form. Our objective here is prediction. The display is here only for demonstrative purposes that we can pull out coefficients for interpretation. However, sckit-learn is not built for model interpretation. It is built for prediction. Therefore, it does not have the traditional statistical summary tables with significant values."
   ]
  },
  {
   "cell_type": "code",
   "execution_count": 232,
   "metadata": {},
   "outputs": [
    {
     "name": "stdout",
     "output_type": "stream",
     "text": [
      "The coefficients for each of the features are \n"
     ]
    },
    {
     "data": {
      "text/plain": [
       "[('a_weight', -0.83790038377027509),\n",
       " ('BID_dummy', 0.45351987738658545),\n",
       " ('BoroName_Bronx', -1.4133694419516041),\n",
       " ('BoroName_Brooklyn', 0.31158257633881437),\n",
       " ('BoroName_Manhattan', 0.30601596388672869),\n",
       " ('BoroName_Queens', -0.86534272842391813),\n",
       " ('shWhite00', -0.015837501191094103),\n",
       " ('shBlack00', -0.012378243754402619),\n",
       " ('shAsian00', -0.0085752748800732546)]"
      ]
     },
     "execution_count": 232,
     "metadata": {},
     "output_type": "execute_result"
    }
   ],
   "source": [
    "print \"The coefficients for each of the features are \" \n",
    "zip(sel_features, model.coef_[0])"
   ]
  },
  {
   "cell_type": "code",
   "execution_count": 233,
   "metadata": {},
   "outputs": [
    {
     "name": "stdout",
     "output_type": "stream",
     "text": [
      "The standardized coefficients of each of the features are\n"
     ]
    },
    {
     "data": {
      "text/plain": [
       "[('a_weight', -0.050042393826677273),\n",
       " ('BID_dummy', 0.069615137408284247),\n",
       " ('BoroName_Bronx', -0.47079303734855726),\n",
       " ('BoroName_Brooklyn', 0.13638945417825271),\n",
       " ('BoroName_Manhattan', 0.086607341125433487),\n",
       " ('BoroName_Queens', -0.42127151043196959),\n",
       " ('shWhite00', -0.57352291545208156),\n",
       " ('shBlack00', -0.39704315370942439),\n",
       " ('shAsian00', -0.13022033143429632)]"
      ]
     },
     "execution_count": 233,
     "metadata": {},
     "output_type": "execute_result"
    }
   ],
   "source": [
    "print \"The standardized coefficients of each of the features are\"\n",
    "std_coef = np.std(X_test,0)*model.coef_\n",
    "zip(sel_features, std_coef[0])"
   ]
  },
  {
   "cell_type": "markdown",
   "metadata": {},
   "source": [
    "### Results\n",
    "#### Model Evaluation"
   ]
  },
  {
   "cell_type": "markdown",
   "metadata": {},
   "source": [
    "The logistic model outputs predictive probabilities as shown in plot below. We determine the cut-off point by estimating the point which we think have high enough probability to be considered gentrified. The initial estimates are picking the point by sizing the density of the graph above a particular cut-off point to reflect what we know of the composition of the outcome binary variable. A more **scientific** approach would be to use certain metrics such as **AUC-ROC** of sensitivty and 1-specificity or precision and recall to see how the model performs across all cut-off points. "
   ]
  },
  {
   "cell_type": "code",
   "execution_count": 234,
   "metadata": {},
   "outputs": [],
   "source": [
    "#  from our \"predictors\" using the model.\n",
    "y_scores = model.predict_proba(X_test)[:,1]"
   ]
  },
  {
   "cell_type": "markdown",
   "metadata": {},
   "source": [
    "#from our \"predictors\" using the model.\n",
    "y_scores = model.predict_proba(X_test)[:,1]"
   ]
  },
  {
   "cell_type": "code",
   "execution_count": 235,
   "metadata": {},
   "outputs": [
    {
     "data": {
      "text/plain": [
       "array([ 0.54856059,  0.32881807,  0.44380762, ...,  0.09653021,\n",
       "        0.20876046,  0.20618264])"
      ]
     },
     "execution_count": 235,
     "metadata": {},
     "output_type": "execute_result"
    }
   ],
   "source": [
    "y_scores"
   ]
  },
  {
   "cell_type": "code",
   "execution_count": 236,
   "metadata": {},
   "outputs": [
    {
     "data": {
      "text/plain": [
       "<matplotlib.axes._subplots.AxesSubplot at 0x7f14441c2410>"
      ]
     },
     "execution_count": 236,
     "metadata": {},
     "output_type": "execute_result"
    },
    {
     "data": {
      "image/png": "[encoded data removed]",
      "text/plain": [
       "<matplotlib.figure.Figure at 0x7f1444105f90>"
      ]
     },
     "metadata": {},
     "output_type": "display_data"
    }
   ],
   "source": [
    "sns.distplot(y_scores, kde=False, rug=False)"
   ]
  },
  {
   "cell_type": "code",
   "execution_count": 237,
   "metadata": {},
   "outputs": [],
   "source": [
    "df_test['y_score'] = y_scores"
   ]
  },
  {
   "cell_type": "code",
   "execution_count": 238,
   "metadata": {},
   "outputs": [
    {
     "data": {
      "text/html": [
       "<div>\n",
       "<table border=\"1\" class=\"dataframe\">\n",
       "  <thead>\n",
       "    <tr style=\"text-align: right;\">\n",
       "      <th></th>\n",
       "      <th>y_score</th>\n",
       "    </tr>\n",
       "  </thead>\n",
       "  <tbody>\n",
       "    <tr>\n",
       "      <th>8982</th>\n",
       "      <td>0.548561</td>\n",
       "    </tr>\n",
       "    <tr>\n",
       "      <th>7160</th>\n",
       "      <td>0.328818</td>\n",
       "    </tr>\n",
       "    <tr>\n",
       "      <th>6264</th>\n",
       "      <td>0.443808</td>\n",
       "    </tr>\n",
       "    <tr>\n",
       "      <th>21506</th>\n",
       "      <td>0.136366</td>\n",
       "    </tr>\n",
       "    <tr>\n",
       "      <th>3563</th>\n",
       "      <td>0.146300</td>\n",
       "    </tr>\n",
       "  </tbody>\n",
       "</table>\n",
       "</div>"
      ],
      "text/plain": [
       "        y_score\n",
       "8982   0.548561\n",
       "7160   0.328818\n",
       "6264   0.443808\n",
       "21506  0.136366\n",
       "3563   0.146300"
      ]
     },
     "execution_count": 238,
     "metadata": {},
     "output_type": "execute_result"
    }
   ],
   "source": [
    "df_test[['y_score']].head()"
   ]
  },
  {
   "cell_type": "code",
   "execution_count": 239,
   "metadata": {},
   "outputs": [],
   "source": [
    "calc_threshold = lambda x,y: 0 if x < y else 1 \n",
    "predicted = np.array( [calc_threshold(score,0.58) for score in y_scores] )\n",
    "expected = y_test"
   ]
  },
  {
   "cell_type": "markdown",
   "metadata": {},
   "source": [
    "#### Confusion Matrix"
   ]
  },
  {
   "cell_type": "markdown",
   "metadata": {},
   "source": [
    "A confusion matrix is a quick way to access the quality of our model. It has the criteria as below:\n",
    "* true positives : this is the case where we predict gentrification and there is actual gentrification\n",
    "* true negatives : this is the case where we predict no gentrification and there is no gentrification\n",
    "* false positivies : this is the case where we predict gentrification but there is actually no gentrification\n",
    "* false negatives : this is the case where we predict no gentrification but there is actually gentrification\n",
    "\n",
    "From our graph below which is colored to represent the volume of predictions, we are doing fairly well in predicting the true negatives but doing not so well, in predictive the true positives. In fact, as we will see later, our Model I is terrible at predicting true positives with very low recall scores. "
   ]
  },
  {
   "cell_type": "code",
   "execution_count": 240,
   "metadata": {},
   "outputs": [
    {
     "name": "stdout",
     "output_type": "stream",
     "text": [
      "[[17480   114]\n",
      " [ 5579   310]]\n"
     ]
    }
   ],
   "source": [
    "from sklearn.metrics import confusion_matrix\n",
    "conf_matrix = confusion_matrix(expected,predicted)\n",
    "print conf_matrix"
   ]
  },
  {
   "cell_type": "code",
   "execution_count": 241,
   "metadata": {},
   "outputs": [
    {
     "data": {
      "image/png": "[encoded data removed]",
      "text/plain": [
       "<matplotlib.figure.Figure at 0x7f14334f4610>"
      ]
     },
     "metadata": {},
     "output_type": "display_data"
    }
   ],
   "source": [
    "plt.matshow(conf_matrix)\n",
    "plt.title('Confusion Matrix')\n",
    "plt.colorbar()\n",
    "plt.ylabel('True Class')\n",
    "plt.xlabel('Predicted Class')\n",
    "plt.show()"
   ]
  },
  {
   "cell_type": "markdown",
   "metadata": {},
   "source": [
    "#### Null accuracy"
   ]
  },
  {
   "cell_type": "markdown",
   "metadata": {},
   "source": [
    "The null accuracy is a measurement of how our model is performing if we have only predicted the majority class. In our case, the majority case is 0 which we have code to be **75 percent** by the quantile that we have picked. Therefore, our model must outperform a model accuracy of **75 percent**. Otherwise, our model is barely outperforming the baseline."
   ]
  },
  {
   "cell_type": "markdown",
   "metadata": {},
   "source": [
    "#### Model Evaluation Assessment"
   ]
  },
  {
   "cell_type": "markdown",
   "metadata": {},
   "source": [
    "As can be seen below, our model is currently **barely** outperforming the null model with **75.5 percent** accuracy. The results are further reflected in our calculation of precision and recall further down. \n",
    "\n",
    "* **Precision** : Precision score deterimes how much of the predictive positive cases were correct. It is a ratio of predictive positive over true and false positives. \n",
    "\n",
    "* **Recall** : Recall is the proportion of positive cases that were correctly identified. \n",
    "\n",
    "There is a fundamental a trade-off between precision and recall. If we have higher recall, we may have lower precision because we are spreading a wider net.\n",
    "\n",
    "With recall/sensitivity score at **3.9 percent** we are doing fairly **terrible** for detecting **gentrification**. However, our **precision** rate stand at **74 percent**. At a first glance, it may look promising but as we plot the precision-recall trade-off graph later on the AUC stands at approximately **0.4** percent. Our first model is **bad** at predicting gentrification."
   ]
  },
  {
   "cell_type": "code",
   "execution_count": 242,
   "metadata": {},
   "outputs": [
    {
     "name": "stdout",
     "output_type": "stream",
     "text": [
      "Accuracy = 0.757569305455\n"
     ]
    }
   ],
   "source": [
    "#generating accuracy\n",
    "# generate an accuracy score by comparing expected to predicted.\n",
    "from sklearn.metrics import accuracy_score\n",
    "accuracy_01 = accuracy_score(expected, predicted)\n",
    "print( \"Accuracy = \" + str( accuracy_01 ) )"
   ]
  },
  {
   "cell_type": "code",
   "execution_count": 243,
   "metadata": {},
   "outputs": [
    {
     "name": "stdout",
     "output_type": "stream",
     "text": [
      "Precision = 0.731132075472\n",
      "Recall= 0.0526405162167\n"
     ]
    }
   ],
   "source": [
    "from sklearn.metrics import precision_score, recall_score\n",
    "precision_01 = precision_score(expected, predicted)\n",
    "recall_01 = recall_score(expected, predicted)\n",
    "print( \"Precision = \" + str( precision_01 ) )\n",
    "print( \"Recall= \" + str(recall_01))"
   ]
  },
  {
   "cell_type": "markdown",
   "metadata": {},
   "source": [
    "#### Plot Precision and Recall"
   ]
  },
  {
   "cell_type": "code",
   "execution_count": 244,
   "metadata": {},
   "outputs": [],
   "source": [
    "def plot_precision_recall(y_true,y_score):\n",
    "    \"\"\"\n",
    "    Plot a precision recall curve\n",
    "    \n",
    "    Parameters\n",
    "    ----------\n",
    "    y_true: ls\n",
    "        ground truth labels\n",
    "    y_score: ls\n",
    "        score output from model\n",
    "    \"\"\"\n",
    "    precision_curve, recall_curve, pr_thresholds = precision_recall_curve(y_true,y_score)\n",
    "    plt.plot(recall_curve, precision_curve)\n",
    "    plt.xlabel('Recall')\n",
    "    plt.ylabel('Precision')\n",
    "    plt.title('Model I')\n",
    "    auc_val_01 = auc(recall_curve,precision_curve)\n",
    "    print('AUC-PR: {0:1f}'.format(auc_val_01))\n",
    "    plt.show()\n",
    "    plt.clf()"
   ]
  },
  {
   "cell_type": "code",
   "execution_count": 245,
   "metadata": {},
   "outputs": [
    {
     "name": "stdout",
     "output_type": "stream",
     "text": [
      "AUC-PR: 0.433816\n"
     ]
    },
    {
     "data": {
      "image/png": "[encoded data removed]",
      "text/plain": [
       "<matplotlib.figure.Figure at 0x7f1440714f10>"
      ]
     },
     "metadata": {},
     "output_type": "display_data"
    },
    {
     "data": {
      "text/plain": [
       "<matplotlib.figure.Figure at 0x7f143174aed0>"
      ]
     },
     "metadata": {},
     "output_type": "display_data"
    }
   ],
   "source": [
    "plot_precision_recall(expected, y_scores)\n",
    "#saving the auc_scores\n",
    "precision_curve, recall_curve, pr_thresholds = precision_recall_curve(expected,y_scores)\n",
    "auc_val_01 = auc(recall_curve, precision_curve)"
   ]
  },
  {
   "cell_type": "markdown",
   "metadata": {},
   "source": [
    "## Model II\n",
    "\n",
    "### Data Transformation\n",
    "\n",
    "Gentrification = BID_Dummy + borough_fixed_effects + racial_composition_2000 + workers of three different income levels + four different educational attainment + pct_ch_hinc00-10 + pct_ch_hedu00-10"
   ]
  },
  {
   "cell_type": "markdown",
   "metadata": {},
   "source": [
    "In Model II, we will be adding two additional features in terms of workers' income levels and educational attainment by Census Block Group. The dataset is from OnTheMap (U.S.Census Bureau, Center for Economic Studies). https://onthemap.ces.census.gov/. The data cleaning process for this dataset is at **04_Workers_Residence_Data_Clean**\n"
   ]
  },
  {
   "cell_type": "markdown",
   "metadata": {},
   "source": [
    "#### Variables of Interest in Workers Data\n",
    "\n",
    "\n",
    "1. CE01 : Number of jobs with earnings 1250USD/month or less\n",
    "2. CE02 : Number of jobs with earnings 1251USD/month to 3333USD/month\n",
    "3. CE03 : Number of jobs with earnings greater than 3333USD/month\n",
    "4. CD01 : Number of jobs for workers with Educational Attainment: Less than high school\n",
    "5. CD02 : Number of jobs for workers with Educational Attainment: High School or Equivalent\n",
    "6. CD03 : Number of jobs for workers with Educational Attainment: Some college or Associate Degree\n",
    "7. CD04 : Number of jobs for workers with Educational Attainment: Bachelor's degree or Advanced Degree"
   ]
  },
  {
   "cell_type": "code",
   "execution_count": 246,
   "metadata": {},
   "outputs": [
    {
     "data": {
      "text/plain": [
       "(29192, 17)"
      ]
     },
     "execution_count": 246,
     "metadata": {},
     "output_type": "execute_result"
    }
   ],
   "source": [
    "workers_02_10 = pd.read_csv(\"../Data/workers_02_10_Clean.csv\", usecols=range(1,18), dtype= {'BLOCKID': str})\n",
    "workers_02_10.shape"
   ]
  },
  {
   "cell_type": "code",
   "execution_count": 247,
   "metadata": {},
   "outputs": [
    {
     "data": {
      "text/html": [
       "<div>\n",
       "<table border=\"1\" class=\"dataframe\">\n",
       "  <thead>\n",
       "    <tr style=\"text-align: right;\">\n",
       "      <th></th>\n",
       "      <th>BLOCKID</th>\n",
       "      <th>shInc01_2002</th>\n",
       "      <th>shInc02_2002</th>\n",
       "      <th>shInc03_2002</th>\n",
       "      <th>shEd01_2002</th>\n",
       "      <th>shEd02_2002</th>\n",
       "      <th>shEd03_2002</th>\n",
       "      <th>shEd04_2002</th>\n",
       "      <th>shInc01_2010</th>\n",
       "      <th>shInc02_2010</th>\n",
       "      <th>shInc03_2010</th>\n",
       "      <th>shEd01_2010</th>\n",
       "      <th>shEd02_2010</th>\n",
       "      <th>shEd03_2010</th>\n",
       "      <th>shEd04_2010</th>\n",
       "      <th>pct_ch_hInc</th>\n",
       "      <th>pct_ch_hEduc</th>\n",
       "    </tr>\n",
       "  </thead>\n",
       "  <tbody>\n",
       "    <tr>\n",
       "      <th>0</th>\n",
       "      <td>360050001001000</td>\n",
       "      <td>41.504540</td>\n",
       "      <td>38.910506</td>\n",
       "      <td>38.910506</td>\n",
       "      <td>0.0</td>\n",
       "      <td>0.0</td>\n",
       "      <td>0.0</td>\n",
       "      <td>0.0</td>\n",
       "      <td>34.280118</td>\n",
       "      <td>47.012733</td>\n",
       "      <td>31.341822</td>\n",
       "      <td>16.229713</td>\n",
       "      <td>26.217228</td>\n",
       "      <td>33.707865</td>\n",
       "      <td>23.720350</td>\n",
       "      <td>-7.568684</td>\n",
       "      <td>23.720350</td>\n",
       "    </tr>\n",
       "    <tr>\n",
       "      <th>1</th>\n",
       "      <td>360050001001013</td>\n",
       "      <td>54.290718</td>\n",
       "      <td>35.026270</td>\n",
       "      <td>35.026270</td>\n",
       "      <td>0.0</td>\n",
       "      <td>0.0</td>\n",
       "      <td>0.0</td>\n",
       "      <td>0.0</td>\n",
       "      <td>27.397260</td>\n",
       "      <td>43.052838</td>\n",
       "      <td>45.009785</td>\n",
       "      <td>21.377672</td>\n",
       "      <td>23.752969</td>\n",
       "      <td>35.629454</td>\n",
       "      <td>19.002375</td>\n",
       "      <td>9.983515</td>\n",
       "      <td>19.002375</td>\n",
       "    </tr>\n",
       "    <tr>\n",
       "      <th>2</th>\n",
       "      <td>360050002001000</td>\n",
       "      <td>19.206146</td>\n",
       "      <td>61.459667</td>\n",
       "      <td>61.459667</td>\n",
       "      <td>0.0</td>\n",
       "      <td>0.0</td>\n",
       "      <td>0.0</td>\n",
       "      <td>0.0</td>\n",
       "      <td>21.602160</td>\n",
       "      <td>49.504950</td>\n",
       "      <td>56.705671</td>\n",
       "      <td>21.409456</td>\n",
       "      <td>32.114184</td>\n",
       "      <td>23.193577</td>\n",
       "      <td>23.193577</td>\n",
       "      <td>-4.753997</td>\n",
       "      <td>23.193577</td>\n",
       "    </tr>\n",
       "    <tr>\n",
       "      <th>3</th>\n",
       "      <td>360050002001001</td>\n",
       "      <td>27.496382</td>\n",
       "      <td>44.862518</td>\n",
       "      <td>44.862518</td>\n",
       "      <td>0.0</td>\n",
       "      <td>0.0</td>\n",
       "      <td>0.0</td>\n",
       "      <td>0.0</td>\n",
       "      <td>20.332717</td>\n",
       "      <td>51.756007</td>\n",
       "      <td>59.149723</td>\n",
       "      <td>16.949153</td>\n",
       "      <td>20.715631</td>\n",
       "      <td>39.548023</td>\n",
       "      <td>22.598870</td>\n",
       "      <td>14.287205</td>\n",
       "      <td>22.598870</td>\n",
       "    </tr>\n",
       "    <tr>\n",
       "      <th>4</th>\n",
       "      <td>360050002001002</td>\n",
       "      <td>30.552291</td>\n",
       "      <td>50.528790</td>\n",
       "      <td>50.528790</td>\n",
       "      <td>0.0</td>\n",
       "      <td>0.0</td>\n",
       "      <td>0.0</td>\n",
       "      <td>0.0</td>\n",
       "      <td>20.558003</td>\n",
       "      <td>73.421439</td>\n",
       "      <td>58.737151</td>\n",
       "      <td>24.660912</td>\n",
       "      <td>27.127004</td>\n",
       "      <td>24.660912</td>\n",
       "      <td>23.427867</td>\n",
       "      <td>8.208362</td>\n",
       "      <td>23.427867</td>\n",
       "    </tr>\n",
       "  </tbody>\n",
       "</table>\n",
       "</div>"
      ],
      "text/plain": [
       "           BLOCKID  shInc01_2002  shInc02_2002  shInc03_2002  shEd01_2002  \\\n",
       "0  360050001001000     41.504540     38.910506     38.910506          0.0   \n",
       "1  360050001001013     54.290718     35.026270     35.026270          0.0   \n",
       "2  360050002001000     19.206146     61.459667     61.459667          0.0   \n",
       "3  360050002001001     27.496382     44.862518     44.862518          0.0   \n",
       "4  360050002001002     30.552291     50.528790     50.528790          0.0   \n",
       "\n",
       "   shEd02_2002  shEd03_2002  shEd04_2002  shInc01_2010  shInc02_2010  \\\n",
       "0          0.0          0.0          0.0     34.280118     47.012733   \n",
       "1          0.0          0.0          0.0     27.397260     43.052838   \n",
       "2          0.0          0.0          0.0     21.602160     49.504950   \n",
       "3          0.0          0.0          0.0     20.332717     51.756007   \n",
       "4          0.0          0.0          0.0     20.558003     73.421439   \n",
       "\n",
       "   shInc03_2010  shEd01_2010  shEd02_2010  shEd03_2010  shEd04_2010  \\\n",
       "0     31.341822    16.229713    26.217228    33.707865    23.720350   \n",
       "1     45.009785    21.377672    23.752969    35.629454    19.002375   \n",
       "2     56.705671    21.409456    32.114184    23.193577    23.193577   \n",
       "3     59.149723    16.949153    20.715631    39.548023    22.598870   \n",
       "4     58.737151    24.660912    27.127004    24.660912    23.427867   \n",
       "\n",
       "   pct_ch_hInc  pct_ch_hEduc  \n",
       "0    -7.568684     23.720350  \n",
       "1     9.983515     19.002375  \n",
       "2    -4.753997     23.193577  \n",
       "3    14.287205     22.598870  \n",
       "4     8.208362     23.427867  "
      ]
     },
     "execution_count": 247,
     "metadata": {},
     "output_type": "execute_result"
    }
   ],
   "source": [
    "workers_02_10.head()"
   ]
  },
  {
   "cell_type": "code",
   "execution_count": 107,
   "metadata": {},
   "outputs": [
    {
     "data": {
      "text/html": [
       "<div>\n",
       "<table border=\"1\" class=\"dataframe\">\n",
       "  <thead>\n",
       "    <tr style=\"text-align: right;\">\n",
       "      <th></th>\n",
       "      <th>BLOCKID</th>\n",
       "      <th>pct_ch_white</th>\n",
       "      <th>a_weight</th>\n",
       "      <th>bid_id</th>\n",
       "      <th>BID_dummy</th>\n",
       "      <th>BoroName_Bronx</th>\n",
       "      <th>BoroName_Brooklyn</th>\n",
       "      <th>BoroName_Manhattan</th>\n",
       "      <th>BoroName_Queens</th>\n",
       "      <th>shWhite00</th>\n",
       "      <th>shLatino00</th>\n",
       "      <th>shBlack00</th>\n",
       "      <th>shAsian00</th>\n",
       "      <th>changesdummy</th>\n",
       "    </tr>\n",
       "  </thead>\n",
       "  <tbody>\n",
       "    <tr>\n",
       "      <th>0</th>\n",
       "      <td>360050300004003</td>\n",
       "      <td>-17.525986</td>\n",
       "      <td>1.0</td>\n",
       "      <td>NaN</td>\n",
       "      <td>0</td>\n",
       "      <td>1.0</td>\n",
       "      <td>0.0</td>\n",
       "      <td>0.0</td>\n",
       "      <td>0.0</td>\n",
       "      <td>58.088235</td>\n",
       "      <td>37.132353</td>\n",
       "      <td>1.102941</td>\n",
       "      <td>2.941176</td>\n",
       "      <td>0</td>\n",
       "    </tr>\n",
       "    <tr>\n",
       "      <th>1</th>\n",
       "      <td>360050409001001</td>\n",
       "      <td>-1.340483</td>\n",
       "      <td>1.0</td>\n",
       "      <td>NaN</td>\n",
       "      <td>0</td>\n",
       "      <td>1.0</td>\n",
       "      <td>0.0</td>\n",
       "      <td>0.0</td>\n",
       "      <td>0.0</td>\n",
       "      <td>1.340483</td>\n",
       "      <td>9.562109</td>\n",
       "      <td>86.058981</td>\n",
       "      <td>0.983021</td>\n",
       "      <td>0</td>\n",
       "    </tr>\n",
       "    <tr>\n",
       "      <th>2</th>\n",
       "      <td>360050409002000</td>\n",
       "      <td>-12.498729</td>\n",
       "      <td>1.0</td>\n",
       "      <td>NaN</td>\n",
       "      <td>0</td>\n",
       "      <td>1.0</td>\n",
       "      <td>0.0</td>\n",
       "      <td>0.0</td>\n",
       "      <td>0.0</td>\n",
       "      <td>26.988335</td>\n",
       "      <td>9.809120</td>\n",
       "      <td>59.172853</td>\n",
       "      <td>1.855779</td>\n",
       "      <td>0</td>\n",
       "    </tr>\n",
       "    <tr>\n",
       "      <th>3</th>\n",
       "      <td>360050419001004</td>\n",
       "      <td>-5.535527</td>\n",
       "      <td>1.0</td>\n",
       "      <td>NaN</td>\n",
       "      <td>0</td>\n",
       "      <td>1.0</td>\n",
       "      <td>0.0</td>\n",
       "      <td>0.0</td>\n",
       "      <td>0.0</td>\n",
       "      <td>19.313305</td>\n",
       "      <td>60.944206</td>\n",
       "      <td>6.437768</td>\n",
       "      <td>11.587983</td>\n",
       "      <td>0</td>\n",
       "    </tr>\n",
       "    <tr>\n",
       "      <th>4</th>\n",
       "      <td>360050449011006</td>\n",
       "      <td>-3.571429</td>\n",
       "      <td>1.0</td>\n",
       "      <td>NaN</td>\n",
       "      <td>0</td>\n",
       "      <td>1.0</td>\n",
       "      <td>0.0</td>\n",
       "      <td>0.0</td>\n",
       "      <td>0.0</td>\n",
       "      <td>71.428571</td>\n",
       "      <td>28.571429</td>\n",
       "      <td>0.000000</td>\n",
       "      <td>0.000000</td>\n",
       "      <td>0</td>\n",
       "    </tr>\n",
       "  </tbody>\n",
       "</table>\n",
       "</div>"
      ],
      "text/plain": [
       "           BLOCKID  pct_ch_white  a_weight  bid_id  BID_dummy  BoroName_Bronx  \\\n",
       "0  360050300004003    -17.525986       1.0     NaN          0             1.0   \n",
       "1  360050409001001     -1.340483       1.0     NaN          0             1.0   \n",
       "2  360050409002000    -12.498729       1.0     NaN          0             1.0   \n",
       "3  360050419001004     -5.535527       1.0     NaN          0             1.0   \n",
       "4  360050449011006     -3.571429       1.0     NaN          0             1.0   \n",
       "\n",
       "   BoroName_Brooklyn  BoroName_Manhattan  BoroName_Queens  shWhite00  \\\n",
       "0                0.0                 0.0              0.0  58.088235   \n",
       "1                0.0                 0.0              0.0   1.340483   \n",
       "2                0.0                 0.0              0.0  26.988335   \n",
       "3                0.0                 0.0              0.0  19.313305   \n",
       "4                0.0                 0.0              0.0  71.428571   \n",
       "\n",
       "   shLatino00  shBlack00  shAsian00  changesdummy  \n",
       "0   37.132353   1.102941   2.941176             0  \n",
       "1    9.562109  86.058981   0.983021             0  \n",
       "2    9.809120  59.172853   1.855779             0  \n",
       "3   60.944206   6.437768  11.587983             0  \n",
       "4   28.571429   0.000000   0.000000             0  "
      ]
     },
     "execution_count": 107,
     "metadata": {},
     "output_type": "execute_result"
    }
   ],
   "source": [
    "#The working race composition data from before\n",
    "block_dummies_w.head()"
   ]
  },
  {
   "cell_type": "code",
   "execution_count": 248,
   "metadata": {},
   "outputs": [
    {
     "data": {
      "text/plain": [
       "(29196, 30)"
      ]
     },
     "execution_count": 248,
     "metadata": {},
     "output_type": "execute_result"
    }
   ],
   "source": [
    "#Joining the two datasets to create another dataset for model running\n",
    "workers_02_10_block_working = workers_02_10.merge(block_dummies_w, left_on = 'BLOCKID', right_on = 'BLOCKID', how = \"inner\")\n",
    "workers_02_10_block_working.shape"
   ]
  },
  {
   "cell_type": "markdown",
   "metadata": {},
   "source": [
    "#### Correlation Matrix"
   ]
  },
  {
   "cell_type": "markdown",
   "metadata": {},
   "source": [
    "This correlation matrix follows the matrix from above. If one loooks at the correlation values corresponding to the changesdummy variable, we do not see any predictors standing out except the very variable that creates the changesdummy variable. In other words, this new sets of predictors may not be so predictive after all."
   ]
  },
  {
   "cell_type": "code",
   "execution_count": 249,
   "metadata": {},
   "outputs": [
    {
     "data": {
      "text/plain": [
       "<matplotlib.axes._subplots.AxesSubplot at 0x7f143345ad90>"
      ]
     },
     "execution_count": 249,
     "metadata": {},
     "output_type": "execute_result"
    },
    {
     "data": {
      "image/png": "[encoded data removed]",
      "text/plain": [
       "<matplotlib.figure.Figure at 0x7f1431769ed0>"
      ]
     },
     "metadata": {},
     "output_type": "display_data"
    }
   ],
   "source": [
    "#Code is borrowed from seaborn documentation available online for many_pairwise_correlation plot\n",
    "\n",
    "# Computing the correlation matrix\n",
    "corr = workers_02_10_block_working.corr()\n",
    "\n",
    "# Generate a mask for the upper triangle\n",
    "mask = np.zeros_like(corr, dtype = np.bool)\n",
    "mask[np.triu_indices_from(mask)] = True\n",
    "\n",
    "# Set up the matplotlib figure\n",
    "f, ax = plt.subplots(figsize = (11,9))\n",
    "\n",
    "# Generate a custom diverging colormap\n",
    "cmap = sns.diverging_palette(220,10,as_cmap=True)\n",
    "\n",
    "# Draw the heatmap with the mask and correct aspect ratio\n",
    "sns.heatmap(corr, cmap=cmap)"
   ]
  },
  {
   "cell_type": "markdown",
   "metadata": {},
   "source": [
    "### Modeling\n",
    "#### Training and Testing data splits"
   ]
  },
  {
   "cell_type": "code",
   "execution_count": 250,
   "metadata": {},
   "outputs": [],
   "source": [
    "#Later on we will be using K-folds but this is a start\n",
    "# Changed to 80% training\n",
    "df_train, df_test = train_test_split(workers_02_10_block_working, test_size=0.8)"
   ]
  },
  {
   "cell_type": "code",
   "execution_count": 251,
   "metadata": {},
   "outputs": [
    {
     "data": {
      "text/html": [
       "<div>\n",
       "<table border=\"1\" class=\"dataframe\">\n",
       "  <thead>\n",
       "    <tr style=\"text-align: right;\">\n",
       "      <th></th>\n",
       "      <th>shInc01_2002</th>\n",
       "      <th>shInc02_2002</th>\n",
       "      <th>shInc03_2002</th>\n",
       "      <th>shEd01_2002</th>\n",
       "      <th>shEd02_2002</th>\n",
       "      <th>shEd03_2002</th>\n",
       "      <th>shEd04_2002</th>\n",
       "      <th>shInc01_2010</th>\n",
       "      <th>shInc02_2010</th>\n",
       "      <th>shInc03_2010</th>\n",
       "      <th>...</th>\n",
       "      <th>BID_dummy</th>\n",
       "      <th>BoroName_Bronx</th>\n",
       "      <th>BoroName_Brooklyn</th>\n",
       "      <th>BoroName_Manhattan</th>\n",
       "      <th>BoroName_Queens</th>\n",
       "      <th>shWhite00</th>\n",
       "      <th>shLatino00</th>\n",
       "      <th>shBlack00</th>\n",
       "      <th>shAsian00</th>\n",
       "      <th>changesdummy</th>\n",
       "    </tr>\n",
       "  </thead>\n",
       "  <tbody>\n",
       "    <tr>\n",
       "      <th>count</th>\n",
       "      <td>5839.000000</td>\n",
       "      <td>5839.000000</td>\n",
       "      <td>5839.000000</td>\n",
       "      <td>5839.0</td>\n",
       "      <td>5839.0</td>\n",
       "      <td>5839.0</td>\n",
       "      <td>5839.0</td>\n",
       "      <td>5839.000000</td>\n",
       "      <td>5839.000000</td>\n",
       "      <td>5839.000000</td>\n",
       "      <td>...</td>\n",
       "      <td>5839.000000</td>\n",
       "      <td>5839.000000</td>\n",
       "      <td>5839.000000</td>\n",
       "      <td>5839.000000</td>\n",
       "      <td>5839.000000</td>\n",
       "      <td>5839.000000</td>\n",
       "      <td>5839.000000</td>\n",
       "      <td>5839.000000</td>\n",
       "      <td>5839.000000</td>\n",
       "      <td>5839.000000</td>\n",
       "    </tr>\n",
       "    <tr>\n",
       "      <th>mean</th>\n",
       "      <td>28.386523</td>\n",
       "      <td>40.009936</td>\n",
       "      <td>40.009936</td>\n",
       "      <td>0.0</td>\n",
       "      <td>0.0</td>\n",
       "      <td>0.0</td>\n",
       "      <td>0.0</td>\n",
       "      <td>21.395883</td>\n",
       "      <td>44.170582</td>\n",
       "      <td>56.594114</td>\n",
       "      <td>...</td>\n",
       "      <td>0.027744</td>\n",
       "      <td>0.129988</td>\n",
       "      <td>0.256380</td>\n",
       "      <td>0.089228</td>\n",
       "      <td>0.377291</td>\n",
       "      <td>43.708538</td>\n",
       "      <td>20.426765</td>\n",
       "      <td>22.162872</td>\n",
       "      <td>9.931542</td>\n",
       "      <td>0.249015</td>\n",
       "    </tr>\n",
       "    <tr>\n",
       "      <th>std</th>\n",
       "      <td>10.258699</td>\n",
       "      <td>12.428208</td>\n",
       "      <td>12.428208</td>\n",
       "      <td>0.0</td>\n",
       "      <td>0.0</td>\n",
       "      <td>0.0</td>\n",
       "      <td>0.0</td>\n",
       "      <td>8.184495</td>\n",
       "      <td>79.553416</td>\n",
       "      <td>16.268470</td>\n",
       "      <td>...</td>\n",
       "      <td>0.164254</td>\n",
       "      <td>0.336319</td>\n",
       "      <td>0.436671</td>\n",
       "      <td>0.285096</td>\n",
       "      <td>0.484750</td>\n",
       "      <td>36.294842</td>\n",
       "      <td>23.191108</td>\n",
       "      <td>32.014780</td>\n",
       "      <td>15.285238</td>\n",
       "      <td>0.432480</td>\n",
       "    </tr>\n",
       "    <tr>\n",
       "      <th>min</th>\n",
       "      <td>0.000000</td>\n",
       "      <td>0.000000</td>\n",
       "      <td>0.000000</td>\n",
       "      <td>0.0</td>\n",
       "      <td>0.0</td>\n",
       "      <td>0.0</td>\n",
       "      <td>0.0</td>\n",
       "      <td>0.000000</td>\n",
       "      <td>0.000000</td>\n",
       "      <td>0.000000</td>\n",
       "      <td>...</td>\n",
       "      <td>0.000000</td>\n",
       "      <td>0.000000</td>\n",
       "      <td>0.000000</td>\n",
       "      <td>0.000000</td>\n",
       "      <td>0.000000</td>\n",
       "      <td>0.000000</td>\n",
       "      <td>0.000000</td>\n",
       "      <td>0.000000</td>\n",
       "      <td>0.000000</td>\n",
       "      <td>0.000000</td>\n",
       "    </tr>\n",
       "    <tr>\n",
       "      <th>25%</th>\n",
       "      <td>22.181146</td>\n",
       "      <td>32.418953</td>\n",
       "      <td>32.418953</td>\n",
       "      <td>0.0</td>\n",
       "      <td>0.0</td>\n",
       "      <td>0.0</td>\n",
       "      <td>0.0</td>\n",
       "      <td>16.393443</td>\n",
       "      <td>26.584766</td>\n",
       "      <td>45.701007</td>\n",
       "      <td>...</td>\n",
       "      <td>0.000000</td>\n",
       "      <td>0.000000</td>\n",
       "      <td>0.000000</td>\n",
       "      <td>0.000000</td>\n",
       "      <td>0.000000</td>\n",
       "      <td>4.428105</td>\n",
       "      <td>3.918616</td>\n",
       "      <td>0.000000</td>\n",
       "      <td>0.000000</td>\n",
       "      <td>0.000000</td>\n",
       "    </tr>\n",
       "    <tr>\n",
       "      <th>50%</th>\n",
       "      <td>28.107433</td>\n",
       "      <td>41.237113</td>\n",
       "      <td>41.237113</td>\n",
       "      <td>0.0</td>\n",
       "      <td>0.0</td>\n",
       "      <td>0.0</td>\n",
       "      <td>0.0</td>\n",
       "      <td>21.645022</td>\n",
       "      <td>38.976857</td>\n",
       "      <td>56.399132</td>\n",
       "      <td>...</td>\n",
       "      <td>0.000000</td>\n",
       "      <td>0.000000</td>\n",
       "      <td>0.000000</td>\n",
       "      <td>0.000000</td>\n",
       "      <td>0.000000</td>\n",
       "      <td>42.857143</td>\n",
       "      <td>10.714286</td>\n",
       "      <td>2.836879</td>\n",
       "      <td>3.370787</td>\n",
       "      <td>0.000000</td>\n",
       "    </tr>\n",
       "    <tr>\n",
       "      <th>75%</th>\n",
       "      <td>34.120735</td>\n",
       "      <td>48.464417</td>\n",
       "      <td>48.464417</td>\n",
       "      <td>0.0</td>\n",
       "      <td>0.0</td>\n",
       "      <td>0.0</td>\n",
       "      <td>0.0</td>\n",
       "      <td>26.999666</td>\n",
       "      <td>52.443963</td>\n",
       "      <td>66.587396</td>\n",
       "      <td>...</td>\n",
       "      <td>0.000000</td>\n",
       "      <td>0.000000</td>\n",
       "      <td>1.000000</td>\n",
       "      <td>0.000000</td>\n",
       "      <td>1.000000</td>\n",
       "      <td>80.000000</td>\n",
       "      <td>28.985507</td>\n",
       "      <td>36.106305</td>\n",
       "      <td>13.181877</td>\n",
       "      <td>0.000000</td>\n",
       "    </tr>\n",
       "    <tr>\n",
       "      <th>max</th>\n",
       "      <td>96.774194</td>\n",
       "      <td>98.039216</td>\n",
       "      <td>98.039216</td>\n",
       "      <td>0.0</td>\n",
       "      <td>0.0</td>\n",
       "      <td>0.0</td>\n",
       "      <td>0.0</td>\n",
       "      <td>49.645390</td>\n",
       "      <td>3000.000000</td>\n",
       "      <td>99.697885</td>\n",
       "      <td>...</td>\n",
       "      <td>1.000000</td>\n",
       "      <td>1.000000</td>\n",
       "      <td>1.000000</td>\n",
       "      <td>1.000000</td>\n",
       "      <td>1.000000</td>\n",
       "      <td>102.272725</td>\n",
       "      <td>101.137803</td>\n",
       "      <td>101.801092</td>\n",
       "      <td>100.000000</td>\n",
       "      <td>1.000000</td>\n",
       "    </tr>\n",
       "  </tbody>\n",
       "</table>\n",
       "<p>8 rows × 29 columns</p>\n",
       "</div>"
      ],
      "text/plain": [
       "       shInc01_2002  shInc02_2002  shInc03_2002  shEd01_2002  shEd02_2002  \\\n",
       "count   5839.000000   5839.000000   5839.000000       5839.0       5839.0   \n",
       "mean      28.386523     40.009936     40.009936          0.0          0.0   \n",
       "std       10.258699     12.428208     12.428208          0.0          0.0   \n",
       "min        0.000000      0.000000      0.000000          0.0          0.0   \n",
       "25%       22.181146     32.418953     32.418953          0.0          0.0   \n",
       "50%       28.107433     41.237113     41.237113          0.0          0.0   \n",
       "75%       34.120735     48.464417     48.464417          0.0          0.0   \n",
       "max       96.774194     98.039216     98.039216          0.0          0.0   \n",
       "\n",
       "       shEd03_2002  shEd04_2002  shInc01_2010  shInc02_2010  shInc03_2010  \\\n",
       "count       5839.0       5839.0   5839.000000   5839.000000   5839.000000   \n",
       "mean           0.0          0.0     21.395883     44.170582     56.594114   \n",
       "std            0.0          0.0      8.184495     79.553416     16.268470   \n",
       "min            0.0          0.0      0.000000      0.000000      0.000000   \n",
       "25%            0.0          0.0     16.393443     26.584766     45.701007   \n",
       "50%            0.0          0.0     21.645022     38.976857     56.399132   \n",
       "75%            0.0          0.0     26.999666     52.443963     66.587396   \n",
       "max            0.0          0.0     49.645390   3000.000000     99.697885   \n",
       "\n",
       "           ...         BID_dummy  BoroName_Bronx  BoroName_Brooklyn  \\\n",
       "count      ...       5839.000000     5839.000000        5839.000000   \n",
       "mean       ...          0.027744        0.129988           0.256380   \n",
       "std        ...          0.164254        0.336319           0.436671   \n",
       "min        ...          0.000000        0.000000           0.000000   \n",
       "25%        ...          0.000000        0.000000           0.000000   \n",
       "50%        ...          0.000000        0.000000           0.000000   \n",
       "75%        ...          0.000000        0.000000           1.000000   \n",
       "max        ...          1.000000        1.000000           1.000000   \n",
       "\n",
       "       BoroName_Manhattan  BoroName_Queens    shWhite00   shLatino00  \\\n",
       "count         5839.000000      5839.000000  5839.000000  5839.000000   \n",
       "mean             0.089228         0.377291    43.708538    20.426765   \n",
       "std              0.285096         0.484750    36.294842    23.191108   \n",
       "min              0.000000         0.000000     0.000000     0.000000   \n",
       "25%              0.000000         0.000000     4.428105     3.918616   \n",
       "50%              0.000000         0.000000    42.857143    10.714286   \n",
       "75%              0.000000         1.000000    80.000000    28.985507   \n",
       "max              1.000000         1.000000   102.272725   101.137803   \n",
       "\n",
       "         shBlack00    shAsian00  changesdummy  \n",
       "count  5839.000000  5839.000000   5839.000000  \n",
       "mean     22.162872     9.931542      0.249015  \n",
       "std      32.014780    15.285238      0.432480  \n",
       "min       0.000000     0.000000      0.000000  \n",
       "25%       0.000000     0.000000      0.000000  \n",
       "50%       2.836879     3.370787      0.000000  \n",
       "75%      36.106305    13.181877      0.000000  \n",
       "max     101.801092   100.000000      1.000000  \n",
       "\n",
       "[8 rows x 29 columns]"
      ]
     },
     "execution_count": 251,
     "metadata": {},
     "output_type": "execute_result"
    }
   ],
   "source": [
    "df_train.describe()"
   ]
  },
  {
   "cell_type": "code",
   "execution_count": 252,
   "metadata": {},
   "outputs": [
    {
     "data": {
      "text/html": [
       "<div>\n",
       "<table border=\"1\" class=\"dataframe\">\n",
       "  <thead>\n",
       "    <tr style=\"text-align: right;\">\n",
       "      <th></th>\n",
       "      <th>shInc01_2002</th>\n",
       "      <th>shInc02_2002</th>\n",
       "      <th>shInc03_2002</th>\n",
       "      <th>shEd01_2002</th>\n",
       "      <th>shEd02_2002</th>\n",
       "      <th>shEd03_2002</th>\n",
       "      <th>shEd04_2002</th>\n",
       "      <th>shInc01_2010</th>\n",
       "      <th>shInc02_2010</th>\n",
       "      <th>shInc03_2010</th>\n",
       "      <th>...</th>\n",
       "      <th>BID_dummy</th>\n",
       "      <th>BoroName_Bronx</th>\n",
       "      <th>BoroName_Brooklyn</th>\n",
       "      <th>BoroName_Manhattan</th>\n",
       "      <th>BoroName_Queens</th>\n",
       "      <th>shWhite00</th>\n",
       "      <th>shLatino00</th>\n",
       "      <th>shBlack00</th>\n",
       "      <th>shAsian00</th>\n",
       "      <th>changesdummy</th>\n",
       "    </tr>\n",
       "  </thead>\n",
       "  <tbody>\n",
       "    <tr>\n",
       "      <th>count</th>\n",
       "      <td>23357.000000</td>\n",
       "      <td>23357.000000</td>\n",
       "      <td>23357.000000</td>\n",
       "      <td>23357.0</td>\n",
       "      <td>23357.0</td>\n",
       "      <td>23357.0</td>\n",
       "      <td>23357.0</td>\n",
       "      <td>23357.000000</td>\n",
       "      <td>23357.000000</td>\n",
       "      <td>23357.000000</td>\n",
       "      <td>...</td>\n",
       "      <td>23357.000000</td>\n",
       "      <td>23357.000000</td>\n",
       "      <td>23357.000000</td>\n",
       "      <td>23357.000000</td>\n",
       "      <td>23357.000000</td>\n",
       "      <td>23357.000000</td>\n",
       "      <td>23357.000000</td>\n",
       "      <td>23357.000000</td>\n",
       "      <td>23357.000000</td>\n",
       "      <td>23357.000000</td>\n",
       "    </tr>\n",
       "    <tr>\n",
       "      <th>mean</th>\n",
       "      <td>28.392143</td>\n",
       "      <td>40.421412</td>\n",
       "      <td>40.421412</td>\n",
       "      <td>0.0</td>\n",
       "      <td>0.0</td>\n",
       "      <td>0.0</td>\n",
       "      <td>0.0</td>\n",
       "      <td>21.172049</td>\n",
       "      <td>44.050573</td>\n",
       "      <td>57.032472</td>\n",
       "      <td>...</td>\n",
       "      <td>0.023804</td>\n",
       "      <td>0.124631</td>\n",
       "      <td>0.258852</td>\n",
       "      <td>0.086527</td>\n",
       "      <td>0.390504</td>\n",
       "      <td>43.337401</td>\n",
       "      <td>20.550889</td>\n",
       "      <td>22.362169</td>\n",
       "      <td>9.964906</td>\n",
       "      <td>0.249133</td>\n",
       "    </tr>\n",
       "    <tr>\n",
       "      <th>std</th>\n",
       "      <td>10.297223</td>\n",
       "      <td>12.425407</td>\n",
       "      <td>12.425407</td>\n",
       "      <td>0.0</td>\n",
       "      <td>0.0</td>\n",
       "      <td>0.0</td>\n",
       "      <td>0.0</td>\n",
       "      <td>8.144583</td>\n",
       "      <td>71.157150</td>\n",
       "      <td>16.177871</td>\n",
       "      <td>...</td>\n",
       "      <td>0.152443</td>\n",
       "      <td>0.330307</td>\n",
       "      <td>0.438013</td>\n",
       "      <td>0.281146</td>\n",
       "      <td>0.487874</td>\n",
       "      <td>36.095806</td>\n",
       "      <td>22.898586</td>\n",
       "      <td>32.158577</td>\n",
       "      <td>15.122692</td>\n",
       "      <td>0.432520</td>\n",
       "    </tr>\n",
       "    <tr>\n",
       "      <th>min</th>\n",
       "      <td>0.000000</td>\n",
       "      <td>0.000000</td>\n",
       "      <td>0.000000</td>\n",
       "      <td>0.0</td>\n",
       "      <td>0.0</td>\n",
       "      <td>0.0</td>\n",
       "      <td>0.0</td>\n",
       "      <td>0.000000</td>\n",
       "      <td>0.000000</td>\n",
       "      <td>0.000000</td>\n",
       "      <td>...</td>\n",
       "      <td>0.000000</td>\n",
       "      <td>0.000000</td>\n",
       "      <td>0.000000</td>\n",
       "      <td>0.000000</td>\n",
       "      <td>0.000000</td>\n",
       "      <td>0.000000</td>\n",
       "      <td>0.000000</td>\n",
       "      <td>0.000000</td>\n",
       "      <td>0.000000</td>\n",
       "      <td>0.000000</td>\n",
       "    </tr>\n",
       "    <tr>\n",
       "      <th>25%</th>\n",
       "      <td>22.398252</td>\n",
       "      <td>33.057851</td>\n",
       "      <td>33.057851</td>\n",
       "      <td>0.0</td>\n",
       "      <td>0.0</td>\n",
       "      <td>0.0</td>\n",
       "      <td>0.0</td>\n",
       "      <td>16.241299</td>\n",
       "      <td>27.027027</td>\n",
       "      <td>46.529367</td>\n",
       "      <td>...</td>\n",
       "      <td>0.000000</td>\n",
       "      <td>0.000000</td>\n",
       "      <td>0.000000</td>\n",
       "      <td>0.000000</td>\n",
       "      <td>0.000000</td>\n",
       "      <td>4.504505</td>\n",
       "      <td>4.210526</td>\n",
       "      <td>0.000000</td>\n",
       "      <td>0.000000</td>\n",
       "      <td>0.000000</td>\n",
       "    </tr>\n",
       "    <tr>\n",
       "      <th>50%</th>\n",
       "      <td>28.169014</td>\n",
       "      <td>41.429311</td>\n",
       "      <td>41.429311</td>\n",
       "      <td>0.0</td>\n",
       "      <td>0.0</td>\n",
       "      <td>0.0</td>\n",
       "      <td>0.0</td>\n",
       "      <td>21.416804</td>\n",
       "      <td>38.961039</td>\n",
       "      <td>56.737589</td>\n",
       "      <td>...</td>\n",
       "      <td>0.000000</td>\n",
       "      <td>0.000000</td>\n",
       "      <td>0.000000</td>\n",
       "      <td>0.000000</td>\n",
       "      <td>0.000000</td>\n",
       "      <td>41.125541</td>\n",
       "      <td>11.058452</td>\n",
       "      <td>3.030303</td>\n",
       "      <td>3.384095</td>\n",
       "      <td>0.000000</td>\n",
       "    </tr>\n",
       "    <tr>\n",
       "      <th>75%</th>\n",
       "      <td>34.052213</td>\n",
       "      <td>48.582996</td>\n",
       "      <td>48.582996</td>\n",
       "      <td>0.0</td>\n",
       "      <td>0.0</td>\n",
       "      <td>0.0</td>\n",
       "      <td>0.0</td>\n",
       "      <td>26.548673</td>\n",
       "      <td>52.356021</td>\n",
       "      <td>67.183463</td>\n",
       "      <td>...</td>\n",
       "      <td>0.000000</td>\n",
       "      <td>0.000000</td>\n",
       "      <td>1.000000</td>\n",
       "      <td>0.000000</td>\n",
       "      <td>1.000000</td>\n",
       "      <td>79.166667</td>\n",
       "      <td>29.197080</td>\n",
       "      <td>37.370892</td>\n",
       "      <td>13.360324</td>\n",
       "      <td>0.000000</td>\n",
       "    </tr>\n",
       "    <tr>\n",
       "      <th>max</th>\n",
       "      <td>98.039216</td>\n",
       "      <td>98.591549</td>\n",
       "      <td>98.591549</td>\n",
       "      <td>0.0</td>\n",
       "      <td>0.0</td>\n",
       "      <td>0.0</td>\n",
       "      <td>0.0</td>\n",
       "      <td>49.689441</td>\n",
       "      <td>4000.000000</td>\n",
       "      <td>99.744246</td>\n",
       "      <td>...</td>\n",
       "      <td>1.000000</td>\n",
       "      <td>1.000000</td>\n",
       "      <td>1.000000</td>\n",
       "      <td>1.000000</td>\n",
       "      <td>1.000000</td>\n",
       "      <td>110.619469</td>\n",
       "      <td>102.639294</td>\n",
       "      <td>104.166663</td>\n",
       "      <td>105.263158</td>\n",
       "      <td>1.000000</td>\n",
       "    </tr>\n",
       "  </tbody>\n",
       "</table>\n",
       "<p>8 rows × 29 columns</p>\n",
       "</div>"
      ],
      "text/plain": [
       "       shInc01_2002  shInc02_2002  shInc03_2002  shEd01_2002  shEd02_2002  \\\n",
       "count  23357.000000  23357.000000  23357.000000      23357.0      23357.0   \n",
       "mean      28.392143     40.421412     40.421412          0.0          0.0   \n",
       "std       10.297223     12.425407     12.425407          0.0          0.0   \n",
       "min        0.000000      0.000000      0.000000          0.0          0.0   \n",
       "25%       22.398252     33.057851     33.057851          0.0          0.0   \n",
       "50%       28.169014     41.429311     41.429311          0.0          0.0   \n",
       "75%       34.052213     48.582996     48.582996          0.0          0.0   \n",
       "max       98.039216     98.591549     98.591549          0.0          0.0   \n",
       "\n",
       "       shEd03_2002  shEd04_2002  shInc01_2010  shInc02_2010  shInc03_2010  \\\n",
       "count      23357.0      23357.0  23357.000000  23357.000000  23357.000000   \n",
       "mean           0.0          0.0     21.172049     44.050573     57.032472   \n",
       "std            0.0          0.0      8.144583     71.157150     16.177871   \n",
       "min            0.0          0.0      0.000000      0.000000      0.000000   \n",
       "25%            0.0          0.0     16.241299     27.027027     46.529367   \n",
       "50%            0.0          0.0     21.416804     38.961039     56.737589   \n",
       "75%            0.0          0.0     26.548673     52.356021     67.183463   \n",
       "max            0.0          0.0     49.689441   4000.000000     99.744246   \n",
       "\n",
       "           ...          BID_dummy  BoroName_Bronx  BoroName_Brooklyn  \\\n",
       "count      ...       23357.000000    23357.000000       23357.000000   \n",
       "mean       ...           0.023804        0.124631           0.258852   \n",
       "std        ...           0.152443        0.330307           0.438013   \n",
       "min        ...           0.000000        0.000000           0.000000   \n",
       "25%        ...           0.000000        0.000000           0.000000   \n",
       "50%        ...           0.000000        0.000000           0.000000   \n",
       "75%        ...           0.000000        0.000000           1.000000   \n",
       "max        ...           1.000000        1.000000           1.000000   \n",
       "\n",
       "       BoroName_Manhattan  BoroName_Queens     shWhite00    shLatino00  \\\n",
       "count        23357.000000     23357.000000  23357.000000  23357.000000   \n",
       "mean             0.086527         0.390504     43.337401     20.550889   \n",
       "std              0.281146         0.487874     36.095806     22.898586   \n",
       "min              0.000000         0.000000      0.000000      0.000000   \n",
       "25%              0.000000         0.000000      4.504505      4.210526   \n",
       "50%              0.000000         0.000000     41.125541     11.058452   \n",
       "75%              0.000000         1.000000     79.166667     29.197080   \n",
       "max              1.000000         1.000000    110.619469    102.639294   \n",
       "\n",
       "          shBlack00     shAsian00  changesdummy  \n",
       "count  23357.000000  23357.000000  23357.000000  \n",
       "mean      22.362169      9.964906      0.249133  \n",
       "std       32.158577     15.122692      0.432520  \n",
       "min        0.000000      0.000000      0.000000  \n",
       "25%        0.000000      0.000000      0.000000  \n",
       "50%        3.030303      3.384095      0.000000  \n",
       "75%       37.370892     13.360324      0.000000  \n",
       "max      104.166663    105.263158      1.000000  \n",
       "\n",
       "[8 rows x 29 columns]"
      ]
     },
     "execution_count": 252,
     "metadata": {},
     "output_type": "execute_result"
    }
   ],
   "source": [
    "df_test.describe()"
   ]
  },
  {
   "cell_type": "code",
   "execution_count": 256,
   "metadata": {},
   "outputs": [],
   "source": [
    "#This is reflecting the Model I equation\n",
    "sel_features = ['a_weight', 'BID_dummy', 'BoroName_Bronx', 'BoroName_Brooklyn', 'BoroName_Manhattan', 'BoroName_Queens','shWhite00', 'shBlack00', 'shAsian00', 'shInc01_2002', 'shInc02_2002', 'shInc03_2002','shEd01_2002', 'shEd02_2002','shEd03_2002','shEd04_2002','pct_ch_hInc', 'pct_ch_hEduc']\n",
    "sel_label = [ 'changesdummy']"
   ]
  },
  {
   "cell_type": "code",
   "execution_count": 254,
   "metadata": {},
   "outputs": [],
   "source": [
    "#We are assigning predictors and the outcome in training and testing datasets\n",
    "X_train = df_train[sel_features].values\n",
    "y_train = df_train[sel_label].values\n",
    "X_test = df_test[sel_features].values\n",
    "y_test = df_test[sel_label].values"
   ]
  },
  {
   "cell_type": "code",
   "execution_count": 257,
   "metadata": {},
   "outputs": [
    {
     "name": "stdout",
     "output_type": "stream",
     "text": [
      "LogisticRegression(C=100000.0, class_weight=None, dual=False,\n",
      "          fit_intercept=True, intercept_scaling=1, max_iter=100,\n",
      "          multi_class='ovr', n_jobs=1, penalty='l1', random_state=None,\n",
      "          solver='liblinear', tol=0.0001, verbose=0, warm_start=False)\n"
     ]
    }
   ],
   "source": [
    "#Inputting this into the base logistic regression model\n",
    "from sklearn import linear_model\n",
    "model = linear_model.LogisticRegression(penalty='l1', C=1e5)\n",
    "model.fit( X_train, y_train )\n",
    "print(model)"
   ]
  },
  {
   "cell_type": "markdown",
   "metadata": {},
   "source": [
    "### Results"
   ]
  },
  {
   "cell_type": "code",
   "execution_count": 258,
   "metadata": {},
   "outputs": [],
   "source": [
    "y_scores = model.predict_proba(X_test)[:,1]"
   ]
  },
  {
   "cell_type": "code",
   "execution_count": 259,
   "metadata": {},
   "outputs": [
    {
     "data": {
      "text/plain": [
       "array([ 0.15872961,  0.35526688,  0.1139715 , ...,  0.09715239,\n",
       "        0.14576256,  0.13744846])"
      ]
     },
     "execution_count": 259,
     "metadata": {},
     "output_type": "execute_result"
    }
   ],
   "source": [
    "y_scores"
   ]
  },
  {
   "cell_type": "code",
   "execution_count": 260,
   "metadata": {},
   "outputs": [
    {
     "data": {
      "text/plain": [
       "<matplotlib.axes._subplots.AxesSubplot at 0x7f14335e4650>"
      ]
     },
     "execution_count": 260,
     "metadata": {},
     "output_type": "execute_result"
    },
    {
     "data": {
      "image/png": "[encoded data removed]",
      "text/plain": [
       "<matplotlib.figure.Figure at 0x7f14335e4350>"
      ]
     },
     "metadata": {},
     "output_type": "display_data"
    }
   ],
   "source": [
    "sns.distplot(y_scores, kde=False, rug=False)"
   ]
  },
  {
   "cell_type": "code",
   "execution_count": 261,
   "metadata": {},
   "outputs": [],
   "source": [
    "df_test['y_score'] = y_scores"
   ]
  },
  {
   "cell_type": "code",
   "execution_count": 262,
   "metadata": {},
   "outputs": [
    {
     "data": {
      "text/html": [
       "<div>\n",
       "<table border=\"1\" class=\"dataframe\">\n",
       "  <thead>\n",
       "    <tr style=\"text-align: right;\">\n",
       "      <th></th>\n",
       "      <th>y_score</th>\n",
       "    </tr>\n",
       "  </thead>\n",
       "  <tbody>\n",
       "    <tr>\n",
       "      <th>20434</th>\n",
       "      <td>0.158730</td>\n",
       "    </tr>\n",
       "    <tr>\n",
       "      <th>7926</th>\n",
       "      <td>0.355267</td>\n",
       "    </tr>\n",
       "    <tr>\n",
       "      <th>1083</th>\n",
       "      <td>0.113971</td>\n",
       "    </tr>\n",
       "    <tr>\n",
       "      <th>19404</th>\n",
       "      <td>0.180128</td>\n",
       "    </tr>\n",
       "    <tr>\n",
       "      <th>6412</th>\n",
       "      <td>0.489347</td>\n",
       "    </tr>\n",
       "  </tbody>\n",
       "</table>\n",
       "</div>"
      ],
      "text/plain": [
       "        y_score\n",
       "20434  0.158730\n",
       "7926   0.355267\n",
       "1083   0.113971\n",
       "19404  0.180128\n",
       "6412   0.489347"
      ]
     },
     "execution_count": 262,
     "metadata": {},
     "output_type": "execute_result"
    }
   ],
   "source": [
    "df_test[['y_score']].head()"
   ]
  },
  {
   "cell_type": "markdown",
   "metadata": {},
   "source": [
    "To be able to compare the assessment metrics across different models, we are going to consistently pick the predictive probability cut-off point at **0.58**."
   ]
  },
  {
   "cell_type": "code",
   "execution_count": 263,
   "metadata": {},
   "outputs": [],
   "source": [
    "calc_threshold = lambda x,y: 0 if x < y else 1 \n",
    "predicted = np.array( [calc_threshold(score,0.58) for score in y_scores] )\n",
    "expected = y_test"
   ]
  },
  {
   "cell_type": "code",
   "execution_count": 264,
   "metadata": {},
   "outputs": [
    {
     "name": "stdout",
     "output_type": "stream",
     "text": [
      "[[17434   104]\n",
      " [ 5516   303]]\n"
     ]
    }
   ],
   "source": [
    "from sklearn.metrics import confusion_matrix\n",
    "conf_matrix = confusion_matrix(expected,predicted)\n",
    "print conf_matrix"
   ]
  },
  {
   "cell_type": "markdown",
   "metadata": {},
   "source": [
    "#### Confusion Matrix"
   ]
  },
  {
   "cell_type": "markdown",
   "metadata": {},
   "source": [
    "To recall, a confusion matrix is a quick way to access the quality of our model. It has the criteria as below:\n",
    "\n",
    "* true positives : this is the case where we predict gentrification and there is actual gentrification\n",
    "* true negatives : this is the case where we predict no gentrification and there is no gentrification\n",
    "* false positivies : this is the case where we predict gentrification but there is actually no gentrification\n",
    "* false negatives : this is the case where we predict no gentrification but there is actually gentrification\n",
    "\n",
    "From our graph below which is colored to represent the volume of predictions, we are doing fairly well in predicting the true negatives but doing not so well, in predictive the true positives like before in Model I. It is an indication again that we are doing pretty **bad** in recall."
   ]
  },
  {
   "cell_type": "code",
   "execution_count": 265,
   "metadata": {},
   "outputs": [
    {
     "data": {
      "image/png": "[encoded data removed]",
      "text/plain": [
       "<matplotlib.figure.Figure at 0x7f1432c96110>"
      ]
     },
     "metadata": {},
     "output_type": "display_data"
    }
   ],
   "source": [
    "plt.matshow(conf_matrix)\n",
    "plt.title('Confusion Matrix')\n",
    "plt.colorbar()\n",
    "plt.ylabel('True Class')\n",
    "plt.xlabel('Predicted Class')\n",
    "plt.show()"
   ]
  },
  {
   "cell_type": "code",
   "execution_count": 266,
   "metadata": {},
   "outputs": [
    {
     "name": "stdout",
     "output_type": "stream",
     "text": [
      "Accuracy = 0.759386907565\n"
     ]
    }
   ],
   "source": [
    "#generating accuracy\n",
    "# generate an accuracy score by comparing expected to predicted.\n",
    "from sklearn.metrics import accuracy_score\n",
    "accuracy_02 = accuracy_score(expected, predicted)\n",
    "print( \"Accuracy = \" + str( accuracy_02 ) )"
   ]
  },
  {
   "cell_type": "code",
   "execution_count": 267,
   "metadata": {},
   "outputs": [
    {
     "name": "stdout",
     "output_type": "stream",
     "text": [
      "Precision = 0.744471744472\n",
      "Recall= 0.0520708025434\n"
     ]
    }
   ],
   "source": [
    "from sklearn.metrics import precision_score, recall_score\n",
    "precision_02 = precision_score(expected, predicted)\n",
    "recall_02 = recall_score(expected, predicted)\n",
    "print( \"Precision = \" + str( precision_02 ) )\n",
    "print( \"Recall= \" + str(recall_02))"
   ]
  },
  {
   "cell_type": "code",
   "execution_count": 268,
   "metadata": {},
   "outputs": [],
   "source": [
    "def plot_precision_recall(y_true,y_score):\n",
    "    \"\"\"\n",
    "    Plot a precision recall curve\n",
    "    \n",
    "    Parameters\n",
    "    ----------\n",
    "    y_true: ls\n",
    "        ground truth labels\n",
    "    y_score: ls\n",
    "        score output from model\n",
    "    \"\"\"\n",
    "    precision_curve, recall_curve, pr_thresholds = precision_recall_curve(y_true,y_score)\n",
    "    plt.plot(recall_curve, precision_curve)\n",
    "    plt.xlabel('Recall')\n",
    "    plt.ylabel('Precision')\n",
    "    plt.title('Model II')\n",
    "    auc_val_02 = auc(recall_curve,precision_curve)\n",
    "    print('AUC-PR: {0:1f}'.format(auc_val_02))\n",
    "    plt.show()\n",
    "    plt.clf()"
   ]
  },
  {
   "cell_type": "code",
   "execution_count": 269,
   "metadata": {},
   "outputs": [
    {
     "name": "stdout",
     "output_type": "stream",
     "text": [
      "AUC-PR: 0.449304\n"
     ]
    },
    {
     "data": {
      "image/png": "[encoded data removed]",
      "text/plain": [
       "<matplotlib.figure.Figure at 0x7f149c634fd0>"
      ]
     },
     "metadata": {},
     "output_type": "display_data"
    },
    {
     "data": {
      "text/plain": [
       "<matplotlib.figure.Figure at 0x7f143332d510>"
      ]
     },
     "metadata": {},
     "output_type": "display_data"
    }
   ],
   "source": [
    "plot_precision_recall(expected, y_scores)\n",
    "#saving the auc_scores\n",
    "precision_curve, recall_curve, pr_thresholds = precision_recall_curve(expected,y_scores)\n",
    "auc_val_02 = auc(recall_curve, precision_curve)"
   ]
  },
  {
   "cell_type": "markdown",
   "metadata": {},
   "source": [
    "## Model III\n",
    "### Data Transformation\n",
    "\n",
    "Gentrification = BID_Dummy + borough_fixed_effects + racial_composition_2000 + workers of three different income levels + four different educational attainment + + pct_ch_hinc + pct_ch_hedu + distances of subways + distances of small parks + distances of large parks + New Units permits after 2010"
   ]
  },
  {
   "cell_type": "markdown",
   "metadata": {},
   "source": [
    "In Model III, we will be adding in three additonal features of subway, small park and large park distances from the center of each census block group. We are aware that these features represent physical infrastructure that does not change much over time. We are hoping to capture that an existing presence could affect residents' decision to move-in or move-out of census block groups and neighborhoods. A more pertinent dataset would be where new investments in subways and parks happen over time which we hope to obtain next. The data is obtained from NYC Open data (https://nycopendata.socrata.com/Transportation/Subway-Entrances/drex-xx56) and the cleaning is done in GIS."
   ]
  },
  {
   "cell_type": "code",
   "execution_count": 270,
   "metadata": {},
   "outputs": [
    {
     "data": {
      "text/plain": [
       "(39009, 4)"
      ]
     },
     "execution_count": 270,
     "metadata": {},
     "output_type": "execute_result"
    }
   ],
   "source": [
    "#Import data on distance to the nearest subway entrance, \n",
    "#nearest big park (larger than 3 acres) and nearest small park (less than 3 acres but more than 0.1 acres to exlude microparks)\n",
    "subwaysparks = pd.read_csv(\"../Data/dist_subway_parks_final.csv\",dtype= {'BLOCKID': str} )\n",
    "subwaysparks.shape"
   ]
  },
  {
   "cell_type": "code",
   "execution_count": 271,
   "metadata": {},
   "outputs": [
    {
     "data": {
      "text/html": [
       "<div>\n",
       "<table border=\"1\" class=\"dataframe\">\n",
       "  <thead>\n",
       "    <tr style=\"text-align: right;\">\n",
       "      <th></th>\n",
       "      <th>BLOCKID</th>\n",
       "      <th>dist_sub_m</th>\n",
       "      <th>dist_sPark</th>\n",
       "      <th>dist_lPark</th>\n",
       "    </tr>\n",
       "  </thead>\n",
       "  <tbody>\n",
       "    <tr>\n",
       "      <th>0</th>\n",
       "      <td>360050516005011</td>\n",
       "      <td>4741.830078</td>\n",
       "      <td>5270.879883</td>\n",
       "      <td>911.674011</td>\n",
       "    </tr>\n",
       "    <tr>\n",
       "      <th>1</th>\n",
       "      <td>360050300004003</td>\n",
       "      <td>103.175003</td>\n",
       "      <td>1220.680054</td>\n",
       "      <td>78.367500</td>\n",
       "    </tr>\n",
       "    <tr>\n",
       "      <th>2</th>\n",
       "      <td>360050409001001</td>\n",
       "      <td>323.865997</td>\n",
       "      <td>308.806000</td>\n",
       "      <td>111.860001</td>\n",
       "    </tr>\n",
       "    <tr>\n",
       "      <th>3</th>\n",
       "      <td>360050409002000</td>\n",
       "      <td>240.684998</td>\n",
       "      <td>179.690002</td>\n",
       "      <td>209.363007</td>\n",
       "    </tr>\n",
       "    <tr>\n",
       "      <th>4</th>\n",
       "      <td>360050411001000</td>\n",
       "      <td>96.200104</td>\n",
       "      <td>17.205500</td>\n",
       "      <td>37.777100</td>\n",
       "    </tr>\n",
       "  </tbody>\n",
       "</table>\n",
       "</div>"
      ],
      "text/plain": [
       "           BLOCKID   dist_sub_m   dist_sPark  dist_lPark\n",
       "0  360050516005011  4741.830078  5270.879883  911.674011\n",
       "1  360050300004003   103.175003  1220.680054   78.367500\n",
       "2  360050409001001   323.865997   308.806000  111.860001\n",
       "3  360050409002000   240.684998   179.690002  209.363007\n",
       "4  360050411001000    96.200104    17.205500   37.777100"
      ]
     },
     "execution_count": 271,
     "metadata": {},
     "output_type": "execute_result"
    }
   ],
   "source": [
    "subwaysparks.head()"
   ]
  },
  {
   "cell_type": "code",
   "execution_count": 272,
   "metadata": {},
   "outputs": [
    {
     "data": {
      "text/plain": [
       "(29353, 2)"
      ]
     },
     "execution_count": 272,
     "metadata": {},
     "output_type": "execute_result"
    }
   ],
   "source": [
    "#Import data on DOB occupancy permits for number of new units permited per block after 2010\n",
    "newunits = pd.read_csv(\"../Data/DOB_new_units_Clean.csv\", usecols=range(1,3), dtype= {'BLOCKID': str, 'PR_DWELLING_UNIT': int} )\n",
    "newunits.shape"
   ]
  },
  {
   "cell_type": "code",
   "execution_count": 273,
   "metadata": {},
   "outputs": [
    {
     "data": {
      "text/html": [
       "<div>\n",
       "<table border=\"1\" class=\"dataframe\">\n",
       "  <thead>\n",
       "    <tr style=\"text-align: right;\">\n",
       "      <th></th>\n",
       "      <th>BLOCKID</th>\n",
       "      <th>PR_DWELLING_UNIT</th>\n",
       "    </tr>\n",
       "  </thead>\n",
       "  <tbody>\n",
       "    <tr>\n",
       "      <th>0</th>\n",
       "      <td>360050002001000</td>\n",
       "      <td>0</td>\n",
       "    </tr>\n",
       "    <tr>\n",
       "      <th>1</th>\n",
       "      <td>360050002001004</td>\n",
       "      <td>48</td>\n",
       "    </tr>\n",
       "    <tr>\n",
       "      <th>2</th>\n",
       "      <td>360050002002002</td>\n",
       "      <td>2</td>\n",
       "    </tr>\n",
       "    <tr>\n",
       "      <th>3</th>\n",
       "      <td>360050002002003</td>\n",
       "      <td>0</td>\n",
       "    </tr>\n",
       "    <tr>\n",
       "      <th>4</th>\n",
       "      <td>360050004002003</td>\n",
       "      <td>4</td>\n",
       "    </tr>\n",
       "  </tbody>\n",
       "</table>\n",
       "</div>"
      ],
      "text/plain": [
       "           BLOCKID  PR_DWELLING_UNIT\n",
       "0  360050002001000                 0\n",
       "1  360050002001004                48\n",
       "2  360050002002002                 2\n",
       "3  360050002002003                 0\n",
       "4  360050004002003                 4"
      ]
     },
     "execution_count": 273,
     "metadata": {},
     "output_type": "execute_result"
    }
   ],
   "source": [
    "newunits.head()"
   ]
  },
  {
   "cell_type": "code",
   "execution_count": 274,
   "metadata": {},
   "outputs": [
    {
     "data": {
      "text/plain": [
       "(39009, 4)"
      ]
     },
     "execution_count": 274,
     "metadata": {},
     "output_type": "execute_result"
    }
   ],
   "source": [
    "# Remove NaNs in BLOCKID if there are\n",
    "subwayParksClean = [x for x in subwaysparks['BLOCKID'] if x != 'nan']\n",
    "subwaysparks.shape"
   ]
  },
  {
   "cell_type": "code",
   "execution_count": 275,
   "metadata": {},
   "outputs": [
    {
     "data": {
      "text/plain": [
       "(29196, 30)"
      ]
     },
     "execution_count": 275,
     "metadata": {},
     "output_type": "execute_result"
    }
   ],
   "source": [
    "workers_02_10_block_working.shape"
   ]
  },
  {
   "cell_type": "code",
   "execution_count": 276,
   "metadata": {},
   "outputs": [
    {
     "data": {
      "text/html": [
       "<div>\n",
       "<table border=\"1\" class=\"dataframe\">\n",
       "  <thead>\n",
       "    <tr style=\"text-align: right;\">\n",
       "      <th></th>\n",
       "      <th>BLOCKID</th>\n",
       "      <th>shInc01_2002</th>\n",
       "      <th>shInc02_2002</th>\n",
       "      <th>shInc03_2002</th>\n",
       "      <th>shEd01_2002</th>\n",
       "      <th>shEd02_2002</th>\n",
       "      <th>shEd03_2002</th>\n",
       "      <th>shEd04_2002</th>\n",
       "      <th>shInc01_2010</th>\n",
       "      <th>shInc02_2010</th>\n",
       "      <th>...</th>\n",
       "      <th>BoroName_Manhattan</th>\n",
       "      <th>BoroName_Queens</th>\n",
       "      <th>shWhite00</th>\n",
       "      <th>shLatino00</th>\n",
       "      <th>shBlack00</th>\n",
       "      <th>shAsian00</th>\n",
       "      <th>changesdummy</th>\n",
       "      <th>dist_sub_m</th>\n",
       "      <th>dist_sPark</th>\n",
       "      <th>dist_lPark</th>\n",
       "    </tr>\n",
       "  </thead>\n",
       "  <tbody>\n",
       "    <tr>\n",
       "      <th>0</th>\n",
       "      <td>360050001001000</td>\n",
       "      <td>41.504540</td>\n",
       "      <td>38.910506</td>\n",
       "      <td>38.910506</td>\n",
       "      <td>0.0</td>\n",
       "      <td>0.0</td>\n",
       "      <td>0.0</td>\n",
       "      <td>0.0</td>\n",
       "      <td>34.280118</td>\n",
       "      <td>47.012733</td>\n",
       "      <td>...</td>\n",
       "      <td>0.0</td>\n",
       "      <td>0.0</td>\n",
       "      <td>8.521221</td>\n",
       "      <td>26.954882</td>\n",
       "      <td>60.605009</td>\n",
       "      <td>0.260854</td>\n",
       "      <td>0</td>\n",
       "      <td>2990.620117</td>\n",
       "      <td>2112.219971</td>\n",
       "      <td>1333.260010</td>\n",
       "    </tr>\n",
       "    <tr>\n",
       "      <th>1</th>\n",
       "      <td>360050001001013</td>\n",
       "      <td>54.290718</td>\n",
       "      <td>35.026270</td>\n",
       "      <td>35.026270</td>\n",
       "      <td>0.0</td>\n",
       "      <td>0.0</td>\n",
       "      <td>0.0</td>\n",
       "      <td>0.0</td>\n",
       "      <td>27.397260</td>\n",
       "      <td>43.052838</td>\n",
       "      <td>...</td>\n",
       "      <td>0.0</td>\n",
       "      <td>0.0</td>\n",
       "      <td>8.487242</td>\n",
       "      <td>26.937767</td>\n",
       "      <td>60.517723</td>\n",
       "      <td>0.184505</td>\n",
       "      <td>0</td>\n",
       "      <td>2802.429932</td>\n",
       "      <td>1970.089966</td>\n",
       "      <td>1057.729981</td>\n",
       "    </tr>\n",
       "    <tr>\n",
       "      <th>2</th>\n",
       "      <td>360050002001000</td>\n",
       "      <td>19.206146</td>\n",
       "      <td>61.459667</td>\n",
       "      <td>61.459667</td>\n",
       "      <td>0.0</td>\n",
       "      <td>0.0</td>\n",
       "      <td>0.0</td>\n",
       "      <td>0.0</td>\n",
       "      <td>21.602160</td>\n",
       "      <td>49.504950</td>\n",
       "      <td>...</td>\n",
       "      <td>0.0</td>\n",
       "      <td>0.0</td>\n",
       "      <td>9.885932</td>\n",
       "      <td>55.513308</td>\n",
       "      <td>26.235741</td>\n",
       "      <td>3.041825</td>\n",
       "      <td>0</td>\n",
       "      <td>2024.540039</td>\n",
       "      <td>443.230011</td>\n",
       "      <td>297.609009</td>\n",
       "    </tr>\n",
       "    <tr>\n",
       "      <th>3</th>\n",
       "      <td>360050002001001</td>\n",
       "      <td>27.496382</td>\n",
       "      <td>44.862518</td>\n",
       "      <td>44.862518</td>\n",
       "      <td>0.0</td>\n",
       "      <td>0.0</td>\n",
       "      <td>0.0</td>\n",
       "      <td>0.0</td>\n",
       "      <td>20.332717</td>\n",
       "      <td>51.756007</td>\n",
       "      <td>...</td>\n",
       "      <td>0.0</td>\n",
       "      <td>0.0</td>\n",
       "      <td>7.853403</td>\n",
       "      <td>63.874346</td>\n",
       "      <td>27.225131</td>\n",
       "      <td>0.000000</td>\n",
       "      <td>0</td>\n",
       "      <td>2014.689941</td>\n",
       "      <td>477.950989</td>\n",
       "      <td>278.540008</td>\n",
       "    </tr>\n",
       "    <tr>\n",
       "      <th>4</th>\n",
       "      <td>360050002001002</td>\n",
       "      <td>30.552291</td>\n",
       "      <td>50.528790</td>\n",
       "      <td>50.528790</td>\n",
       "      <td>0.0</td>\n",
       "      <td>0.0</td>\n",
       "      <td>0.0</td>\n",
       "      <td>0.0</td>\n",
       "      <td>20.558003</td>\n",
       "      <td>73.421439</td>\n",
       "      <td>...</td>\n",
       "      <td>0.0</td>\n",
       "      <td>0.0</td>\n",
       "      <td>3.859649</td>\n",
       "      <td>70.175439</td>\n",
       "      <td>24.561404</td>\n",
       "      <td>0.000000</td>\n",
       "      <td>0</td>\n",
       "      <td>2007.910034</td>\n",
       "      <td>522.379028</td>\n",
       "      <td>240.309998</td>\n",
       "    </tr>\n",
       "  </tbody>\n",
       "</table>\n",
       "<p>5 rows × 33 columns</p>\n",
       "</div>"
      ],
      "text/plain": [
       "           BLOCKID  shInc01_2002  shInc02_2002  shInc03_2002  shEd01_2002  \\\n",
       "0  360050001001000     41.504540     38.910506     38.910506          0.0   \n",
       "1  360050001001013     54.290718     35.026270     35.026270          0.0   \n",
       "2  360050002001000     19.206146     61.459667     61.459667          0.0   \n",
       "3  360050002001001     27.496382     44.862518     44.862518          0.0   \n",
       "4  360050002001002     30.552291     50.528790     50.528790          0.0   \n",
       "\n",
       "   shEd02_2002  shEd03_2002  shEd04_2002  shInc01_2010  shInc02_2010  \\\n",
       "0          0.0          0.0          0.0     34.280118     47.012733   \n",
       "1          0.0          0.0          0.0     27.397260     43.052838   \n",
       "2          0.0          0.0          0.0     21.602160     49.504950   \n",
       "3          0.0          0.0          0.0     20.332717     51.756007   \n",
       "4          0.0          0.0          0.0     20.558003     73.421439   \n",
       "\n",
       "      ...       BoroName_Manhattan  BoroName_Queens  shWhite00  shLatino00  \\\n",
       "0     ...                      0.0              0.0   8.521221   26.954882   \n",
       "1     ...                      0.0              0.0   8.487242   26.937767   \n",
       "2     ...                      0.0              0.0   9.885932   55.513308   \n",
       "3     ...                      0.0              0.0   7.853403   63.874346   \n",
       "4     ...                      0.0              0.0   3.859649   70.175439   \n",
       "\n",
       "   shBlack00  shAsian00  changesdummy   dist_sub_m   dist_sPark   dist_lPark  \n",
       "0  60.605009   0.260854             0  2990.620117  2112.219971  1333.260010  \n",
       "1  60.517723   0.184505             0  2802.429932  1970.089966  1057.729981  \n",
       "2  26.235741   3.041825             0  2024.540039   443.230011   297.609009  \n",
       "3  27.225131   0.000000             0  2014.689941   477.950989   278.540008  \n",
       "4  24.561404   0.000000             0  2007.910034   522.379028   240.309998  \n",
       "\n",
       "[5 rows x 33 columns]"
      ]
     },
     "execution_count": 276,
     "metadata": {},
     "output_type": "execute_result"
    }
   ],
   "source": [
    "#Joining subway data to workers data from before\n",
    "workers_subway = workers_02_10_block_working.merge(subwaysparks, left_on = 'BLOCKID', right_on = 'BLOCKID', how = \"inner\")\n",
    "workers_subway.head()"
   ]
  },
  {
   "cell_type": "code",
   "execution_count": 277,
   "metadata": {},
   "outputs": [
    {
     "data": {
      "text/html": [
       "<div>\n",
       "<table border=\"1\" class=\"dataframe\">\n",
       "  <thead>\n",
       "    <tr style=\"text-align: right;\">\n",
       "      <th></th>\n",
       "      <th>BLOCKID</th>\n",
       "      <th>shInc01_2002</th>\n",
       "      <th>shInc02_2002</th>\n",
       "      <th>shInc03_2002</th>\n",
       "      <th>shEd01_2002</th>\n",
       "      <th>shEd02_2002</th>\n",
       "      <th>shEd03_2002</th>\n",
       "      <th>shEd04_2002</th>\n",
       "      <th>shInc01_2010</th>\n",
       "      <th>shInc02_2010</th>\n",
       "      <th>...</th>\n",
       "      <th>BoroName_Queens</th>\n",
       "      <th>shWhite00</th>\n",
       "      <th>shLatino00</th>\n",
       "      <th>shBlack00</th>\n",
       "      <th>shAsian00</th>\n",
       "      <th>changesdummy</th>\n",
       "      <th>dist_sub_m</th>\n",
       "      <th>dist_sPark</th>\n",
       "      <th>dist_lPark</th>\n",
       "      <th>PR_DWELLING_UNIT</th>\n",
       "    </tr>\n",
       "  </thead>\n",
       "  <tbody>\n",
       "    <tr>\n",
       "      <th>0</th>\n",
       "      <td>360050001001000</td>\n",
       "      <td>41.504540</td>\n",
       "      <td>38.910506</td>\n",
       "      <td>38.910506</td>\n",
       "      <td>0.0</td>\n",
       "      <td>0.0</td>\n",
       "      <td>0.0</td>\n",
       "      <td>0.0</td>\n",
       "      <td>34.280118</td>\n",
       "      <td>47.012733</td>\n",
       "      <td>...</td>\n",
       "      <td>0.0</td>\n",
       "      <td>8.521221</td>\n",
       "      <td>26.954882</td>\n",
       "      <td>60.605009</td>\n",
       "      <td>0.260854</td>\n",
       "      <td>0</td>\n",
       "      <td>2990.620117</td>\n",
       "      <td>2112.219971</td>\n",
       "      <td>1333.260010</td>\n",
       "      <td>0</td>\n",
       "    </tr>\n",
       "    <tr>\n",
       "      <th>1</th>\n",
       "      <td>360050001001013</td>\n",
       "      <td>54.290718</td>\n",
       "      <td>35.026270</td>\n",
       "      <td>35.026270</td>\n",
       "      <td>0.0</td>\n",
       "      <td>0.0</td>\n",
       "      <td>0.0</td>\n",
       "      <td>0.0</td>\n",
       "      <td>27.397260</td>\n",
       "      <td>43.052838</td>\n",
       "      <td>...</td>\n",
       "      <td>0.0</td>\n",
       "      <td>8.487242</td>\n",
       "      <td>26.937767</td>\n",
       "      <td>60.517723</td>\n",
       "      <td>0.184505</td>\n",
       "      <td>0</td>\n",
       "      <td>2802.429932</td>\n",
       "      <td>1970.089966</td>\n",
       "      <td>1057.729981</td>\n",
       "      <td>0</td>\n",
       "    </tr>\n",
       "    <tr>\n",
       "      <th>2</th>\n",
       "      <td>360050002001000</td>\n",
       "      <td>19.206146</td>\n",
       "      <td>61.459667</td>\n",
       "      <td>61.459667</td>\n",
       "      <td>0.0</td>\n",
       "      <td>0.0</td>\n",
       "      <td>0.0</td>\n",
       "      <td>0.0</td>\n",
       "      <td>21.602160</td>\n",
       "      <td>49.504950</td>\n",
       "      <td>...</td>\n",
       "      <td>0.0</td>\n",
       "      <td>9.885932</td>\n",
       "      <td>55.513308</td>\n",
       "      <td>26.235741</td>\n",
       "      <td>3.041825</td>\n",
       "      <td>0</td>\n",
       "      <td>2024.540039</td>\n",
       "      <td>443.230011</td>\n",
       "      <td>297.609009</td>\n",
       "      <td>0</td>\n",
       "    </tr>\n",
       "    <tr>\n",
       "      <th>3</th>\n",
       "      <td>360050002001001</td>\n",
       "      <td>27.496382</td>\n",
       "      <td>44.862518</td>\n",
       "      <td>44.862518</td>\n",
       "      <td>0.0</td>\n",
       "      <td>0.0</td>\n",
       "      <td>0.0</td>\n",
       "      <td>0.0</td>\n",
       "      <td>20.332717</td>\n",
       "      <td>51.756007</td>\n",
       "      <td>...</td>\n",
       "      <td>0.0</td>\n",
       "      <td>7.853403</td>\n",
       "      <td>63.874346</td>\n",
       "      <td>27.225131</td>\n",
       "      <td>0.000000</td>\n",
       "      <td>0</td>\n",
       "      <td>2014.689941</td>\n",
       "      <td>477.950989</td>\n",
       "      <td>278.540008</td>\n",
       "      <td>0</td>\n",
       "    </tr>\n",
       "    <tr>\n",
       "      <th>4</th>\n",
       "      <td>360050002001002</td>\n",
       "      <td>30.552291</td>\n",
       "      <td>50.528790</td>\n",
       "      <td>50.528790</td>\n",
       "      <td>0.0</td>\n",
       "      <td>0.0</td>\n",
       "      <td>0.0</td>\n",
       "      <td>0.0</td>\n",
       "      <td>20.558003</td>\n",
       "      <td>73.421439</td>\n",
       "      <td>...</td>\n",
       "      <td>0.0</td>\n",
       "      <td>3.859649</td>\n",
       "      <td>70.175439</td>\n",
       "      <td>24.561404</td>\n",
       "      <td>0.000000</td>\n",
       "      <td>0</td>\n",
       "      <td>2007.910034</td>\n",
       "      <td>522.379028</td>\n",
       "      <td>240.309998</td>\n",
       "      <td>0</td>\n",
       "    </tr>\n",
       "  </tbody>\n",
       "</table>\n",
       "<p>5 rows × 34 columns</p>\n",
       "</div>"
      ],
      "text/plain": [
       "           BLOCKID  shInc01_2002  shInc02_2002  shInc03_2002  shEd01_2002  \\\n",
       "0  360050001001000     41.504540     38.910506     38.910506          0.0   \n",
       "1  360050001001013     54.290718     35.026270     35.026270          0.0   \n",
       "2  360050002001000     19.206146     61.459667     61.459667          0.0   \n",
       "3  360050002001001     27.496382     44.862518     44.862518          0.0   \n",
       "4  360050002001002     30.552291     50.528790     50.528790          0.0   \n",
       "\n",
       "   shEd02_2002  shEd03_2002  shEd04_2002  shInc01_2010  shInc02_2010  \\\n",
       "0          0.0          0.0          0.0     34.280118     47.012733   \n",
       "1          0.0          0.0          0.0     27.397260     43.052838   \n",
       "2          0.0          0.0          0.0     21.602160     49.504950   \n",
       "3          0.0          0.0          0.0     20.332717     51.756007   \n",
       "4          0.0          0.0          0.0     20.558003     73.421439   \n",
       "\n",
       "         ...         BoroName_Queens  shWhite00  shLatino00  shBlack00  \\\n",
       "0        ...                     0.0   8.521221   26.954882  60.605009   \n",
       "1        ...                     0.0   8.487242   26.937767  60.517723   \n",
       "2        ...                     0.0   9.885932   55.513308  26.235741   \n",
       "3        ...                     0.0   7.853403   63.874346  27.225131   \n",
       "4        ...                     0.0   3.859649   70.175439  24.561404   \n",
       "\n",
       "   shAsian00  changesdummy   dist_sub_m   dist_sPark   dist_lPark  \\\n",
       "0   0.260854             0  2990.620117  2112.219971  1333.260010   \n",
       "1   0.184505             0  2802.429932  1970.089966  1057.729981   \n",
       "2   3.041825             0  2024.540039   443.230011   297.609009   \n",
       "3   0.000000             0  2014.689941   477.950989   278.540008   \n",
       "4   0.000000             0  2007.910034   522.379028   240.309998   \n",
       "\n",
       "   PR_DWELLING_UNIT  \n",
       "0                 0  \n",
       "1                 0  \n",
       "2                 0  \n",
       "3                 0  \n",
       "4                 0  \n",
       "\n",
       "[5 rows x 34 columns]"
      ]
     },
     "execution_count": 277,
     "metadata": {},
     "output_type": "execute_result"
    }
   ],
   "source": [
    "# Join DOB data on new units approved\n",
    "workers_subway_units = workers_subway.merge(newunits, left_on = 'BLOCKID', right_on = 'BLOCKID', how = \"inner\")\n",
    "workers_subway_units.head()"
   ]
  },
  {
   "cell_type": "code",
   "execution_count": 278,
   "metadata": {},
   "outputs": [],
   "source": [
    "#Save in the Data folder for further exploration and visualization\n",
    "workers_subway_units.to_csv(\"../Data/Blocks_full_dataset.csv\", encoding='utf8')"
   ]
  },
  {
   "cell_type": "markdown",
   "metadata": {},
   "source": [
    "#### Correlation Matrix"
   ]
  },
  {
   "cell_type": "markdown",
   "metadata": {},
   "source": [
    "This correlation matrix follows the matrix from above. If one loooks at the correlation values corresponding to the changesdummy variable, we do not see any predictors standing out except the very variable that creates the changesdummy variable. In other words, with these additional neighborhood amenities, we still may not find a model that will have a higher recall score for the gentrification variable (changesdummy)."
   ]
  },
  {
   "cell_type": "code",
   "execution_count": 279,
   "metadata": {},
   "outputs": [
    {
     "data": {
      "text/plain": [
       "<matplotlib.axes._subplots.AxesSubplot at 0x7f1433297410>"
      ]
     },
     "execution_count": 279,
     "metadata": {},
     "output_type": "execute_result"
    },
    {
     "data": {
      "image/png": "[encoded data removed]",
      "text/plain": [
       "<matplotlib.figure.Figure at 0x7f149c6ef7d0>"
      ]
     },
     "metadata": {},
     "output_type": "display_data"
    }
   ],
   "source": [
    "#Code is borrowed from seaborn documentation available online for many_pairwise_correlation plot\n",
    "\n",
    "# Computing the correlation matrix\n",
    "corr = workers_subway_units.corr()\n",
    "\n",
    "# Generate a mask for the upper triangle\n",
    "mask = np.zeros_like(corr, dtype = np.bool)\n",
    "mask[np.triu_indices_from(mask)] = True\n",
    "\n",
    "# Set up the matplotlib figure\n",
    "f, ax = plt.subplots(figsize = (11,9))\n",
    "\n",
    "# Generate a custom diverging colormap\n",
    "cmap = sns.diverging_palette(220,10,as_cmap=True)\n",
    "\n",
    "# Draw the heatmap with the mask and correct aspect ratio\n",
    "sns.heatmap(corr, cmap=cmap)"
   ]
  },
  {
   "cell_type": "markdown",
   "metadata": {},
   "source": [
    "\n",
    "### Modeling\n",
    "#### Training and Testing data splits\n"
   ]
  },
  {
   "cell_type": "code",
   "execution_count": 280,
   "metadata": {},
   "outputs": [],
   "source": [
    "#Later on we will be using K-folds but this is a start\n",
    "# Changed to 80% training\n",
    "df_train, df_test = train_test_split(workers_subway_units, test_size=0.8)"
   ]
  },
  {
   "cell_type": "code",
   "execution_count": 281,
   "metadata": {},
   "outputs": [
    {
     "data": {
      "text/html": [
       "<div>\n",
       "<table border=\"1\" class=\"dataframe\">\n",
       "  <thead>\n",
       "    <tr style=\"text-align: right;\">\n",
       "      <th></th>\n",
       "      <th>BLOCKID</th>\n",
       "      <th>shInc01_2002</th>\n",
       "      <th>shInc02_2002</th>\n",
       "      <th>shInc03_2002</th>\n",
       "      <th>shEd01_2002</th>\n",
       "      <th>shEd02_2002</th>\n",
       "      <th>shEd03_2002</th>\n",
       "      <th>shEd04_2002</th>\n",
       "      <th>shInc01_2010</th>\n",
       "      <th>shInc02_2010</th>\n",
       "      <th>...</th>\n",
       "      <th>BoroName_Queens</th>\n",
       "      <th>shWhite00</th>\n",
       "      <th>shLatino00</th>\n",
       "      <th>shBlack00</th>\n",
       "      <th>shAsian00</th>\n",
       "      <th>changesdummy</th>\n",
       "      <th>dist_sub_m</th>\n",
       "      <th>dist_sPark</th>\n",
       "      <th>dist_lPark</th>\n",
       "      <th>PR_DWELLING_UNIT</th>\n",
       "    </tr>\n",
       "  </thead>\n",
       "  <tbody>\n",
       "    <tr>\n",
       "      <th>27911</th>\n",
       "      <td>360850189011020</td>\n",
       "      <td>43.126685</td>\n",
       "      <td>29.649596</td>\n",
       "      <td>29.649596</td>\n",
       "      <td>0.0</td>\n",
       "      <td>0.0</td>\n",
       "      <td>0.0</td>\n",
       "      <td>0.0</td>\n",
       "      <td>4.149378</td>\n",
       "      <td>29.045643</td>\n",
       "      <td>...</td>\n",
       "      <td>0.0</td>\n",
       "      <td>92.771084</td>\n",
       "      <td>7.228916</td>\n",
       "      <td>0.000000</td>\n",
       "      <td>0.000000</td>\n",
       "      <td>0</td>\n",
       "      <td>4046.060059</td>\n",
       "      <td>888.716003</td>\n",
       "      <td>188.292007</td>\n",
       "      <td>1</td>\n",
       "    </tr>\n",
       "    <tr>\n",
       "      <th>6727</th>\n",
       "      <td>360470395003003</td>\n",
       "      <td>34.423408</td>\n",
       "      <td>58.519793</td>\n",
       "      <td>58.519793</td>\n",
       "      <td>0.0</td>\n",
       "      <td>0.0</td>\n",
       "      <td>0.0</td>\n",
       "      <td>0.0</td>\n",
       "      <td>28.129395</td>\n",
       "      <td>46.413502</td>\n",
       "      <td>...</td>\n",
       "      <td>0.0</td>\n",
       "      <td>0.696864</td>\n",
       "      <td>51.916376</td>\n",
       "      <td>43.205575</td>\n",
       "      <td>3.832753</td>\n",
       "      <td>1</td>\n",
       "      <td>105.387001</td>\n",
       "      <td>253.671005</td>\n",
       "      <td>1010.929993</td>\n",
       "      <td>18</td>\n",
       "    </tr>\n",
       "    <tr>\n",
       "      <th>26040</th>\n",
       "      <td>360850112021021</td>\n",
       "      <td>37.914692</td>\n",
       "      <td>37.914692</td>\n",
       "      <td>37.914692</td>\n",
       "      <td>0.0</td>\n",
       "      <td>0.0</td>\n",
       "      <td>0.0</td>\n",
       "      <td>0.0</td>\n",
       "      <td>29.520295</td>\n",
       "      <td>14.760148</td>\n",
       "      <td>...</td>\n",
       "      <td>0.0</td>\n",
       "      <td>82.812500</td>\n",
       "      <td>4.687500</td>\n",
       "      <td>0.000000</td>\n",
       "      <td>12.500000</td>\n",
       "      <td>0</td>\n",
       "      <td>632.148010</td>\n",
       "      <td>394.476990</td>\n",
       "      <td>205.576004</td>\n",
       "      <td>0</td>\n",
       "    </tr>\n",
       "    <tr>\n",
       "      <th>27692</th>\n",
       "      <td>360850177002016</td>\n",
       "      <td>27.888446</td>\n",
       "      <td>23.904382</td>\n",
       "      <td>23.904382</td>\n",
       "      <td>0.0</td>\n",
       "      <td>0.0</td>\n",
       "      <td>0.0</td>\n",
       "      <td>0.0</td>\n",
       "      <td>19.157088</td>\n",
       "      <td>45.977011</td>\n",
       "      <td>...</td>\n",
       "      <td>0.0</td>\n",
       "      <td>78.651685</td>\n",
       "      <td>4.494382</td>\n",
       "      <td>0.000000</td>\n",
       "      <td>16.853933</td>\n",
       "      <td>0</td>\n",
       "      <td>587.976013</td>\n",
       "      <td>1041.130005</td>\n",
       "      <td>362.958008</td>\n",
       "      <td>0</td>\n",
       "    </tr>\n",
       "    <tr>\n",
       "      <th>11468</th>\n",
       "      <td>360610033001002</td>\n",
       "      <td>16.318205</td>\n",
       "      <td>17.848037</td>\n",
       "      <td>17.848037</td>\n",
       "      <td>0.0</td>\n",
       "      <td>0.0</td>\n",
       "      <td>0.0</td>\n",
       "      <td>0.0</td>\n",
       "      <td>10.726475</td>\n",
       "      <td>16.577279</td>\n",
       "      <td>...</td>\n",
       "      <td>0.0</td>\n",
       "      <td>76.035503</td>\n",
       "      <td>5.029586</td>\n",
       "      <td>0.887574</td>\n",
       "      <td>15.384615</td>\n",
       "      <td>1</td>\n",
       "      <td>146.951004</td>\n",
       "      <td>194.029007</td>\n",
       "      <td>423.714996</td>\n",
       "      <td>117</td>\n",
       "    </tr>\n",
       "  </tbody>\n",
       "</table>\n",
       "<p>5 rows × 34 columns</p>\n",
       "</div>"
      ],
      "text/plain": [
       "               BLOCKID  shInc01_2002  shInc02_2002  shInc03_2002  shEd01_2002  \\\n",
       "27911  360850189011020     43.126685     29.649596     29.649596          0.0   \n",
       "6727   360470395003003     34.423408     58.519793     58.519793          0.0   \n",
       "26040  360850112021021     37.914692     37.914692     37.914692          0.0   \n",
       "27692  360850177002016     27.888446     23.904382     23.904382          0.0   \n",
       "11468  360610033001002     16.318205     17.848037     17.848037          0.0   \n",
       "\n",
       "       shEd02_2002  shEd03_2002  shEd04_2002  shInc01_2010  shInc02_2010  \\\n",
       "27911          0.0          0.0          0.0      4.149378     29.045643   \n",
       "6727           0.0          0.0          0.0     28.129395     46.413502   \n",
       "26040          0.0          0.0          0.0     29.520295     14.760148   \n",
       "27692          0.0          0.0          0.0     19.157088     45.977011   \n",
       "11468          0.0          0.0          0.0     10.726475     16.577279   \n",
       "\n",
       "             ...         BoroName_Queens  shWhite00  shLatino00  shBlack00  \\\n",
       "27911        ...                     0.0  92.771084    7.228916   0.000000   \n",
       "6727         ...                     0.0   0.696864   51.916376  43.205575   \n",
       "26040        ...                     0.0  82.812500    4.687500   0.000000   \n",
       "27692        ...                     0.0  78.651685    4.494382   0.000000   \n",
       "11468        ...                     0.0  76.035503    5.029586   0.887574   \n",
       "\n",
       "       shAsian00  changesdummy   dist_sub_m   dist_sPark   dist_lPark  \\\n",
       "27911   0.000000             0  4046.060059   888.716003   188.292007   \n",
       "6727    3.832753             1   105.387001   253.671005  1010.929993   \n",
       "26040  12.500000             0   632.148010   394.476990   205.576004   \n",
       "27692  16.853933             0   587.976013  1041.130005   362.958008   \n",
       "11468  15.384615             1   146.951004   194.029007   423.714996   \n",
       "\n",
       "       PR_DWELLING_UNIT  \n",
       "27911                 1  \n",
       "6727                 18  \n",
       "26040                 0  \n",
       "27692                 0  \n",
       "11468               117  \n",
       "\n",
       "[5 rows x 34 columns]"
      ]
     },
     "execution_count": 281,
     "metadata": {},
     "output_type": "execute_result"
    }
   ],
   "source": [
    "df_train.head()"
   ]
  },
  {
   "cell_type": "code",
   "execution_count": 282,
   "metadata": {},
   "outputs": [
    {
     "data": {
      "text/plain": [
       "Index([u'BLOCKID', u'shInc01_2002', u'shInc02_2002', u'shInc03_2002',\n",
       "       u'shEd01_2002', u'shEd02_2002', u'shEd03_2002', u'shEd04_2002',\n",
       "       u'shInc01_2010', u'shInc02_2010', u'shInc03_2010', u'shEd01_2010',\n",
       "       u'shEd02_2010', u'shEd03_2010', u'shEd04_2010', u'pct_ch_hInc',\n",
       "       u'pct_ch_hEduc', u'pct_ch_white', u'a_weight', u'bid_id', u'BID_dummy',\n",
       "       u'BoroName_Bronx', u'BoroName_Brooklyn', u'BoroName_Manhattan',\n",
       "       u'BoroName_Queens', u'shWhite00', u'shLatino00', u'shBlack00',\n",
       "       u'shAsian00', u'changesdummy', u'dist_sub_m', u'dist_sPark',\n",
       "       u'dist_lPark', u'PR_DWELLING_UNIT'],\n",
       "      dtype='object')"
      ]
     },
     "execution_count": 282,
     "metadata": {},
     "output_type": "execute_result"
    }
   ],
   "source": [
    "df_train.columns"
   ]
  },
  {
   "cell_type": "code",
   "execution_count": 283,
   "metadata": {},
   "outputs": [],
   "source": [
    "#This is reflecting the Model I equation\n",
    "sel_features = ['a_weight', 'BID_dummy', 'BoroName_Bronx', 'BoroName_Brooklyn', 'BoroName_Manhattan', 'BoroName_Queens','shWhite00', 'shBlack00', 'shAsian00', 'shInc01_2002', 'shInc02_2002', 'shInc03_2002','shEd01_2002', 'shEd02_2002','shEd03_2002','shEd04_2002','pct_ch_hInc', 'pct_ch_hEduc','dist_sub_m','dist_sPark','dist_lPark','PR_DWELLING_UNIT' ]\n",
    "sel_label = [ 'changesdummy']"
   ]
  },
  {
   "cell_type": "code",
   "execution_count": 284,
   "metadata": {},
   "outputs": [],
   "source": [
    "#We are assigning predictors and the outcome in training and testing datasets\n",
    "X_train = df_train[sel_features].values\n",
    "y_train = df_train[sel_label].values\n",
    "X_test = df_test[sel_features].values\n",
    "y_test = df_test[sel_label].values"
   ]
  },
  {
   "cell_type": "code",
   "execution_count": 285,
   "metadata": {},
   "outputs": [
    {
     "name": "stdout",
     "output_type": "stream",
     "text": [
      "LogisticRegression(C=100000.0, class_weight=None, dual=False,\n",
      "          fit_intercept=True, intercept_scaling=1, max_iter=100,\n",
      "          multi_class='ovr', n_jobs=1, penalty='l1', random_state=None,\n",
      "          solver='liblinear', tol=0.0001, verbose=0, warm_start=False)\n"
     ]
    }
   ],
   "source": [
    "#Inputting this into the traditional logistic regression model\n",
    "from sklearn import linear_model\n",
    "model = linear_model.LogisticRegression(penalty='l1', C=1e5)\n",
    "model.fit( X_train, y_train )\n",
    "print(model)"
   ]
  },
  {
   "cell_type": "markdown",
   "metadata": {},
   "source": [
    "### Results"
   ]
  },
  {
   "cell_type": "code",
   "execution_count": 286,
   "metadata": {},
   "outputs": [],
   "source": [
    "y_scores = model.predict_proba(X_test)[:,1]"
   ]
  },
  {
   "cell_type": "code",
   "execution_count": 287,
   "metadata": {},
   "outputs": [
    {
     "data": {
      "text/plain": [
       "array([ 0.3723912 ,  0.37861215,  0.14582203, ...,  0.35327262,\n",
       "        0.36584775,  0.22562119])"
      ]
     },
     "execution_count": 287,
     "metadata": {},
     "output_type": "execute_result"
    }
   ],
   "source": [
    "y_scores"
   ]
  },
  {
   "cell_type": "code",
   "execution_count": 288,
   "metadata": {},
   "outputs": [
    {
     "data": {
      "text/plain": [
       "<matplotlib.axes._subplots.AxesSubplot at 0x7f14325c9110>"
      ]
     },
     "execution_count": 288,
     "metadata": {},
     "output_type": "execute_result"
    },
    {
     "data": {
      "image/png": "[encoded data removed]",
      "text/plain": [
       "<matplotlib.figure.Figure at 0x7f14333e1d10>"
      ]
     },
     "metadata": {},
     "output_type": "display_data"
    }
   ],
   "source": [
    "sns.distplot(y_scores, kde=False, rug=False)"
   ]
  },
  {
   "cell_type": "code",
   "execution_count": 289,
   "metadata": {},
   "outputs": [],
   "source": [
    "df_test['y_score'] = y_scores"
   ]
  },
  {
   "cell_type": "code",
   "execution_count": 290,
   "metadata": {},
   "outputs": [
    {
     "data": {
      "text/html": [
       "<div>\n",
       "<table border=\"1\" class=\"dataframe\">\n",
       "  <thead>\n",
       "    <tr style=\"text-align: right;\">\n",
       "      <th></th>\n",
       "      <th>y_score</th>\n",
       "    </tr>\n",
       "  </thead>\n",
       "  <tbody>\n",
       "    <tr>\n",
       "      <th>3875</th>\n",
       "      <td>0.372391</td>\n",
       "    </tr>\n",
       "    <tr>\n",
       "      <th>9896</th>\n",
       "      <td>0.378612</td>\n",
       "    </tr>\n",
       "    <tr>\n",
       "      <th>684</th>\n",
       "      <td>0.145822</td>\n",
       "    </tr>\n",
       "    <tr>\n",
       "      <th>15845</th>\n",
       "      <td>0.322496</td>\n",
       "    </tr>\n",
       "    <tr>\n",
       "      <th>13971</th>\n",
       "      <td>0.193780</td>\n",
       "    </tr>\n",
       "  </tbody>\n",
       "</table>\n",
       "</div>"
      ],
      "text/plain": [
       "        y_score\n",
       "3875   0.372391\n",
       "9896   0.378612\n",
       "684    0.145822\n",
       "15845  0.322496\n",
       "13971  0.193780"
      ]
     },
     "execution_count": 290,
     "metadata": {},
     "output_type": "execute_result"
    }
   ],
   "source": [
    "df_test[['y_score']].head()"
   ]
  },
  {
   "cell_type": "markdown",
   "metadata": {},
   "source": [
    "Again, as mentioned before the predictive probability cut-off point is chosen as **0.58** to be consistent with the previous two models and for a comparison of assessment metrics to be an apple to apple comparison case. Of course, the AUC-PR score would determine which model is performing **best** across all predictive probability cut-off points."
   ]
  },
  {
   "cell_type": "code",
   "execution_count": 291,
   "metadata": {},
   "outputs": [],
   "source": [
    "calc_threshold = lambda x,y: 0 if x < y else 1 \n",
    "predicted = np.array( [calc_threshold(score,0.58) for score in y_scores] )\n",
    "expected = y_test"
   ]
  },
  {
   "cell_type": "code",
   "execution_count": 292,
   "metadata": {},
   "outputs": [
    {
     "name": "stdout",
     "output_type": "stream",
     "text": [
      "[[17478    26]\n",
      " [ 5746   114]]\n"
     ]
    }
   ],
   "source": [
    "from sklearn.metrics import confusion_matrix\n",
    "conf_matrix = confusion_matrix(expected,predicted)\n",
    "print conf_matrix"
   ]
  },
  {
   "cell_type": "code",
   "execution_count": 293,
   "metadata": {},
   "outputs": [
    {
     "data": {
      "image/png": "[encoded data removed]",
      "text/plain": [
       "<matplotlib.figure.Figure at 0x7f1432546e50>"
      ]
     },
     "metadata": {},
     "output_type": "display_data"
    }
   ],
   "source": [
    "plt.matshow(conf_matrix)\n",
    "plt.title('Confusion Matrix')\n",
    "plt.colorbar()\n",
    "plt.ylabel('True Class')\n",
    "plt.xlabel('Predicted Class')\n",
    "plt.show()"
   ]
  },
  {
   "cell_type": "code",
   "execution_count": 294,
   "metadata": {},
   "outputs": [
    {
     "name": "stdout",
     "output_type": "stream",
     "text": [
      "Accuracy = 0.752953261428\n"
     ]
    }
   ],
   "source": [
    "#generating accuracy\n",
    "# generate an accuracy score by comparing expected to predicted.\n",
    "from sklearn.metrics import accuracy_score\n",
    "accuracy_03 = accuracy_score(expected, predicted)\n",
    "print( \"Accuracy = \" + str( accuracy_03))"
   ]
  },
  {
   "cell_type": "code",
   "execution_count": 295,
   "metadata": {},
   "outputs": [
    {
     "name": "stdout",
     "output_type": "stream",
     "text": [
      "Precision = 0.814285714286\n",
      "Recall= 0.0194539249147\n"
     ]
    }
   ],
   "source": [
    "from sklearn.metrics import precision_score, recall_score\n",
    "precision_03 = precision_score(expected, predicted)\n",
    "recall_03 = recall_score(expected, predicted)\n",
    "print( \"Precision = \" + str( precision_03 ) )\n",
    "print( \"Recall= \" + str(recall_03))"
   ]
  },
  {
   "cell_type": "code",
   "execution_count": 296,
   "metadata": {},
   "outputs": [],
   "source": [
    "def plot_precision_recall(y_true,y_score):\n",
    "    \"\"\"\n",
    "    Plot a precision recall curve\n",
    "    \n",
    "    Parameters\n",
    "    ----------\n",
    "    y_true: ls\n",
    "        ground truth labels\n",
    "    y_score: ls\n",
    "        score output from model\n",
    "    \"\"\"\n",
    "    precision_curve, recall_curve, pr_thresholds = precision_recall_curve(y_true,y_score)\n",
    "    plt.plot(recall_curve, precision_curve)\n",
    "    plt.xlabel('Recall')\n",
    "    plt.ylabel('Precision')\n",
    "    plt.title('Model III')\n",
    "    auc_val_03 = auc(recall_curve,precision_curve)\n",
    "    print('AUC-PR: {0:1f}'.format(auc_val_03))\n",
    "    plt.show()\n",
    "    plt.clf()"
   ]
  },
  {
   "cell_type": "code",
   "execution_count": 297,
   "metadata": {},
   "outputs": [
    {
     "name": "stdout",
     "output_type": "stream",
     "text": [
      "AUC-PR: 0.456289\n"
     ]
    },
    {
     "data": {
      "image/png": "[encoded data removed]",
      "text/plain": [
       "<matplotlib.figure.Figure at 0x7f143240a450>"
      ]
     },
     "metadata": {},
     "output_type": "display_data"
    },
    {
     "data": {
      "text/plain": [
       "<matplotlib.figure.Figure at 0x7f1432d999d0>"
      ]
     },
     "metadata": {},
     "output_type": "display_data"
    }
   ],
   "source": [
    "plot_precision_recall(expected, y_scores)\n",
    "#saving the auc_scores\n",
    "precision_curve, recall_curve, pr_thresholds = precision_recall_curve(expected,y_scores)\n",
    "auc_val_03 = auc(recall_curve, precision_curve)"
   ]
  },
  {
   "cell_type": "markdown",
   "metadata": {},
   "source": [
    "### Summary"
   ]
  },
  {
   "cell_type": "markdown",
   "metadata": {},
   "source": [
    "The graph below summarizes our three models in terms of the following metrics.\n",
    "\n",
    "* accuracy\n",
    "* precision\n",
    "* recall\n",
    "* auc of the precision-recall curve\n",
    "\n",
    "In terms of accuracy, the **red** horizontal line is the **null accuracy** line. All our models are performing **slightly** above the null with the second model being the best performer. Adding neighborhood amneities such as subway, small parks and large parks distances lead to a decrease in model accuracy. However, our primary research interest is not in model accuracy. It is rather in how good we can predict gentrification or not.\n",
    "\n",
    "If our sole focus is on predicting census block groups at risk of gentrifying, our primary interest metrics would be **precision** and **recall**. It would be in particular, **recall** as the metrics measures how much of the true positives we are actually capturing. In that sense, all our model performs **terribly**. The recall score is fairly bad with scores below the 0.1 or 10 percent line. On the other hand, the precision score gets better with each successive model. Precision measures how much of the predictive positive are actually true. Our results demonstrate the inherent trade-offs/inverse relationship between precision and recall. As precision goes up, the recall score goes down.\n",
    "\n",
    "Overall, the AUC of precision-recall curve improves from Model I to Model III. This demonstrates that at least the model is picking up some signal that allows us to better distinguish between gentrifying and non-gentrifying census block groups even though it is not identifying the gentrifying census block groups any better.\n",
    "\n",
    "#### Next Steps\n",
    "\n",
    "Our obvious next step would be to explore more features that may increase our AUC score for the precison-recall trade-off curve. More importantly, we will have to be on the look out for features that will boost our recall scores. If we are able to build a model that better predicts census block groups at risk of gentrifying, we will be able redirect social services to those census block group before after the fact catch ups in terms of social relief.\n",
    "\n",
    "**Details on Next Steps**\n",
    "\n",
    "*Approach*\n",
    "\n",
    "* More literature review on what features are correlated with gentrification\n",
    "\n",
    "*More features*\n",
    "\n",
    "* Restaurant distance data from centroid of Census Block Groups\n",
    "* Children’s school quality\n",
    "* Physical Infrastructure Investments : Cases like NYU CUSP Center, Columbia’s New Science Center\n",
    "\n",
    "*More model tunings*\n",
    "\n",
    "* K-Fold Cross Validation\n",
    "* Exploring optimal cut-off point that weighs Recall over Precision\n",
    "* Exploring optimal cut-off point that weighs Precision over Recall\n",
    "\n",
    "We are also considering whether to explore feature importance of existing features to the outcome variable. Another run to the problem with the existing data set is to use other metrics of gentrification\n",
    "\n",
    "* percent change in number of people at the highest bracket of income at the census block level\n",
    "* percent change in number of people at the highest bracket of education at the census block level\n",
    "\n",
    "Those two variables already exist in the dataset and it would not be a stretch to run a predictive model. More importantly, we may have to come up with a composite gentrification score that captures the 'social' definition of gentrificaiton better: changes in racial, income, education and other social variables.\n"
   ]
  },
  {
   "cell_type": "code",
   "execution_count": 335,
   "metadata": {},
   "outputs": [],
   "source": [
    "#Numpy Array for all the metrics of interest\n",
    "accuracy = np.r_[accuracy_01, accuracy_02, accuracy_03]\n",
    "precision = np.r_[precision_01, precision_02, precision_03]\n",
    "recall = np.r_[recall_01, recall_02, recall_03]\n",
    "auc = np.r_[auc_val_01, auc_val_02, auc_val_03]\n",
    "index = range(1,4)"
   ]
  },
  {
   "cell_type": "code",
   "execution_count": 305,
   "metadata": {},
   "outputs": [],
   "source": [
    "#Creating a data frame for plotting\n",
    "df = pd.DataFrame({'index' : index, 'accuracy' : accuracy, 'precision' : precision, 'recall' : recall, 'auc' : auc}) "
   ]
  },
  {
   "cell_type": "code",
   "execution_count": 333,
   "metadata": {},
   "outputs": [
    {
     "data": {
      "text/plain": [
       "<matplotlib.figure.Figure at 0x7f1430f28cd0>"
      ]
     },
     "execution_count": 333,
     "metadata": {},
     "output_type": "execute_result"
    },
    {
     "data": {
      "image/png": "[encoded data removed]",
      "text/plain": [
       "<matplotlib.figure.Figure at 0x7f1430f4f550>"
      ]
     },
     "metadata": {},
     "output_type": "display_data"
    },
    {
     "data": {
      "text/plain": [
       "<matplotlib.figure.Figure at 0x7f1430f28cd0>"
      ]
     },
     "metadata": {},
     "output_type": "display_data"
    }
   ],
   "source": [
    "#Creating the base plot\n",
    "f, ax = plt.subplots(figsize = (12,15))\n",
    "plt.plot('index', 'accuracy', data = df, marker = 'o', markerfacecolor = 'black' , markersize= 5, color = 'brown', linewidth = 2, label = 'accuracy' )\n",
    "plt.plot('index', 'precision', data = df, marker = 'o', markerfacecolor = 'black' , markersize= 5, color = 'blue', linewidth = 2, label = 'precision' )\n",
    "plt.plot('index', 'recall', data = df, marker = 'o', markerfacecolor = 'black' , markersize= 5, color = 'green', linewidth = 2, label = 'recall' )\n",
    "plt.plot('index', 'auc', data = df, marker = 'o', markerfacecolor = 'black' , markersize= 5, color = 'purple', linewidth = 2, label = 'auc' )\n",
    "plt.xticks(df['index'])\n",
    "axhline(y = 0.75, color = 'red')\n",
    "\n",
    "plt.ylabel('Metric Scores')\n",
    "plt.xlabel('Model Index')\n",
    "plt.legend(loc = 'upper left', prop = {'size' : 12})\n",
    "plt.title('Model I-III Metrics Summary')\n",
    "figure(num=None, figsize=(15, 12), dpi=80, facecolor='w', edgecolor='k')\n"
   ]
  },
  {
   "cell_type": "markdown",
   "metadata": {},
   "source": [
    "* Note to the reader: We are still working on this notebook to extract major conclusions."
   ]
  }
 ],
 "metadata": {
  "kernelspec": {
   "display_name": "Wagner",
   "language": "python",
   "name": "wagner"
  },
  "language_info": {
   "codemirror_mode": {
    "name": "ipython",
    "version": 2
   },
   "file_extension": ".py",
   "mimetype": "text/x-python",
   "name": "python",
   "nbconvert_exporter": "python",
   "pygments_lexer": "ipython2",
   "version": "2.7.12"
  }
 },
 "nbformat": 4,
 "nbformat_minor": 2
}
