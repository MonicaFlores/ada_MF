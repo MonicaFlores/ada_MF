{
 "cells": [
  {
   "cell_type": "markdown",
   "metadata": {},
   "source": [
    "### Data Cleaning: DOB Certificate of Occupancy "
   ]
  },
  {
   "cell_type": "markdown",
   "metadata": {},
   "source": [
    "By ADA Group 1\n",
    "\n",
    "In this Jupyter Notebook, we will do an API call NYC Open Data to obtain DOB Certificate of Occupancy (2012 onwards). This dataset comes at the Borough-Block-Lot (BBL) level, in other words, it comes at the tax lot level. In this notebook we will aggregate the data to the block level, to obtain number of new approved-for-occupancy units per Census Block.\n",
    "\n",
    "\n",
    "#### Data Sources\n",
    "\n",
    "* **DOB Certificate of Occupancy** NYC Open Data. https://data.cityofnewyork.us/Housing-Development/DOB-Certificate-Of-Occupancy/bs8b-p36w\n",
    "* **BBL to Census Block Crosswalk** Created in GIS by the team based on PLUTO and Blocks shapefiles from NYC Open Data. https://www1.nyc.gov/site/planning/data-maps/open-data/dwn-pluto-mappluto.page https://data.cityofnewyork.us/City-Government/2010-Census-Blocks/v2h8-6mxf/data\n",
    "\n",
    "For Data Dictionary, please refer to the notebook 00_ReadMe."
   ]
  },
  {
   "cell_type": "markdown",
   "metadata": {},
   "source": [
    "### Import Packages"
   ]
  },
  {
   "cell_type": "code",
   "execution_count": 1,
   "metadata": {},
   "outputs": [
    {
     "name": "stdout",
     "output_type": "stream",
     "text": [
      "Populating the interactive namespace from numpy and matplotlib\n"
     ]
    },
    {
     "name": "stderr",
     "output_type": "stream",
     "text": [
      "/usr/local/Anaconda3-5.0.0-Linux-x86_64/envs/Wagner/lib/python2.7/site-packages/IPython/html.py:14: ShimWarning: The `IPython.html` package has been deprecated. You should import from `notebook` instead. `IPython.html.widgets` has moved to `ipywidgets`.\n",
      "  \"`IPython.html.widgets` has moved to `ipywidgets`.\", ShimWarning)\n"
     ]
    }
   ],
   "source": [
    "# visualization\n",
    "%pylab inline\n",
    "# import the packages\n",
    "# numpy for array and matrix computation\n",
    "import numpy as np\n",
    "\n",
    "# pandas for data analysis\n",
    "import pandas as pd\n",
    "\n",
    "# matplotlib and seaborn are the data visualization packages\n",
    "import matplotlib.pyplot as plt\n",
    "import seaborn as sns\n",
    "\n",
    "# sqlalchemy an psycopg2 are sql connection packages\n",
    "from sqlalchemy import create_engine\n",
    "\n",
    "# configure pandas display: set the maximum number of columns displayed to 25\n",
    "pd.options.display.max_columns = 25\n",
    "\n",
    "# use the __future__ version of division and print\n",
    "from __future__ import division, print_function\n",
    "\n",
    "# gzip and csv for unzip compressed files\n",
    "import gzip\n",
    "import csv\n",
    "\n",
    "import warnings\n",
    "warnings.filterwarnings('ignore')"
   ]
  },
  {
   "cell_type": "markdown",
   "metadata": {},
   "source": [
    "### API call to NYC open Data\n",
    "NYC Open Data API call for obtaining DOB Certificate Of Occupancy.\n"
   ]
  },
  {
   "cell_type": "code",
   "execution_count": 2,
   "metadata": {},
   "outputs": [
    {
     "data": {
      "text/plain": [
       "(83458, 30)"
      ]
     },
     "execution_count": 2,
     "metadata": {},
     "output_type": "execute_result"
    }
   ],
   "source": [
    "#API call to NYC Open Data \n",
    "dob_occupancy = pd.read_csv(\"https://data.cityofnewyork.us/api/views/2vyb-t2nz/rows.csv?accessType=DOWNLOAD\", dtype= {'BBL': str})\n",
    "dob_occupancy.shape"
   ]
  },
  {
   "cell_type": "code",
   "execution_count": 30,
   "metadata": {},
   "outputs": [],
   "source": [
    "#Old code with call to a zipped version of the data.\n",
    "#Uncomment and run it case of any issues with API call.\n",
    "#Unzip data and save in shared folder\n",
    "#with gzip.open(\"Data/DOB_Certificate_Of_Occupancy.csv.gz\", 'rt') as f:\n",
    "#    data = f.read()\n",
    "#    with open(\"Data/dob_certificate_of_occupancy.csv\", 'wt') as f:\n",
    "#        f.write(data)\n",
    "#dob_occupancy = pd.read_csv(\"Data/dob_certificate_of_occupancy.csv\", dtype= {'BBL': str})#"
   ]
  },
  {
   "cell_type": "code",
   "execution_count": 3,
   "metadata": {},
   "outputs": [
    {
     "data": {
      "text/plain": [
       "Index([u'JOB_NUMBER', u'JOB_TYPE', u'C_O_ISSUE_DATE', u'BIN_NUMBER',\n",
       "       u'BOROUGH', u'NUMBER', u'STREET', u'BLOCK', u'LOT', u'POSTCODE',\n",
       "       u'PR_DWELLING_UNIT', u'EX_DWELLING_UNIT', u'APPLICATION_STATUS_RAW',\n",
       "       u'FILING_STATUS_RAW', u'ITEM_NUMBER', u'ISSUE_TYPE', u'LATITUDE',\n",
       "       u'LONGITUDE', u'COMMUNITY_BOARD', u'COUNCIL_DISTRICT', u'CENSUS_TRACT',\n",
       "       u'BIN', u'BBL', u'NTA', u'LOCATION', u'Zip Codes',\n",
       "       u'Community Districts', u'Borough Boundaries',\n",
       "       u'City Council Districts', u'Police Precincts'],\n",
       "      dtype='object')"
      ]
     },
     "execution_count": 3,
     "metadata": {},
     "output_type": "execute_result"
    }
   ],
   "source": [
    "# Visualize all the columns in the dataset\n",
    "dob_occupancy.columns"
   ]
  },
  {
   "cell_type": "code",
   "execution_count": 12,
   "metadata": {},
   "outputs": [
    {
     "data": {
      "text/html": [
       "<div>\n",
       "<table border=\"1\" class=\"dataframe\">\n",
       "  <thead>\n",
       "    <tr style=\"text-align: right;\">\n",
       "      <th></th>\n",
       "      <th>JOB_NUMBER</th>\n",
       "      <th>JOB_TYPE</th>\n",
       "      <th>C_O_ISSUE_DATE</th>\n",
       "      <th>BIN_NUMBER</th>\n",
       "      <th>BOROUGH</th>\n",
       "      <th>NUMBER</th>\n",
       "      <th>STREET</th>\n",
       "      <th>BLOCK</th>\n",
       "      <th>LOT</th>\n",
       "      <th>POSTCODE</th>\n",
       "      <th>PR_DWELLING_UNIT</th>\n",
       "      <th>EX_DWELLING_UNIT</th>\n",
       "      <th>...</th>\n",
       "      <th>COMMUNITY_BOARD</th>\n",
       "      <th>COUNCIL_DISTRICT</th>\n",
       "      <th>CENSUS_TRACT</th>\n",
       "      <th>BIN</th>\n",
       "      <th>BBL</th>\n",
       "      <th>NTA</th>\n",
       "      <th>LOCATION</th>\n",
       "      <th>Zip Codes</th>\n",
       "      <th>Community Districts</th>\n",
       "      <th>Borough Boundaries</th>\n",
       "      <th>City Council Districts</th>\n",
       "      <th>Police Precincts</th>\n",
       "    </tr>\n",
       "  </thead>\n",
       "  <tbody>\n",
       "    <tr>\n",
       "      <th>0</th>\n",
       "      <td>100032215</td>\n",
       "      <td>A1</td>\n",
       "      <td>10/17/2013</td>\n",
       "      <td>1020493</td>\n",
       "      <td>Manhattan</td>\n",
       "      <td>352</td>\n",
       "      <td>EAST   19 STREET</td>\n",
       "      <td>924</td>\n",
       "      <td>39</td>\n",
       "      <td>10003.0</td>\n",
       "      <td>8</td>\n",
       "      <td>7.0</td>\n",
       "      <td>...</td>\n",
       "      <td>6.0</td>\n",
       "      <td>2.0</td>\n",
       "      <td>48.0</td>\n",
       "      <td>1020493.0</td>\n",
       "      <td>1009240039</td>\n",
       "      <td>Gramercy</td>\n",
       "      <td>(40.734903, -73.98146)</td>\n",
       "      <td>11724.0</td>\n",
       "      <td>71.0</td>\n",
       "      <td>4.0</td>\n",
       "      <td>50.0</td>\n",
       "      <td>7.0</td>\n",
       "    </tr>\n",
       "    <tr>\n",
       "      <th>1</th>\n",
       "      <td>100032215</td>\n",
       "      <td>A1</td>\n",
       "      <td>07/18/2013</td>\n",
       "      <td>1020493</td>\n",
       "      <td>Manhattan</td>\n",
       "      <td>352</td>\n",
       "      <td>EAST   19 STREET</td>\n",
       "      <td>924</td>\n",
       "      <td>39</td>\n",
       "      <td>10003.0</td>\n",
       "      <td>8</td>\n",
       "      <td>7.0</td>\n",
       "      <td>...</td>\n",
       "      <td>6.0</td>\n",
       "      <td>2.0</td>\n",
       "      <td>48.0</td>\n",
       "      <td>1020493.0</td>\n",
       "      <td>1009240039</td>\n",
       "      <td>Gramercy</td>\n",
       "      <td>(40.734903, -73.98146)</td>\n",
       "      <td>11724.0</td>\n",
       "      <td>71.0</td>\n",
       "      <td>4.0</td>\n",
       "      <td>50.0</td>\n",
       "      <td>7.0</td>\n",
       "    </tr>\n",
       "    <tr>\n",
       "      <th>2</th>\n",
       "      <td>100032215</td>\n",
       "      <td>A1</td>\n",
       "      <td>01/29/2014</td>\n",
       "      <td>1020493</td>\n",
       "      <td>Manhattan</td>\n",
       "      <td>352</td>\n",
       "      <td>EAST   19 STREET</td>\n",
       "      <td>924</td>\n",
       "      <td>39</td>\n",
       "      <td>10003.0</td>\n",
       "      <td>8</td>\n",
       "      <td>7.0</td>\n",
       "      <td>...</td>\n",
       "      <td>6.0</td>\n",
       "      <td>2.0</td>\n",
       "      <td>48.0</td>\n",
       "      <td>1020493.0</td>\n",
       "      <td>1009240039</td>\n",
       "      <td>Gramercy</td>\n",
       "      <td>(40.734903, -73.98146)</td>\n",
       "      <td>11724.0</td>\n",
       "      <td>71.0</td>\n",
       "      <td>4.0</td>\n",
       "      <td>50.0</td>\n",
       "      <td>7.0</td>\n",
       "    </tr>\n",
       "    <tr>\n",
       "      <th>3</th>\n",
       "      <td>100032215</td>\n",
       "      <td>A1</td>\n",
       "      <td>06/11/2014</td>\n",
       "      <td>1020493</td>\n",
       "      <td>Manhattan</td>\n",
       "      <td>352</td>\n",
       "      <td>EAST   19 STREET</td>\n",
       "      <td>924</td>\n",
       "      <td>39</td>\n",
       "      <td>10003.0</td>\n",
       "      <td>8</td>\n",
       "      <td>7.0</td>\n",
       "      <td>...</td>\n",
       "      <td>6.0</td>\n",
       "      <td>2.0</td>\n",
       "      <td>48.0</td>\n",
       "      <td>1020493.0</td>\n",
       "      <td>1009240039</td>\n",
       "      <td>Gramercy</td>\n",
       "      <td>(40.734903, -73.98146)</td>\n",
       "      <td>11724.0</td>\n",
       "      <td>71.0</td>\n",
       "      <td>4.0</td>\n",
       "      <td>50.0</td>\n",
       "      <td>7.0</td>\n",
       "    </tr>\n",
       "    <tr>\n",
       "      <th>4</th>\n",
       "      <td>100032215</td>\n",
       "      <td>A1</td>\n",
       "      <td>09/10/2014</td>\n",
       "      <td>1020493</td>\n",
       "      <td>Manhattan</td>\n",
       "      <td>352</td>\n",
       "      <td>EAST   19 STREET</td>\n",
       "      <td>924</td>\n",
       "      <td>39</td>\n",
       "      <td>10003.0</td>\n",
       "      <td>8</td>\n",
       "      <td>7.0</td>\n",
       "      <td>...</td>\n",
       "      <td>6.0</td>\n",
       "      <td>2.0</td>\n",
       "      <td>48.0</td>\n",
       "      <td>1020493.0</td>\n",
       "      <td>1009240039</td>\n",
       "      <td>Gramercy</td>\n",
       "      <td>(40.734903, -73.98146)</td>\n",
       "      <td>11724.0</td>\n",
       "      <td>71.0</td>\n",
       "      <td>4.0</td>\n",
       "      <td>50.0</td>\n",
       "      <td>7.0</td>\n",
       "    </tr>\n",
       "  </tbody>\n",
       "</table>\n",
       "<p>5 rows × 30 columns</p>\n",
       "</div>"
      ],
      "text/plain": [
       "   JOB_NUMBER JOB_TYPE C_O_ISSUE_DATE  BIN_NUMBER    BOROUGH NUMBER  \\\n",
       "0   100032215       A1     10/17/2013     1020493  Manhattan    352   \n",
       "1   100032215       A1     07/18/2013     1020493  Manhattan    352   \n",
       "2   100032215       A1     01/29/2014     1020493  Manhattan    352   \n",
       "3   100032215       A1     06/11/2014     1020493  Manhattan    352   \n",
       "4   100032215       A1     09/10/2014     1020493  Manhattan    352   \n",
       "\n",
       "             STREET  BLOCK LOT  POSTCODE PR_DWELLING_UNIT  EX_DWELLING_UNIT  \\\n",
       "0  EAST   19 STREET    924  39   10003.0                8               7.0   \n",
       "1  EAST   19 STREET    924  39   10003.0                8               7.0   \n",
       "2  EAST   19 STREET    924  39   10003.0                8               7.0   \n",
       "3  EAST   19 STREET    924  39   10003.0                8               7.0   \n",
       "4  EAST   19 STREET    924  39   10003.0                8               7.0   \n",
       "\n",
       "        ...        COMMUNITY_BOARD COUNCIL_DISTRICT  CENSUS_TRACT        BIN  \\\n",
       "0       ...                    6.0              2.0          48.0  1020493.0   \n",
       "1       ...                    6.0              2.0          48.0  1020493.0   \n",
       "2       ...                    6.0              2.0          48.0  1020493.0   \n",
       "3       ...                    6.0              2.0          48.0  1020493.0   \n",
       "4       ...                    6.0              2.0          48.0  1020493.0   \n",
       "\n",
       "          BBL       NTA                LOCATION  Zip Codes  \\\n",
       "0  1009240039  Gramercy  (40.734903, -73.98146)    11724.0   \n",
       "1  1009240039  Gramercy  (40.734903, -73.98146)    11724.0   \n",
       "2  1009240039  Gramercy  (40.734903, -73.98146)    11724.0   \n",
       "3  1009240039  Gramercy  (40.734903, -73.98146)    11724.0   \n",
       "4  1009240039  Gramercy  (40.734903, -73.98146)    11724.0   \n",
       "\n",
       "   Community Districts  Borough Boundaries City Council Districts  \\\n",
       "0                 71.0                 4.0                   50.0   \n",
       "1                 71.0                 4.0                   50.0   \n",
       "2                 71.0                 4.0                   50.0   \n",
       "3                 71.0                 4.0                   50.0   \n",
       "4                 71.0                 4.0                   50.0   \n",
       "\n",
       "  Police Precincts  \n",
       "0              7.0  \n",
       "1              7.0  \n",
       "2              7.0  \n",
       "3              7.0  \n",
       "4              7.0  \n",
       "\n",
       "[5 rows x 30 columns]"
      ]
     },
     "execution_count": 12,
     "metadata": {},
     "output_type": "execute_result"
    }
   ],
   "source": [
    "dob_occupancy.head()"
   ]
  },
  {
   "cell_type": "markdown",
   "metadata": {},
   "source": [
    "### BBL to Census Blocks Crosswalk Import\n",
    "Using GIS, we created a BBL to Census Block geographic crosswalk, so that we can aggregate the BBL level data to Blocks and add the data of new building occupancy permits to our predictive model."
   ]
  },
  {
   "cell_type": "code",
   "execution_count": 4,
   "metadata": {},
   "outputs": [],
   "source": [
    "with gzip.open(\"../Data/BBL_BLOCKS.csv.gz\", 'rt') as f:\n",
    "    data = f.read()\n",
    "    with open(\"../Data/bbl_blocks.csv\", 'wt') as f:\n",
    "        f.write(data)"
   ]
  },
  {
   "cell_type": "code",
   "execution_count": 5,
   "metadata": {},
   "outputs": [
    {
     "data": {
      "text/plain": [
       "(857513, 2)"
      ]
     },
     "execution_count": 5,
     "metadata": {},
     "output_type": "execute_result"
    }
   ],
   "source": [
    "bbl_blocks = pd.read_csv(\"../Data/bbl_blocks.csv\", dtype= {'BLOCKID': str, 'BBL': str})\n",
    "bbl_blocks.shape"
   ]
  },
  {
   "cell_type": "code",
   "execution_count": 6,
   "metadata": {},
   "outputs": [
    {
     "data": {
      "text/html": [
       "<div>\n",
       "<table border=\"1\" class=\"dataframe\">\n",
       "  <thead>\n",
       "    <tr style=\"text-align: right;\">\n",
       "      <th></th>\n",
       "      <th>BBL</th>\n",
       "      <th>BLOCKID</th>\n",
       "    </tr>\n",
       "  </thead>\n",
       "  <tbody>\n",
       "    <tr>\n",
       "      <th>857508</th>\n",
       "      <td>2042590015</td>\n",
       "      <td>360050230002004</td>\n",
       "    </tr>\n",
       "    <tr>\n",
       "      <th>857509</th>\n",
       "      <td>2053930011</td>\n",
       "      <td>360050264002003</td>\n",
       "    </tr>\n",
       "    <tr>\n",
       "      <th>857510</th>\n",
       "      <td>2099998900</td>\n",
       "      <td>360050024001008</td>\n",
       "    </tr>\n",
       "    <tr>\n",
       "      <th>857511</th>\n",
       "      <td>2042260001</td>\n",
       "      <td>360050296001018</td>\n",
       "    </tr>\n",
       "    <tr>\n",
       "      <th>857512</th>\n",
       "      <td>2033557501</td>\n",
       "      <td>360050429011004</td>\n",
       "    </tr>\n",
       "  </tbody>\n",
       "</table>\n",
       "</div>"
      ],
      "text/plain": [
       "               BBL          BLOCKID\n",
       "857508  2042590015  360050230002004\n",
       "857509  2053930011  360050264002003\n",
       "857510  2099998900  360050024001008\n",
       "857511  2042260001  360050296001018\n",
       "857512  2033557501  360050429011004"
      ]
     },
     "execution_count": 6,
     "metadata": {},
     "output_type": "execute_result"
    }
   ],
   "source": [
    "bbl_blocks.tail(5)"
   ]
  },
  {
   "cell_type": "markdown",
   "metadata": {},
   "source": [
    "### Joining DOB to Block-BBL Crosswalk"
   ]
  },
  {
   "cell_type": "code",
   "execution_count": 7,
   "metadata": {},
   "outputs": [
    {
     "data": {
      "text/plain": [
       "(78385, 31)"
      ]
     },
     "execution_count": 7,
     "metadata": {},
     "output_type": "execute_result"
    }
   ],
   "source": [
    "dob_block_level = dob_occupancy.merge(bbl_blocks, left_on = 'BBL', right_on = 'BBL', how = \"inner\")\n",
    "dob_block_level.shape\n",
    "#78,269 observations, 31 variables as of April 22, 2018"
   ]
  },
  {
   "cell_type": "code",
   "execution_count": 8,
   "metadata": {},
   "outputs": [
    {
     "data": {
      "text/html": [
       "<div>\n",
       "<table border=\"1\" class=\"dataframe\">\n",
       "  <thead>\n",
       "    <tr style=\"text-align: right;\">\n",
       "      <th></th>\n",
       "      <th>JOB_NUMBER</th>\n",
       "      <th>JOB_TYPE</th>\n",
       "      <th>C_O_ISSUE_DATE</th>\n",
       "      <th>BIN_NUMBER</th>\n",
       "      <th>BOROUGH</th>\n",
       "      <th>NUMBER</th>\n",
       "      <th>STREET</th>\n",
       "      <th>BLOCK</th>\n",
       "      <th>LOT</th>\n",
       "      <th>POSTCODE</th>\n",
       "      <th>PR_DWELLING_UNIT</th>\n",
       "      <th>EX_DWELLING_UNIT</th>\n",
       "      <th>...</th>\n",
       "      <th>COUNCIL_DISTRICT</th>\n",
       "      <th>CENSUS_TRACT</th>\n",
       "      <th>BIN</th>\n",
       "      <th>BBL</th>\n",
       "      <th>NTA</th>\n",
       "      <th>LOCATION</th>\n",
       "      <th>Zip Codes</th>\n",
       "      <th>Community Districts</th>\n",
       "      <th>Borough Boundaries</th>\n",
       "      <th>City Council Districts</th>\n",
       "      <th>Police Precincts</th>\n",
       "      <th>BLOCKID</th>\n",
       "    </tr>\n",
       "  </thead>\n",
       "  <tbody>\n",
       "    <tr>\n",
       "      <th>0</th>\n",
       "      <td>100032215</td>\n",
       "      <td>A1</td>\n",
       "      <td>10/17/2013</td>\n",
       "      <td>1020493</td>\n",
       "      <td>Manhattan</td>\n",
       "      <td>352</td>\n",
       "      <td>EAST   19 STREET</td>\n",
       "      <td>924</td>\n",
       "      <td>39</td>\n",
       "      <td>10003.0</td>\n",
       "      <td>8</td>\n",
       "      <td>7.0</td>\n",
       "      <td>...</td>\n",
       "      <td>2.0</td>\n",
       "      <td>48.0</td>\n",
       "      <td>1020493.0</td>\n",
       "      <td>1009240039</td>\n",
       "      <td>Gramercy</td>\n",
       "      <td>(40.734903, -73.98146)</td>\n",
       "      <td>11724.0</td>\n",
       "      <td>71.0</td>\n",
       "      <td>4.0</td>\n",
       "      <td>50.0</td>\n",
       "      <td>7.0</td>\n",
       "      <td>360610048006000</td>\n",
       "    </tr>\n",
       "    <tr>\n",
       "      <th>1</th>\n",
       "      <td>100032215</td>\n",
       "      <td>A1</td>\n",
       "      <td>07/18/2013</td>\n",
       "      <td>1020493</td>\n",
       "      <td>Manhattan</td>\n",
       "      <td>352</td>\n",
       "      <td>EAST   19 STREET</td>\n",
       "      <td>924</td>\n",
       "      <td>39</td>\n",
       "      <td>10003.0</td>\n",
       "      <td>8</td>\n",
       "      <td>7.0</td>\n",
       "      <td>...</td>\n",
       "      <td>2.0</td>\n",
       "      <td>48.0</td>\n",
       "      <td>1020493.0</td>\n",
       "      <td>1009240039</td>\n",
       "      <td>Gramercy</td>\n",
       "      <td>(40.734903, -73.98146)</td>\n",
       "      <td>11724.0</td>\n",
       "      <td>71.0</td>\n",
       "      <td>4.0</td>\n",
       "      <td>50.0</td>\n",
       "      <td>7.0</td>\n",
       "      <td>360610048006000</td>\n",
       "    </tr>\n",
       "    <tr>\n",
       "      <th>2</th>\n",
       "      <td>100032215</td>\n",
       "      <td>A1</td>\n",
       "      <td>01/29/2014</td>\n",
       "      <td>1020493</td>\n",
       "      <td>Manhattan</td>\n",
       "      <td>352</td>\n",
       "      <td>EAST   19 STREET</td>\n",
       "      <td>924</td>\n",
       "      <td>39</td>\n",
       "      <td>10003.0</td>\n",
       "      <td>8</td>\n",
       "      <td>7.0</td>\n",
       "      <td>...</td>\n",
       "      <td>2.0</td>\n",
       "      <td>48.0</td>\n",
       "      <td>1020493.0</td>\n",
       "      <td>1009240039</td>\n",
       "      <td>Gramercy</td>\n",
       "      <td>(40.734903, -73.98146)</td>\n",
       "      <td>11724.0</td>\n",
       "      <td>71.0</td>\n",
       "      <td>4.0</td>\n",
       "      <td>50.0</td>\n",
       "      <td>7.0</td>\n",
       "      <td>360610048006000</td>\n",
       "    </tr>\n",
       "    <tr>\n",
       "      <th>3</th>\n",
       "      <td>100032215</td>\n",
       "      <td>A1</td>\n",
       "      <td>06/11/2014</td>\n",
       "      <td>1020493</td>\n",
       "      <td>Manhattan</td>\n",
       "      <td>352</td>\n",
       "      <td>EAST   19 STREET</td>\n",
       "      <td>924</td>\n",
       "      <td>39</td>\n",
       "      <td>10003.0</td>\n",
       "      <td>8</td>\n",
       "      <td>7.0</td>\n",
       "      <td>...</td>\n",
       "      <td>2.0</td>\n",
       "      <td>48.0</td>\n",
       "      <td>1020493.0</td>\n",
       "      <td>1009240039</td>\n",
       "      <td>Gramercy</td>\n",
       "      <td>(40.734903, -73.98146)</td>\n",
       "      <td>11724.0</td>\n",
       "      <td>71.0</td>\n",
       "      <td>4.0</td>\n",
       "      <td>50.0</td>\n",
       "      <td>7.0</td>\n",
       "      <td>360610048006000</td>\n",
       "    </tr>\n",
       "    <tr>\n",
       "      <th>4</th>\n",
       "      <td>100032215</td>\n",
       "      <td>A1</td>\n",
       "      <td>09/10/2014</td>\n",
       "      <td>1020493</td>\n",
       "      <td>Manhattan</td>\n",
       "      <td>352</td>\n",
       "      <td>EAST   19 STREET</td>\n",
       "      <td>924</td>\n",
       "      <td>39</td>\n",
       "      <td>10003.0</td>\n",
       "      <td>8</td>\n",
       "      <td>7.0</td>\n",
       "      <td>...</td>\n",
       "      <td>2.0</td>\n",
       "      <td>48.0</td>\n",
       "      <td>1020493.0</td>\n",
       "      <td>1009240039</td>\n",
       "      <td>Gramercy</td>\n",
       "      <td>(40.734903, -73.98146)</td>\n",
       "      <td>11724.0</td>\n",
       "      <td>71.0</td>\n",
       "      <td>4.0</td>\n",
       "      <td>50.0</td>\n",
       "      <td>7.0</td>\n",
       "      <td>360610048006000</td>\n",
       "    </tr>\n",
       "  </tbody>\n",
       "</table>\n",
       "<p>5 rows × 31 columns</p>\n",
       "</div>"
      ],
      "text/plain": [
       "   JOB_NUMBER JOB_TYPE C_O_ISSUE_DATE  BIN_NUMBER    BOROUGH NUMBER  \\\n",
       "0   100032215       A1     10/17/2013     1020493  Manhattan    352   \n",
       "1   100032215       A1     07/18/2013     1020493  Manhattan    352   \n",
       "2   100032215       A1     01/29/2014     1020493  Manhattan    352   \n",
       "3   100032215       A1     06/11/2014     1020493  Manhattan    352   \n",
       "4   100032215       A1     09/10/2014     1020493  Manhattan    352   \n",
       "\n",
       "             STREET  BLOCK LOT  POSTCODE PR_DWELLING_UNIT  EX_DWELLING_UNIT  \\\n",
       "0  EAST   19 STREET    924  39   10003.0                8               7.0   \n",
       "1  EAST   19 STREET    924  39   10003.0                8               7.0   \n",
       "2  EAST   19 STREET    924  39   10003.0                8               7.0   \n",
       "3  EAST   19 STREET    924  39   10003.0                8               7.0   \n",
       "4  EAST   19 STREET    924  39   10003.0                8               7.0   \n",
       "\n",
       "        ...        COUNCIL_DISTRICT CENSUS_TRACT        BIN         BBL  \\\n",
       "0       ...                     2.0         48.0  1020493.0  1009240039   \n",
       "1       ...                     2.0         48.0  1020493.0  1009240039   \n",
       "2       ...                     2.0         48.0  1020493.0  1009240039   \n",
       "3       ...                     2.0         48.0  1020493.0  1009240039   \n",
       "4       ...                     2.0         48.0  1020493.0  1009240039   \n",
       "\n",
       "        NTA                LOCATION  Zip Codes  Community Districts  \\\n",
       "0  Gramercy  (40.734903, -73.98146)    11724.0                 71.0   \n",
       "1  Gramercy  (40.734903, -73.98146)    11724.0                 71.0   \n",
       "2  Gramercy  (40.734903, -73.98146)    11724.0                 71.0   \n",
       "3  Gramercy  (40.734903, -73.98146)    11724.0                 71.0   \n",
       "4  Gramercy  (40.734903, -73.98146)    11724.0                 71.0   \n",
       "\n",
       "   Borough Boundaries  City Council Districts Police Precincts  \\\n",
       "0                 4.0                    50.0              7.0   \n",
       "1                 4.0                    50.0              7.0   \n",
       "2                 4.0                    50.0              7.0   \n",
       "3                 4.0                    50.0              7.0   \n",
       "4                 4.0                    50.0              7.0   \n",
       "\n",
       "           BLOCKID  \n",
       "0  360610048006000  \n",
       "1  360610048006000  \n",
       "2  360610048006000  \n",
       "3  360610048006000  \n",
       "4  360610048006000  \n",
       "\n",
       "[5 rows x 31 columns]"
      ]
     },
     "execution_count": 8,
     "metadata": {},
     "output_type": "execute_result"
    }
   ],
   "source": [
    "dob_block_level.head(5)"
   ]
  },
  {
   "cell_type": "markdown",
   "metadata": {},
   "source": [
    "### Subset the data\n",
    "\n",
    "We will aggregate the data at the census block level, to obtain number of permit of occupancy for new units per each block."
   ]
  },
  {
   "cell_type": "code",
   "execution_count": 9,
   "metadata": {},
   "outputs": [],
   "source": [
    "# Replace Nans with zeros\n",
    "dob_block_level['PR_DWELLING_UNIT']= dob_block_level['PR_DWELLING_UNIT'].fillna(\"0\")"
   ]
  },
  {
   "cell_type": "code",
   "execution_count": 10,
   "metadata": {},
   "outputs": [],
   "source": [
    "# Convert to numeric by assigning NaN for conflictive observations (ie. a bad coded character). \n",
    "dob_block_level['PR_DWELLING_UNIT'] = pd.to_numeric(dob_block_level['PR_DWELLING_UNIT'], errors='coerce')"
   ]
  },
  {
   "cell_type": "markdown",
   "metadata": {},
   "source": [
    "Note: The *PR_DWELLING_UNIT* variable must have had a characther somewhere that would not let it read as numeric or transform to numeric without specifying coerce errors."
   ]
  },
  {
   "cell_type": "code",
   "execution_count": 11,
   "metadata": {},
   "outputs": [
    {
     "data": {
      "text/plain": [
       "(12898, 2)"
      ]
     },
     "execution_count": 11,
     "metadata": {},
     "output_type": "execute_result"
    }
   ],
   "source": [
    "# Aggregate the data and pass it into a data frame\n",
    "new_units=dob_block_level.groupby('BLOCKID')['PR_DWELLING_UNIT'].sum() \n",
    "new_units_df = pd.DataFrame(new_units)\n",
    "# Add index\n",
    "new_units_df = new_units_df.reset_index()\n",
    "\n",
    "new_units_df.shape\n",
    "#12,888 ovservations, 2 variables."
   ]
  },
  {
   "cell_type": "code",
   "execution_count": 12,
   "metadata": {},
   "outputs": [
    {
     "data": {
      "text/html": [
       "<div>\n",
       "<table border=\"1\" class=\"dataframe\">\n",
       "  <thead>\n",
       "    <tr style=\"text-align: right;\">\n",
       "      <th></th>\n",
       "      <th>BLOCKID</th>\n",
       "      <th>PR_DWELLING_UNIT</th>\n",
       "    </tr>\n",
       "  </thead>\n",
       "  <tbody>\n",
       "    <tr>\n",
       "      <th>0</th>\n",
       "      <td>360050001001012</td>\n",
       "      <td>0.0</td>\n",
       "    </tr>\n",
       "    <tr>\n",
       "      <th>1</th>\n",
       "      <td>360050002001000</td>\n",
       "      <td>0.0</td>\n",
       "    </tr>\n",
       "    <tr>\n",
       "      <th>2</th>\n",
       "      <td>360050002001004</td>\n",
       "      <td>48.0</td>\n",
       "    </tr>\n",
       "    <tr>\n",
       "      <th>3</th>\n",
       "      <td>360050002002002</td>\n",
       "      <td>2.0</td>\n",
       "    </tr>\n",
       "    <tr>\n",
       "      <th>4</th>\n",
       "      <td>360050002002003</td>\n",
       "      <td>0.0</td>\n",
       "    </tr>\n",
       "  </tbody>\n",
       "</table>\n",
       "</div>"
      ],
      "text/plain": [
       "           BLOCKID  PR_DWELLING_UNIT\n",
       "0  360050001001012               0.0\n",
       "1  360050002001000               0.0\n",
       "2  360050002001004              48.0\n",
       "3  360050002002002               2.0\n",
       "4  360050002002003               0.0"
      ]
     },
     "execution_count": 12,
     "metadata": {},
     "output_type": "execute_result"
    }
   ],
   "source": [
    "new_units_df.head(5)"
   ]
  },
  {
   "cell_type": "markdown",
   "metadata": {},
   "source": [
    "### Match with our existing Block Dataset and fill Nan\n",
    "\n",
    "As there are fewer Block observations in the DOB data than in our clean dataset, we will merge it and then replace NANs values for zeros. In this case when there is no observation, there is no permit. Therefore 0 units were most likely built."
   ]
  },
  {
   "cell_type": "code",
   "execution_count": 13,
   "metadata": {},
   "outputs": [
    {
     "data": {
      "text/html": [
       "<div>\n",
       "<table border=\"1\" class=\"dataframe\">\n",
       "  <thead>\n",
       "    <tr style=\"text-align: right;\">\n",
       "      <th></th>\n",
       "      <th>BLOCKID</th>\n",
       "    </tr>\n",
       "  </thead>\n",
       "  <tbody>\n",
       "    <tr>\n",
       "      <th>29348</th>\n",
       "      <td>360850134001015</td>\n",
       "    </tr>\n",
       "    <tr>\n",
       "      <th>29349</th>\n",
       "      <td>360850146042016</td>\n",
       "    </tr>\n",
       "    <tr>\n",
       "      <th>29350</th>\n",
       "      <td>360850121002001</td>\n",
       "    </tr>\n",
       "    <tr>\n",
       "      <th>29351</th>\n",
       "      <td>360470015003000</td>\n",
       "    </tr>\n",
       "    <tr>\n",
       "      <th>29352</th>\n",
       "      <td>360470015003000</td>\n",
       "    </tr>\n",
       "  </tbody>\n",
       "</table>\n",
       "</div>"
      ],
      "text/plain": [
       "               BLOCKID\n",
       "29348  360850134001015\n",
       "29349  360850146042016\n",
       "29350  360850121002001\n",
       "29351  360470015003000\n",
       "29352  360470015003000"
      ]
     },
     "execution_count": 13,
     "metadata": {},
     "output_type": "execute_result"
    }
   ],
   "source": [
    "#Import only Block unique identifier from clean NYC Blocks data\n",
    "blocks_nyc = pd.read_csv(\"../Data/blocks_clean.csv\", usecols=range(1,2), dtype= {'BLOCKID': str})\n",
    "blocks_nyc.tail()"
   ]
  },
  {
   "cell_type": "code",
   "execution_count": 14,
   "metadata": {},
   "outputs": [
    {
     "data": {
      "text/plain": [
       "(29353, 2)"
      ]
     },
     "execution_count": 14,
     "metadata": {},
     "output_type": "execute_result"
    }
   ],
   "source": [
    "#Right join to full blocks dataset\n",
    "new_units_full = new_units_df.merge(blocks_nyc, left_on = 'BLOCKID', \n",
    "                                                    right_on = 'BLOCKID', how = 'right' )\n",
    "new_units_full.shape\n",
    "#29,353 observations. Dataset is complete."
   ]
  },
  {
   "cell_type": "code",
   "execution_count": 15,
   "metadata": {},
   "outputs": [
    {
     "data": {
      "text/html": [
       "<div>\n",
       "<table border=\"1\" class=\"dataframe\">\n",
       "  <thead>\n",
       "    <tr style=\"text-align: right;\">\n",
       "      <th></th>\n",
       "      <th>BLOCKID</th>\n",
       "      <th>PR_DWELLING_UNIT</th>\n",
       "    </tr>\n",
       "  </thead>\n",
       "  <tbody>\n",
       "    <tr>\n",
       "      <th>0</th>\n",
       "      <td>360050002001000</td>\n",
       "      <td>0.0</td>\n",
       "    </tr>\n",
       "    <tr>\n",
       "      <th>1</th>\n",
       "      <td>360050002001004</td>\n",
       "      <td>48.0</td>\n",
       "    </tr>\n",
       "    <tr>\n",
       "      <th>2</th>\n",
       "      <td>360050002002002</td>\n",
       "      <td>2.0</td>\n",
       "    </tr>\n",
       "    <tr>\n",
       "      <th>3</th>\n",
       "      <td>360050002002003</td>\n",
       "      <td>0.0</td>\n",
       "    </tr>\n",
       "    <tr>\n",
       "      <th>4</th>\n",
       "      <td>360050004002003</td>\n",
       "      <td>4.0</td>\n",
       "    </tr>\n",
       "  </tbody>\n",
       "</table>\n",
       "</div>"
      ],
      "text/plain": [
       "           BLOCKID  PR_DWELLING_UNIT\n",
       "0  360050002001000               0.0\n",
       "1  360050002001004              48.0\n",
       "2  360050002002002               2.0\n",
       "3  360050002002003               0.0\n",
       "4  360050004002003               4.0"
      ]
     },
     "execution_count": 15,
     "metadata": {},
     "output_type": "execute_result"
    }
   ],
   "source": [
    "new_units_full.head()"
   ]
  },
  {
   "cell_type": "code",
   "execution_count": 16,
   "metadata": {},
   "outputs": [
    {
     "data": {
      "text/html": [
       "<div>\n",
       "<table border=\"1\" class=\"dataframe\">\n",
       "  <thead>\n",
       "    <tr style=\"text-align: right;\">\n",
       "      <th></th>\n",
       "      <th>BLOCKID</th>\n",
       "      <th>PR_DWELLING_UNIT</th>\n",
       "    </tr>\n",
       "  </thead>\n",
       "  <tbody>\n",
       "    <tr>\n",
       "      <th>29348</th>\n",
       "      <td>360850122002014</td>\n",
       "      <td>NaN</td>\n",
       "    </tr>\n",
       "    <tr>\n",
       "      <th>29349</th>\n",
       "      <td>360850146042016</td>\n",
       "      <td>NaN</td>\n",
       "    </tr>\n",
       "    <tr>\n",
       "      <th>29350</th>\n",
       "      <td>360850121002001</td>\n",
       "      <td>NaN</td>\n",
       "    </tr>\n",
       "    <tr>\n",
       "      <th>29351</th>\n",
       "      <td>360470015003000</td>\n",
       "      <td>NaN</td>\n",
       "    </tr>\n",
       "    <tr>\n",
       "      <th>29352</th>\n",
       "      <td>360470015003000</td>\n",
       "      <td>NaN</td>\n",
       "    </tr>\n",
       "  </tbody>\n",
       "</table>\n",
       "</div>"
      ],
      "text/plain": [
       "               BLOCKID  PR_DWELLING_UNIT\n",
       "29348  360850122002014               NaN\n",
       "29349  360850146042016               NaN\n",
       "29350  360850121002001               NaN\n",
       "29351  360470015003000               NaN\n",
       "29352  360470015003000               NaN"
      ]
     },
     "execution_count": 16,
     "metadata": {},
     "output_type": "execute_result"
    }
   ],
   "source": [
    "new_units_full.tail()"
   ]
  },
  {
   "cell_type": "markdown",
   "metadata": {},
   "source": [
    "* We see above that the blocks without observations were coded as NaN. We want these to be zeros."
   ]
  },
  {
   "cell_type": "code",
   "execution_count": 17,
   "metadata": {},
   "outputs": [
    {
     "data": {
      "text/html": [
       "<div>\n",
       "<table border=\"1\" class=\"dataframe\">\n",
       "  <thead>\n",
       "    <tr style=\"text-align: right;\">\n",
       "      <th></th>\n",
       "      <th>BLOCKID</th>\n",
       "      <th>PR_DWELLING_UNIT</th>\n",
       "    </tr>\n",
       "  </thead>\n",
       "  <tbody>\n",
       "    <tr>\n",
       "      <th>29348</th>\n",
       "      <td>360850122002014</td>\n",
       "      <td>0.0</td>\n",
       "    </tr>\n",
       "    <tr>\n",
       "      <th>29349</th>\n",
       "      <td>360850146042016</td>\n",
       "      <td>0.0</td>\n",
       "    </tr>\n",
       "    <tr>\n",
       "      <th>29350</th>\n",
       "      <td>360850121002001</td>\n",
       "      <td>0.0</td>\n",
       "    </tr>\n",
       "    <tr>\n",
       "      <th>29351</th>\n",
       "      <td>360470015003000</td>\n",
       "      <td>0.0</td>\n",
       "    </tr>\n",
       "    <tr>\n",
       "      <th>29352</th>\n",
       "      <td>360470015003000</td>\n",
       "      <td>0.0</td>\n",
       "    </tr>\n",
       "  </tbody>\n",
       "</table>\n",
       "</div>"
      ],
      "text/plain": [
       "               BLOCKID  PR_DWELLING_UNIT\n",
       "29348  360850122002014               0.0\n",
       "29349  360850146042016               0.0\n",
       "29350  360850121002001               0.0\n",
       "29351  360470015003000               0.0\n",
       "29352  360470015003000               0.0"
      ]
     },
     "execution_count": 17,
     "metadata": {},
     "output_type": "execute_result"
    }
   ],
   "source": [
    "#Fill NANs with zeros\n",
    "new_units_full['PR_DWELLING_UNIT']= new_units_full['PR_DWELLING_UNIT'].fillna(0)\n",
    "new_units_full.tail()"
   ]
  },
  {
   "cell_type": "markdown",
   "metadata": {},
   "source": [
    "### Export Dataset\n",
    "Now our data is ready to go for the predictive model."
   ]
  },
  {
   "cell_type": "code",
   "execution_count": 18,
   "metadata": {},
   "outputs": [],
   "source": [
    "new_units_full.to_csv(\"../Data/DOB_new_units_Clean.csv\", encoding='utf8')"
   ]
  }
 ],
 "metadata": {
  "kernelspec": {
   "display_name": "Wagner",
   "language": "python",
   "name": "wagner"
  },
  "language_info": {
   "codemirror_mode": {
    "name": "ipython",
    "version": 2
   },
   "file_extension": ".py",
   "mimetype": "text/x-python",
   "name": "python",
   "nbconvert_exporter": "python",
   "pygments_lexer": "ipython2",
   "version": "2.7.12"
  }
 },
 "nbformat": 4,
 "nbformat_minor": 2
}
